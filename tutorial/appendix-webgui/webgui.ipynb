{
 "cells": [
  {
   "cell_type": "markdown",
   "id": "0",
   "metadata": {},
   "source": [
    "# Webgui \n",
    "\n",
    "Webgui is a jupyter-widget for visualizing mesh data, available from [project page](https://github.com/CERBSim/webgui_jupyter_widgets). It can be easily installed using \n",
    "\n",
    "    pip install webgui_jupyter_widgets\n",
    "\n",
    "\n",
    "Webgui contains a rendering area, and a simple user interface (which can be opened by clicking on the black rectangle showing 'Open Controls'). \n",
    "\n",
    "You can rotate, move and zoom the object in the rendering area, and click to query properties."
   ]
  },
  {
   "cell_type": "markdown",
   "id": "1",
   "metadata": {},
   "source": [
    "## Drawing geometry, meshes and fields:"
   ]
  },
  {
   "cell_type": "code",
   "execution_count": null,
   "id": "2",
   "metadata": {},
   "outputs": [],
   "source": [
    "from netgen.occ import *\n",
    "from ngsolve import * \n",
    "from ngsolve.webgui import Draw"
   ]
  },
  {
   "cell_type": "markdown",
   "id": "3",
   "metadata": {},
   "source": [
    "Drawing on OCC-shape:"
   ]
  },
  {
   "cell_type": "code",
   "execution_count": null,
   "id": "4",
   "metadata": {},
   "outputs": [],
   "source": [
    "shape = Box( (0,0,0), (5,3,2) )\n",
    "shape.faces.Max(X).name=\"right\"\n",
    "Draw (shape);"
   ]
  },
  {
   "cell_type": "markdown",
   "id": "5",
   "metadata": {},
   "source": [
    "Drawing an NGSolve-mesh:"
   ]
  },
  {
   "cell_type": "code",
   "execution_count": null,
   "id": "6",
   "metadata": {},
   "outputs": [],
   "source": [
    "mesh = Mesh( OCCGeometry(shape).GenerateMesh(maxh=0.5))\n",
    "Draw (mesh); "
   ]
  },
  {
   "cell_type": "markdown",
   "id": "7",
   "metadata": {},
   "source": [
    "Drawing a scalar function on the mesh:"
   ]
  },
  {
   "cell_type": "code",
   "execution_count": null,
   "id": "8",
   "metadata": {},
   "outputs": [],
   "source": [
    "func = x*y*z\n",
    "Draw (func, mesh);"
   ]
  },
  {
   "cell_type": "markdown",
   "id": "9",
   "metadata": {},
   "source": [
    "## Setting min-max values:"
   ]
  },
  {
   "cell_type": "code",
   "execution_count": null,
   "id": "10",
   "metadata": {},
   "outputs": [],
   "source": [
    "Draw (x*y*z, mesh, min=5, max=10);"
   ]
  },
  {
   "cell_type": "markdown",
   "id": "11",
   "metadata": {},
   "source": [
    "## Deformation"
   ]
  },
  {
   "cell_type": "code",
   "execution_count": null,
   "id": "12",
   "metadata": {},
   "outputs": [],
   "source": [
    "deform = CF( (-0.05*z*x,0,0.05*x*x) )\n",
    "Draw (mesh, deformation=deform);\n",
    "\n",
    "print (\"use deformation slider:\")\n",
    "Draw (deform, mesh);  "
   ]
  },
  {
   "cell_type": "markdown",
   "id": "13",
   "metadata": {},
   "source": [
    "## Clipping planes:"
   ]
  },
  {
   "cell_type": "code",
   "execution_count": null,
   "id": "14",
   "metadata": {},
   "outputs": [],
   "source": [
    "clipping = { \"function\" : True,  \"pnt\" : (2.5,1.5,1), \"vec\" : (0,1,-1) } \n",
    "Draw (func, mesh, clipping=clipping);"
   ]
  },
  {
   "cell_type": "markdown",
   "id": "15",
   "metadata": {},
   "source": [
    "## Vector plots"
   ]
  },
  {
   "cell_type": "code",
   "execution_count": null,
   "id": "16",
   "metadata": {},
   "outputs": [],
   "source": [
    "rotfunc = CF( (y-0.5, 0.5-x) )\n",
    "usmesh = Mesh(unit_square.GenerateMesh(maxh=0.1))\n",
    "Draw (rotfunc, usmesh, max=0.7,  vectors={\"grid_size\" : 20, \"offset\" : 0.5 } );"
   ]
  },
  {
   "cell_type": "markdown",
   "id": "17",
   "metadata": {},
   "source": [
    "## Setting gui parameters\n",
    "\n",
    "all parameters from the gui can be set by their displayed names, for example:"
   ]
  },
  {
   "cell_type": "code",
   "execution_count": null,
   "id": "18",
   "metadata": {},
   "outputs": [],
   "source": [
    "Draw (func, mesh, settings = { \"subdivision\" : 1, \"Colormap\" : { \"ncolors\" : 3 } });"
   ]
  },
  {
   "cell_type": "code",
   "execution_count": null,
   "id": "19",
   "metadata": {},
   "outputs": [],
   "source": []
  }
 ],
 "metadata": {
  "kernelspec": {
   "display_name": "Python 3 (ipykernel)",
   "language": "python",
   "name": "python3"
  },
  "language_info": {
   "codemirror_mode": {
    "name": "ipython",
    "version": 3
   },
   "file_extension": ".py",
   "mimetype": "text/x-python",
   "name": "python",
   "nbconvert_exporter": "python",
   "pygments_lexer": "ipython3",
   "version": "3.12.3"
  }
 },
 "nbformat": 4,
 "nbformat_minor": 5
}
