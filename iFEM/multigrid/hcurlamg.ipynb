{
 "cells": [
  {
   "cell_type": "markdown",
   "id": "6d38f3b2-e69d-4db2-9235-a372392a0d9f",
   "metadata": {},
   "source": [
    "## H(curl) - AMG\n",
    "\n",
    "We present the amg from [Reitzinger and Schöberl: An algebraic multigrid method for finite element discretizations with edge elements](https://onlinelibrary.wiley.com/doi/abs/10.1002/nla.271?casa_token=SGxs8UGF--IAAAAA:53O8vbFJpEkXyuSu4T2yzP7BKBJecdNoFdEvLqUKT_ZRUMn0U5FM--SqGXRiQu38et4xuMPg6cPUgfUBoQ).\n",
    "\n",
    "It is based on a surrogate matrix for a weighted $H(\\operatorname{curl})$ norm discretized by lowest order Nedelec elements:\n",
    "\n",
    "$$\n",
    "\\| u \\|_{L_2, \\sigma}^2 + \\| \\operatorname{curl} u \\|_{L_2, \\nu}^2\n",
    "\\approx \\sum_E w_E \\, \\Big(\\int_E u_{\\tau} \\Big)^2 + \n",
    "\\sum_F w_F \\, \\Big(\\int_F \\operatorname{curl}_n u \\Big)^2\n",
    "$$\n",
    "\n",
    "The edge-weights stem from the $L_{2,\\sigma}$ norm. One could take\n",
    "the diagonal of the edge-element mass matrix, or also Schur complements with respect to the edges. The $\\operatorname{curl}$-semi-norm is represented by the face terms. The weights can be computed by lumping the lowest-order Raviart-Thomas mass matrix. \n",
    "\n",
    "The smoother is a Hiptmair smoother, where a Gauss-Seidel smoother is combined with another Gauss-Seidel smoother for the potential space.\n",
    "\n",
    "The key is a coarsening which preserves the de Rham sequence over all levels, such that Hiptmair's smoother is effective also on coarser levels.\n",
    "\n",
    "\n",
    "$$\n",
    "\\!\\!\\!\\!\\!\\!\\!\\!\\!\n",
    "\\begin{array}{ccccccc}\n",
    " & B_{\\operatorname{grad}} & \n",
    " & B_{\\operatorname{curl}} &  \n",
    " & B_{\\operatorname{div}} & \\\\[-0.5em]\n",
    "V^v & \n",
    "-\\!\\!\\!\\longrightarrow \n",
    "& V^e & \n",
    "-\\!\\!\\!-\\!\\!\\!\\longrightarrow \n",
    "& V^f & \n",
    "-\\!\\!\\!-\\!\\!\\!\\longrightarrow \n",
    "& V^c \\\\[1em]\n",
    "\\;\\;\\;\\;\\downarrow \\Pi^W & &\n",
    "\\;\\;\\;\\;\\downarrow \\Pi^V & & \n",
    "\\;\\;\\;\\;\\downarrow \\Pi^Q & & \n",
    "\\;\\;\\;\\;\\downarrow \\Pi^S \\\\[1em]\n",
    " & B_{\\operatorname{grad}}  & \n",
    " & B_{\\operatorname{curl}} &  \n",
    " & B_{\\operatorname{div}} & \\\\[-0.5em]\n",
    "V^v_{coarse} & \n",
    "-\\!\\!\\!\\longrightarrow \n",
    "& V^e_{coarse} & \n",
    "-\\!\\!\\!-\\!\\!\\!\\longrightarrow \n",
    "& V^f_{coarse} &\n",
    "-\\!\\!\\!-\\!\\!\\!\\longrightarrow \n",
    "& V^c_{coarse}\n",
    "\\end{array}\n",
    "$$\n",
    "\n",
    "\n",
    "\n",
    "The coarsening of edges is derived from coarsening of vertices. $E_{IJ}$ is a coarse grid edge if and only if $I \\neq J$, and there are fine grid vertices $i$ and $j$ s.t.:\n",
    "\n",
    "$$\n",
    "I = Ind(i), \\quad J = Ind(j), \\qquad E_{ij} \\mbox{ is a fine grid edge}\n",
    "$$\n",
    "\n",
    "\n",
    "<img src=\"agglomerates-hc.png\" alt=\"Alternative text\" width=\"300\" align=\"center\"/>\n",
    "\n",
    "\n",
    "\n",
    "\n",
    "\n",
    "More recent, robust coarsening strategies are developed in [B. Schwarzenbacher: Robust algebraic solvers for electromagnetics, Master's Thesis](https://repositum.tuwien.at/handle/20.500.12708/1351)\n"
   ]
  },
  {
   "cell_type": "markdown",
   "id": "edceda03-ca0e-4ed4-bdc5-e10b35ebc2e2",
   "metadata": {},
   "source": [
    "## H(curl) - AMG in NGSolve\n",
    "This amg method is implemented as `hcurlamg` preconditioner in NGSolve."
   ]
  },
  {
   "cell_type": "code",
   "execution_count": null,
   "id": "2f478618-1db0-4723-b55a-b8d86bb8e8e4",
   "metadata": {},
   "outputs": [],
   "source": [
    "from netgen.occ import *\n",
    "from ngsolve import *\n",
    "from ngsolve.webgui import Draw\n",
    "\n",
    "coil = Cylinder( Axes( (0,0,-0.4), Z, X), h=0.8,r=0.4) \\\n",
    "    - Cylinder( Axes( (0,0,-0.4), Z, X), h=0.8,r=0.2)\n",
    "box = Box( (-2,-2,-2), (2,2,2) )\n",
    "\n",
    "coil.faces.col=(1,0,0)\n",
    "coil.faces.maxh=0.1\n",
    "coil.solids.name=\"coil\"\n",
    "box.faces.col=(0,0,1,0.3)\n",
    "box.faces.name=\"outer\"\n",
    "air = box - coil\n",
    "shape = Glue( [coil,air] )\n",
    "Draw (shape);"
   ]
  },
  {
   "cell_type": "code",
   "execution_count": null,
   "id": "22adfe8c-d359-42d6-9a05-db6b29bdf07b",
   "metadata": {},
   "outputs": [],
   "source": [
    "mesh = Mesh(OCCGeometry(shape).GenerateMesh(maxh=0.2)) # .Curve(3)\n",
    "Draw (mesh);"
   ]
  },
  {
   "cell_type": "code",
   "execution_count": null,
   "id": "675b2249-3037-48b6-bf21-1cfc41a5895c",
   "metadata": {},
   "outputs": [],
   "source": [
    "fes = HCurl(mesh, order=2, nograds=True) # , dirichlet=\"outer\")\n",
    "print (\"ndof=\", fes.ndof)\n",
    "u,v = fes.TnT()\n",
    "\n",
    "with TaskManager():\n",
    "    mu = 4*pi*1e-7\n",
    "    a = BilinearForm(1/mu*curl(u)*curl(v)*dx + 1e-6/mu*u*v*dx \\\n",
    "                     + 1e8*u.Trace()*v.Trace()*ds(\"outer\"))\n",
    "    # pre = preconditioners.HCurlAMG(a)\n",
    "    pre = preconditioners.MultiGrid(a, coarsetype=\"hcurlamg\", coarseflags={ \"steps\" : 5 }) \n",
    "    a.Assemble()\n",
    "    f = LinearForm( CF((y,-x,0))*v*dx(\"coil\", bonus_intorder=5)).Assemble()"
   ]
  },
  {
   "cell_type": "code",
   "execution_count": null,
   "id": "ec7ef35f-49b2-4981-abe0-69aea8790e64",
   "metadata": {},
   "outputs": [],
   "source": [
    "gfu = GridFunction(fes)\n",
    "from ngsolve.krylovspace import CGSolver\n",
    "\n",
    "with TaskManager():\n",
    "    inv = CGSolver(a.mat, pre.mat, plotrates=True, maxiter=100)\n",
    "    gfu.vec[:] = inv*f.vec"
   ]
  },
  {
   "cell_type": "code",
   "execution_count": null,
   "id": "be326e1e-76db-4dbd-9726-2fd3cad4fa7c",
   "metadata": {},
   "outputs": [],
   "source": [
    "ea = { \"euler_angles\" : (-60, 0, -11) }\n",
    "clipping = { \"clipping\" : { \"y\":1, \"z\":0, \"dist\":0.5} }\n",
    "\n",
    "s = 0.1*2\n",
    "N = 10\n",
    "p = [(-s+2*s*i/N,-s+2*s*j/N,-s+2*s*k/N) for i in range(1,N) for j in range(1,N) for k in range(1,N)]\n",
    "\n",
    "fieldlines = curl(gfu)._BuildFieldLines(mesh, p, num_fieldlines=N**3//5, randomized=True, length=2)\n",
    "\n",
    "Draw(curl(gfu), mesh,  \"X\", draw_vol=False, draw_surf=True, objects=[fieldlines], \\\n",
    "     min=0, max=1e-8, autoscale=False, settings={\"Objects\": {\"Surface\": False}},\n",
    "    **ea, **clipping);"
   ]
  },
  {
   "cell_type": "code",
   "execution_count": null,
   "id": "f1802048-ff25-4b07-b411-39340918b595",
   "metadata": {},
   "outputs": [],
   "source": [
    "help (preconditioners.MultiGrid)"
   ]
  },
  {
   "cell_type": "code",
   "execution_count": null,
   "id": "c00a1584-f03d-4bf1-9577-651c66cd1f5d",
   "metadata": {},
   "outputs": [],
   "source": []
  }
 ],
 "metadata": {
  "kernelspec": {
   "display_name": "Python 3 (ipykernel)",
   "language": "python",
   "name": "python3"
  },
  "language_info": {
   "codemirror_mode": {
    "name": "ipython",
    "version": 3
   },
   "file_extension": ".py",
   "mimetype": "text/x-python",
   "name": "python",
   "nbconvert_exporter": "python",
   "pygments_lexer": "ipython3",
   "version": "3.12.3"
  }
 },
 "nbformat": 4,
 "nbformat_minor": 5
}
