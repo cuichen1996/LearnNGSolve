{
 "cells": [
  {
   "cell_type": "markdown",
   "id": "ddce3c41",
   "metadata": {},
   "source": [
    "# DG - Methods for elliptic problems"
   ]
  },
  {
   "cell_type": "markdown",
   "id": "b9baf11d-c8e1-46de-8b3d-63f4e616b147",
   "metadata": {},
   "source": [
    "The discretization of elliptic operators by DG is more tricky. \n",
    "The DG method involves discontinuous polynomials on elements, and thus is not a sub-space of $H^1$.\n",
    "\n",
    "We start from the Poisson equation\n",
    "$$\n",
    "-\\Delta u = f\n",
    "$$\n",
    "\n",
    "multiply by discontinuous test functions, integrate by parts on every element:\n",
    "\n",
    "$$\n",
    "\\sum_T \\int_T \\nabla u \\nabla v - \\int_{\\partial T} \\frac{\\partial u}{\\partial n} v = \\int_\\Omega f v\n",
    "$$\n",
    "\n",
    "Since the normal-derivatives are continuous from element to element, we can combine the two element-boundary integrals on the same, internal edge. Boundary edges have to be treated separately, and are skipped here:\n",
    "\n",
    "$$\n",
    "\\sum_T \\int_T \\nabla u \\nabla v - \\sum_E \\int_{E} \\frac{\\partial u}{\\partial n_1} (v_1-v_2) = \\int_\\Omega f v\n",
    "$$\n",
    "\n",
    "This is a non-symmetric bilinear-form for the self-adjoint Poisson operator, what we don't like. The \n",
    "true solution $u$ is continuous over edges. We are adding a zero term:\n",
    "\n",
    "$$\n",
    "\\sum_T \\int_T \\nabla u \\nabla v \n",
    "- \\sum_E \\int_{E} \\frac{\\partial u}{\\partial n_1} (v_1-v_2)\n",
    "- \\sum_E \\int_{E} \\frac{\\partial v}{\\partial n_1} (u_1-u_2)\n",
    "= \\int_\\Omega f v\n",
    "$$\n",
    "\n",
    "This form may not be coercive, and we have to add a stabilization term:\n",
    "\n",
    "$$\n",
    "\\sum_T \\int_T \\nabla u \\nabla v \n",
    "- \\sum_E \\int_{E} \\frac{\\partial u}{\\partial n_1} [\\![v]\\!]\n",
    "- \\sum_E \\int_{E} \\frac{\\partial v}{\\partial n_1} [\\![u]\\!] \n",
    "+ \\sum_E \\int_{E} \\frac{\\alpha p^2}{h} [\\![u]\\!][\\![v]\\!]\n",
    "= \\int_\\Omega f v\n",
    "$$\n",
    "\n",
    "We introduced the notation of the jump term\n",
    "\n",
    "$$\n",
    "[\\![u]\\!] = \\lim_{t \\rightarrow 0} u(x+t n) - u(x-tn)\n",
    "$$\n",
    "\n",
    "Here, $h$ is the element-size, $p$ the polynomial order, and $\\alpha$ a sufficiently large stabilization parameter (typically 3 in 2D and 10 in 3D). This 'sufficiently large' condition is a drawback of the so called interior penalty version of DG/HDG, but there exist more sophisticated, robust versions."
   ]
  },
  {
   "cell_type": "markdown",
   "id": "ed8e5dd3-2c7a-4a45-86f0-5a0bd07a77fc",
   "metadata": {},
   "source": [
    "## Dirichlet boundary conditions\n",
    "\n",
    "The notation $[\\![ u ]\\!]$ for the jump term is adapted at the boundary, where it is just the value of $u$.\n",
    "For consistency of the third and forth term in the case of Dirichlet conditions, \n",
    "one has to add corresponding terms to the linear-from:\n",
    "\n",
    "$$\n",
    "\\int_{\\Gamma_D} -\\frac{\\partial v}{\\partial n} u_D + \\frac{\\alpha p^2}{h} u_D v \n",
    "$$"
   ]
  },
  {
   "cell_type": "code",
   "execution_count": null,
   "id": "128ff4a4",
   "metadata": {},
   "outputs": [],
   "source": [
    "from ngsolve import *\n",
    "from ngsolve.webgui import Draw\n",
    "mesh = Mesh(unit_square.GenerateMesh(maxh=0.3))"
   ]
  },
  {
   "cell_type": "code",
   "execution_count": null,
   "id": "5a60aed3",
   "metadata": {},
   "outputs": [],
   "source": [
    "order = 2\n",
    "fes = L2(mesh, order=order, dgjumps=True)"
   ]
  },
  {
   "cell_type": "markdown",
   "id": "653dcbff-7488-4942-8529-9e9800d523bf",
   "metadata": {},
   "source": [
    "The integral\n",
    "\n",
    "    dx(skeleton=True)\n",
    "\n",
    "leads to a loop over all internal facets, and gives access to both elements on this facet. Similarly,\n",
    "\n",
    "    ds(skeleton=True)\n",
    "\n",
    "loops over boundary edges, and gives access to the element next to it."
   ]
  },
  {
   "cell_type": "code",
   "execution_count": null,
   "id": "1330be32",
   "metadata": {},
   "outputs": [],
   "source": [
    "u,v = fes.TnT()\n",
    "\n",
    "h = specialcf.mesh_size\n",
    "n = specialcf.normal(2)\n",
    "alpha = 3\n",
    "dS = dx(skeleton=True)   # internal edges\n",
    "\n",
    "def jump(u): return u-u.Other()\n",
    "def mean(u): return 0.5*(u+u.Other())\n",
    "\n",
    "a = BilinearForm(fes)\n",
    "a += grad(u)*grad(v)*dx \n",
    "a += (-n*mean(grad(u))*jump(v)-n*mean(grad(v))*jump(u))*dS\n",
    "a += alpha*(order+1)**2/h*jump(u)*jump(v)*dS\n",
    "\n",
    "a += alpha*order**2/h*u*v * ds(skeleton=True, definedon=mesh.Boundaries(\"left|bottom\")) \n",
    "a += (-n*grad(u)*v-n*grad(v)*u)* ds(skeleton=True, definedon=mesh.Boundaries(\"left|bottom\"))\n",
    "\n",
    "f = LinearForm(fes)\n",
    "f += 1*v*dx\n",
    "\n",
    "uD = 0.1*(x+y)\n",
    "f += alpha*order**2/h*uD*v * ds(skeleton=True, definedon=mesh.Boundaries(\"left|bottom\")) \n",
    "f += (-n*grad(v))*uD*ds(skeleton=True, definedon=mesh.Boundaries(\"left|bottom\")) \n",
    "\n",
    "a.Assemble()\n",
    "f.Assemble()\n",
    "\n",
    "inv = a.mat.Inverse(fes.FreeDofs(), inverse=\"sparsecholesky\")\n",
    "\n",
    "print (\"ndof: \", fes.ndof)\n",
    "print (\"non-zero(A):\", a.mat.nze)\n",
    "print (\"non-zero(Inv):\", inv.nze)"
   ]
  },
  {
   "cell_type": "code",
   "execution_count": null,
   "id": "10d3e346",
   "metadata": {},
   "outputs": [],
   "source": [
    "gfu = GridFunction(fes)\n",
    "gfu.vec.data = inv * f.vec"
   ]
  },
  {
   "cell_type": "code",
   "execution_count": null,
   "id": "66ca8213",
   "metadata": {},
   "outputs": [],
   "source": [
    "Draw (gfu, deformation=True, order=3);"
   ]
  },
  {
   "cell_type": "code",
   "execution_count": null,
   "id": "f6235351",
   "metadata": {},
   "outputs": [],
   "source": [
    "import scipy.sparse as sp\n",
    "import matplotlib.pyplot as plt\n",
    "scipymat = sp.csr_matrix(a.mat.CSR())\n",
    "plt.spy(scipymat, precision=1e-10, markersize=1);"
   ]
  },
  {
   "cell_type": "code",
   "execution_count": null,
   "id": "1b6354df-1d67-4134-815a-2b24dbb87bfc",
   "metadata": {},
   "outputs": [],
   "source": []
  }
 ],
 "metadata": {
  "kernelspec": {
   "display_name": "Python 3 (ipykernel)",
   "language": "python",
   "name": "python3"
  },
  "language_info": {
   "codemirror_mode": {
    "name": "ipython",
    "version": 3
   },
   "file_extension": ".py",
   "mimetype": "text/x-python",
   "name": "python",
   "nbconvert_exporter": "python",
   "pygments_lexer": "ipython3",
   "version": "3.12.3"
  }
 },
 "nbformat": 4,
 "nbformat_minor": 5
}
