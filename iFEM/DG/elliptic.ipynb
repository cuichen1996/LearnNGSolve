{
 "cells": [
  {
   "cell_type": "markdown",
   "metadata": {},
   "source": [
    "# Hybrid DG for elliptic equations\n",
    "\n",
    "$\\DeclareMathOperator{\\opdiv}{div}$"
   ]
  },
  {
   "cell_type": "markdown",
   "metadata": {
    "collapsed": true,
    "jupyter": {
     "outputs_hidden": true
    }
   },
   "source": [
    "The discretization of elliptic operators by DG is more tricky. \n",
    "As a follow up on the DG method, we introduce now the hybrid DG method (HDG).\n",
    "\n",
    "\n",
    "The HDG method involves discontinuous polynomials on elements, and additional polynomials on the edges (or faces, in 3D).\n",
    "\n",
    "<img src=\"facetelement.png\" alt=\"Alternative text\" width=\"200\" align=\"center\"/>\n",
    "\n",
    "It was introduced by B. Cockburn, J. Gopalakrishnan, and R. Lazarov in 2009, see\n",
    "[paper](https://epubs.siam.org/doi/abs/10.1137/070706616)\n",
    "\n",
    "\n",
    "We start from the Poisson equation\n",
    "$$\n",
    "-\\Delta u = f\n",
    "$$\n",
    "\n",
    "multiply by discontinuous test functions, integrate by parts on every element:\n",
    "\n",
    "$$\n",
    "\\sum_T \\int_T \\nabla u \\nabla v - \\int_{\\partial T} \\frac{\\partial u}{\\partial n} v = \\int_\\Omega f v\n",
    "$$\n",
    "\n",
    "Since the normal-derivatives are continuous from element to element, we can smuggle in a single-valued test-function $\\widehat v$ on every edge:\n",
    "\n",
    "$$\n",
    "\\sum_T \\int_T \\nabla u \\nabla v - \\int_{\\partial T} \\frac{\\partial u}{\\partial n} (v-\\widehat{v}) = \\int_\\Omega f v\n",
    "$$\n",
    "\n",
    "This is a non-symmetric bilinear-form for the self-adjoint Poisson operator, what we don't like. For the true solution $u$, the solution on the elements restricted to the edges is the same as the solution restricted to the edges, we are adding a zero term:\n",
    "\n",
    "$$\n",
    "\\sum_T \\int_T \\nabla u \\nabla v \n",
    "- \\int_{\\partial T} \\frac{\\partial u}{\\partial n} (v-\\widehat{v}) \n",
    "- \\int_{\\partial T} \\frac{\\partial v}{\\partial n} (u-\\widehat{u}) \n",
    "= \\int_\\Omega f v\n",
    "$$\n",
    "\n",
    "This form may not be coercive, and we have to add a stabilization term:\n",
    "\n",
    "$$\n",
    "\\sum_T \\int_T \\nabla u \\nabla v \n",
    "- \\int_{\\partial T} \\frac{\\partial u}{\\partial n} (v-\\widehat{v}) \n",
    "- \\int_{\\partial T} \\frac{\\partial v}{\\partial n} (u-\\widehat{u}) \n",
    "+ \\int_{\\partial T} \\frac{\\alpha p^2}{h} (u-\\widehat{u}) (v-\\widehat{v})\n",
    "= \\int_\\Omega f v\n",
    "$$\n",
    "\n",
    "Here, $h$ is the element-size, $p$ the polynomial order, and $\\alpha$ a sufficiently large stabilization parameter (typically 3 in 2D and 10 in 3D). This 'sufficiently large' condition is a drawback of the so called interior penalty version of DG/HDG, but there exist more sophisticated, robust versions."
   ]
  },
  {
   "cell_type": "code",
   "execution_count": null,
   "metadata": {},
   "outputs": [],
   "source": [
    "from ngsolve import *\n",
    "from ngsolve.webgui import Draw\n",
    "mesh = Mesh(unit_square.GenerateMesh(maxh=0.3))"
   ]
  },
  {
   "cell_type": "code",
   "execution_count": null,
   "metadata": {},
   "outputs": [],
   "source": [
    "order = 2\n",
    "fes1 = L2(mesh, order=order)\n",
    "fes2 = FacetFESpace(mesh, order=order, dirichlet=\"left|bottom\", \n",
    "                    highest_order_dc=False)\n",
    "fes = fes1 * fes2"
   ]
  },
  {
   "cell_type": "code",
   "execution_count": null,
   "metadata": {},
   "outputs": [],
   "source": [
    "u,uhat = fes.TrialFunction()\n",
    "v,vhat = fes.TestFunction()\n",
    "\n",
    "h = specialcf.mesh_size\n",
    "n = specialcf.normal(2)\n",
    "alpha = 3\n",
    "dS = dx(element_vb=BND)\n",
    "\n",
    "a = BilinearForm(fes, condense=False)\n",
    "a += grad(u)*grad(v)*dx\n",
    "a += (-n*grad(u)*(v-vhat)-n*grad(v)*(u-uhat))*dS\n",
    "a += alpha*(order+1)**2/h*(u-uhat)*(v-vhat)*dS\n",
    "\n",
    "f = LinearForm(fes)\n",
    "f += 1*v*dx\n",
    "\n",
    "a.Assemble()\n",
    "f.Assemble()\n",
    "\n",
    "print (\"ndof: \", fes.ndof)\n",
    "print (\"non-zero(A):\", a.mat.nze)\n",
    "print (\"non-zero(Inv):\", a.mat.Inverse(fes.FreeDofs(a.condense), \"sparsecholesky\").nze)"
   ]
  },
  {
   "cell_type": "code",
   "execution_count": null,
   "metadata": {},
   "outputs": [],
   "source": [
    "gfu = GridFunction(fes)\n",
    "if not a.condense:\n",
    "    gfu.vec.data = a.mat.Inverse(fes.FreeDofs()) * f.vec\n",
    "else:\n",
    "    solvers.BVP(bf=a, lf=f, gf=gfu)\n",
    "Draw (gfu.components[0]);"
   ]
  },
  {
   "cell_type": "code",
   "execution_count": null,
   "metadata": {},
   "outputs": [],
   "source": [
    "import scipy.sparse as sp\n",
    "import matplotlib.pyplot as plt\n",
    "scipymat = sp.csr_matrix(a.mat.CSR(), a.mat.shape)\n",
    "plt.spy(scipymat, precision=1e-10, markersize=1);"
   ]
  },
  {
   "cell_type": "markdown",
   "metadata": {},
   "source": [
    "Disadvantages of HDG methods are that they need more variables in comparison to DG methods.\n",
    "\n",
    "However, there are a couple of advantages which more than compensate that:\n",
    "\n",
    "* boundary conditions can be applied in the usual way: Constraining Dirichlet dofs, and apply Neumann boundary conditions via the linear-form on the facet test-functions\n",
    "\n",
    "* internal variables do not couple across different elements. All exchange happens via the facet variables. Thus, internal variables can be condensed out leading to a system only for the facet variables. This condensation can be performed already within the assembling loop. If we compare non-zero matrix entries, outperforms DG methods.\n",
    "\n",
    "* For element order $k$, one can use order $k-1$ on the facet. However, that needs a projection within the penalty term\n",
    "\n",
    "  $$\n",
    "  \\int_{\\partial T} \\frac{\\alpha p^2}{h} \\Pi_{L_2}^{P^{k-1}} (u-\\widehat{u})  \\;  (v-\\widehat{v})\n",
    "  $$\n",
    "\n",
    "  This projection was introduced in the  [Master thesis by Christoph Lehrenfeld](https://www.researchgate.net/profile/Christoph-Lehrenfeld/publication/259763752_Hybrid_Discontinuous_Galerkin_methods_for_solving_incompressible_flow_problems/links/00b4952dc50fc35e8c000000/Hybrid-Discontinuous-Galerkin-methods-for-solving-incompressible-flow-problems.pdf) and is now called the Lehrenfeld trick."
   ]
  },
  {
   "cell_type": "markdown",
   "metadata": {},
   "source": [
    "## Continuity and discrete coercivity of the HDG bilinear-form\n",
    "\n",
    "HDG - norm:\n",
    "\n",
    "$$\n",
    "\\| (u, \\widehat u) \\|_{1,HDG}^2 = \\sum_T \\left\\{ \\| \\nabla u \\|_{L_2(T)}^2 + \\frac{p^2}{h} \\| u - \\widehat u \\|_{L_2(\\partial T)}^2 \\right\\}\n",
    "$$\n",
    "\n",
    "Assume $\\alpha > c_{inv}$, where $c_{inv} = O(1)$ depends on the shape of elements. \n",
    "Then, for $(u, \\lambda) \\in P^p({\\cup T}) \\times P^p({\\cup F})$ there holds\n",
    "\n",
    "$$\n",
    "\\| (u, \\widehat u) \\|_{1,HDG}^2 \\preceq A(u, \\widehat u; u, \\widehat u) \\preceq \\| (u, \\widehat u) \\|_{1,HDG}\n",
    "$$\n",
    "\n",
    "Proven element by element:\n",
    "\n",
    "\\begin{align*}\n",
    "A^T(u, \\widehat u; u, \\widehat u) & =  \\int_T | \\nabla u |^2 -\n",
    "\\underbrace{ 2 \\int_{\\partial T} \\frac{\\partial u}{\\partial n} (u - \\widehat u) }\n",
    "_{\\leq \\sqrt{\\frac{c_{inv}}{ \\alpha}} \\int_{T} | \\nabla u |^2  + \\sqrt{c_{inv} \\alpha} \\frac{p^2}{h} \\int_{\\partial T} (u-\\widehat u)^2}\n",
    "+ \\frac{\\alpha p^2}{h} \\int_{\\partial T} (u-\\widehat u)^2 \\\\\n",
    "& \\simeq \n",
    "\\| (u, \\widehat u) \\|_{1,HDG}^2 \n",
    "\\end{align*}\n",
    "\n",
    "\n",
    "\n",
    "\n"
   ]
  },
  {
   "cell_type": "code",
   "execution_count": null,
   "metadata": {},
   "outputs": [],
   "source": []
  },
  {
   "cell_type": "code",
   "execution_count": null,
   "metadata": {},
   "outputs": [],
   "source": []
  }
 ],
 "metadata": {
  "kernelspec": {
   "display_name": "Python 3 (ipykernel)",
   "language": "python",
   "name": "python3"
  },
  "language_info": {
   "codemirror_mode": {
    "name": "ipython",
    "version": 3
   },
   "file_extension": ".py",
   "mimetype": "text/x-python",
   "name": "python",
   "nbconvert_exporter": "python",
   "pygments_lexer": "ipython3",
   "version": "3.12.3"
  }
 },
 "nbformat": 4,
 "nbformat_minor": 4
}
