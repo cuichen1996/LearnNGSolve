{
 "cells": [
  {
   "cell_type": "markdown",
   "metadata": {},
   "source": [
    "Stationary Transport Equation\n",
    "===\n",
    "$\\DeclareMathOperator{\\opdiv}{div}$\n",
    "We consider the stationary transport equation\n",
    "\n",
    "$$\n",
    "\\opdiv bu = f \\qquad \\text{ on } \\Omega\n",
    "$$\n",
    "\n",
    "Here, the vector field $b$ is the given wind. It is a model for continuously injecting some concentration into a given flow, for example milk into coffee. \n",
    "\n",
    "Boundary conditions \n",
    "\n",
    "$$\n",
    "u = u_{in}\n",
    "$$\n",
    "\n",
    "are given on the inflow boundary\n",
    "\n",
    "$$\n",
    "\\Gamma_{in} = \\{ x \\in \\partial \\Omega : b \\cdot n < 0 \\}.\n",
    "$$"
   ]
  },
  {
   "cell_type": "markdown",
   "metadata": {
    "collapsed": true,
    "jupyter": {
     "outputs_hidden": true
    }
   },
   "source": [
    "Discontinuous Galerkin method\n",
    "---\n",
    "Finite volume methods are very popular for transport equations. Their strength is the upwind technique for a stable discretization. A DG method combines the advantages of finite elements and finite volumes. It can be seen as the extension of finite volume methods to higher order.\n",
    "\n",
    "A DG method uses discontinuous trial and test finite element spaces, for example piecewise polynomials. It is derived as follows:\n",
    "\n",
    "Multiply the equation by element-wise smooth test functions, integrate: \n",
    "\n",
    "$$\n",
    "\\int_{\\Omega} \\opdiv (bu) v = \\int_\\Omega f v\n",
    "$$\n",
    "\n",
    "and integrate by parts on evey element $T$:\n",
    "\n",
    "$$\n",
    "\\sum_{T \\subset \\Omega} - \\int_T b u \\nabla v + \\int_{\\partial T} b_n u v = \\int_\\Omega f v\n",
    "$$\n",
    "\n",
    "Here, $n$ is the outward going normal vector of the element.\n",
    "The true solution $u$ is continuous over element facets (edges in 2D and faces in 3D). But, for a discontinuous trial function we have to use the $u$ on the boundary from the left, or from the right element. The stable decision is to use $u$ from the upwind element, i.e. the element where $b_n > 0$, i.e. the wind blows out of the element.\n",
    "\n",
    "$$\n",
    "u^{up} := \\left\\{ \\begin{array}{cl}\n",
    "      u_T & \\text{ if } b_n > 0 & \\text{element outflow boundary } \\\\\n",
    "      u_{T,other} & \\text{ if } b_n < 0 & \\text{ element inflow boundary }\n",
    "       \\end{array} \\right.\n",
    "$$\n",
    "\n",
    "\n",
    "Thus, the DG discretization method is as follows: $V_h$ a piecewise polynomial, discontinuous finite element space. Find $u_h \\in V_h$ such that\n",
    "\n",
    "$$\n",
    "\\sum_{T \\subset \\Omega} - \\int_T b u_h \\nabla v_h + \\int_{\\partial T} b_n u_h^{up} v_h = \\int_\\Omega f v_h\n",
    "$$\n",
    "\n",
    "for all test functions $v_h \\in V_h$."
   ]
  },
  {
   "cell_type": "code",
   "execution_count": null,
   "metadata": {},
   "outputs": [],
   "source": [
    "from ngsolve import *\n",
    "from ngsolve.webgui import Draw\n",
    "mesh = Mesh(unit_square.GenerateMesh(maxh=0.05))"
   ]
  },
  {
   "cell_type": "markdown",
   "metadata": {},
   "source": [
    "Choose some wavy wind:"
   ]
  },
  {
   "cell_type": "code",
   "execution_count": null,
   "metadata": {},
   "outputs": [],
   "source": [
    "b = CF( (1,0.5*sin(2*6.28*x)))\n",
    "Draw (b, mesh, \"wind\", min=0.8, max=1.2, vectors = { \"grid_size\" : 20 });"
   ]
  },
  {
   "cell_type": "markdown",
   "metadata": {},
   "source": [
    "The upwind term is specified in NGSolve as\n",
    "\n",
    "    n = specialcf.normal(2)\n",
    "    uup = IfPos(b*n, u, u.Other())\n",
    "    a += b*n*uup*v * dx(element_boundary=True)\n",
    "\n",
    "* The `IfPos` function checks whether the first argument is positive. If so, it returns the secod, if not, it returns the third argument.\n",
    "* The `dx(element_boundary=True)` integrates over all element boundaries. The loop in the assembling is over all elements\n",
    "* In this context, the normal vector is the outward-pointing normal vector to the element\n",
    "\n",
    "The source term is integrated over traces of the `L2` finite element space. This would not work with the usual `ds`. The flag `skeleton=True` gives also access to the volume element next to the surface element."
   ]
  },
  {
   "cell_type": "code",
   "execution_count": null,
   "metadata": {},
   "outputs": [],
   "source": [
    "fes = L2(mesh, order=2, dgjumps=True)\n",
    "\n",
    "u,v = fes.TnT()\n",
    "\n",
    "a = BilinearForm(fes)\n",
    "a += -b*u*grad(v)*dx\n",
    "\n",
    "# the upwind-term:\n",
    "n = specialcf.normal(2)\n",
    "uup = IfPos(b*n, u, u.Other())\n",
    "a += b*n*uup*v * dx(element_boundary=True)\n",
    "a.Assemble()\n",
    "\n",
    "f = LinearForm(fes)\n",
    "f += exp(-20**2*(y-0.5)**2)*v * ds(skeleton=True,definedon=mesh.Boundaries(\"left\"))\n",
    "f.Assemble();"
   ]
  },
  {
   "cell_type": "code",
   "execution_count": null,
   "metadata": {
    "scrolled": true
   },
   "outputs": [],
   "source": [
    "gfu = GridFunction(fes)\n",
    "gfu.vec.data = a.mat.Inverse() * f.vec\n",
    "\n",
    "Draw (gfu, order=3);"
   ]
  },
  {
   "cell_type": "markdown",
   "metadata": {},
   "source": [
    "## Stability of the method\n",
    "\n",
    "The bilinear-form is $B(.,.) : V \\times W \\rightarrow {\\mathbb R}$, with\n",
    "\n",
    "$$\n",
    "B(u,v) = \\int u b \\cdot \\nabla v \\, dx\n",
    "$$\n",
    "\n",
    "We choose $\\| u \\|_V = L_2$, and $\\| v \\|_W = \\| b \\cdot \\nabla v \\|_{L_2}$. The later is a norm, if the wind $b$ is such that the every point is connected with the inflow boundary.\n",
    "\n",
    "One inf-sup condition is very simple: Choose $u = b \\cdot \\nabla v$:\n",
    "\n",
    "$$\n",
    "\\sup_u \\frac{| B(u,v) | }{ \\| u \\| } \\geq \\frac{ \\| b \\cdot \\nabla v \\|^2 }{ \\| b \\cdot \\nabla v \\| } =  \\| v \\|_W\n",
    "$$\n",
    "\n",
    "With DG-methods one can mimic this inf-sup proof for the discrete spaces: choose $u_h$ as element-wise derivative. This would not be possible by continuous finite elements:\n",
    "\n",
    "$$\n",
    "u_h^1 = b \\cdot \\nabla_h v_h\n",
    "$$\n",
    "\n",
    "However, this leads only to\n",
    "\n",
    "$$\n",
    "B(u_h^1, v_h) \\succeq  \\| b \\cdot \\nabla v_h \\|^2 - \\sum_E \\| [ v_h ] \\|_{L_2}^2,\n",
    "$$\n",
    "\n",
    "with a bad, negative term on the right. Now we choose a second candidate $u_h^2 = v_h$, and find\n",
    "\n",
    "\n",
    "$$\n",
    "B(u_h^2, v_h) \\succeq  \\sum_E \\| [ v_h ] \\|_{L_2}^2,\n",
    "$$\n",
    "\n",
    "Here the upwind-choice comes into the analysis. Finally, we take a combination $u_h = u_h^1 + \\alpha u_h^2$ such that the second choice compensates the negative term from the first choice. Details are found in the lecture notes."
   ]
  },
  {
   "cell_type": "code",
   "execution_count": null,
   "metadata": {},
   "outputs": [],
   "source": []
  }
 ],
 "metadata": {
  "kernelspec": {
   "display_name": "Python 3 (ipykernel)",
   "language": "python",
   "name": "python3"
  },
  "language_info": {
   "codemirror_mode": {
    "name": "ipython",
    "version": 3
   },
   "file_extension": ".py",
   "mimetype": "text/x-python",
   "name": "python",
   "nbconvert_exporter": "python",
   "pygments_lexer": "ipython3",
   "version": "3.12.3"
  }
 },
 "nbformat": 4,
 "nbformat_minor": 4
}
