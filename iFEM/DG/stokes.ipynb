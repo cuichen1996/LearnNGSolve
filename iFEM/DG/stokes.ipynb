{
 "cells": [
  {
   "cell_type": "markdown",
   "metadata": {},
   "source": [
    "# H(div)-conforming Stokes\n",
    "\n",
    "[Master thesis Lehrenfeld 2010, Lehrenfeld+Schöberl, 2016]\n",
    "\n",
    "* Discretize velocity $u$ in $H(\\operatorname{div})$, with Raviart-Thomas or BDM elements. This allows to use pressure space $Q_h = \\operatorname{div} V_h$. This the discrete velocity is exactly divergence free.\n",
    "\n",
    "* Since RT/BDM elements have only continuous normal components, they cannot be used directly for the viscosity term. So we use HDG for gluing together also the tangential components."
   ]
  },
  {
   "cell_type": "code",
   "execution_count": null,
   "metadata": {},
   "outputs": [],
   "source": [
    "from ngsolve import *\n",
    "from ngsolve.webgui import Draw"
   ]
  },
  {
   "cell_type": "code",
   "execution_count": null,
   "metadata": {},
   "outputs": [],
   "source": [
    "from netgen.occ import *\n",
    "\n",
    "shape = Rectangle(2,0.41).Circle(0.2,0.2,0.05).Reverse().Face()\n",
    "shape.edges.name=\"wall\"\n",
    "shape.edges.Min(X).name=\"inlet\"\n",
    "shape.edges.Max(X).name=\"outlet\"\n",
    "\n",
    "mesh = Mesh(OCCGeometry(shape, dim=2).GenerateMesh(maxh=0.07)).Curve(3)\n",
    "Draw (mesh);"
   ]
  },
  {
   "cell_type": "code",
   "execution_count": null,
   "metadata": {},
   "outputs": [],
   "source": [
    "order=4\n",
    "VT = HDiv(mesh, order=order, dirichlet=\"wall|cyl|inlet\")\n",
    "VF = TangentialFacetFESpace(mesh, order=order, dirichlet=\"wall|cyl|inlet\")\n",
    "Q = L2(mesh, order=order-1)\n",
    "V = VT*VF*Q\n",
    "\n",
    "u, uhat, p = V.TrialFunction()\n",
    "v, vhat, q = V.TestFunction()"
   ]
  },
  {
   "cell_type": "code",
   "execution_count": null,
   "metadata": {},
   "outputs": [],
   "source": [
    "n = specialcf.normal(mesh.dim)\n",
    "h = specialcf.mesh_size\n",
    "dS = dx(element_boundary=True)\n",
    "\n",
    "nu = 1e-3\n",
    "\n",
    "def tang(vec):\n",
    "    return vec - (vec*n)*n\n",
    "\n",
    "# Thesis Christoph Lehrenfeld, page 71\n",
    "a = BilinearForm (V)\n",
    "a += nu*InnerProduct(Grad(u), Grad(v)) * dx\n",
    "a += nu*InnerProduct(Grad(u)*n, tang(vhat-v)) * dS\n",
    "a += nu*InnerProduct(Grad(v)*n, tang(uhat-u)) * dS\n",
    "a += nu*4*order**2/h * InnerProduct(tang(vhat-v), tang(uhat-u)) * dS\n",
    "a += div(u)*q*dx + div(v)*p*dx\n",
    "a.Assemble();"
   ]
  },
  {
   "cell_type": "code",
   "execution_count": null,
   "metadata": {},
   "outputs": [],
   "source": [
    "f = LinearForm(V).Assemble()\n",
    "\n",
    "invstokes = a.mat.Inverse(V.FreeDofs())\n",
    "\n",
    "gfu = GridFunction(V)\n",
    "uin = CoefficientFunction((1.5*4*y*(0.41-y)/(0.41*0.41),0))\n",
    "gfu.components[0].Set(uin, definedon=mesh.Boundaries(\"inlet\"))"
   ]
  },
  {
   "cell_type": "code",
   "execution_count": null,
   "metadata": {},
   "outputs": [],
   "source": [
    "res = f.vec - a.mat*gfu.vec\n",
    "gfu.vec.data += invstokes * res\n",
    "\n",
    "Draw (gfu.components[0], mesh, \"vel\") # velocity\n",
    "Draw (gfu.components[2], mesh, \"pressure\")  # pressure\n",
    "Draw (div(gfu.components[0]), mesh, \"divvel\"); # div velocity"
   ]
  },
  {
   "cell_type": "code",
   "execution_count": null,
   "metadata": {},
   "outputs": [],
   "source": []
  }
 ],
 "metadata": {
  "kernelspec": {
   "display_name": "Python 3 (ipykernel)",
   "language": "python",
   "name": "python3"
  },
  "language_info": {
   "codemirror_mode": {
    "name": "ipython",
    "version": 3
   },
   "file_extension": ".py",
   "mimetype": "text/x-python",
   "name": "python",
   "nbconvert_exporter": "python",
   "pygments_lexer": "ipython3",
   "version": "3.12.3"
  }
 },
 "nbformat": 4,
 "nbformat_minor": 4
}
