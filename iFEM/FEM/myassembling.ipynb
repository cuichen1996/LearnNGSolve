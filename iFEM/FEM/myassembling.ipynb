{
 "cells": [
  {
   "cell_type": "markdown",
   "id": "a414419e",
   "metadata": {},
   "source": [
    "# Implement our own system assembling\n",
    "\n",
    "In this tutorial we\n",
    "\n",
    "* write integrators for $\\int_T f v dx$ and $\\int_T \\nabla u \\nabla v dx$: \n",
    "* put together element matrices to the global system matrix: \n",
    "\n",
    "\n",
    "The implementation is available on github: \n",
    "[https://github.com/TUWien-ASC/NGS-myassembling](https://github.com/TUWien-ASC/NGS-myassembling)\n",
    "\n"
   ]
  },
  {
   "cell_type": "code",
   "execution_count": null,
   "id": "c4b193bd",
   "metadata": {},
   "outputs": [],
   "source": [
    "from ngsolve import *\n",
    "from ngsolve.webgui import Draw\n",
    "import myassembling\n",
    "dir (myassembling)"
   ]
  },
  {
   "cell_type": "code",
   "execution_count": null,
   "id": "60e4a72f",
   "metadata": {},
   "outputs": [],
   "source": [
    "mesh = Mesh(unit_square.GenerateMesh(maxh=0.2))\n",
    "fes = H1(mesh, order=2, dirichlet=\".*\")\n",
    "u, v = fes.TnT()"
   ]
  },
  {
   "cell_type": "markdown",
   "id": "1fa4740b",
   "metadata": {},
   "source": [
    "### use our own integrators for element matrix calculation:"
   ]
  },
  {
   "cell_type": "code",
   "execution_count": null,
   "id": "725ad55e",
   "metadata": {},
   "outputs": [],
   "source": [
    "a = BilinearForm(fes)\n",
    "a += myassembling.MyLaplace(1)\n",
    "a.Assemble()\n",
    "\n",
    "f = LinearForm(fes)\n",
    "f += myassembling.MySource(x)\n",
    "f.Assemble();"
   ]
  },
  {
   "cell_type": "code",
   "execution_count": null,
   "id": "50298a90",
   "metadata": {},
   "outputs": [],
   "source": [
    "gfu = GridFunction(fes)\n",
    "gfu.vec.data = a.mat.Inverse(fes.FreeDofs()) * f.vec\n",
    "Draw (gfu);"
   ]
  },
  {
   "cell_type": "markdown",
   "id": "128cbd62",
   "metadata": {},
   "source": [
    "### we can inspect the element matrix:"
   ]
  },
  {
   "cell_type": "code",
   "execution_count": null,
   "id": "3e7a0cc0",
   "metadata": {},
   "outputs": [],
   "source": [
    "mylap = myassembling.MyLaplace(1)\n",
    "ei = ElementId(VOL,17)\n",
    "mylap.CalcElementMatrix(fes.GetFE(ei), mesh.GetTrafo(ei))"
   ]
  },
  {
   "cell_type": "markdown",
   "id": "e29c09cd",
   "metadata": {},
   "source": [
    "### use our own matrix assembling function:"
   ]
  },
  {
   "cell_type": "code",
   "execution_count": null,
   "id": "913a79f2",
   "metadata": {},
   "outputs": [],
   "source": [
    "for l in range(4): mesh.Refine()\n",
    "fes.Update()\n",
    "gfu.Update()\n",
    "f.Assemble();"
   ]
  },
  {
   "cell_type": "code",
   "execution_count": null,
   "id": "ac605f67",
   "metadata": {},
   "outputs": [],
   "source": [
    "mymatrix = myassembling.MyAssembleMatrix(fes, myassembling.MyLaplace(CF(1)))\n",
    "# mymatrix = myassembling.MyAssembleMatrix(fes, (grad(u)*grad(v)*dx)[0].MakeBFI())\n",
    "\n",
    "if fes.ndof < 100000:\n",
    "    gfu.vec.data = mymatrix.Inverse(fes.FreeDofs()) * f.vec\n",
    "    Draw (gfu);"
   ]
  },
  {
   "cell_type": "markdown",
   "id": "bf5a0ed7",
   "metadata": {},
   "source": [
    "### Exercise:\n",
    "\n",
    "   * Implement `MyAssembleVector` for building the right hand side vector for  $\\int_\\Omega f v \\, dx$\n",
    "   * Implement `MyNeumannIntegrator` for evaluating $\\int_{\\partial \\Omega} g v \\, ds$\n",
    "\n",
    "   * Have a look into thread-parallel assembling at [NGSolve-itutorials unit 9.2](https://docu.ngsolve.org/latest/i-tutorials/unit-9.2-C%2B%2BAssemble/cppassembling.html)"
   ]
  },
  {
   "cell_type": "code",
   "execution_count": null,
   "id": "b265cde3",
   "metadata": {},
   "outputs": [],
   "source": []
  },
  {
   "cell_type": "code",
   "execution_count": null,
   "id": "9ff22227-694e-46ea-be57-f7af638b75ff",
   "metadata": {},
   "outputs": [],
   "source": []
  }
 ],
 "metadata": {
  "kernelspec": {
   "display_name": "Python 3 (ipykernel)",
   "language": "python",
   "name": "python3"
  },
  "language_info": {
   "codemirror_mode": {
    "name": "ipython",
    "version": 3
   },
   "file_extension": ".py",
   "mimetype": "text/x-python",
   "name": "python",
   "nbconvert_exporter": "python",
   "pygments_lexer": "ipython3",
   "version": "3.12.2"
  }
 },
 "nbformat": 4,
 "nbformat_minor": 5
}
