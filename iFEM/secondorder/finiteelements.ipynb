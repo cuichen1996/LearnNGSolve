{
 "cells": [
  {
   "cell_type": "markdown",
   "metadata": {},
   "source": [
    "$\\DeclareMathOperator{\\opdiv}{div}$\n",
    "\n",
    "# Finite Elements in $H(\\operatorname{div})$\n",
    "\n",
    "\n",
    "Finite element sub-spaces of $H(\\opdiv)$ are built from element-wise polynomials, which normal-components are continuous across element boundaries. This is obtained by proper degrees of freedom.\n",
    "\n",
    "We introduce two families of spaces: The Raviart-Thomas (RT) elements, and the Brezzi-Douglas-Marini (BDM) elements. \n",
    "\n",
    "The lowest order triangular element is the $RT_0$ element. Here, the element space is \n",
    "\n",
    "$$\n",
    "V_T = \\{ \\vec a + b \\vec x : \\vec a \\in {\\mathbb R}^2, b \\in {\\mathbb R} \\}\n",
    "$$\n",
    "\n",
    "Its dimension is 3. Thus we need three degrees of freedom (what are linear functionals) to define a particular function from $V_T$. These functionals are\n",
    "the integrals of the normal component over edges:\n",
    "$$\n",
    "\\tau \\mapsto \\int_E \\tau_n\n",
    "$$\n",
    "\n",
    "Since $\\tau_n$ is constant on an edge, this value uniquely defines the normal component on the edge.\n",
    "\n",
    "The next element is the $BDM_1$ element: Its element space is\n",
    "\n",
    "$$\n",
    "V_T = [P^1]^2\n",
    "$$\n",
    "\n",
    "It has dimension 6. We need two functionals per edge to define the normal component.\n",
    "\n",
    "The $BDM_k$ elements are defined as\n",
    "\n",
    "$$\n",
    "V_T = [P^k]^2\n",
    "$$\n",
    "the degrees of freedom are\n",
    "* $\\int_E \\tau_n q_i \\quad \\quad $ with $q_i$ basis for $P^k(E)$\n",
    "* $\\int_T \\opdiv \\tau \\, r_j \\quad$ with $r_j$ basis for $P^{k-1}(T)/{\\mathbb R}$\n",
    "* $\\int_T \\tau \\operatorname{curl} s_l \\quad \\quad$ with $s_j$ basis for $P_0^{k+1}$\n",
    "\n",
    "The divergence of $BDM_k$ elements give\n",
    "\n",
    "$$\n",
    "\\opdiv V_T = P^{k-1}\n",
    "$$\n",
    "\n",
    "Raviart-Thomas elements $RT_k$ are similar\n",
    "\n",
    "$$\n",
    "V_T = \\{ \\vec a + b \\vec x : \\vec a \\in [P^k]^2, b \\in P^k \\}.\n",
    "$$\n",
    "\n",
    "There is\n",
    "\n",
    "$$\n",
    "[P^k]^2 \\subset RT_k \\subset [P^{k+1}]^2\n",
    "$$\n",
    "\n",
    "and \n",
    "\n",
    "$$\n",
    "\\opdiv RT_k = P^k\n",
    "$$\n",
    "\n",
    "The Raviart-Thomas space leading to the same range of the divergence is smaller than the BDM space."
   ]
  },
  {
   "cell_type": "markdown",
   "metadata": {
    "collapsed": true,
    "jupyter": {
     "outputs_hidden": true
    }
   },
   "source": [
    "## Piola Transformation\n",
    "\n",
    "\n",
    "Typically, one defines a reference element, and maps it to the physical elements in the mesh. Basis functions are implemented for the reference element.\n",
    "\n",
    "Mapping and its Jacobian:\n",
    "\n",
    "$$\n",
    "x = \\Phi (\\widehat x) \\qquad F = \\Phi^\\prime \\qquad J = \\det F\n",
    "$$\n",
    "\n",
    "The standard mapping for $H^1$ elements is\n",
    "\n",
    "$$\n",
    "w(x) := \\widehat w (\\widehat x)\n",
    "$$\n",
    "\n",
    "The gradient on the physical element is computed from the chain-rule:\n",
    "\n",
    "$$\n",
    "\\nabla w (x) = F^{-T} \\nabla \\widehat w (\\widehat x)\n",
    "$$\n",
    "\n",
    "$H(\\opdiv)$ elements are mapped by the Piola transform, i.e.\n",
    "\n",
    "$$\n",
    "\\tau(x) := J^{-1} F \\, \\widehat \\tau (\\widehat x)\n",
    "$$\n",
    "\n",
    "From that, the divergence follows as algebraic transformation of the divergence on the reference element:\n",
    "\n",
    "$$\n",
    "\\opdiv \\tau (x) = J^{-1} \\widehat \\opdiv \\widehat \\tau (\\widehat x)\n",
    "$$\n",
    "\n",
    "*Proof:* technical calculation in strong from, short proof using the weak form of the divergence.\n",
    "\n",
    "Furthermore, fluxes through edges are preserved: \n",
    "\n",
    "$$\n",
    "\\int_E \\tau_n  = \\int_{\\widehat E} \\widehat \\tau_n \\qquad \\text{for} \\quad E = \\Phi (\\widehat E)\n",
    "$$\n",
    "\n",
    "\n",
    "> **Theorem:** BDM/RT finite elements are interpolation equivalent when using the Piola transform, i.e.\n",
    ">\n",
    "> $$\n",
    "  I_T ( J^{-1} F \\widehat \\sigma ) = J^{-1} F \\, ( I_\\widehat T \\widehat \\sigma )\n",
    "  $$"
   ]
  },
  {
   "cell_type": "code",
   "execution_count": null,
   "metadata": {},
   "outputs": [],
   "source": [
    "from ngsolve import *\n",
    "from ngsolve.webgui import Draw\n",
    "mesh = Mesh(unit_square.GenerateMesh(maxh=0.3))"
   ]
  },
  {
   "cell_type": "code",
   "execution_count": null,
   "metadata": {},
   "outputs": [],
   "source": [
    "# a RT0-space:\n",
    "V = HDiv(mesh, order=0, RT=True)\n",
    "print (\"num edges =\", mesh.nedge)\n",
    "print (\"ndof = \", V.ndof)\n",
    "tau = GridFunction(V)\n",
    "tau.vec[:] = 0 \n",
    "tau.vec[35] = 1\n",
    "Draw(tau, mesh, \"tau\", vectors = { \"grid_size\" : 30 });\n",
    "Draw(div(tau), mesh);"
   ]
  },
  {
   "cell_type": "markdown",
   "metadata": {},
   "source": [
    "High order RT and BDM spaces are built by an hierarchical basis. The contain the lowest order $RT_0$ basis functions. Then, basis functions on edges, faces (and cells) are added. \n",
    "\n",
    "See [Dissertation Sabine Zaglmayr](https://numa.jku.at/media/filer_public/e6/98/e6988974-e1ce-4cb2-ac0e-bcffd20350e7/phd-zaglmayr.pdf), page 81 for the triangle."
   ]
  },
  {
   "cell_type": "code",
   "execution_count": null,
   "metadata": {},
   "outputs": [],
   "source": [
    "# a BDM2-space:\n",
    "V = HDiv(mesh, order=2)\n",
    "tau = GridFunction(V)"
   ]
  },
  {
   "cell_type": "markdown",
   "metadata": {},
   "source": [
    "Except for the first one, all shape functions on edges are div-free:"
   ]
  },
  {
   "cell_type": "code",
   "execution_count": null,
   "metadata": {},
   "outputs": [],
   "source": [
    "print (\"dofs on edge 22:\",V.GetDofNrs(NodeId(EDGE,22)))\n",
    "tau.vec[:] = 0\n",
    "tau.vec[V.GetDofNrs(NodeId(EDGE,22))[1]] = 1\n",
    "\n",
    "Draw(tau, mesh, vectors = { \"grid_size\" : 30 })\n",
    "Draw(div(tau), mesh);"
   ]
  },
  {
   "cell_type": "code",
   "execution_count": null,
   "metadata": {},
   "outputs": [],
   "source": [
    "print (\"dofs on face 0:\", V.GetDofNrs(NodeId(FACE,0)))\n",
    "\n",
    "tau.vec[:] = 0\n",
    "tau.vec[V.GetDofNrs(NodeId(FACE,0))[1]] = 1\n",
    "Draw(tau, mesh, vectors = { \"grid_size\" : 30 })\n",
    "Draw(div(tau), mesh);"
   ]
  },
  {
   "cell_type": "markdown",
   "metadata": {},
   "source": [
    "With RT=True we get the Raviart-Thomas space, which is $[P^k]^d + P^k x$:"
   ]
  },
  {
   "cell_type": "code",
   "execution_count": null,
   "metadata": {},
   "outputs": [],
   "source": [
    "V = HDiv(mesh, order=2, RT=True)\n",
    "tau = GridFunction(V)\n",
    "func = y*x*CF( (x,y) )\n",
    "tau.Set(func)\n",
    "print (\"err =\", sqrt(Integrate((tau-func)**2, mesh)))"
   ]
  },
  {
   "cell_type": "code",
   "execution_count": null,
   "metadata": {},
   "outputs": [],
   "source": []
  }
 ],
 "metadata": {
  "kernelspec": {
   "display_name": "Python 3 (ipykernel)",
   "language": "python",
   "name": "python3"
  },
  "language_info": {
   "codemirror_mode": {
    "name": "ipython",
    "version": 3
   },
   "file_extension": ".py",
   "mimetype": "text/x-python",
   "name": "python",
   "nbconvert_exporter": "python",
   "pygments_lexer": "ipython3",
   "version": "3.12.3"
  }
 },
 "nbformat": 4,
 "nbformat_minor": 4
}
