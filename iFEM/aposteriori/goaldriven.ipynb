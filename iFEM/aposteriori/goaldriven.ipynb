{
 "cells": [
  {
   "cell_type": "markdown",
   "id": "747a8e88-fbb4-4a95-852c-be291ee68a90",
   "metadata": {},
   "source": [
    "# Goal driven error estimates\n",
    "\n",
    "The above error estimators estimate the error in the energy norm $V$.\n",
    "Some applications require to compute certain values (such as point values, average values, line integrals, fluxes through surfaces, ...). These \n",
    "values are described by linear functionals $b : V \\rightarrow {\\mathbb R}$.\n",
    "We want to design a method such that the error in this goal, i.e.,\n",
    "\n",
    "$$\n",
    "b(u) - b(u_h) \n",
    "$$\n",
    "is small. The technique is to solve additionally the dual problem, where \n",
    "the right hand side is the goal functional:\n",
    "\n",
    "$$\n",
    "\\mbox{Find } w \\in V : \\qquad A(v, w) = b(v) \\qquad \\forall \\, v \\in V.\n",
    "$$\n",
    "Usually, one cannot solve the dual problem either, and one applies a Galerkin method also for the dual problem:\n",
    "\n",
    "$$\n",
    "\\mbox{Find } w_h \\in V_h : \\qquad A(v_h, w_h) = b(v_h) \\qquad \\forall \\, v_h \\in V_h.\n",
    "$$\n",
    "In the case of point values, the solution of the dual problem is the Green\n",
    "function (which is not in $H^1$). The error in the goal is\n",
    "\n",
    "$$\n",
    "b(u-u_h) = A(u-u_h, w) = A(u-u_h, w-w_h).\n",
    "$$\n",
    "A rigorous upper bound for the error in the goal is obtained by using\n",
    "continuity of the bilinear-form, and energy error estimates \n",
    "$\\eta^1$ and $\\eta^2$ for the primal and\n",
    "dual problem, respectively:\n",
    "\n",
    "$$\n",
    "| b(u-u_h) | \\preceq \\| u - u_h \\|_V \\| w - w_h \\|_V \\preceq\n",
    "         \\eta^1(u_h, f) \\, \\eta^2(w_h, b).\n",
    "$$\n",
    "\n",
    "A good heuristic is the following (unfortunately, not correct)\n",
    "estimate\n",
    "\n",
    "\\begin{align*}\n",
    "b(u-u_h)  & = A(u-u_h, w-w_h) \\\\\n",
    "     & \\preceq \\sum_{T \\in {\\cal T} } \n",
    "        \\| u - u_h \\|_{H^1(T)} \\, \\| w - w_h \\|_{H^1(T)} \\\\\n",
    "       & \\preceq \\sum_{T} \\eta_T^1 (u_h, f) \\, \\eta_T^2 (w_h, b)\n",
    "\\end{align*}\n",
    "\n",
    "The last step would require a local reliability estimate. But, this is\n",
    "not true.\n",
    "\n",
    "We can interpret the last sum that way: The local estimators\n",
    "$\\eta^2_T(w_h)$ provide a way for weighting the primal local estimators\n",
    "according to the desired goal."
   ]
  },
  {
   "cell_type": "markdown",
   "id": "5ac70af5-0ae5-447b-84ed-8fc287fa802f",
   "metadata": {},
   "source": [
    "## Example\n",
    "\n",
    "On $\\Omega = (0,1)^2-(0.4,0.4)^2$, consider the problem: find $u \\in H_0^1(\\Omega)$ such that\n",
    "\n",
    "$$\n",
    "\\int \\lambda \\nabla u \\nabla v \\, dx = \\int_{(2,4)\\times (6,8)} v \\, dx\n",
    "$$\n",
    "\n",
    "We are interested in the point-value $u(0.7,0.3)$, i.e. the evaluation functional is\n",
    "\n",
    "$$\n",
    "b(v) = v(0.7,0.3)\n",
    "$$\n",
    "\n",
    "Note that this point-evaluation is not a continuous linear-form on $H^1$. "
   ]
  },
  {
   "cell_type": "code",
   "execution_count": null,
   "id": "99503082-1c50-45f0-b05d-fca48cce96b5",
   "metadata": {},
   "outputs": [],
   "source": [
    "from ngsolve import *\n",
    "from netgen.occ import *\n",
    "from ngsolve.webgui import Draw\n",
    "\n",
    "rect = Rectangle(1,1).Face()\n",
    "rect.edges.name=\"dirichlet\"\n",
    "inner = MoveTo(0.2,0.6).Rectangle(0.2,0.2).Face()\n",
    "hole = Rectangle(0.4,0.4).Face()\n",
    "outer = rect-inner-hole\n",
    "inner.faces.name=\"source\"\n",
    "shape = Glue([outer,inner])\n",
    "mesh = Mesh(OCCGeometry(shape,dim=2).GenerateMesh(maxh=0.1))\n",
    "Draw (mesh);"
   ]
  },
  {
   "cell_type": "code",
   "execution_count": null,
   "id": "320ed535-3fa0-47e6-8c19-154ed5d2c4b6",
   "metadata": {},
   "outputs": [],
   "source": [
    "fes = H1(mesh,order=3, autoupdate=True, dirichlet=\"dirichlet\")\n",
    "u,v = fes.TnT()\n",
    "lam = mesh.MaterialCF( { \"inner\" : 5 }, default=1)\n",
    "\n",
    "a = BilinearForm(lam*grad(u)*grad(v)*dx)\n",
    "f = LinearForm(100*v*dx(\"source\"))\n",
    "b = LinearForm(fes)\n",
    "b += v(0.7,0.3) \n",
    "\n",
    "gfu = GridFunction(fes, autoupdate=True)\n",
    "gfudual = GridFunction(fes, autoupdate=True)\n",
    "fesflux = HDiv(mesh,order=3, autoupdate=True)\n",
    "gfflux = GridFunction(fesflux, autoupdate=True)\n",
    "\n",
    "hist = []\n",
    "\n",
    "\n",
    "def SolveEstimateMark():\n",
    "    a.Assemble()\n",
    "    f.Assemble()\n",
    "    b.Assemble()\n",
    "    gfu.vec.data = a.mat.Inverse(fes.FreeDofs())*f.vec\n",
    "    gfudual.vec.data = a.mat.Inverse(fes.FreeDofs())*b.vec\n",
    "\n",
    "    gfflux.Set(lam*grad(gfu))\n",
    "    errest = Integrate ( lam*(1/lam*gfflux-grad(gfu))**2, mesh, element_wise=True)\n",
    "    gfflux.Set(lam*grad(gfudual))\n",
    "    errestdual = Integrate ( lam*(1/lam*gfflux-grad(gfudual))**2, mesh, element_wise=True)\n",
    "\n",
    "    for i in range(len(errest)):\n",
    "        errest[i] = sqrt(errest[i]*errestdual[i])\n",
    "\n",
    "    errmax = max(errest)\n",
    "    hist.append ( (fes.ndof, sum(errest), InnerProduct(f.vec, gfudual.vec )) )\n",
    "    for i in range(mesh.GetNE(VOL)):\n",
    "        mesh.SetRefinementFlag(ElementId(VOL,i), errest[i] > 0.25*errmax)"
   ]
  },
  {
   "cell_type": "code",
   "execution_count": null,
   "id": "ab8983b2-5214-4c2b-a50a-c3eb81d9d419",
   "metadata": {},
   "outputs": [],
   "source": [
    "SolveEstimateMark()\n",
    "while fes.ndof < 10000:\n",
    "    mesh.Refine()\n",
    "    SolveEstimateMark()\n",
    "\n",
    "Draw (mesh);"
   ]
  },
  {
   "cell_type": "code",
   "execution_count": null,
   "id": "805bd18d-6b54-4049-8c5c-316b3e7b9d4f",
   "metadata": {},
   "outputs": [],
   "source": [
    "Draw (gfu)\n",
    "Draw (gfudual);"
   ]
  },
  {
   "cell_type": "markdown",
   "id": "ecf89986-6b73-448c-bdae-bfb199daacef",
   "metadata": {},
   "source": [
    "We obtain mesh-refinement which combines refinement due to singularities at corners, and taking the target functional into account !"
   ]
  },
  {
   "cell_type": "code",
   "execution_count": null,
   "id": "382cce65-bad8-4e11-9eb5-c75c2c557ee3",
   "metadata": {},
   "outputs": [],
   "source": []
  }
 ],
 "metadata": {
  "kernelspec": {
   "display_name": "Python 3 (ipykernel)",
   "language": "python",
   "name": "python3"
  },
  "language_info": {
   "codemirror_mode": {
    "name": "ipython",
    "version": 3
   },
   "file_extension": ".py",
   "mimetype": "text/x-python",
   "name": "python",
   "nbconvert_exporter": "python",
   "pygments_lexer": "ipython3",
   "version": "3.12.3"
  }
 },
 "nbformat": 4,
 "nbformat_minor": 5
}
