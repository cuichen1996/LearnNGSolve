{
 "cells": [
  {
   "cell_type": "markdown",
   "metadata": {
    "collapsed": true,
    "jupyter": {
     "outputs_hidden": true
    }
   },
   "source": [
    "Stokes Equation\n",
    "===\n",
    "\n",
    "The Stokes equation is the basic model for incompressible fluids. While several terms of the advanced Navier-Stokes equations are skipped, the Stokes equation allows to study the difficulty of incompressibility constraints.\n",
    "\n",
    "The unknown fields are \n",
    "\n",
    "\\begin{eqnarray*}\n",
    "\\text{velocity} & & u : \\Omega \\rightarrow {\\mathbb R}^d \\\\\n",
    "\\text{pressure} & & p : \\Omega \\rightarrow {\\mathbb R}\n",
    "\\end{eqnarray*}\n",
    "\n",
    "The Stokes equation is a system of equations\n",
    "\n",
    "$$\n",
    "\\begin{array}{ccccl}\n",
    "-\\Delta u & + & \\nabla p & = & f \\\\\n",
    "\\operatorname{div} u & & & = & 0\n",
    "\\end{array}\n",
    "$$\n",
    "\n",
    "with a given force density $f : \\Omega \\rightarrow {\\mathbb R}^2$. The first equation models balance of momentum, the second one is the incompressibility constraint.\n",
    "In the simplest case, we set boundary conditions $u = 0$ on $\\partial \\Omega$\n",
    "\n",
    "\n"
   ]
  },
  {
   "cell_type": "markdown",
   "metadata": {},
   "source": [
    "Variational Formulation\n",
    "----\n",
    "\n",
    "The weak form is : Find $u \\in V := [H_0^1(\\Omega)]^d$ and $p \\in Q:=  L_2^0(\\Omega)$ such that\n",
    "\n",
    "$$\n",
    "\\begin{array}{ccccll}\n",
    "\\int \\nabla u \\nabla v & + & \\int \\operatorname{div} v p & = & \\int f v & \\forall \\, v \\in V \\\\\n",
    "\\int \\operatorname{div} u q & & & = & 0 & \\forall \\, q \\in Q\n",
    "\\end{array}\n",
    "$$\n",
    "\n",
    "The pressure is defined up to a constant, and the divergence equation is  satisfied for constant test-functions, anyway. Thus, we need the space $L_2^0$, which are $L_2$-functions with zero mean value. For the beauty of the equation, we have substituted $p$ by $-p$."
   ]
  },
  {
   "cell_type": "markdown",
   "metadata": {
    "collapsed": true,
    "jupyter": {
     "outputs_hidden": true
    }
   },
   "source": [
    "Finite Element Spaces\n",
    "---\n",
    "We discretize the Stokes equation by different finite element spaces. For the velocity we use continuous, $H^1$-conforming elements. For the pressure, which is a field in $L_2$, discontinuous finite elements are natural. But, alternatively, one may also use continuous elements.\n",
    "\n",
    "We try different combinations of finite element spaces for $V$ and $Q$."
   ]
  },
  {
   "cell_type": "code",
   "execution_count": null,
   "metadata": {},
   "outputs": [],
   "source": [
    "from ngsolve import *\n",
    "from ngsolve.webgui import Draw\n",
    "mesh = Mesh(unit_square.GenerateMesh(maxh=0.05))"
   ]
  },
  {
   "cell_type": "markdown",
   "metadata": {},
   "source": [
    "Use continuous elements of order $k=2$ for each velocity component, and piece-wise constants for pressure:"
   ]
  },
  {
   "cell_type": "code",
   "execution_count": null,
   "metadata": {},
   "outputs": [],
   "source": [
    "V = VectorH1(mesh, order=2, dirichlet=\".*\")\n",
    "Q = L2(mesh, order=0)\n",
    "X = V * Q"
   ]
  },
  {
   "cell_type": "code",
   "execution_count": null,
   "metadata": {},
   "outputs": [],
   "source": [
    "def SolveStokes(X):\n",
    "    u,p = X.TrialFunction()\n",
    "    v,q = X.TestFunction()\n",
    "    a = BilinearForm(X)\n",
    "    a += (InnerProduct(grad(u),grad(v))+div(u)*q+div(v)*p)*dx\n",
    "    # a += -1e-10*p*q*dx\n",
    "    a.Assemble()\n",
    "    a.mat[X.components[0].ndof,X.components[0].ndof]+=-1  # fixing pressure in one point\n",
    "\n",
    "    f = LinearForm( (x-0.5)*v[1]*dx).Assemble()\n",
    "\n",
    "    gfu = GridFunction(X)\n",
    "    gfu.vec.data = a.mat.Inverse(X.FreeDofs()) * f.vec\n",
    "    return gfu"
   ]
  },
  {
   "cell_type": "code",
   "execution_count": null,
   "metadata": {},
   "outputs": [],
   "source": [
    "gfu = SolveStokes(X)\n",
    "Draw (gfu.components[0], mesh, \"velocity\")\n",
    "Draw (gfu.components[1], mesh, \"pressure\");"
   ]
  },
  {
   "cell_type": "markdown",
   "metadata": {},
   "source": [
    "Try a $P^2 \\times P^{1,dc}$ pairing:"
   ]
  },
  {
   "cell_type": "code",
   "execution_count": null,
   "metadata": {},
   "outputs": [],
   "source": [
    "V = VectorH1(mesh, order=2, dirichlet=\".*\")\n",
    "Q = L2(mesh, order=1)\n",
    "X = V*Q\n",
    "gfu = SolveStokes(X)\n",
    "Draw (gfu.components[0], mesh, \"velocity\")\n",
    "Draw (gfu.components[1], mesh, \"pressure\");   "
   ]
  },
  {
   "cell_type": "markdown",
   "metadata": {},
   "source": [
    "$P^{2+} \\times P^{1,dc}$, i.e. adding cubic bubbles:"
   ]
  },
  {
   "cell_type": "code",
   "execution_count": null,
   "metadata": {},
   "outputs": [],
   "source": [
    "V = VectorH1(mesh, order=2, dirichlet=\".*\")\n",
    "V.SetOrder(TRIG,3)\n",
    "V.Update()\n",
    "Q = L2(mesh, order=1)\n",
    "X = V*Q\n",
    "\n",
    "gfu = SolveStokes(X)\n",
    "Draw (gfu.components[0], mesh, \"velocity\")\n",
    "Draw (gfu.components[1], mesh, \"pressure\");"
   ]
  },
  {
   "cell_type": "markdown",
   "metadata": {},
   "source": [
    "The Taylor Hood element $P^2 \\times P^1$ with continuous pressure:"
   ]
  },
  {
   "cell_type": "code",
   "execution_count": null,
   "metadata": {},
   "outputs": [],
   "source": [
    "V = VectorH1(mesh, order=2, dirichlet=\".*\")\n",
    "Q = H1(mesh, order=1)\n",
    "X = V*Q\n",
    "\n",
    "gfu = SolveStokes(X)\n",
    "Draw (gfu.components[0], mesh, \"velocity\")\n",
    "Draw (gfu.components[1], mesh, \"pressure\");"
   ]
  },
  {
   "cell_type": "markdown",
   "metadata": {},
   "source": [
    "We see that the pressure space must not be too rich, otherwise we obtain a singular system (or a bad solutions, in particular for the pressure). "
   ]
  },
  {
   "cell_type": "code",
   "execution_count": null,
   "metadata": {},
   "outputs": [],
   "source": []
  }
 ],
 "metadata": {
  "kernelspec": {
   "display_name": "Python 3 (ipykernel)",
   "language": "python",
   "name": "python3"
  },
  "language_info": {
   "codemirror_mode": {
    "name": "ipython",
    "version": 3
   },
   "file_extension": ".py",
   "mimetype": "text/x-python",
   "name": "python",
   "nbconvert_exporter": "python",
   "pygments_lexer": "ipython3",
   "version": "3.12.3"
  }
 },
 "nbformat": 4,
 "nbformat_minor": 4
}
