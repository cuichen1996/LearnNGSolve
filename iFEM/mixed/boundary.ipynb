{
 "cells": [
  {
   "cell_type": "markdown",
   "metadata": {
    "collapsed": true,
    "jupyter": {
     "outputs_hidden": true
    }
   },
   "source": [
    "Boundary Conditions\n",
    "====\n",
    "\n",
    "Usually, Dirichlet boundary conditions (essential bc) are built into the space: find $u \\in H^1$ such that $u = u_D$ on $\\Gamma_D$. Now, we want to pose the Dirichlet bc by an extra equation. For this, we start from the strong form\n",
    "\n",
    "$$\n",
    "-\\Delta u = f,\n",
    "$$\n",
    "\n",
    "multiply the  equation by a test-function in $H^1$, integate by parts, and keep the boundary term:\n",
    "\n",
    "$$\n",
    "\\int \\nabla u \\nabla v - \\int_{\\partial \\Omega} \\frac{\\partial u}{\\partial n} v = \\int f v\n",
    "$$\n",
    "\n",
    "We introduce a new variable $\\lambda$ for $-\\frac{\\partial u}{\\partial n}$ on the Dirichlet boundary. Natural bc are treated as usual, we assume we only have homogeneous Neumann bc for ease of notation:\n",
    "\n",
    "$$\n",
    "\\int \\nabla u \\nabla v + \\int_{\\Gamma_D} \\lambda v = \\int fv\n",
    "$$\n",
    "\n",
    "The Dirichlet bc $u = u_D$ is now enforced also by a test function $\\mu$ living on the Dirichlet boundary. Thus, the whole equation is now:\n",
    "\n",
    "Find $u \\in V := H^1(\\Omega)$ and $\\lambda \\in Q := H^{-1/2}(\\Gamma_D)$ such that\n",
    "\n",
    "$$\n",
    "\\begin{array}{ccccll}\n",
    "\\int_\\Omega \\nabla u \\nabla v & + & \\int_{\\Gamma_D} \\lambda v & = & \\int_\\Omega f v & \\forall \\, v \\in V \\\\\n",
    "\\int_{\\Gamma_D} \\mu u & & & = & \\int_{\\Gamma_D} \\mu u_D & \\forall \\, \\mu \\in Q\n",
    "\\end{array}\n",
    "$$\n",
    "\n",
    "Why do we have the space $H^{-1/2}(\\Gamma_D)$ ?\n",
    "Functions from $H^1(\\Omega)$ have boundary values (the so called trace) exactly in the space $H^{1/2}(\\Gamma_D)$. We can pair these functions with elements from its dual space, called $H^{-1/2}(\\Gamma_D)$. To be precise, the integral is a convenient notation for the duality pairing:\n",
    "\n",
    "$$\n",
    "\\int_{\\Gamma_D} u \\mu  \\quad \\text{in sense of} \\quad \\left< u|_{\\Gamma_D}, \\mu \\right>_{H^{1/2}(\\Gamma_D) \\times H^{-1/2}(\\Gamma_D)}\n",
    "$$\n",
    "\n",
    "The space $H^{-1/2}$ is weaker (i.e. larger) than $L_2$. Thus, we can use discontinuous $L_2$ finite elements for its discretization."
   ]
  },
  {
   "cell_type": "code",
   "execution_count": null,
   "metadata": {},
   "outputs": [],
   "source": [
    "from ngsolve import * \n",
    "from ngsolve.webgui import Draw\n",
    "# mesh = Mesh(unit_square.GenerateMesh(maxh=0.2))\n",
    "mesh = Mesh(unit_cube.GenerateMesh(maxh=0.2))"
   ]
  },
  {
   "cell_type": "code",
   "execution_count": null,
   "metadata": {},
   "outputs": [],
   "source": [
    "order=3\n",
    "V = H1(mesh, order=order, orderface=order+1)\n",
    "# Q = SurfaceL2(mesh, order=order-2)\n",
    "Q = H1(mesh, order=order, definedon=mesh.Boundaries(\".*\"))\n",
    "X = V*Q\n",
    "print (\"V.ndof =\", V.ndof, \"Q.ndof =\", Q.ndof)"
   ]
  },
  {
   "cell_type": "code",
   "execution_count": null,
   "metadata": {},
   "outputs": [],
   "source": [
    "u,lam = X.TrialFunction()\n",
    "v,mu = X.TestFunction()\n",
    "a = BilinearForm(X)\n",
    "a += grad(u)*grad(v)*dx + (u*mu+v*lam)*ds\n",
    "\n",
    "f = LinearForm(X)\n",
    "f += 10*x*v*dx + y*mu*ds\n",
    "\n",
    "a.Assemble()\n",
    "f.Assemble()\n",
    "\n",
    "gfu = GridFunction(X)\n",
    "gfu.vec.data = a.mat.Inverse(X.FreeDofs()) * f.vec"
   ]
  },
  {
   "cell_type": "code",
   "execution_count": null,
   "metadata": {},
   "outputs": [],
   "source": [
    "sol_u, sol_lam = gfu.components\n",
    "Draw (sol_u, mesh, clipping={ \"function\" : True })\n",
    "Draw (sol_lam, mesh);"
   ]
  },
  {
   "cell_type": "markdown",
   "metadata": {},
   "source": [
    "Choosing the test-function $v = 1$ in the first equation \n",
    "$$\n",
    "\\int_\\Omega \\nabla u \\nabla 1 + \\int_{\\Gamma_D} \\lambda 1 = \\int_\\Omega f 1\n",
    "$$\n",
    "we observe that the total flux is exactly in balance with the total source\n",
    "\n",
    "$$\n",
    "\\int_{\\Gamma_D} \\lambda = \\int_{\\Omega} f\n",
    "$$\n",
    "\n",
    "We compute the integral over the whole boundary as"
   ]
  },
  {
   "cell_type": "code",
   "execution_count": null,
   "metadata": {},
   "outputs": [],
   "source": [
    "Integrate(sol_lam, mesh, BND)"
   ]
  },
  {
   "cell_type": "code",
   "execution_count": null,
   "metadata": {},
   "outputs": [],
   "source": [
    "bndparts = Integrate(sol_lam, mesh, BND, region_wise=True)\n",
    "print (\"boundary parts:\", bndparts)\n",
    "print (\"sum: \", sum(bndparts))"
   ]
  },
  {
   "cell_type": "markdown",
   "metadata": {},
   "source": [
    "Can we use continuous finite elements for the normal derivative $\\lambda$ ? "
   ]
  },
  {
   "cell_type": "markdown",
   "metadata": {},
   "source": [
    "## Interface conditions\n",
    "\n",
    "Instead of enforcing Dirichlet boundary conditions, one can use the Lagrange multiplier also to enforce continuity across interfaces. Let the domain be $\\Omega_1 \\cup \\Omega_2$, and $\\gamma$ the common interface.\n",
    "\n",
    "The interface conditions are continuity of the function, and continuity of the normal derivative:\n",
    "\n",
    "\\begin{align*}\n",
    "u_1 &= u_2 \\\\\n",
    "\\lambda \\frac{\\partial u_1}{\\partial n_1} & = - \\lambda_2 \\frac{\\partial u_2}{\\partial n_2}\n",
    "\\end{align*}\n",
    "\n",
    "Define $V = H^1 (\\Omega_1 \\cup \\Omega_2)$, and $Q = H^{-1/2}(\\gamma)$, and search for $u \\in V$ and $\\lambda \\in Q$ such that:\n",
    "\n",
    "$$\n",
    "\\begin{array}{ccccll}\n",
    "\\int_{\\Omega \\cup \\Omega_2} \\nabla u \\nabla v & + & \\int_{\\gamma} \\lambda (v_1-v_2) & = & \\int_\\Omega f v & \\forall \\, v \\in V \\\\\n",
    "\\int_{\\gamma} \\mu (u_1-u_2) & & & = & 0 & \\forall \\, \\mu \\in Q\n",
    "\\end{array}\n",
    "$$\n",
    "\n",
    "The continuity of $u$ is enforced by the second equation. The continuity of the normal derivative is obtained weakly from the first equation: Choosing a arbitrary test function $v_1$, and setting $v_2 = 0$ we obtain\n",
    "\n",
    "$$\n",
    "\\int_{\\Omega_1} (-\\Delta u) v + \\int_{\\partial \\Omega_1} \\frac{\\partial u}{\\partial n} v + \\int_\\gamma \\lambda v = \\int_{\\Omega_1} f v\n",
    "$$\n",
    "\n",
    "Which implies $\\lambda = - \\frac{\\partial u}{\\partial n_1}$. The same we get from $v_2$, i.e. $\\lambda = -\\frac{\\partial u_2}{\\partial n_2}$. The opposite sign comes from opposite outer normal vectors $n_1 = -n_2$."
   ]
  },
  {
   "cell_type": "markdown",
   "metadata": {},
   "source": [
    "Imagine a rotating part of machine:"
   ]
  },
  {
   "cell_type": "code",
   "execution_count": null,
   "metadata": {},
   "outputs": [],
   "source": [
    "from netgen.occ import *\n",
    "from ngsolve import *\n",
    "from ngsolve.webgui import Draw\n",
    "\n",
    "square = MoveTo(0,0).Rectangle(1,1).Face()\n",
    "circo = Circle((0.5,0.5), 0.3).Face()\n",
    "circ = Circle((0.5,0.5), 0.3).Face()\n",
    "bar = MoveTo(0.3,0.45).Rectangle(0.4,0.1).Face()\n",
    "\n",
    "square.edges.name=\"outer\"\n",
    "circ.edges.name=\"gammai\"\n",
    "circo.edges.name=\"gammao\"\n",
    "outer = square-circo\n",
    "outer.faces.name = \"outer\"\n",
    "\n",
    "circ.faces.name = \"inner\"\n",
    "bar.faces.name = \"bar\"\n",
    "inner = circ-bar\n",
    "\n",
    "both = Compound([outer, inner, bar])\n",
    "mesh = Mesh(OCCGeometry(both, dim=2).GenerateMesh(maxh=0.05)).Curve(3)\n",
    "print (mesh.GetMaterials(), mesh.GetBoundaries())\n",
    "Draw (mesh);"
   ]
  },
  {
   "cell_type": "markdown",
   "metadata": {},
   "source": [
    "We can virtually rotate the inner domain by setting a deformation function:"
   ]
  },
  {
   "cell_type": "code",
   "execution_count": null,
   "metadata": {},
   "outputs": [],
   "source": [
    "def MeshRotation(angle):\n",
    "    mesh.UnsetDeformation()\n",
    "    deform = GridFunction(VectorH1(mesh, order=3))\n",
    "\n",
    "    rotmat = CF( (cos(angle), -sin(angle), sin(angle), cos(angle))).Reshape( (2,2))\n",
    "    center = CF( (0.5, 0.5) )\n",
    "    pos = CF( (x,y) )\n",
    "\n",
    "    deform.Set( (rotmat-Id(2))*(pos-center), definedon=mesh.Materials(\"inner|bar\"))\n",
    "    return deform\n",
    "\n",
    "from time import sleep\n",
    "scene = Draw (mesh)\n",
    "\n",
    "for i in range(30):\n",
    "    mesh.SetDeformation(MeshRotation(i/30))\n",
    "    scene.Redraw()\n",
    "    sleep(0.03)"
   ]
  },
  {
   "cell_type": "markdown",
   "metadata": {},
   "source": [
    "Forming the integrals of $\\lambda$ defined on one side, against an $v$ from the other side is tricky. This is a very recent feature in NGSolve called `ContactBoundary`:"
   ]
  },
  {
   "cell_type": "code",
   "execution_count": null,
   "metadata": {},
   "outputs": [],
   "source": [
    "mesh.SetDeformation(MeshRotation(0.8))\n",
    "\n",
    "fesu = H1(mesh, order=3, dirichlet=\"outer\")\n",
    "feslam = H1(mesh, order=3, definedon=mesh.Boundaries(\"gammao\"))\n",
    "fes = fesu*feslam\n",
    "\n",
    "(u,lam),(v,mu) = fes.TnT()\n",
    "\n",
    "a = BilinearForm(grad(u)*grad(v)*dx)\n",
    "\n",
    "contact = ContactBoundary(mesh.Boundaries(\"gammao\"), mesh.Boundaries(\"gammai\"), volume=False)\n",
    "contact.AddIntegrator (mu*(u-u.Other()) + lam*(v-v.Other()))\n",
    "contact.Update (bf=a, intorder=20)\n",
    "\n",
    "a.Assemble()\n",
    "mesh.SetDeformation(MeshRotation(0))\n",
    "f = LinearForm(1e3*(x-0.5)*v*dx(\"bar\")).Assemble()\n",
    "mesh.SetDeformation(MeshRotation(0.8))\n",
    "\n",
    "gfu = GridFunction(fes)\n",
    "gfu.vec.data = a.mat.Inverse(freedofs=fes.FreeDofs())*f.vec\n",
    "Draw (gfu.components[0]);"
   ]
  },
  {
   "cell_type": "code",
   "execution_count": null,
   "metadata": {},
   "outputs": [],
   "source": [
    "Draw (grad(gfu.components[0]), mesh);"
   ]
  },
  {
   "cell_type": "code",
   "execution_count": null,
   "metadata": {},
   "outputs": [],
   "source": []
  }
 ],
 "metadata": {
  "kernelspec": {
   "display_name": "Python 3 (ipykernel)",
   "language": "python",
   "name": "python3"
  },
  "language_info": {
   "codemirror_mode": {
    "name": "ipython",
    "version": 3
   },
   "file_extension": ".py",
   "mimetype": "text/x-python",
   "name": "python",
   "nbconvert_exporter": "python",
   "pygments_lexer": "ipython3",
   "version": "3.12.3"
  }
 },
 "nbformat": 4,
 "nbformat_minor": 4
}
