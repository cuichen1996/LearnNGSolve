{
 "cells": [
  {
   "cell_type": "markdown",
   "metadata": {
    "collapsed": true,
    "jupyter": {
     "outputs_hidden": true
    }
   },
   "source": [
    "Mixed Methods for second order equations\n",
    "====\n",
    "\n",
    "Again, we consider the second order equation\n",
    "\n",
    "$$\n",
    "-\\Delta u = f, \\qquad u = 0 \\text{ on } \\partial \\Omega\n",
    "$$\n",
    "\n",
    "We introduce now a new variable $\\sigma$ for $\\nabla u$, and rewrite the second order equation as first order system:\n",
    "\n",
    "$$\n",
    "\\begin{array}{ccccl}\n",
    "\\sigma & - & \\nabla u & = & 0 \\\\\n",
    "\\operatorname{div} \\sigma & & & = & -f\n",
    "\\end{array}\n",
    "$$\n",
    "\n",
    "We multiply the first equation by a test-function $\\tau$, and the secon d by a test-function $v$. We use integration by parts $\\int_\\Omega \\nabla u \\tau = -\\int_\\Omega u \\operatorname{div} \\tau + \\int_{\\partial \\Omega} u \\tau_n$.\n",
    "\n",
    "The weak formulation is: find $\\sigma \\in \\Sigma := H(\\operatorname{div})$ and $u \\in V := L_2$ such that\n",
    "\n",
    "$$\n",
    "\\begin{array}{ccccll}\n",
    "\\int \\sigma \\tau & + & \\int u \\operatorname{div} \\tau & = & 0 & \\forall \\, \\tau \\in \\Sigma \\\\\n",
    "\\int v \\operatorname{div} \\sigma &&& = & 0 & \\forall \\, v \\in V\n",
    "\\end{array}\n",
    "$$\n",
    "\n",
    "The function space is\n",
    "\n",
    "$$\n",
    "H(\\operatorname{div}) = \\{ \\tau \\in [L_2(\\Omega)]^d : \\operatorname{div} \\tau \\in L_2(\\Omega) \\}\n",
    "$$\n",
    "\n",
    "We don't need derivatives of $u$ and $v$, thus these fields are chosen in $L_2$."
   ]
  },
  {
   "cell_type": "code",
   "execution_count": null,
   "metadata": {},
   "outputs": [],
   "source": [
    "from ngsolve import *\n",
    "from ngsolve.webgui import Draw\n",
    "mesh = Mesh(unit_square.GenerateMesh(maxh=0.1))"
   ]
  },
  {
   "cell_type": "code",
   "execution_count": null,
   "metadata": {},
   "outputs": [],
   "source": [
    "Sigma = HDiv(mesh, order=2)\n",
    "V = L2(mesh, order=1)\n",
    "X = Sigma*V"
   ]
  },
  {
   "cell_type": "code",
   "execution_count": null,
   "metadata": {},
   "outputs": [],
   "source": [
    "sigma,u = X.TrialFunction()\n",
    "tau,v = X.TestFunction()\n",
    "\n",
    "a = BilinearForm( (sigma*tau+div(sigma)*v+div(tau)*u)*dx).Assemble()\n",
    "f = LinearForm(-1*v*dx).Assemble()\n",
    "\n",
    "gfu = GridFunction(X)\n",
    "gfu.vec.data = a.mat.Inverse() * f.vec"
   ]
  },
  {
   "cell_type": "code",
   "execution_count": null,
   "metadata": {},
   "outputs": [],
   "source": [
    "Draw (gfu.components[0], mesh, \"flux\")\n",
    "Draw (gfu.components[1], mesh, \"u\");"
   ]
  },
  {
   "cell_type": "markdown",
   "metadata": {},
   "source": [
    "The total outflow is in balance with the source:\n",
    "\n",
    "$$\n",
    "\\int_{\\partial \\Omega} \\sigma \\cdot n = \\int_\\Omega \\operatorname{div} \\sigma \\, 1 = -\\int_\\Omega f \\, 1\n",
    "$$"
   ]
  },
  {
   "cell_type": "code",
   "execution_count": null,
   "metadata": {},
   "outputs": [],
   "source": [
    "n = specialcf.normal(mesh.dim)\n",
    "Integrate (gfu.components[0]*n, mesh, BND)"
   ]
  },
  {
   "cell_type": "markdown",
   "metadata": {},
   "source": [
    "## Boundary conditions:\n",
    "\n",
    "From integration by parts, Dirichlet boundary conditions $u = u_D$ on $\\Gamma_D$ enter now in the linear form:\n",
    "\n",
    "$$\n",
    "f(v) = \\int_{\\Omega} f v \\, dx + \\int_{\\Gamma_D} u_D \\tau_n \\, ds\n",
    "$$\n",
    "\n",
    "However, Neumann boundary conditions are now built-in into the space for $\\sigma$:\n",
    "\n",
    "$$\n",
    "\\sigma_n = g \\qquad \\text{on } \\Gamma_N\n",
    "$$\n",
    "\n",
    "The role of essential and natural boundary conditions is now the opposite as for a standard, primal formulation. \n",
    "\n",
    "In NGSolve we use `Sigma = HDiv(mesh, order=2, dirichlet=\"GammaN\")` for setting essential boundary conditions for $\\sigma$."
   ]
  },
  {
   "cell_type": "code",
   "execution_count": null,
   "metadata": {},
   "outputs": [],
   "source": []
  }
 ],
 "metadata": {
  "kernelspec": {
   "display_name": "Python 3 (ipykernel)",
   "language": "python",
   "name": "python3"
  },
  "language_info": {
   "codemirror_mode": {
    "name": "ipython",
    "version": 3
   },
   "file_extension": ".py",
   "mimetype": "text/x-python",
   "name": "python",
   "nbconvert_exporter": "python",
   "pygments_lexer": "ipython3",
   "version": "3.12.3"
  }
 },
 "nbformat": 4,
 "nbformat_minor": 4
}
