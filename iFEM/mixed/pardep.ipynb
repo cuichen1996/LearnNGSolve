{
 "cells": [
  {
   "cell_type": "markdown",
   "metadata": {},
   "source": [
    "# Parameter Dependent Problems\n",
    "\n",
    "Many problems from mechanics are of the form\n",
    "\n",
    "$$\n",
    "A(u,v) = f(v) \\quad \\forall \\, v\n",
    "$$\n",
    "\n",
    "with the bilinear-form depending on a small parameter \n",
    "$\\varepsilon$:\n",
    "\n",
    "$$\n",
    "A(u,v) = a(u,v) + \\frac{1}{\\varepsilon} c(T u, T v)\n",
    "$$\n",
    "\n",
    "where $a(.,.)$ and $c(.,.)$ are non-negative bilinear-forms on Hilbert spaces $V$ and $Q$, and\n",
    "\n",
    "$$\n",
    "T : V \\rightarrow Q \n",
    "$$\n",
    "is a continuous, linear operator.\n",
    "\n",
    "We introduce a new variable\n",
    "\n",
    "$$\n",
    "p := \\frac{1}{\\varepsilon} T u \n",
    "$$\n",
    "\n",
    "Using this new variable in the first row, and writing down the definition of $p$ in weak form we get the system\n",
    "\n",
    "$$\n",
    "\\begin{array}{ccccll}\n",
    "a(u,v) & + & c(p, T v) & = & f(v) & \\forall \\, v \\in V \\\\\n",
    "c(Tu, q) & - & \\varepsilon c(p,q) & = & 0 & \\forall \\, q \\in Q\n",
    "\\end{array}\n",
    "$$\n",
    "\n",
    "We rename the off-diagonal forms as \n",
    "\n",
    "$$\n",
    "b(u,q) := c(Tu, q)\n",
    "$$\n",
    "\n",
    "This structure is called a mixed formulation with penalty term.\n",
    "\n",
    "In the mixed formulation we can set the parameter $\\varepsilon = 0$.\n",
    "\n",
    "We are interested in the convergence\n",
    "\n",
    "$$\n",
    "p^{(\\varepsilon)} = \\frac{1}{\\varepsilon} T u^{(\\varepsilon)} \n",
    "\\rightarrow p^{(0)}\n",
    "$$"
   ]
  },
  {
   "cell_type": "markdown",
   "metadata": {
    "collapsed": true,
    "jupyter": {
     "outputs_hidden": true
    }
   },
   "source": [
    "Example: Dirichlet boundary condition by penalty\n",
    "---\n",
    "    \n",
    "$$\n",
    "\\int \\nabla u \\nabla v + \\frac{1}{\\varepsilon} \\int_{\\Gamma_D} u v = \\int f v\n",
    "$$\n",
    "\n",
    "Here, \n",
    "\n",
    "$$\n",
    "\\frac{1}{\\varepsilon} u^{(\\varepsilon)} \\rightarrow p^{(0)} = \\frac{\\partial u}{\\partial n}\n",
    "$$"
   ]
  },
  {
   "cell_type": "markdown",
   "metadata": {},
   "source": [
    "## Example: Nearly incompressible materials\n",
    "\n",
    "$$\n",
    "\\int 2 \\mu \\varepsilon (u)  : \\varepsilon(v) + \\int \\lambda \\operatorname{div} u \\operatorname{div} v = \\int f v\n",
    "$$\n",
    "\n",
    "with $\\varepsilon(u) = \\tfrac{1}{2} (\\nabla u + (\\nabla u)^T)$, and $\\lambda \\gg \\mu$. Introduce $p := \\lambda \\operatorname{div} u$\n"
   ]
  },
  {
   "cell_type": "code",
   "execution_count": null,
   "metadata": {},
   "outputs": [],
   "source": [
    "from ngsolve import *\n",
    "from ngsolve.webgui import Draw\n",
    "mesh = Mesh(unit_square.GenerateMesh(maxh=0.1))"
   ]
  },
  {
   "cell_type": "code",
   "execution_count": null,
   "metadata": {},
   "outputs": [],
   "source": [
    "fes = VectorH1(mesh,order=2, dirichlet=\"bottom|top\")\n",
    "u,v = fes.TnT()\n",
    "mu,lam = 1, 1e5\n",
    "a = BilinearForm(2*mu*InnerProduct (Sym(Grad(u)), Sym(Grad(v))) * dx \\\n",
    "                 + lam*div(u)*div(v)*dx).Assemble()\n",
    "f = LinearForm(v[0]*ds(\"left\")).Assemble()\n",
    "\n",
    "gfu = GridFunction(fes)\n",
    "gfu.vec.data = a.mat.Inverse(fes.FreeDofs())*f.vec"
   ]
  },
  {
   "cell_type": "markdown",
   "metadata": {},
   "source": [
    "The deformation looks reasonable, however the pressure looks strange:"
   ]
  },
  {
   "cell_type": "code",
   "execution_count": null,
   "metadata": {},
   "outputs": [],
   "source": [
    "Draw (gfu, deformation=True);"
   ]
  },
  {
   "cell_type": "code",
   "execution_count": null,
   "metadata": {},
   "outputs": [],
   "source": [
    "Draw (lam*div(gfu), mesh);"
   ]
  },
  {
   "cell_type": "markdown",
   "metadata": {},
   "source": [
    "Now, we replace the term\n",
    "\n",
    "$$\n",
    "\\int \\lambda \\operatorname{div} u \\, \\operatorname{div} v\n",
    "$$\n",
    "\n",
    "by introducing an $L_2$-projection into elements-wise constants:\n",
    "\n",
    "$$\n",
    "\\int \\lambda \\, \\Pi_{L_2}^{P^0} (\\operatorname{div} u) \\, \\operatorname{div} v\n",
    "$$\n"
   ]
  },
  {
   "cell_type": "code",
   "execution_count": null,
   "metadata": {},
   "outputs": [],
   "source": [
    "fesP = L2(mesh, order=0)\n",
    "\n",
    "a = BilinearForm(2*mu*InnerProduct (Sym(Grad(u)), Sym(Grad(v))) * dx \\\n",
    "                 + lam*Interpolate(div(u),fesP)*div(v)*dx).Assemble()\n",
    "f = LinearForm(v[0]*ds(\"left\")).Assemble()\n",
    "\n",
    "gfu = GridFunction(fes)\n",
    "gfu.vec.data = a.mat.Inverse(fes.FreeDofs())*f.vec"
   ]
  },
  {
   "cell_type": "markdown",
   "metadata": {},
   "source": [
    "Now, also the pressure looks good (as good as it can be in $P^0$):"
   ]
  },
  {
   "cell_type": "code",
   "execution_count": null,
   "metadata": {},
   "outputs": [],
   "source": [
    "Draw (gfu, deformation=True);\n",
    "Draw (lam*Interpolate(div(gfu), fesP), mesh);"
   ]
  },
  {
   "cell_type": "markdown",
   "metadata": {},
   "source": [
    "How to analyze that ? \n",
    "\n",
    "Instead of solving the parameter dependent problem for $u$, we define the pressure $p$:\n",
    "\n",
    "$$\n",
    "\\int 2 \\mu \\varepsilon (u)  : \\varepsilon(v) + \\int \\underbrace {\\lambda \\operatorname{div} u}_{p :=} \\operatorname{div} v = \\int f v\n",
    "$$\n",
    "\n",
    "Inserting $p$, and using the defining equation for $p$ we obtain the saddle-point problem:\n",
    "\n",
    "$$\n",
    "\\begin{array}{ccccll}\n",
    "\\int 2 \\mu \\varepsilon (u)  : \\varepsilon(v)  & + & \\int p \\operatorname{div} v & = & f(v) & \\forall \\, v \\in V \\\\\n",
    "\\int \\operatorname{div} v \\, q & - & \\lambda^{-1} \\int p q  & = & 0 & \\forall \\, q \\in Q\n",
    "\\end{array}\n",
    "$$\n",
    "\n",
    "Now, the large parameter $\\lambda$ got a small paramter $\\lambda^{-1}$. The limit problem is a Stokes equation.\n",
    "\n",
    "\n",
    "Discretize it with a stable method for Stokes leads to the linear system\n",
    "\n",
    "\\begin{align*}\n",
    "A u + B^T p &= f \\\\\n",
    "B u - C p &= 0\n",
    "\\end{align*}\n",
    "\n",
    "The meaning of the second discrete equation is\n",
    "\n",
    "$$\n",
    "p_h = \\lambda \\Pi_{L_2}^{P^0} \\operatorname{div} u_h\n",
    "$$\n",
    "\n",
    "If we use discontinuous finite elements for the pressure, the matrix $C$ is block-diagonal, and thus cheaply invertible. This allows to eliminate $p$ as\n",
    "\n",
    "$$\n",
    "p = C^{-1} B u,\n",
    "$$\n",
    "\n",
    "and insert it into the first equation to obtain\n",
    "\n",
    "$$\n",
    "\\big( A + B^T C^{-1} B \\big) u = f\n",
    "$$\n",
    "\n",
    "We obtain exactly the same system by inserting the projector into the bilinear-form."
   ]
  },
  {
   "cell_type": "code",
   "execution_count": null,
   "metadata": {},
   "outputs": [],
   "source": []
  }
 ],
 "metadata": {
  "kernelspec": {
   "display_name": "Python 3 (ipykernel)",
   "language": "python",
   "name": "python3"
  },
  "language_info": {
   "codemirror_mode": {
    "name": "ipython",
    "version": 3
   },
   "file_extension": ".py",
   "mimetype": "text/x-python",
   "name": "python",
   "nbconvert_exporter": "python",
   "pygments_lexer": "ipython3",
   "version": "3.12.3"
  }
 },
 "nbformat": 4,
 "nbformat_minor": 4
}
