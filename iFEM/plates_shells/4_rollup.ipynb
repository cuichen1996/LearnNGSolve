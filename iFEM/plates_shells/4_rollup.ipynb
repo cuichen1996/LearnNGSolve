{
 "cells": [
  {
   "cell_type": "markdown",
   "id": "71a599b3",
   "metadata": {},
   "source": [
    "## Fully nonlinear Koiter shell model\n",
    "\n",
    "[M. Neunteufel and J.S.: The Hellan-Herrmann-Johnson method for nonlinear shells. Computers & Structures, '19\n",
    "\n",
    "[M. Neunteufel and J.S.: Avoiding membrane locking with Regge interpolation, CMAME, '21\n",
    "\n",
    "[M. Neunteufel and J.S.: The Hellan-Herrmann-Johnson and TDNNS method for linear and nonlinear shells](https://arxiv.org/abs/2304.13806)\n",
    "\n",
    "Bending energy:\n",
    "\n",
    "$$\n",
    "\\int | \\nabla^2 u_i n_i |^2\n",
    "$$\n",
    "with physical normal vector $n = \\operatorname{Cof} (F) n_{ref}$.\n",
    "Discretized by the Hellan-Herrmann-Johnson method. \n",
    "Distributional jump term $[\\partial_n w]$ is now angle between deformed faces.\n",
    "\n",
    "\n",
    "Membrane energy with reduction operator for tangential strain:\n",
    "\n",
    "$$\n",
    "\\int W( I_{cc} C_{tt}(u) ) \n",
    "$$"
   ]
  },
  {
   "cell_type": "code",
   "execution_count": null,
   "id": "509150dd",
   "metadata": {},
   "outputs": [],
   "source": [
    "from ngsolve import *\n",
    "from ngsolve.webgui import Draw\n",
    "from time import sleep\n",
    "\n",
    "thickness = 0.1   # thickness\n",
    "L = 12\n",
    "W = 1\n",
    "E, nu = 1.2e6, 0\n",
    "\n",
    "from netgen.occ import *\n",
    "shape = Rectangle(L,W).Face()\n",
    "shape.edges.Min(X).name=\"left\"\n",
    "shape.edges.Max(X).name=\"right\"\n",
    "shape.edges.Min(Y).name=\"bottom\"\n",
    "shape.edges.Max(Y).name=\"top\"\n",
    "\n",
    "mesh = Mesh(OCCGeometry(shape).GenerateMesh(maxh=0.5))\n",
    "# Draw (mesh)"
   ]
  },
  {
   "cell_type": "code",
   "execution_count": null,
   "id": "0910a7b7",
   "metadata": {},
   "outputs": [],
   "source": [
    "regge = True   # False -> membrane locking\n",
    "order = 2\n",
    "\n",
    "fes1 = HDivDivSurface(mesh, order=order-1, discontinuous=True)\n",
    "fes2 = VectorH1(mesh, order=order, dirichletx_bbnd=\"left\", dirichlety_bbnd=\"left|bottom\", dirichletz_bbnd=\"left\")\n",
    "fes3 = HDivSurface(mesh, order=order-1, orderinner=0, dirichlet_bbnd=\"left\")\n",
    "if regge: \n",
    "    fes4 = HCurlCurl(mesh, order=order-1, discontinuous=True)\n",
    "    fes  = fes2*fes1*fes3*fes4*fes4\n",
    "    u,sigma,hyb,C,R = fes.TrialFunction()\n",
    "    sigma, hyb, C, R = sigma.Trace(), hyb.Trace(), C.Trace(), R.Operator(\"dualbnd\")\n",
    "else:\n",
    "    fes  = fes2*fes1*fes3\n",
    "    u,sigma,hyb = fes.TrialFunction()\n",
    "    sigma, hyb = sigma.Trace(), hyb.Trace()\n",
    "\n",
    "fesVF = VectorFacetSurface(mesh, order=order)\n",
    "b = fesVF.TrialFunction()\n",
    "        \n",
    "gfclamped = GridFunction(FacetSurface(mesh,order=0))\n",
    "gfclamped.Set(1,definedon=mesh.BBoundaries(\"left\"))\n",
    "\n",
    "solution = GridFunction(fes, name=\"solution\")\n",
    "averednv = GridFunction(fesVF)\n",
    "averednv_start = GridFunction(fesVF)\n",
    "        \n",
    "\n",
    "nsurf = specialcf.normal(mesh.dim)\n",
    "t     = specialcf.tangential(mesh.dim)\n",
    "nel   = Cross(nsurf, t)\n",
    "    \n",
    "Ptau    = Id(mesh.dim) - OuterProduct(nsurf,nsurf)\n",
    "Ftau    = grad(u).Trace() + Ptau\n",
    "Ctau    = Ftau.trans*Ftau\n",
    "Etautau = 0.5*(Ctau - Ptau)\n",
    "\n",
    "nphys   = Normalize(Cof(Ftau)*nsurf)\n",
    "tphys   = Normalize(Ftau*t)\n",
    "nelphys = Cross(nphys,tphys)\n",
    "\n",
    "Hn = CF( (u.Operator(\"hesseboundary\").trans*nphys), dims=(3,3) )\n",
    "\n",
    "cfnphys = Normalize(Cof(Ptau+grad(solution.components[0]))*nsurf)\n",
    "\n",
    "cfn  = Normalize(CF( averednv.components ))\n",
    "cfnR = Normalize(CF( averednv_start.components ))\n",
    "pnaverage = Normalize( cfn - (tphys*cfn)*tphys )"
   ]
  },
  {
   "cell_type": "code",
   "execution_count": null,
   "id": "7e40cc7c",
   "metadata": {},
   "outputs": [],
   "source": [
    "bfF = BilinearForm(fesVF, symmetric=True)\n",
    "bfF += Variation( (0.5*b*b - ((1-gfclamped)*cfnphys+gfclamped*nsurf)*b)*ds(element_boundary=True))\n",
    "rf = averednv.vec.CreateVector()\n",
    "bfF.AssembleLinearization(averednv.vec)\n",
    "invF = bfF.mat.Inverse(fesVF.FreeDofs(), inverse=\"sparsecholesky\")\n",
    "\n",
    "def UpdateNormal():\n",
    "    bfF.Apply(averednv.vec, rf)\n",
    "    bfF.AssembleLinearization(averednv.vec)\n",
    "    invF.Update()\n",
    "    averednv.vec.data -= invF*rf\n",
    "\n",
    "UpdateNormal()\n",
    "averednv_start.vec.data = averednv.vec"
   ]
  },
  {
   "cell_type": "code",
   "execution_count": null,
   "id": "4f3ab58c",
   "metadata": {},
   "outputs": [],
   "source": [
    "gradn = specialcf.Weingarten(3) #grad(nsurf)\n",
    "\n",
    "def Material(mat, E, nu):\n",
    "    return E/(1-nu**2)*((1-nu)*InnerProduct(mat,mat)+nu*Trace(mat)**2)\n",
    "def MaterialInv(mat, E, nu):\n",
    "    return (1+nu)/E*(InnerProduct(mat,mat)-nu/(2*nu+1)*Trace(mat)**2)"
   ]
  },
  {
   "cell_type": "code",
   "execution_count": null,
   "id": "e61486d7",
   "metadata": {},
   "outputs": [],
   "source": [
    "bfA = BilinearForm(fes, symmetric=True, condense=True)\n",
    "\n",
    "# bending energy\n",
    "bfA += Variation(-6/thickness**3*MaterialInv(sigma, E, nu)*ds ).Compile()\n",
    "bfA += Variation(InnerProduct(sigma, Hn + (1-nphys*nsurf)*gradn)*ds ).Compile()\n",
    "bfA += Variation( -(acos(nel*cfnR)-acos(nelphys*pnaverage)-hyb*nel)*(sigma*nel)*nel*ds(element_boundary=True) ).Compile()\n",
    "\n",
    "# membrane energy\n",
    "if regge:\n",
    "    bfA += Variation( 0.5*thickness*Material(C, E, nu)*ds )\n",
    "    bfA += Variation( InnerProduct(C-Etautau, R)*ds(element_vb=BND) )\n",
    "    bfA += Variation( InnerProduct(C-Etautau, R)*ds(element_vb=VOL) )\n",
    "else:\n",
    "    bfA += Variation( 0.5*thickness*MaterialNorm(Etautau, E, nu)*ds )"
   ]
  },
  {
   "cell_type": "markdown",
   "id": "3ddf80db",
   "metadata": {},
   "source": [
    "Apply moment to right edge:"
   ]
  },
  {
   "cell_type": "code",
   "execution_count": null,
   "id": "1e761006",
   "metadata": {},
   "outputs": [],
   "source": [
    "par = Parameter(0.0)\n",
    "moment = IfPos(x-L+1e-6, 1, 0)*50*pi/3\n",
    "bfA += Variation( -par*moment*(hyb*nel)*ds(element_boundary=True) )"
   ]
  },
  {
   "cell_type": "code",
   "execution_count": null,
   "id": "f5573cb2",
   "metadata": {},
   "outputs": [],
   "source": [
    "numsteps=10\n",
    "scene = Draw(solution.components[0], mesh, deformation=solution.components[0])\n",
    "\n",
    "with TaskManager():\n",
    "    for steps in range(0,numsteps):\n",
    "        par.Set((steps+1)/numsteps)\n",
    "        print(\"Loadstep =\", steps+1, \", F/Fmax =\", (steps+1)/numsteps*100, \"%\")\n",
    "        \n",
    "        UpdateNormal()\n",
    "        \n",
    "        solvers.Newton(bfA, solution, inverse=\"sparsecholesky\", printing=False, maxerr=2e-10)\n",
    "        scene.Redraw()\n",
    "        sleep(0.5)"
   ]
  },
  {
   "cell_type": "code",
   "execution_count": null,
   "id": "d8ada047",
   "metadata": {},
   "outputs": [],
   "source": []
  },
  {
   "cell_type": "code",
   "execution_count": null,
   "id": "da8674c2-2a50-49c8-a18a-db45f1695ffc",
   "metadata": {},
   "outputs": [],
   "source": []
  }
 ],
 "metadata": {
  "kernelspec": {
   "display_name": "Python 3 (ipykernel)",
   "language": "python",
   "name": "python3"
  },
  "language_info": {
   "codemirror_mode": {
    "name": "ipython",
    "version": 3
   },
   "file_extension": ".py",
   "mimetype": "text/x-python",
   "name": "python",
   "nbconvert_exporter": "python",
   "pygments_lexer": "ipython3",
   "version": "3.12.3"
  }
 },
 "nbformat": 4,
 "nbformat_minor": 5
}
