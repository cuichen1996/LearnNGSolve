{
 "cells": [
  {
   "cell_type": "markdown",
   "metadata": {},
   "source": [
    "# Kirchhoff plate equation\n",
    "$\\DeclareMathOperator{\\operatorname{div}}{div}$\n",
    "Find vertical deflection $w$ such that\n",
    "\n",
    "$$\n",
    "\\operatorname{div} \\operatorname{div} \\nabla^2 w = f \\qquad \\text{ + boundary conditions}\n",
    "$$\n",
    "\n",
    "Reduce to second order system with bending moments $\\sigma$:\n",
    "\n",
    "\\begin{eqnarray*}\n",
    "\\sigma - \\nabla^2 w & = & 0 \\\\\n",
    "\\operatorname{div} \\operatorname{div} \\sigma & = & f\n",
    "\\end{eqnarray*}\n",
    "\n",
    "Variational formulation with $\\sigma \\in H(\\operatorname{div})^{SYM}$ and $w \\in H^1$:\n",
    "\n",
    "$$\n",
    "\\begin{array}{ccccll}\n",
    "\\int \\sigma \\tau & + & \\int \\operatorname{div} \\tau \\, \\nabla w & = & 0 & \\forall \\, \\tau \\\\[0.5em]\n",
    "\\int \\operatorname{div} \\sigma \\nabla v & & & = & \\int f v & \\forall \\, v\n",
    "\\end{array}\n",
    "$$\n",
    "\n",
    "$H(\\operatorname{div})^{SYM}$ requires finite elements which are symmetric, and the normal vector $\\sigma n$ is continuous. This is non-trivial, but possible  [Arnold-Winther, ...]"
   ]
  },
  {
   "cell_type": "markdown",
   "metadata": {},
   "source": [
    "## Hellan Herrmann Johnson Method\n",
    "\n",
    "\n",
    "Hellan 67, Herrmann 67, Johnson 73, Brezzi-Raviart 77, Arnold+Brezzi 85, Comodi 89,\n",
    "Krendl+Rafetseder+Zulehner 16, Chen+Hu+Huang 16, Braess+Pechstein+JS 20\n",
    "\n",
    "Is an arbitrary order ($k \\geq 0$) mixed discretization method on\n",
    "possibly curved, mapped triangular elements.\n",
    "\n",
    "Allows hybridization to obtain a positive definite system matrix,\n",
    "lowest order case corresponds to the Morley element."
   ]
  },
  {
   "cell_type": "markdown",
   "metadata": {},
   "source": [
    "Function space\n",
    "$$\n",
    "    H(\\operatorname{div} \\operatorname{div}) = \\{ \\sigma \\in L_2^{2\\times 2, SYM} : \\operatorname{div} \\operatorname{div} \\sigma \\in H^{-1} \\}\n",
    "$$\n",
    "\n",
    "HHJ finite element space:\n",
    "symmetric matrices, piecewise polynomial, continuous nn-component"
   ]
  },
  {
   "cell_type": "markdown",
   "metadata": {},
   "source": [
    "Find $\\sigma_h \\in \\Sigma_h \\subset H(\\operatorname{div} \\operatorname{div})$ and $w_h \\in W_h \\subset H^1$ such that\n",
    "\n",
    "$$\n",
    "\\begin{array}{ccccll}\n",
    "\\int \\sigma_h \\tau & + & \\sum_T \\int_T \\operatorname{div} \\tau \\, \\nabla w_h + \\int_{\\partial T} \\tau_{nt} \\nabla_t w_h & = & 0 & \\forall \\, \\tau \\\\[0.5em]\n",
    "\\sum_T \\int_T \\operatorname{div} \\sigma_h \\nabla v + \\int_{\\partial T} \\sigma_{nt} \\nabla_t v & & & = & \\int f v & \\forall \\, v\n",
    "\\end{array}\n",
    "$$\n",
    "\n",
    "This mixed method satisfies the magic discrete kernel inclusion\n",
    "\n",
    "$$\n",
    "V_{h,0} \\subset V_0\n",
    "$$\n",
    "\n",
    "leading to the best-approximation property of the bending moments $\\sigma$:\n",
    "\n",
    "$$\n",
    "\\| \\sigma - \\sigma_h \\|_{L_2} \\leq \\inf_{\\tau_h \\in \\Sigma_h} \\| \\sigma - \\tau_h \\|_{L_2}  + \\| f - I_h f \\|\n",
    "$$\n"
   ]
  },
  {
   "cell_type": "markdown",
   "metadata": {},
   "source": [
    "### Distributional derivatives:\n",
    "\n",
    "for continuous, piece-wise smooth $w$, and smooth $\\tau$:\n",
    "\n",
    "$$\n",
    "\\left< \\nabla^2 w , \\tau \\right> = \\sum_T \\int_T \\nabla^2 w : \\tau + \\sum_E [\\partial_n w] \\tau_{nn}\n",
    "$$\n",
    "\n",
    "for $nn$-continuous, piece-wise smooth $\\sigma$, and smooth $v$:\n",
    "\\begin{eqnarray*}\n",
    "\\left< \\operatorname{div} \\operatorname{div} \\sigma, v \\right> & = & \\sum_T \\int_T \\operatorname{div} \\operatorname{div} \\sigma v + \\sum_E ([\\operatorname{div} \\sigma]_n - \\operatorname{div}_t [\\sigma n] ) \\, v \\\\\n",
    "& + & \\sum_V \\sum_{T, V\\in T} (\\sigma_{n_1,t_1} - \\sigma_{n_2,t_2}) \\, v \n",
    "\\end{eqnarray*}"
   ]
  },
  {
   "cell_type": "code",
   "execution_count": null,
   "metadata": {},
   "outputs": [],
   "source": [
    "from ngsolve import *\n",
    "from ngsolve.webgui import Draw"
   ]
  },
  {
   "cell_type": "code",
   "execution_count": null,
   "metadata": {},
   "outputs": [],
   "source": [
    "mesh = Mesh (unit_square.GenerateMesh(maxh=0.1))"
   ]
  },
  {
   "cell_type": "markdown",
   "metadata": {},
   "source": [
    "Define product finite element space for $H(\\text{div div}) \\times H^1$"
   ]
  },
  {
   "cell_type": "code",
   "execution_count": null,
   "metadata": {},
   "outputs": [],
   "source": [
    "order = 2\n",
    "Sigma = HDivDiv(mesh, order=order)  # dirichlet=\"left|right|top\")\n",
    "W = H1(mesh, order=order+1, dirichlet=\".*\")   # \"bottom|left|right\")\n",
    "X = Sigma * W\n",
    "\n",
    "print (\"ndof-Sigma:\", Sigma.ndof, \", ndof-W:\", W.ndof, \", ndof-X:\", X.ndof)"
   ]
  },
  {
   "cell_type": "markdown",
   "metadata": {},
   "source": [
    "$$A(\\sigma,w; \\tau, v) = a(\\sigma,\\tau) + b(\\sigma,v) + b(\\tau, w)$$\n",
    "with\n",
    "\\begin{eqnarray*}\n",
    "a(\\sigma,\\tau) & = & \\int_\\Omega \\sigma \\tau \\, dx \\\\\n",
    "b(\\sigma, v) & = & \\sum_T \\int_T \\text{div} \\sigma \\, \\nabla v \\, dx - \\int_{\\partial T} \\sigma_n \\nabla_t v \\, ds\n",
    "\\end{eqnarray*}"
   ]
  },
  {
   "cell_type": "code",
   "execution_count": null,
   "metadata": {},
   "outputs": [],
   "source": [
    "sigma, w = X.TrialFunction()\n",
    "tau, v = X.TestFunction()\n",
    "\n",
    "n = specialcf.normal(2)\n",
    "def tang(u): return u-(u*n)*n\n",
    "    \n",
    "def DivDiv(sigma,v): \n",
    "    return div(sigma)*grad(v)*dx - (sigma*n)*tang(grad(v))*dx(element_boundary=True)\n",
    "\n",
    "a = BilinearForm(InnerProduct(sigma,tau)*dx \\\n",
    "                 + DivDiv(sigma,v) + DivDiv(tau,w) \\\n",
    "                 - 1e-10*w*v*dx).Assemble()\n",
    "f = LinearForm(200*v*dx).Assemble()\n",
    "\n",
    "gfu = GridFunction(X)\n",
    "gfu.vec.data = a.mat.Inverse(X.FreeDofs(), inverse=\"sparsecholesky\") * f.vec"
   ]
  },
  {
   "cell_type": "markdown",
   "metadata": {},
   "source": [
    "the vertical deflection:"
   ]
  },
  {
   "cell_type": "code",
   "execution_count": null,
   "metadata": {},
   "outputs": [],
   "source": [
    "gfsigma, gfw = gfu.components\n",
    "Draw (gfw, mesh, deformation=True);"
   ]
  },
  {
   "cell_type": "markdown",
   "metadata": {},
   "source": [
    "the bending moments $\\sigma_{xx}$:"
   ]
  },
  {
   "cell_type": "code",
   "execution_count": null,
   "metadata": {
    "scrolled": true
   },
   "outputs": [],
   "source": [
    "Draw (gfsigma[0,0], mesh);"
   ]
  },
  {
   "cell_type": "markdown",
   "metadata": {},
   "source": [
    "## Hybridization:\n",
    "\n",
    "Lagrange-parameter \n",
    "$$\n",
    "\\widehat{w_n} \\approx \\partial_n w\n",
    "$$\n",
    "enforces continuity of $\\sigma_{nn}$.\n"
   ]
  },
  {
   "cell_type": "code",
   "execution_count": null,
   "metadata": {},
   "outputs": [],
   "source": [
    "order = 2\n",
    "Sigma = Discontinuous(HDivDiv(mesh, order=order)) \n",
    "W = H1(mesh, order=order+1, dirichlet=\".*\")   # \"bottom|left|right\")\n",
    "What = NormalFacetFESpace (mesh, order=order, dirichlet=\".*\")\n",
    "X = Sigma * W * What\n",
    "print (X.ndof)"
   ]
  },
  {
   "cell_type": "code",
   "execution_count": null,
   "metadata": {},
   "outputs": [],
   "source": [
    "sigma, w, what = X.TrialFunction()\n",
    "tau, v, vhat = X.TestFunction()\n",
    "\n",
    "n = specialcf.normal(2)\n",
    "def tang(u): return u-(u*n)*n\n",
    "def normal(u): return (u*n)*n\n",
    "\n",
    "def DivDiv(sigma,v,vhat): \n",
    "    return div(sigma)*grad(v)*dx - (sigma*n)*(tang(grad(v))-normal(vhat))*dx(element_boundary=True)\n",
    "\n",
    "a = BilinearForm(InnerProduct(sigma,tau)*dx + DivDiv(sigma,v,vhat) + DivDiv(tau,w,what), \\\n",
    "                 condense=True).Assemble()\n",
    "f = LinearForm(200*v*dx).Assemble()\n",
    "\n",
    "# inverse from static conensation\n",
    "invSchur = a.mat.Inverse(X.FreeDofs(True), inverse=\"sparsecholesky\")\n",
    "ext = IdentityMatrix()+a.harmonic_extension\n",
    "inv =  ext @ invSchur @ ext.T + a.inner_solve\n",
    "\n",
    "gfu = GridFunction(X)\n",
    "gfu.vec.data = inv * f.vec"
   ]
  },
  {
   "cell_type": "code",
   "execution_count": null,
   "metadata": {},
   "outputs": [],
   "source": [
    "gfsigma, gfw, gfwhat = gfu.components\n",
    "Draw (gfu.components[1], mesh, deformation=True)\n",
    "Draw (gfu.components[0][0,0], mesh);"
   ]
  },
  {
   "cell_type": "code",
   "execution_count": null,
   "metadata": {},
   "outputs": [],
   "source": []
  },
  {
   "cell_type": "code",
   "execution_count": null,
   "metadata": {},
   "outputs": [],
   "source": []
  }
 ],
 "metadata": {
  "kernelspec": {
   "display_name": "Python 3 (ipykernel)",
   "language": "python",
   "name": "python3"
  },
  "language_info": {
   "codemirror_mode": {
    "name": "ipython",
    "version": 3
   },
   "file_extension": ".py",
   "mimetype": "text/x-python",
   "name": "python",
   "nbconvert_exporter": "python",
   "pygments_lexer": "ipython3",
   "version": "3.12.3"
  }
 },
 "nbformat": 4,
 "nbformat_minor": 4
}
