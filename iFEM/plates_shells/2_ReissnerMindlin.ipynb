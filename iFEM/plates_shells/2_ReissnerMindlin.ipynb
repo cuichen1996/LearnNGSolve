{
 "cells": [
  {
   "cell_type": "markdown",
   "id": "457fed37-01bb-4777-8ff1-b56101d75b30",
   "metadata": {},
   "source": [
    "# Reissner Mindlin plates\n",
    "\n",
    "Find: vertical deflection $w$ and linearized rotations $\\beta$ minimizing total energy\n",
    "\n",
    "$$\n",
    "\\frac{1}{2} \\| \\varepsilon(\\beta) \\|_D^2  + \\frac{1}{2t^2} \\| \\nabla w - \\beta \\|_0^2 - \\int f w\n",
    "$$\n",
    "\n",
    "First term is bending energy, the second is shear energy.\n",
    "\n",
    "In general we obtain shear locking for $t \\rightarrow 0$. \n",
    "\n",
    "Can be avoided if discrete functions\n",
    "\n",
    "$$\n",
    "\\nabla w_h \\quad \\text{and} \\quad \\beta_h\n",
    "$$\n",
    "\n",
    "match. Choose $\\beta_h$ in the Nedelec - space !\n",
    "\n",
    "To discretize the bending energy, we use a mixed method.\n",
    "Introduce moments $\\sigma$ such that $A \\sigma = \\varepsilon(\\beta)$ to obtain mixed formulation: \n",
    "\n",
    "Find $\\sigma, w, \\beta$: \n",
    "\n",
    "$$\n",
    "\\begin{array}{ccccl}\n",
    "(\\sigma, \\tau)_A  & + & \\left< \\operatorname{div} \\sigma, \\beta \\right> & = & 0 \\\\\n",
    "\\left< \\operatorname{div} \\tau, \\delta \\right> & - & \\tfrac{1}{t^2} (\\nabla w - \\beta, \\nabla v - \\delta) & = & \\int f v \n",
    "\\end{array}\n",
    "$$\n",
    "\n",
    "The pairing $\\left< \\operatorname{div} \\sigma, \\beta \\right>$ is well defined, continuous and LBB-stable for \n",
    "$\\sigma \\in H(\\operatorname{div} \\operatorname{div})$ and $\\beta \\in H(\\operatorname{curl})$.\n",
    "\n",
    "For $t \\rightarrow 0$, the finite element solution converges to the HHJ solution of the Kirchhoff plate.\n",
    "\n",
    "A. Pechstein+JS: The TDNNS method for Reissner–Mindlin plates, 2017\n"
   ]
  },
  {
   "cell_type": "code",
   "execution_count": null,
   "id": "2dcf679a-35cc-4cde-8329-6253b18ceb04",
   "metadata": {},
   "outputs": [],
   "source": [
    "from ngsolve import *\n",
    "from ngsolve.webgui import Draw\n",
    "mesh = Mesh (unit_square.GenerateMesh(maxh=0.1))"
   ]
  },
  {
   "cell_type": "code",
   "execution_count": null,
   "id": "2c2caed0-f988-4bc0-9803-286a064a6497",
   "metadata": {},
   "outputs": [],
   "source": [
    "order = 2\n",
    "Sigma = HDivDiv(mesh, order=order, plus=True)  \n",
    "W = H1(mesh, order=order+1, dirichlet=\".*\")  \n",
    "V = HCurl(mesh, order=order, dirichlet=\".*\")\n",
    "X = Sigma * W * V\n",
    "\n",
    "print (\"ndof-Sigma:\", Sigma.ndof, \", ndof-W:\", W.ndof, \", ndof-X:\", X.ndof)"
   ]
  },
  {
   "cell_type": "markdown",
   "id": "be9741b4-2709-46a4-a18c-eca009703a72",
   "metadata": {},
   "source": [
    "$$A(\\sigma,u; \\tau, v) = a(\\sigma,\\tau) + b(\\sigma,\\delta) + b(\\tau, \\beta)\n",
    "- \\frac{1}{t^2} (\\nabla w - \\beta, \\nabla v - \\delta) $$\n",
    "with\n",
    "\\begin{eqnarray*}\n",
    "a(\\sigma,\\tau) & = & \\int_\\Omega \\sigma \\tau \\, dx \\\\\n",
    "b(\\sigma, \\beta) & = & \\sum_T \\int_T \\text{div} \\sigma \\, \\beta \\, dx - \\int_{\\partial T} \\sigma_{nn} \\beta_n \\, ds\n",
    "\\end{eqnarray*}"
   ]
  },
  {
   "cell_type": "code",
   "execution_count": null,
   "id": "855551eb-dc14-4942-8cdf-fb831ec734f5",
   "metadata": {},
   "outputs": [],
   "source": [
    "t = 0.01\n",
    "\n",
    "sigma, w, beta = X.TrialFunction()\n",
    "tau, v, delta = X.TestFunction()\n",
    "\n",
    "n = specialcf.normal(2)\n",
    "def tang(u): return u-(u*n)*n\n",
    "    \n",
    "def DivDiv(sigma,delta): \n",
    "    return div(sigma)*delta*dx - (sigma*n)*tang(delta)*dx(element_boundary=True)\n",
    "\n",
    "a = BilinearForm(InnerProduct(sigma,tau)*dx + DivDiv(sigma,delta) + DivDiv(tau,beta) \\\n",
    "                 - 1/t**2 * (grad(w)-beta)*(grad(v)-delta)*dx).Assemble()\n",
    "f = LinearForm(200*v*dx).Assemble()\n",
    "\n",
    "gfu = GridFunction(X)\n",
    "gfu.vec.data = a.mat.Inverse(X.FreeDofs(), inverse=\"sparsecholesky\") * f.vec"
   ]
  },
  {
   "cell_type": "code",
   "execution_count": null,
   "id": "d3574f5e-a293-42a7-a681-201b4b55c4d4",
   "metadata": {},
   "outputs": [],
   "source": [
    "gfsigma, gfw, gfbeta = gfu.components\n",
    "print (\"vertical displacement\")\n",
    "Draw (gfw, deformation=True)\n",
    "print (\"rotation vector beta\")\n",
    "Draw (gfbeta, vectors= { \"grid_size\" : 40 } )\n",
    "print (\"bending moment_xx\")\n",
    "Draw (gfu.components[0][0,0],mesh);"
   ]
  },
  {
   "cell_type": "code",
   "execution_count": null,
   "id": "9c237afd-1ae5-441e-a68f-b03799907793",
   "metadata": {},
   "outputs": [],
   "source": []
  },
  {
   "cell_type": "code",
   "execution_count": null,
   "id": "4865b612-4506-4498-a6a9-a88e4b6da37e",
   "metadata": {},
   "outputs": [],
   "source": []
  }
 ],
 "metadata": {
  "kernelspec": {
   "display_name": "Python 3 (ipykernel)",
   "language": "python",
   "name": "python3"
  },
  "language_info": {
   "codemirror_mode": {
    "name": "ipython",
    "version": 3
   },
   "file_extension": ".py",
   "mimetype": "text/x-python",
   "name": "python",
   "nbconvert_exporter": "python",
   "pygments_lexer": "ipython3",
   "version": "3.12.3"
  }
 },
 "nbformat": 4,
 "nbformat_minor": 5
}
