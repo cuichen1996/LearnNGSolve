{
 "cells": [
  {
   "cell_type": "markdown",
   "id": "1bc9cd53-2ce8-4d32-97e6-1b72eddfadba",
   "metadata": {},
   "source": [
    "# Maxwell equations\n",
    "\n",
    "Maxwell equations describe electro-magnetic fields. \n",
    "We consider the special case of stationary magnetic fields. \n",
    "Maxwell equations are three-dimensional.\n",
    "\n",
    "A magnetic field is caused by an electric current. We suppose that a current density\n",
    "\n",
    "$$\n",
    "j \\in [L_2(\\Omega)]^3\n",
    "$$\n",
    "is given. (Stationary) currents do not have sources, i.e., $\\operatorname{div} \\, j = 0$. \n",
    "\n",
    "The involved (unknown) fields are \n",
    "\n",
    "* The magnetic flux $B$  (in German: Induktion). The flux is free of sources, i.e.,\n",
    "\n",
    "$$\n",
    "\\operatorname{div} \\, B = 0.\n",
    "$$\n",
    "* The magnetic field intensity $H$ (in German: magnetische Feldstärke). The field\n",
    "is related to the current density by Henry's law: \n",
    "\n",
    "$$\n",
    "\\int_S j \\cdot n \\, ds = \\int_{\\partial S} H \\cdot \\tau \\, ds  \\qquad \\forall \\; \\mbox{Surfaces } S\n",
    "$$\n",
    "\n",
    "By Stokes\\' Theorem, one can derive Henry's law in differential form:\n",
    "\n",
    "$$\n",
    "\\operatorname{curl} \\, H = j\n",
    "$$\n",
    "The differential operator is  $\\operatorname{curl} = \\operatorname {rot} = \\nabla \\times$.\n",
    "Both fields are related by a material law. The coefficient $\\mu$ is called permeability:\n",
    "\n",
    "$$\n",
    "B = \\mu H\n",
    "$$\n",
    "\n",
    "The coefficient $\\mu$ is $10^3$ to $10^4$ times larger in iron (and other ferro-magnetic\n",
    "metals) as in most other media (air). In a larger range, the function $B(H)$ is also highly\n",
    "non-linear."
   ]
  },
  {
   "cell_type": "markdown",
   "id": "14c05963-e996-45c7-b46d-292205c9a542",
   "metadata": {},
   "source": [
    "Collecting the equations we have\n",
    "\n",
    "$$\n",
    "\\operatorname{div} \\, B = 0 \\qquad B = \\mu H \\qquad \\operatorname{curl} \\, H = j\n",
    "$$\n",
    "\n",
    "In principle, Maxwell equations are valid in the whole $\\mathbb{R}^3$. For simulation, we have\n",
    "to truncate the domain and have to introduce  artificial boundary conditions."
   ]
  },
  {
   "cell_type": "markdown",
   "id": "d025214b-6692-4eb4-9b74-aba28174d5c0",
   "metadata": {},
   "source": [
    "Since $\\operatorname{div} B = 0$, and the domain ${\\mathbb R}^3$ is simply connected, we may introduce a vector potential $A$ such that\n",
    "\n",
    "$$\n",
    "B = \\operatorname{curl} \\, A.\n",
    "$$\n",
    "Inserting the vector-potential into the system of equations, one obtains\n",
    "the second order equation\n",
    "\n",
    "\\begin{equation}\n",
    "\\operatorname{curl} \\, \\mu^{-1}  \\operatorname{curl} A = j.\n",
    "\\end{equation}\n",
    "\n",
    "The two original fields $B$ and $H$ can be obtained from the vector potential $A$.\n",
    "\n",
    "The vector-potential $A$ is not uniquely defined. One\n",
    "may add a gradient field to $A$, and the equation is still true. To obtain a unique\n",
    "solution, the so called Coloumb-Gauging can be applied:\n",
    "\n",
    "\\begin{equation}\n",
    "\\operatorname{div} \\, A = 0.\n",
    "\\end{equation}\n",
    "\n",
    "As usual, we go over to the weak form. Both Equations together become: Find $A$ such that\n",
    "\n",
    "$$\n",
    "\\int_\\Omega \\mu^{-1} \\operatorname{curl} A \\, \\operatorname{curl} v \\, dx = \\int_\\Omega j \\cdot v \\, dx \\qquad \\forall \\, v \\in ?\n",
    "$$\n",
    "and\n",
    "\n",
    "$$\n",
    "\\int_\\Omega A \\cdot \\nabla \\psi \\, dx = 0.\n",
    "$$"
   ]
  },
  {
   "cell_type": "markdown",
   "id": "c685a4e0-a410-49e1-a95d-2a91735442be",
   "metadata": {},
   "source": [
    "We want to choose the same space for $A$ and the according test functions $v$. But,\n",
    "then we have more equations than unknowns. The system is still solvable, since we\n",
    "have made the assumption $\\operatorname{div} \\, j = 0$, and thus $j$ is in the range of the $\\operatorname{curl}$-\n",
    "operator. To obtain a symmetric system, we add a new scalar variable $\\varphi$.\n",
    "The problem is now: Find $A \\in V = ?$ and $\\varphi \\in Q = H^1 / \\mathbb{R}$ such that\n",
    "\n",
    "\\begin{equation} \n",
    "\\begin{array}{ccccll}\n",
    "\\int \\mu^{-1} \\operatorname{curl} A \\, \\cdot \\operatorname{curl} v \\, dx & + & \n",
    "\\int \\nabla \\varphi \\cdot v \\, dx & = & \n",
    "\\int j \\cdot v \\, dx \\qquad & \\forall \\, v \\in V \\\\[0.5em]\n",
    "\\int A \\cdot \\nabla \\psi \\, dx & & & = & 0 & \\forall \\, \\psi \\in Q\n",
    "\\end{array}\n",
    "\\end{equation}"
   ]
  },
  {
   "cell_type": "code",
   "execution_count": null,
   "id": "55c2210e-ca2c-4cb5-a568-0bd5d4a1fb58",
   "metadata": {},
   "outputs": [],
   "source": []
  }
 ],
 "metadata": {
  "kernelspec": {
   "display_name": "Python 3 (ipykernel)",
   "language": "python",
   "name": "python3"
  },
  "language_info": {
   "codemirror_mode": {
    "name": "ipython",
    "version": 3
   },
   "file_extension": ".py",
   "mimetype": "text/x-python",
   "name": "python",
   "nbconvert_exporter": "python",
   "pygments_lexer": "ipython3",
   "version": "3.12.3"
  }
 },
 "nbformat": 4,
 "nbformat_minor": 5
}
