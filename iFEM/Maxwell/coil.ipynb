{
 "cells": [
  {
   "cell_type": "markdown",
   "id": "af0feecd-84c2-4aee-a718-c7eb46e3aa2c",
   "metadata": {},
   "source": [
    "# Magnetic flux induced by a coil\n",
    "\n",
    "We model a current density in a cylindrical coil, and simulate the magnetic field caused by this current."
   ]
  },
  {
   "cell_type": "code",
   "execution_count": null,
   "id": "f8c7e7df-bca9-45a9-ba85-f61c677c1e18",
   "metadata": {},
   "outputs": [],
   "source": [
    "from ngsolve import *\n",
    "from netgen.occ import *\n",
    "from ngsolve.webgui import Draw, FieldLines"
   ]
  },
  {
   "cell_type": "code",
   "execution_count": null,
   "id": "9b1a3d55-d76e-43ee-89d1-db719667c8d6",
   "metadata": {},
   "outputs": [],
   "source": [
    "coil = Cylinder(Axes((0,0,-0.4),Z), r=0.4, h=0.8) - \\\n",
    "     Cylinder(Axes((0,0,-0.4),Z), r=0.2, h=0.8)\n",
    "coil.solids.name=\"coil\"\n",
    "coil.faces.col=(1,0,0)\n",
    "coil.faces.maxh=0.1\n",
    "\n",
    "box = Box((-2,-2,-2), (2,2,2) )\n",
    "box.faces.col=(0,0,1,0.5)\n",
    "box.faces.name=\"outer\"\n",
    "\n",
    "air = box-coil\n",
    "air.solids.name=\"air\"\n",
    "\n",
    "shape = Glue([coil,air])\n",
    "Draw (shape);"
   ]
  },
  {
   "cell_type": "code",
   "execution_count": null,
   "id": "97ce30d3-f770-457c-95f4-f26b576853d3",
   "metadata": {},
   "outputs": [],
   "source": [
    "mesh = Mesh(OCCGeometry(shape).GenerateMesh(maxh=0.5)).Curve(3)\n",
    "Draw (mesh);"
   ]
  },
  {
   "cell_type": "markdown",
   "id": "dab8a4e6-abd9-4e75-b37e-626b44bdd084",
   "metadata": {},
   "source": [
    "The variational formulation for the magnetic vector-potential is: find $u \\in H(\\operatorname{curl})$\n",
    "\n",
    "$$\n",
    "\\int \\mu^{-1} \\operatorname{curl} u \\, \\operatorname{curl} v \\, dx = \\int j v \\, dx\n",
    "\\qquad \\forall \\, v\n",
    "$$"
   ]
  },
  {
   "cell_type": "code",
   "execution_count": null,
   "id": "00063250-e12c-4bc2-b3f6-ea2936b6bf4e",
   "metadata": {},
   "outputs": [],
   "source": [
    "fes = HCurl(mesh, order=3, dirichlet=\"outer\")\n",
    "u,v = fes.TnT()\n",
    "\n",
    "mu = 4*pi*1e-7\n",
    "a = BilinearForm(1/mu*curl(u)*curl(v)*dx + 1e-6/mu*u*v*dx)\n",
    "pre = preconditioners.BDDC(a)\n",
    "a.Assemble()\n",
    "\n",
    "inv = solvers.CGSolver(a.mat, pre.mat, plotrates=True)"
   ]
  },
  {
   "cell_type": "code",
   "execution_count": null,
   "id": "36d02113-0b66-48da-9c80-c56e2a8b4e9b",
   "metadata": {},
   "outputs": [],
   "source": [
    "tau = CF((y,-x,0))\n",
    "tau = tau/Norm(tau)\n",
    "\n",
    "N = 1000 # turns\n",
    "I = 1  # current\n",
    "crosssection = 0.2*0.8\n",
    "j = N*I/crosssection\n",
    "\n",
    "f = LinearForm(j*tau*v*dx(\"coil\", bonus_intorder=6)).Assemble()"
   ]
  },
  {
   "cell_type": "code",
   "execution_count": null,
   "id": "0076528b-0e23-4382-91ce-c6f0e38abb64",
   "metadata": {},
   "outputs": [],
   "source": [
    "gfu = GridFunction(fes)\n",
    "gfu.vec.data = inv*f.vec"
   ]
  },
  {
   "cell_type": "code",
   "execution_count": null,
   "id": "469347d6-4fd7-4404-9acc-d999263dbd22",
   "metadata": {},
   "outputs": [],
   "source": [
    "ea = { \"euler_angles\" : (-60, 0, -11) }\n",
    "clipping = { \"clipping\" : { \"y\":1, \"z\":0, \"dist\":0.5} }\n",
    "\n",
    "fieldlines = FieldLines(curl(gfu), mesh.Materials(\".*\"), length=2, num_lines=100)\n",
    "\n",
    "Draw(curl(gfu), mesh,  \"X\", draw_vol=False, draw_surf=True, objects=[fieldlines], \\\n",
    "     min=0, max=5e-4, autoscale=False, settings={\"Objects\": {\"Surface\": False, \"Wireframe\": False}},\n",
    "    **ea); # , **clipping);"
   ]
  },
  {
   "cell_type": "code",
   "execution_count": null,
   "id": "b18a0220-ed43-40bf-82ac-96c7ce1cd2cd",
   "metadata": {},
   "outputs": [],
   "source": []
  }
 ],
 "metadata": {
  "kernelspec": {
   "display_name": "Python 3 (ipykernel)",
   "language": "python",
   "name": "python3"
  },
  "language_info": {
   "codemirror_mode": {
    "name": "ipython",
    "version": 3
   },
   "file_extension": ".py",
   "mimetype": "text/x-python",
   "name": "python",
   "nbconvert_exporter": "python",
   "pygments_lexer": "ipython3",
   "version": "3.12.3"
  }
 },
 "nbformat": 4,
 "nbformat_minor": 5
}
