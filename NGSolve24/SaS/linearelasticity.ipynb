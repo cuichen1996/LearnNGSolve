{
 "cells": [
  {
   "cell_type": "markdown",
   "metadata": {},
   "source": [
    "# Linear elasticity"
   ]
  },
  {
   "cell_type": "code",
   "execution_count": null,
   "metadata": {},
   "outputs": [],
   "source": [
    "from netgen.occ import *\n",
    "from ngsolve import *\n",
    "from ngsolve.webgui import Draw\n",
    "from netgen.webgui import Draw as DrawGeo"
   ]
  },
  {
   "cell_type": "markdown",
   "metadata": {},
   "source": [
    "The body of interest"
   ]
  },
  {
   "cell_type": "code",
   "execution_count": null,
   "metadata": {},
   "outputs": [],
   "source": [
    "box = Box((0,0,0), (3,0.6,1))\n",
    "box.faces.name=\"outer\"\n",
    "cyl = sum( [Cylinder((0.5+i,0,0.5), Y, 0.25,0.8) for i in range(3)] )\n",
    "cyl.faces.name=\"cyl\"\n",
    "geo = box-cyl\n",
    "\n",
    "ea = { \"euler_angles\" : [-70,5,30] }\n",
    "\n",
    "\n",
    "cylboxedges = geo.faces[\"outer\"].edges * geo.faces[\"cyl\"].edges\n",
    "cylboxedges.name = \"cylbox\"\n",
    "geo = geo.MakeChamfer(cylboxedges, 0.03)\n",
    "\n",
    "geo.faces.Min(X).name = \"fix\"\n",
    "geo.faces.Max(X).name = \"force\"\n",
    "\n",
    "Draw(geo, **ea)\n",
    "\n",
    "mesh = Mesh(OCCGeometry(geo).GenerateMesh(maxh=0.1)).Curve(3)\n",
    "scene = Draw (mesh, **ea)\n"
   ]
  },
  {
   "cell_type": "markdown",
   "metadata": {},
   "source": [
    "## Linear elasticity in local form\n",
    "\n",
    "Displacement: $\\vec u : \\Omega \\rightarrow {\\mathbb R}^3$\n",
    "\n",
    "Linear strain:\n",
    "\n",
    "$$\n",
    "\\boldsymbol \\varepsilon := \\tfrac{1}{2} ( \\nabla \\vec u + (\\nabla \\vec u)^T )\n",
    "$$\n",
    "\n",
    "Linear isotropic material: linear stress/strain relation for the symmetric stress tensor $\\boldsymbol \\sigma$, __Hooke's law__\n",
    "\n",
    "$$\n",
    "\\boldsymbol \\sigma = 2 \\mu \\boldsymbol\\varepsilon + \\lambda \\operatorname{tr} \\boldsymbol\\varepsilon \\mathbf I\n",
    "$$\n",
    "\n",
    "Equilibrium of forces:\n",
    "\n",
    "$$\n",
    "-\\operatorname{div} \\boldsymbol\\sigma = \\vec f\n",
    "$$\n",
    "\n",
    "Displacement boundary conditions:\n",
    "\n",
    "$$\n",
    "\\vec u = \\vec u_D \\qquad \\text{on} \\, \\Gamma_D\n",
    "$$\n",
    "\n",
    "Traction boundary conditions for the stress vector $\\boldsymbol \\sigma \\cdot \\vec n$\n",
    "\n",
    "$$\n",
    "\\boldsymbol \\sigma \\cdot \\vec n = \\vec t \\qquad \\text{on} \\, \\Gamma_N\n",
    "$$\n",
    "\n",
    "\n",
    "## Variational formulation:\n",
    " \n",
    "Find: $\\vec u \\in H^1(\\Omega)^3$ such that $\\vec u = \\vec u_D$ on $\\Gamma_D$ and\n",
    "\n",
    "$$\n",
    "\\int_\\Omega \\boldsymbol \\sigma(\\boldsymbol \\varepsilon(\\vec u)) : \\boldsymbol \\varepsilon(\\vec v) \\, dx = \\int_\\Omega \\vec f \\cdot \\vec v\\, dx + \\int_{\\Gamma_N} \\vec t\\cdot \\vec v\\, ds\n",
    "$$\n",
    "\n",
    "holds for all $\\vec v$ with $\\vec v = 0$ on $\\Gamma_D$.\n",
    "\n"
   ]
  },
  {
   "cell_type": "code",
   "execution_count": null,
   "metadata": {},
   "outputs": [],
   "source": [
    "E, nu = 210, 0.2\n",
    "mu  = E / 2 / (1+nu)\n",
    "lam = E * nu / ((1+nu)*(1-2*nu))\n",
    "\n",
    "def Stress(strain):\n",
    "    return 2*mu*strain + lam*Trace(strain)*Id(3)   "
   ]
  },
  {
   "cell_type": "code",
   "execution_count": null,
   "metadata": {},
   "outputs": [],
   "source": [
    "fes = VectorH1(mesh, order=3, dirichlet=\"fix\")\n",
    "u,v = fes.TnT()\n",
    "gfu = GridFunction(fes)\n",
    "\n",
    "with TaskManager():\n",
    "    a = BilinearForm(InnerProduct(Stress(Sym(Grad(u))), Sym(Grad(v))).Compile()*dx)\n",
    "    pre = Preconditioner(a, \"bddc\")\n",
    "    a.Assemble()"
   ]
  },
  {
   "cell_type": "code",
   "execution_count": null,
   "metadata": {},
   "outputs": [],
   "source": [
    "force = CF( (1e-3,0,0) )\n",
    "f = LinearForm(force*v*ds(\"force\")).Assemble()"
   ]
  },
  {
   "cell_type": "code",
   "execution_count": null,
   "metadata": {},
   "outputs": [],
   "source": [
    "from ngsolve.krylovspace import CGSolver\n",
    "inv = CGSolver(a.mat, pre, tol=1e-8)\n",
    "gfu.vec.data = inv * f.vec"
   ]
  },
  {
   "cell_type": "markdown",
   "metadata": {},
   "source": [
    "Postprocessing for the stresses:"
   ]
  },
  {
   "cell_type": "code",
   "execution_count": null,
   "metadata": {},
   "outputs": [],
   "source": [
    "with TaskManager():\n",
    "    fesstress = MatrixValued(H1(mesh,order=3), symmetric=True)\n",
    "    gfstress = GridFunction(fesstress)\n",
    "    gfstress.Interpolate (Stress(Sym(Grad(gfu))))"
   ]
  },
  {
   "cell_type": "markdown",
   "metadata": {},
   "source": [
    "Visualization: visualize the displacement vector on the deformed geometry, use \"deformation\" slider for scaling"
   ]
  },
  {
   "cell_type": "code",
   "execution_count": null,
   "metadata": {},
   "outputs": [],
   "source": [
    "Draw (gfu, mesh, deformation=True, scale=3e4, **ea)"
   ]
  },
  {
   "cell_type": "markdown",
   "metadata": {},
   "source": [
    "Visualize the stress norm $|\\boldsymbol \\sigma|$ on the deformed geometry."
   ]
  },
  {
   "cell_type": "code",
   "execution_count": null,
   "metadata": {},
   "outputs": [],
   "source": [
    "Draw (Norm(gfstress), mesh, deformation=1e4*gfu, draw_vol=False, order=3, **ea)"
   ]
  },
  {
   "cell_type": "markdown",
   "metadata": {},
   "source": [
    "## The principle of virtual work\n",
    "\n",
    "The variational formulation is well-known as __principle of virtual work__: For all kinematicall admissible virtual displacements $\\delta \\vec u$ (i.e. $\\delta \\vec u \\in H^1(\\Omega)^3$ with $\\delta \\vec u = \\vec 0$ on $\\Gamma_D$), the virtual work of internal forces equals the virtual work of external forces. \n",
    "\n",
    "$$\n",
    "\\delta W_{int} - \\delta W_{ext} = 0\n",
    "$$\n",
    "\n",
    "The virtual work of internal forces can be defined conveniently using the _energy density_ $\\psi$ of the material. For\n",
    "\n",
    "$$\n",
    "\\psi = \\mu \\boldsymbol \\varepsilon : \\boldsymbol \\varepsilon + \\frac{\\lambda}{2} (\\operatorname{tr}\\boldsymbol \\varepsilon) ^2, \\qquad\n",
    "\\delta \\psi = \\frac{\\partial \\psi}{\\partial \\boldsymbol \\varepsilon}: \\delta \\boldsymbol \\varepsilon, \\qquad \n",
    "\\delta \\boldsymbol \\varepsilon = \\frac{\\partial \\boldsymbol \\varepsilon}{\\partial \\vec u} (\\delta \\vec u) = \\tfrac{1}{2} ( \\nabla \\delta \\vec u + (\\nabla  \\delta \\vec u)^T )\n",
    "$$\n",
    "\n",
    "we get the left hand side of the variational equation via\n",
    "\n",
    "$$\n",
    "\\delta W_{int} = \\int_\\Omega \\delta \\psi\\, dV.\n",
    "$$\n",
    "\n",
    "The right hand side corresponds to the virtual work of external forces,\n",
    "\n",
    "$$\n",
    "\\delta W_{ext} = \\int_\\Omega \\vec f \\cdot \\delta \\vec u\\, dx + \\int_{\\Gamma_N} \\vec t\\cdot \\delta \\vec u\\, ds\n",
    "$$\n",
    "\n",
    "Both contributions can be collected in the bilinear form; for the virtual work of internal forces, _Variation_ allows to put the elastic energy explicitely and let ngsolve do the differentiation. For the virtual work of external forces, both an implementation via _Variation_ (for conservative forces) or via a work statement is possible. _AssembleLinearization_ generates the stiffness matrix, _Apply_ the residual vector.\n",
    "\n",
    "Use this approach below:"
   ]
  },
  {
   "cell_type": "code",
   "execution_count": null,
   "metadata": {},
   "outputs": [],
   "source": [
    "fes = VectorH1(mesh, order=3, dirichlet=\"fix\")\n",
    "u, deltau = fes.TnT()\n",
    "gfu = GridFunction(fes)\n",
    "\n",
    "def psi(u):\n",
    "    strain = Sym(Grad(u))\n",
    "    return mu*InnerProduct(strain,strain) + lam/2*Trace(strain)**2\n",
    "\n",
    "a = BilinearForm(fes, symmetric=True)\n",
    "a += Variation(psi(u)*dx)\n",
    "a += -force*deltau*ds(\"force\")\n",
    "\n",
    "with TaskManager():\n",
    "\n",
    "    a.AssembleLinearization(gfu.vec)\n",
    "\n",
    "    res = gfu.vec.CreateVector()\n",
    "    a.Apply(gfu.vec, res)\n",
    "\n",
    "    inv = a.mat.Inverse(fes.FreeDofs())\n",
    "    gfu.vec.data -= inv * res"
   ]
  },
  {
   "cell_type": "markdown",
   "metadata": {},
   "source": [
    "The solution is, of course, equivalent to the one above."
   ]
  },
  {
   "cell_type": "markdown",
   "metadata": {},
   "source": [
    "**Exercise**: \n",
    "* apply loading in $z$-direction.\n",
    "* look at individual components of stress-tensor (like `gfstress[0,0]`)\n",
    "* apply a volume load $\\vec f$ instead of the surface load"
   ]
  },
  {
   "cell_type": "code",
   "execution_count": null,
   "metadata": {},
   "outputs": [],
   "source": []
  }
 ],
 "metadata": {
  "kernelspec": {
   "display_name": "Python 3",
   "language": "python",
   "name": "python3"
  },
  "language_info": {
   "codemirror_mode": {
    "name": "ipython",
    "version": 3
   },
   "file_extension": ".py",
   "mimetype": "text/x-python",
   "name": "python",
   "nbconvert_exporter": "python",
   "pygments_lexer": "ipython3",
   "version": "3.10.5"
  }
 },
 "nbformat": 4,
 "nbformat_minor": 2
}
