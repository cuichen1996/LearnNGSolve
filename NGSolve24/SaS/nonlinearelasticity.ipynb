{
 "cells": [
  {
   "cell_type": "markdown",
   "metadata": {},
   "source": [
    "# Nonlinear elasticity\n",
    "\n",
    "The body of interest"
   ]
  },
  {
   "cell_type": "code",
   "execution_count": null,
   "metadata": {},
   "outputs": [],
   "source": [
    "from netgen.occ import *\n",
    "from ngsolve import *\n",
    "from ngsolve.webgui import Draw\n",
    "from netgen.webgui import Draw as DrawGeo\n",
    "import ipywidgets as widgets\n",
    "\n",
    "box = Box((0,0,0), (3,0.6,1))\n",
    "box.faces.name=\"outer\"\n",
    "cyl = sum( [Cylinder((0.5+i,0,0.5), Y, 0.25,0.8) for i in range(3)] )\n",
    "cyl.faces.name=\"cyl\"\n",
    "geo = box-cyl\n",
    "\n",
    "ea = { \"euler_angles\" : [-70,5,30] }\n",
    "\n",
    "\n",
    "cylboxedges = geo.faces[\"outer\"].edges * geo.faces[\"cyl\"].edges\n",
    "cylboxedges.name = \"cylbox\"\n",
    "geo = geo.MakeChamfer(cylboxedges, 0.03)\n",
    "\n",
    "geo.faces.Min(X).name = \"fix\"\n",
    "geo.faces.Max(X).name = \"force\"\n",
    "\n",
    "Draw(geo, **ea)\n",
    "\n",
    "mesh = Mesh(OCCGeometry(geo).GenerateMesh(maxh=0.1)).Curve(3)\n",
    "scene = Draw (mesh, **ea)\n"
   ]
  },
  {
   "cell_type": "code",
   "execution_count": null,
   "metadata": {},
   "outputs": [],
   "source": [
    "E, nu = 210, 0.2\n",
    "mu  = E / 2 / (1+nu)\n",
    "lam = E * nu / ((1+nu)*(1-2*nu))\n",
    "\n",
    "force = CF( (1e-3,0,0) )\n"
   ]
  },
  {
   "cell_type": "markdown",
   "metadata": {},
   "source": [
    "## Kinematic description and equilibrium of forces\n",
    "\n",
    "Use the standard notation for nonlinear elasticity kinematics:\n",
    "* material coordinates $X$, $Y$, $Z$\n",
    "* displacement $\\vec u$\n",
    "* deformation gradient $\\mathbf F = \\mathbf I + \\operatorname{Grad}\\vec u$, $F_{ij} = \\delta_{ij} + \\partial u_i/\\partial X_j$\n",
    "* right Cauchy-Green tensor $\\mathbf C = \\mathbf F^T \\cdot \\mathbf F$\n",
    "* Green strain $\\mathbf E = \\frac{1}{2} (\\mathbf C - \\mathbf I)$\n",
    "* Jacobi determinant $J = \\operatorname{det}\\mathbf F$\n",
    "\n",
    "Stresses and equilibrium:\n",
    "* Cauchy stress tensor $\\boldsymbol \\sigma$ is symmetric, and in equilibrium with respect to spatial coordinates, $\\operatorname{div}_x\\boldsymbol \\sigma = J \\vec f$, $\\boldsymbol \\sigma \\cdot \\vec n = J_A \\vec t$ on boundary\n",
    "* first Piola-Kirchhoff stress tensor $\\mathbf P$ is in equilibrium with respect to material coordinates, $\\operatorname{div}_X\\mathbf P= \\vec f$, $\\mathbf P \\cdot \\vec n = \\vec t$ on boundary\n",
    "* second Piola-Kirchhoff stress tensor $\\mathbf S$ is symmetric\n",
    "* relation $\\mathbf P = \\mathbf F \\cdot \\mathbf P$\n",
    "\n",
    "Constitutive relations\n",
    "* (hyper-)elastic energy density $\\psi(\\mathbf C)$ or $\\psi(\\mathbf F)$\n",
    "\n",
    "$$\\mathbf P = \\frac{\\partial \\psi}{\\partial \\mathbf F}, \\qquad \\mathbf S = \\frac{\\partial \\psi}{\\partial \\mathbf E} = 2\\frac{\\partial \\psi}{\\partial \\mathbf C}$$\n",
    "\n",
    "Principle of virtual work still holds\n",
    "\n",
    "$$\n",
    "\\int_\\Omega \\delta \\psi\\, dV - \\int_{\\Gamma_N} \\vec t\\cdot \\delta \\vec u\\, ds = 0.\n",
    "$$\n",
    "\n",
    "For St.Venant-Kirchhoff material with \n",
    "\n",
    "$$\\psi = \\mu \\mathbf E : \\mathbf E + \\frac{\\lambda}{2} (\\operatorname{tr}\\mathbf E)^2$$\n",
    "\n",
    "implementation similar as before, but using Newton iteration."
   ]
  },
  {
   "cell_type": "code",
   "execution_count": null,
   "metadata": {},
   "outputs": [],
   "source": [
    "fes = VectorH1(mesh, order=3, dirichlet=\"fix\")\n",
    "u, deltau = fes.TnT()\n",
    "gfu = GridFunction(fes)\n",
    "\n",
    "def psi(F):\n",
    "    E = 0.5*(F.trans*F - Id(mesh.dim))\n",
    "    return mu*InnerProduct(E,E) + lam/2*Trace(E)**2\n",
    "\n",
    "\n",
    "with TaskManager():\n",
    "    a = BilinearForm(fes, symmetric=True)\n",
    "    defgrad = Id(mesh.dim) + Grad(u)\n",
    "    a += Variation(psi(defgrad)*dx)\n",
    "    a += -force*deltau*ds(\"force\")\n",
    "\n",
    "    solvers.Newton(a, gfu, maxit=10)"
   ]
  },
  {
   "cell_type": "markdown",
   "metadata": {},
   "source": [
    "For a small load, the solution is equivalent to the linear one. Visualize the stresses, computing them using the _Diff_ functionality."
   ]
  },
  {
   "cell_type": "code",
   "execution_count": null,
   "metadata": {},
   "outputs": [],
   "source": [
    "defgrad = Id(mesh.dim) + Grad(gfu)\n",
    "P = psi(defgrad).Diff(defgrad)\n",
    "scene = Draw(BoundaryFromVolumeCF(P[0]), mesh, deformation=gfu, **ea)"
   ]
  },
  {
   "cell_type": "markdown",
   "metadata": {},
   "source": [
    "Now, apply a larger load in several load steps, using a compressible Neo-Hooke material law."
   ]
  },
  {
   "cell_type": "code",
   "execution_count": null,
   "metadata": {},
   "outputs": [],
   "source": [
    "import numpy as np\n",
    "\n",
    "fes = VectorH1(mesh, order=2, dirichlet=\"fix\")\n",
    "u, deltau = fes.TnT()\n",
    "gfu = GridFunction(fes)\n",
    "loadpar = Parameter(0)\n",
    "\n",
    "def psi(F):\n",
    "    C = F.trans * F\n",
    "    J = Det(F)\n",
    "    return mu/2*(Trace(C)-3) - mu*log(J) + lam/2*log(J)**2\n",
    "\n",
    "a = BilinearForm(fes, symmetric=True)\n",
    "defgrad = Id(mesh.dim) + Grad(u)\n",
    "a += Variation(psi(defgrad)*dx)\n",
    "a += -loadpar*10000*force*deltau*ds(\"force\")\n",
    "\n",
    "\n",
    "gfu_history = GridFunction(fes, multidim=0)\n",
    "loadsteps = np.linspace(0,1,11)\n",
    "with TaskManager():\n",
    "    for l in loadsteps:\n",
    "        # print(f\"load factor {l}\")\n",
    "        loadpar.Set(l)\n",
    "        solvers.Newton(a, gfu, maxit=10, printing=False)\n",
    "\n",
    "        gfu_history.AddMultiDimComponent(gfu.vec)"
   ]
  },
  {
   "cell_type": "code",
   "execution_count": null,
   "metadata": {},
   "outputs": [],
   "source": [
    "scene_hist = Draw (gfu_history, mesh, animate=True, min=0, max=0.2, autoscale=True, deformation=True, **ea)"
   ]
  },
  {
   "cell_type": "markdown",
   "metadata": {},
   "source": [
    "## Follower loads\n",
    "\n",
    "cover page picture of:\n",
    "\n",
    "[Nonlinear Solid Mechanics for Finite Element Analysis: Statics 1st Edition\n",
    "by Javier Bonet (Author), Antonio J. Gil (Author), Richard D. Wood (Author)](https://www.amazon.com/Nonlinear-Mechanics-Finite-Element-Analysis/dp/1107115795/ref=pd_bxgy_thbs_d_sccl_1/144-7614425-7391713?pd_rd_w=CqCvS&content-id=amzn1.sym.c51e3ad7-b551-4b1a-b43c-3cf69addb649&pf_rd_p=c51e3ad7-b551-4b1a-b43c-3cf69addb649&pf_rd_r=9HSD8RKNRHDBSK8B5YKQ&pd_rd_wg=B0gaE&pd_rd_r=5fbf0386-d903-408e-b180-af0fd134e615&pd_rd_i=1107115795&psc=1)\n",
    "\n"
   ]
  },
  {
   "cell_type": "code",
   "execution_count": null,
   "metadata": {},
   "outputs": [],
   "source": [
    "ea = { \"euler_angles\" : (-120,70,116) }\n",
    "\n",
    "d = 0.01\n",
    "box = Box ( (-d/2,-d/2,0), (d/2,d/2,0.1) ) + Box( (-d/2, -3*d/2,0.1), (d/2, 3*d/2, 0.1+d) )\n",
    "box.faces.Min(Z).name = \"bottom\"\n",
    "box.faces.Max(Z).name = \"top\"\n",
    "Draw (box, **ea)\n",
    "\n",
    "mesh = Mesh(OCCGeometry(box).GenerateMesh(maxh=0.005))\n",
    "scene = Draw (mesh, **ea)"
   ]
  },
  {
   "cell_type": "code",
   "execution_count": null,
   "metadata": {},
   "outputs": [],
   "source": [
    "E, nu = 210, 0.2\n",
    "mu  = E / 2 / (1+nu)\n",
    "lam = E * nu / ((1+nu)*(1-2*nu))\n",
    "\n",
    "def F(u):\n",
    "    return Id(u.dim) + Grad(u)\n",
    "\n",
    "def C(u): \n",
    "    return F(u).trans*F(u)\n",
    "\n",
    "def NeoHooke (C):\n",
    "    return 0.5*mu*(Trace(C-Id(3)) + 2*mu/lam*Det(C)**(-lam/2/mu)-1)"
   ]
  },
  {
   "cell_type": "markdown",
   "metadata": {},
   "source": [
    "The beam is twisted by a force applied to the top, the force rotating with the surface. Thus, it is a _follower load_, wich is *rotated* with the deformation gradient $\\mathbf F$. As only the surface gradient is needed/available on the surface, make sure to use _Grad(u.Trace())_"
   ]
  },
  {
   "cell_type": "code",
   "execution_count": null,
   "metadata": {},
   "outputs": [],
   "source": [
    "loadfactor = Parameter(1)\n",
    "force = loadfactor * CF ( (-y, x, 0) )\n",
    "\n",
    "fes = H1(mesh, order=3, dirichlet=\"bottom\", dim=mesh.dim)\n",
    "u,v = fes.TnT()\n",
    "\n",
    "a = BilinearForm(fes, symmetric=True)\n",
    "a += Variation(NeoHooke(C(u)).Compile()*dx)\n",
    "a += (F(u.Trace())*force)*v*ds(\"top\")\n",
    "\n",
    "gfu = GridFunction(fes)\n",
    "gfu.vec[:] = 0"
   ]
  },
  {
   "cell_type": "code",
   "execution_count": null,
   "metadata": {},
   "outputs": [],
   "source": [
    "gfu_history = GridFunction(fes, multidim=0)\n",
    "scene = Draw (gfu, deformation=True, **ea)\n",
    "tw = widgets.Text(value='step = 0')\n",
    "display(tw)\n",
    "\n",
    "gfu.vec[:] = 0\n",
    "\n",
    "numsteps = 30\n",
    "for step in range(numsteps):\n",
    "    loadfactor.Set(300*step/numsteps)\n",
    "    solvers.Newton (a, gfu, printing=False, dampfactor=0.5)\n",
    "    scene.Redraw()\n",
    "    tw.value = 'step = '+str(step+1)+'/'+str(numsteps)\n",
    "    gfu_history.AddMultiDimComponent(gfu.vec)"
   ]
  },
  {
   "cell_type": "code",
   "execution_count": null,
   "metadata": {},
   "outputs": [],
   "source": [
    "scene_hist = Draw (gfu_history, mesh, animate=True, min=0, max=0.04, autoscale=True, deformation=True, **ea)"
   ]
  },
  {
   "cell_type": "code",
   "execution_count": null,
   "metadata": {},
   "outputs": [],
   "source": []
  }
 ],
 "metadata": {
  "kernelspec": {
   "display_name": "Python 3",
   "language": "python",
   "name": "python3"
  },
  "language_info": {
   "codemirror_mode": {
    "name": "ipython",
    "version": 3
   },
   "file_extension": ".py",
   "mimetype": "text/x-python",
   "name": "python",
   "nbconvert_exporter": "python",
   "pygments_lexer": "ipython3",
   "version": "3.10.5"
  }
 },
 "nbformat": 4,
 "nbformat_minor": 2
}
