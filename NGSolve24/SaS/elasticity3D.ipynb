{
 "cells": [
  {
   "cell_type": "markdown",
   "id": "2f25f55f",
   "metadata": {},
   "source": [
    "# 3D Solid Mechanics\n",
    "\n",
    "Michael Neunteufel, Astrid Pechstein\n",
    "\n",
    "\n",
    "The equations of elasticity describe the deformation of solids due to applied forces. The treatment by the finite element method is very similar.\n",
    "\n",
    "We consider several different formulations for a simple model problem introduced below."
   ]
  },
  {
   "cell_type": "code",
   "execution_count": null,
   "id": "2ad7a13b",
   "metadata": {},
   "outputs": [],
   "source": [
    "from netgen.occ import *\n",
    "from ngsolve import *\n",
    "from ngsolve.webgui import Draw"
   ]
  },
  {
   "cell_type": "code",
   "execution_count": null,
   "id": "cf326b31",
   "metadata": {},
   "outputs": [],
   "source": [
    "box = Box((0, 0, 0), (3, 0.6, 1))\n",
    "box.faces.name = \"outer\"\n",
    "cyl = sum([Cylinder((0.5 + i, 0, 0.5), Y, 0.25, 0.8) for i in range(3)])\n",
    "cyl.faces.name = \"cyl\"\n",
    "geo = box - cyl\n",
    "\n",
    "ea = {\"euler_angles\": [-70, 5, 30]}\n",
    "scene = Draw(geo, **ea);"
   ]
  },
  {
   "cell_type": "markdown",
   "id": "d54d7749",
   "metadata": {},
   "source": [
    "find edges between box and cylinder, and build chamfers:"
   ]
  },
  {
   "cell_type": "code",
   "execution_count": null,
   "id": "96197254",
   "metadata": {},
   "outputs": [],
   "source": [
    "cylboxedges = geo.faces[\"outer\"].edges * geo.faces[\"cyl\"].edges\n",
    "cylboxedges.name = \"cylbox\"\n",
    "geo = geo.MakeChamfer(cylboxedges, 0.03)\n",
    "\n",
    "Draw(geo, **ea);"
   ]
  },
  {
   "cell_type": "markdown",
   "id": "8f356223",
   "metadata": {},
   "source": [
    "name faces for boundary conditions:"
   ]
  },
  {
   "cell_type": "code",
   "execution_count": null,
   "id": "8701d6a2",
   "metadata": {},
   "outputs": [],
   "source": [
    "geo.faces.Min(X).name = \"fix\"\n",
    "geo.faces.Max(X).name = \"force\"\n",
    "Draw(geo, **ea);"
   ]
  },
  {
   "cell_type": "code",
   "execution_count": null,
   "id": "93554691",
   "metadata": {},
   "outputs": [],
   "source": [
    "mesh = Mesh(OCCGeometry(geo).GenerateMesh(maxh=0.1)).Curve(3)\n",
    "Draw(mesh, **ea);"
   ]
  },
  {
   "cell_type": "markdown",
   "id": "7d07fa0a",
   "metadata": {},
   "source": [
    "The model problem: the body is fixed at the left hand boundary \"fix\", an external force $\\vec t$ is applied to the left hand boundary \"force\". Otherwise, the body is elastic; different setups are considered.\n"
   ]
  }
 ],
 "metadata": {
  "kernelspec": {
   "display_name": "Python 3 (ipykernel)",
   "language": "python",
   "name": "python3"
  },
  "language_info": {
   "codemirror_mode": {
    "name": "ipython",
    "version": 3
   },
   "file_extension": ".py",
   "mimetype": "text/x-python",
   "name": "python",
   "nbconvert_exporter": "python",
   "pygments_lexer": "ipython3",
   "version": "3.12.3"
  }
 },
 "nbformat": 4,
 "nbformat_minor": 5
}
