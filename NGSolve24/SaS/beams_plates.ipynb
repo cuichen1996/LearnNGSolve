{
 "cells": [
  {
   "cell_type": "markdown",
   "id": "e6ae6bad-75ce-4a89-ace4-48139380d7e1",
   "metadata": {},
   "source": [
    "# Beams and Plates\n",
    "\n",
    "If one spatial dimension of a domain $\\Omega=[0,1]^2\\times[-t/2,t/2]$ is small compared to the other directions, $t \\ll 1$, we have the following options\n",
    "* Use a uniform mesh with an enormous amount of elements\n",
    "* Use anisotropic elements\n",
    "* Make a dimension reduction and only mesh the two-dimensional domain $[0,1]^2\\times \\{0\\}$\n",
    "\n",
    "The first option is inefficient as we would waste a lot of elements. The second option can easily lead to locking problems if the thickness $t$ is small. Therefore, the third option is commonly considered, where the 3D elasticity problem is reduced to a two-dimensional plate problem.\n",
    "\n",
    "If two directions are small compared to the third one, we can apply a dimension reduction to one-dimensional beams.\n",
    "\n",
    "In this chapter we first derive the Reissner-Mindlin and Kirchhoff-Love plate equations. Then, we present the Timschenko and Euler-Bernoulli beam and discuss the arising problems of shear locking or how to handle a fourth order problem as a mixed problem. After this, locking-free and stable formulations of the Kirchhoff-Love plate via Hellan-Herrmann-Johnson (HHJ) elements and Reissner-Mindlin plates with the tangential-displacement-normal-normal-stress continuous (TDNNS) elements are considered:\n",
    "* [Derivation plates](plates_derivation.ipynb)\n",
    "* [Timoschenko and Euler-Bernoulli beam](Timoschenko_Bernoulli_beam.ipynb)\n",
    "* [Kirchhoff-Love plates](Kirchhoff_Love_plate.ipynb)\n",
    "* [Reissner-Mindlin plates](Reissner_Mindlin_plate.ipynb)"
   ]
  },
  {
   "cell_type": "code",
   "execution_count": null,
   "id": "ae45d1b4-1a5e-4a8c-a321-8cca85823e7a",
   "metadata": {},
   "outputs": [],
   "source": []
  }
 ],
 "metadata": {
  "kernelspec": {
   "display_name": "Python 3 (ipykernel)",
   "language": "python",
   "name": "python3"
  },
  "language_info": {
   "codemirror_mode": {
    "name": "ipython",
    "version": 3
   },
   "file_extension": ".py",
   "mimetype": "text/x-python",
   "name": "python",
   "nbconvert_exporter": "python",
   "pygments_lexer": "ipython3",
   "version": "3.12.3"
  }
 },
 "nbformat": 4,
 "nbformat_minor": 5
}
