{
 "cells": [
  {
   "cell_type": "markdown",
   "metadata": {},
   "source": [
    "# Piezoelectric actuation\n",
    "\n",
    "Astrid Pechstein\n",
    "\n",
    "A circular piezoelectric patch actuator is applied to a square aluminum plate. The plate is clamped at one of its lateral faces, the system is free of external mechanical loads. Both patch and plate can be considered as thin structures, the plate being of dimensions $25$ mm $\\times 25$ mm $\\times 1$ mm, the patch with diameter $15$ mm and thickness $0.5$ mm.\n",
    "\n",
    "See also: Meindlhumer, M., & Pechstein, A. (2018). 3D mixed finite elements for curved, flat piezoelectric structures. International Journal of Smart and Nano Materials."
   ]
  },
  {
   "cell_type": "code",
   "execution_count": null,
   "metadata": {},
   "outputs": [],
   "source": [
    "#%%\n",
    "from ngsolve import *\n",
    "import numpy as np\n",
    "import netgen.occ as ngocc\n",
    "\n",
    "from ngsolve.webgui import Draw\n",
    "from netgen.meshing import MeshingParameters\n",
    "from netgen.meshing import IdentificationType \n",
    "SetNumThreads(4)"
   ]
  },
  {
   "cell_type": "code",
   "execution_count": null,
   "metadata": {},
   "outputs": [],
   "source": [
    "ea = { \"euler_angles\" : [-50,3,-30] }\n",
    "\n",
    "#patch geometry\n",
    "rad=15/2 #radius of patch\n",
    "hp=0.5 #height of patch\n",
    "\n",
    "#substrate geometry (rectangle)\n",
    "len_a = 25 #width\n",
    "he=1 #height of substrate\n",
    "\n",
    "BCDisp=\"fix\"\n",
    "BCPotential=\"el1|el2\"\n",
    "\n",
    "rect = ngocc.WorkPlane().Rectangle(len_a, len_a).Face()\n",
    "circ = ngocc.WorkPlane().Circle(len_a/2, len_a/2,rad).Face()\n",
    "circ.maxh=5\n",
    "circ.edges.name = \"circ\"\n",
    "circ.edges.maxh = 2\n",
    "\n",
    "plate1 = (rect-circ).Extrude(-he)\n",
    "plate2 = (circ).Extrude(-he)\n",
    "patch = (circ).Extrude(hp)\n",
    "\n",
    "plate1.faces.Min(ngocc.X).name = \"fix\"\n",
    "patch.faces.Min(ngocc.Z).name = \"el1\"\n",
    "patch.faces.Max(ngocc.Z).name = \"el2\"\n",
    "patch.name = \"PZT\"\n",
    "plate1.name = \"alu\"\n",
    "plate2.name = \"alu\"\n",
    "\n",
    "plate1.faces.Min(ngocc.Z).Identify(plate1.faces.Max(ngocc.Z), name=\"plate_identification\", type=IdentificationType.CLOSESURFACES)\n",
    "plate2.faces.Min(ngocc.Z).Identify(plate2.faces.Max(ngocc.Z), name=\"plate_identification\", type=IdentificationType.CLOSESURFACES)\n",
    "patch.faces.Min(ngocc.Z).Identify(patch.faces.Max(ngocc.Z), name=\"patch_identification\", type=IdentificationType.CLOSESURFACES)\n",
    "\n",
    "setup = ngocc.Glue([patch, plate1,plate2])\n",
    "setup.solids[1].name = \"alu\"\n",
    "\n",
    "\n",
    "geo = ngocc.OCCGeometry(setup)\n",
    "\n",
    "ngmesh = geo.GenerateMesh(MeshingParameters(maxh=5, grading=0.1))\n",
    "\n",
    "for fd in ngmesh.FaceDescriptors():\n",
    "    # print (fd, fd.bcname)\n",
    "    if fd.bcname == \"circ\":\n",
    "        fd.domin_singular = True\n",
    "        fd.domout_singular = True\n",
    "\n",
    "\n",
    "\n",
    "mesh = Mesh(ngmesh)\n",
    "# mesh.RefineHP(levels=1, factor=0.2)\n",
    "\n",
    "\n",
    "Draw(mesh, **ea)"
   ]
  },
  {
   "cell_type": "markdown",
   "metadata": {},
   "source": [
    "## Problem setup\n",
    "The patch is made from the piezoelectric ceramic PZT-5H and polarized in thickness direction. Both surfaces of the patch are electroded; as an electric voltage is applied to the electrodes, the patch deforms. For an electric field aligned in reverse direction to the polarization direction, an in-plane stretch of the patch is expected. \n",
    "\n",
    "For a voltage of $V = 100$ V, a linear mathematical model of the setup is sufficient to capture its behavior. \n",
    "\n",
    "### Unknown fields and constitutive equations\n",
    "\n",
    "In linear piezoelasticity, we are concerned with finding two independent unknown fields: the displacement $\\vec u$ and the electric potential $\\varphi$. Strain and electric field are related via\n",
    "\n",
    "$$\\boldsymbol{\\varepsilon} = \\frac{1}{2}(\\nabla \\vec u + \\nabla \\vec u^T), \\qquad \\vec E = - \\nabla \\varphi.$$\n",
    "\n",
    "In the current application, we are interested in computing displacements $\\vec u$ of both plate and patch actor, while the electric potential is only relevant in the piezoelectric domain.\n",
    "\n",
    "The equation of motion presents a relation for the stress tensor,\n",
    "\n",
    "$$\\rho \\ddot {\\vec u} = \\operatorname{div} \\boldsymbol{\\sigma},$$\n",
    "\n",
    "while Gauss' law must hold for the dielectric displacement vector with no free charges in the non-conducting piezoelectric domain,\n",
    "\n",
    "$$\\operatorname{div} \\vec D = 0.$$\n",
    "\n",
    "On the boundaries, either the body is fixed ($\\vec u = \\vec 0$) or free of surface stresses ($\\boldsymbol{\\sigma} = \\boldsymbol{0}$). The patch is electroded at two of its faces, with voltage prescribed ($\\varphi = V$) whereas otherwise it is assumed perfectly insulated ($\\vec D \\cdot \\vec n = 0$), which is justified as the electric permittivity of surrounding air is negligibly small as compared to the permittivity of piezo-ceramics.\n",
    "\n",
    "Finally, a linear material law is available for PZT-5H,\n",
    "\n",
    "$$\n",
    "\\boldsymbol{\\sigma} = \\mathbf{C}^E : \\boldsymbol{\\varepsilon} -  \\mathbf{e}^T : \\vec E ,\\qquad \n",
    "\\vec D = \\mathbf{e} : \\boldsymbol{\\varepsilon} + \\boldsymbol{\\epsilon}^S \\cdot \\vec E.\n",
    "$$\n",
    "\n",
    "Above, $\\mathbf{C}^E$ is a tensor of fourth order, containing stiffnesses at constant electric field. The third order tensor $\\mathbf e$ contains the piezoelectric constants of the piezoelectric material, and $\\boldsymbol{\\epsilon}^S$ specifies the material's electric permittivity. These tensors are in general not isotropic, but show dependence on direction of polarization, which is $\\vec e_z$ in our case. Commonly, Voigt notation is used in implementations, reducing symmetric tensors $\\boldsymbol{\\sigma}$ and $\\boldsymbol{\\varepsilon}$ to six-dimensional vectors. We comply with this standard, using\n",
    "\n",
    "$$\n",
    "\\boldsymbol{\\sigma} \\simeq \\left[ \\begin{array}{c} \\sigma_{xx} \\\\ \\sigma_{yy} \\\\ \\sigma_{zz} \\\\ \\sigma­_{yz} \\\\ \\sigma_{xz} \\\\ \\sigma_{xy} \\end{array} \\right],\n",
    "\\qquad\n",
    "\\boldsymbol{\\varepsilon} \\simeq \\left[ \\begin{array}{c} \\varepsilon_{xx} \\\\ \\varepsilon_{yy} \\\\ \\varepsilon_{zz} \\\\ 2\\varepsilon_{yz} \\\\ 2\\varepsilon_{xz} \\\\ 2\\varepsilon_{xy} \\end{array} \\right].\n",
    "$$\n",
    "\n",
    "For this representation, the tensors/matrices are listed below. Scalings are such that they match computations in mm and V."
   ]
  },
  {
   "cell_type": "code",
   "execution_count": null,
   "metadata": {},
   "outputs": [],
   "source": [
    "# stiffness at constant electric field [N/mm^2]\n",
    "CEmat = np.array([[127.205, 80.2, 84.6, 0, 0, 0],[80.2, 127.205, 80.2, 0, 0, 0], [84.6, 80.2, 117., 0, 0, 0], \\\n",
    "[0, 0, 0, 23., 0, 0],   [0, 0, 0, 0, 23., 0],    [0, 0, 0, 0, 0, 23.4]])*1e3\n",
    "# electric permittivity tensor [C/Vm]\n",
    "epsilonSmat = np.array( [[15.05, 0, 0],[   0, 15.05, 0],[   0, 0, 13.01]])*1e-9\n",
    "# piezoelectric permittivity [kC/m^2]\n",
    "emat = np.array([[0,0,0,0, 17.03,0],[0,0,0,17.03,0,0],[-6.62,-6.62,23.24,0,0,0]])*1e-3\n",
    "\n",
    "voltage = 100"
   ]
  },
  {
   "cell_type": "markdown",
   "metadata": {},
   "source": [
    "For aluminum, only the stiffness tensor is relevant. For an isotropic material, elastic modulus $E$ and Poisson ratio $\\nu$ are sufficient."
   ]
  },
  {
   "cell_type": "code",
   "execution_count": null,
   "metadata": {},
   "outputs": [],
   "source": [
    "Emod = 65e3\n",
    "nu = 0.3\n",
    "Smat_alu = 1/Emod*np.array([[1, -nu, -nu, 0, 0, 0],\n",
    "                      [-nu, 1, -nu, 0, 0, 0],\n",
    "                      [-nu, -nu, 1, 0, 0, 0],\n",
    "                      [0, 0, 0, 2+2*nu, 0, 0],\n",
    "                      [0, 0, 0, 0, 2+2*nu, 0],\n",
    "                      [0, 0, 0, 0, 0, 2+2*nu]])\n",
    "\n",
    "Cmat_alu = np.linalg.inv(Smat_alu)\n",
    "\n",
    "\n",
    "\n",
    "cf_CE = mesh.MaterialCF({\"PZT\": CoefficientFunction(tuple(CEmat.reshape(1, -1)[0]), dims=(6,6)), \"alu\": CoefficientFunction(tuple(Cmat_alu.reshape(1, -1)[0]), dims=(6,6))})\n",
    "cf_e = CoefficientFunction(tuple(emat.reshape(1, -1)[0]), dims=(3,6))\n",
    "cf_epsilonS = CoefficientFunction(tuple(epsilonSmat.reshape(1, -1)[0]), dims=(3,3))\n",
    "\n",
    "cf_rho = mesh.MaterialCF({\"alu\": 2.5e-9, \"PZT\": 7.5e-9})"
   ]
  },
  {
   "cell_type": "markdown",
   "metadata": {},
   "source": [
    "The coupled problem is set up. A compound finite element space, collecting displacement and electric potential, is defined. A GridFunction q collects $\\vec u$ and $\\varphi$."
   ]
  },
  {
   "cell_type": "code",
   "execution_count": null,
   "metadata": {},
   "outputs": [],
   "source": [
    "k_prim = 3\n",
    "mesh.Curve(k_prim)\n",
    "fespace_u_prim = VectorH1(mesh, dirichlet=BCDisp, order=k_prim)\n",
    "\n",
    "# FESpace for el. potential with dirichlet-BC at electrodes\n",
    "fespace_phi_prim = H1(mesh, order=k_prim, dirichlet=BCPotential, definedon=\"PZT\" )\n",
    "\n",
    "fespace_prim = fespace_u_prim * fespace_phi_prim\n",
    "\n",
    "\n",
    "q_prim = GridFunction(fespace_prim)\n",
    "\n",
    "u_prim, phi_prim = q_prim.components"
   ]
  },
  {
   "cell_type": "markdown",
   "metadata": {},
   "source": [
    "We use the electric enthalpy $h$ corresponding to the linear material law, \n",
    "\n",
    "$$h_e = \\frac{1}{2} \\boldsymbol{\\varepsilon} : \\mathbf C^E : \\boldsymbol{\\varepsilon} - \\vec E \\cdot \\mathbf e : \\boldsymbol\\varepsilon - \\frac{1}{2} \\vec E \\cdot \\boldsymbol{\\epsilon}^S \\cdot \\vec E$$\n",
    "\n",
    "One easily checks that the variational formulation\n",
    "\n",
    "$$\n",
    "    \\int_\\Omega \\delta h_e\\, dV = \\int_\\Omega \\left( \\frac{\\partial h_e}{\\partial \\boldsymbol{\\varepsilon}} : \\delta \\boldsymbol{\\varepsilon} + \\frac{\\partial h_e}{\\partial \\vec E} \\cdot \\delta \\vec E \\right) \\, dV\n",
    "    = \\int_\\Omega \\left( (\\mathbf{C}^E : \\boldsymbol{\\varepsilon} -  \\mathbf{e}^T : \\vec E) : \\delta \\boldsymbol{\\varepsilon} - (\\mathbf{e} : \\boldsymbol{\\varepsilon} + \\boldsymbol{\\epsilon}^S \\cdot \\vec E) \\cdot \\delta \\vec E \\right) \\, dV = 0\n",
    "$$\n",
    "\n",
    "corresponds to the partial differential equaitons above."
   ]
  },
  {
   "cell_type": "code",
   "execution_count": null,
   "metadata": {},
   "outputs": [],
   "source": [
    "u_, phi_ = fespace_prim.TrialFunction()\n",
    "E_ = -grad(phi_)\n",
    "strain_ = Sym(Grad(u_))\n",
    "\n",
    "def vec(strain): return CoefficientFunction((strain[0], strain[4], strain[8], (strain[7]+strain[5]), (strain[2]+strain[6]), (strain[1]+strain[3])))\n",
    "\n",
    "\n",
    "a_prim = BilinearForm(fespace_prim, eliminate_internal=True, symmetric=True)\n",
    "a_prim += Variation ((0.5*InnerProduct (vec(strain_), cf_CE*vec(strain_) ))*dx).Compile()\n",
    "a_prim += Variation ((- InnerProduct (cf_e* vec(strain_), E_) - 0.5*InnerProduct(E_, cf_epsilonS*E_))*dx(definedon=mesh.Materials(\"PZT\"))).Compile()\n",
    "\n"
   ]
  },
  {
   "cell_type": "code",
   "execution_count": null,
   "metadata": {},
   "outputs": [],
   "source": [
    "phi_prim.Set(voltage/hp*z, definedon=mesh.Materials(\"PZT\"))\n",
    "\n",
    "solvers.Newton(a_prim, q_prim, printing=False)\n",
    "\n",
    "print(u_prim(mesh(len_a,0,-he)))"
   ]
  },
  {
   "cell_type": "code",
   "execution_count": null,
   "metadata": {},
   "outputs": [],
   "source": [
    "strain_prim = Sym(Grad(u_prim))\n",
    "E_prim = -Grad(phi_prim)\n",
    "stress_prim = cf_CE * vec(strain_prim) - cf_e.trans*E_prim\n",
    "scene = Draw(BoundaryFromVolumeCF(stress_prim[0]), mesh, \"s_xx\", autoscale=False, min=-2, max=1.5, deformation=1e2*u_prim, **ea)"
   ]
  },
  {
   "cell_type": "markdown",
   "metadata": {},
   "source": [
    "## Mixed elements\n",
    "\n",
    "A variant using mixed TDNNS finite elements may be of advantage in presence of thin structures. Above, a high polynomial order was used to reduce shear locking effects. In the TDNNS method, a different approach is chosen, introducing stresses as additional independent unknowns while reducing the continuity requirements on the displacement.\n",
    "\n",
    "We derive a formulation for piezoelectric materials sporting stresses $\\boldsymbol{\\sigma}$ as independent unknown. To this end, a Legendre transform and derive the total enthalpy $h$,\n",
    "\n",
    "$$h = h_e - \\boldsymbol{\\sigma} : \\boldsymbol{\\varepsilon} = -\\frac{1}{2} \\boldsymbol{\\sigma} : \\mathbf S^E : \\boldsymbol{\\sigma} - \\vec E \\cdot \\mathbf d : \\boldsymbol\\sigma - \\frac{1}{2} \\vec E \\cdot \\boldsymbol{\\epsilon}^T \\cdot \\vec E$$\n",
    "\n",
    "Above, $\\mathbf{S}^E$ is the flexibility tensor at constant electric field. The third order tensor $\\mathbf d$ again contains piezoelectric constants, and $\\boldsymbol{\\epsilon}^T$ specifies the material's electric permittivity  at constant stress. These constants, rather than $\\mathbf{e}$ and $\\boldsymbol{\\epsilon}^S$, are accessible via measurements. Material relations are then given as\n",
    "\n",
    "$$\n",
    "\\boldsymbol{\\varepsilon} = -\\frac{\\partial h}{\\partial \\boldsymbol{\\sigma}} = \\mathbf S^E : \\boldsymbol{\\sigma} + \\mathbf d^T \\cdot \\vec E,\\qquad\n",
    "\\qquad\n",
    "\\vec D = -\\frac{\\partial h}{\\partial \\vec E} = \\mathbf d : \\boldsymbol\\sigma + \\boldsymbol{\\epsilon}^T \\cdot \\vec E.\n",
    "$$\n",
    "\n",
    "In the linear model, they can be computed from each other,\n",
    "\n",
    "$$\n",
    "    \\mathbf S^{E} = (\\mathbf C^{E})^{-1}, \n",
    "    \\qquad\n",
    "    \\mathbf d = \\mathbf e : \\mathbf S^{E},\n",
    "    \\qquad\n",
    "    \\boldsymbol{\\epsilon}^T =\\boldsymbol{\\epsilon}^S  + \\mathbf d : \\mathbf e^T.\n",
    "$$\n"
   ]
  },
  {
   "cell_type": "code",
   "execution_count": null,
   "metadata": {},
   "outputs": [],
   "source": [
    "SEmat = np.linalg.inv(CEmat)\n",
    "dmat = np.matmul(emat, SEmat)\n",
    "epsilonTmat = epsilonSmat + np.matmul(dmat, emat.T)\n",
    "\n",
    "cf_SE = mesh.MaterialCF({\"PZT\": CoefficientFunction(tuple(SEmat.reshape(1, -1)[0]), dims=(6,6)), \"alu\": CoefficientFunction(tuple(Smat_alu.reshape(1, -1)[0]), dims=(6,6))})\n",
    "cf_d = CoefficientFunction(tuple(dmat.reshape(1, -1)[0]), dims=(3,6))\n",
    "cf_epsilonT = CoefficientFunction(tuple(epsilonTmat.reshape(1, -1)[0]), dims=(3,3))\n",
    "\n",
    "\n",
    "n = specialcf.normal(3)"
   ]
  },
  {
   "cell_type": "markdown",
   "metadata": {},
   "source": [
    "We set up the finite element spaces for the TDNNS method: tangential-continuous $H(\\operatorname{curl})$ elements for the displacement, normal-normal continuous tensor-valued $H(\\operatorname{div}\\operatorname{div})$ elements for the stress, and $H^1$ elements for the electric field. To hybridize the normal-normal continuity of the stress tensor, an additional Lagrangian multiplier on all interfaces is introduced. It resembles the normal displacement."
   ]
  },
  {
   "cell_type": "code",
   "execution_count": null,
   "metadata": {},
   "outputs": [],
   "source": [
    "k = 2\n",
    "k_phi = k+1\n",
    "mesh.Curve(k+1)\n",
    "fespace_stress = Discontinuous(HDivDiv(mesh, order=k))\n",
    "fespace_disp = HCurl(mesh, dirichlet=BCDisp, order=k)\n",
    "\n",
    "fespace_pot = H1(mesh, order=k_phi, dirichlet=BCPotential, definedon=\"PZT\" )\n",
    "\n",
    "fespace_dispn = HDiv(mesh, order=k, dirichlet=BCDisp, orderinner=0 )\n",
    "\n",
    "fespace = fespace_disp*fespace_dispn*fespace_stress*fespace_pot\n",
    "\n",
    "q = GridFunction(fespace)\n",
    "\n",
    "u, un, sigma, phi = q.components"
   ]
  },
  {
   "cell_type": "markdown",
   "metadata": {},
   "source": [
    "The piezoelectric variational formulation is now built on the total enthalpy, and reads (with $\\vec u$ and $\\boldsymbol{\\sigma}$ both as independent unknowns)\n",
    "\n",
    "$$\n",
    "    \\int_\\Omega \\delta (h + \\boldsymbol{\\varepsilon} : \\boldsymbol{\\sigma})\\, dV = \\int_\\Omega \\left( (\\frac{\\partial h}{\\partial \\boldsymbol{\\sigma}}+\\boldsymbol{\\varepsilon}) : \\delta \\boldsymbol{\\sigma} + \\frac{\\partial h}{\\partial \\vec E} \\cdot \\delta \\vec E  + \\boldsymbol{\\sigma} : \\delta \\boldsymbol{\\varepsilon}\\right) \\, dV = 0.\n",
    "$$\n",
    "\n",
    "When applying the TDNNS method, a distributional interpretation of the work pair $\\int_\\Omega \\boldsymbol{\\varepsilon} : \\boldsymbol{\\sigma}\\, dV$ is necessary, as displacements are discontinuous. For tangentially continuous displacements $\\vec u$ and stresses with $\\vec n \\cdot \\boldsymbol{\\sigma} \\cdot \\vec n =: \\sigma_{nn}$, the work pair is replaced by\n",
    "\n",
    "$$\n",
    "    \\int_\\Omega \\boldsymbol{\\varepsilon} : \\boldsymbol{\\sigma}\\, dV \\text{ replaced by } \\langle \\boldsymbol{\\varepsilon} ,\\boldsymbol{\\sigma} \\rangle =\n",
    "    \\sum_{T} \\left( \\int_T \\boldsymbol{\\varepsilon} : \\boldsymbol{\\sigma}\\, dV - \\int_{\\partial T} (\\vec u \\cdot \\vec n) \\sigma_{nn}\\, dS\\right)\n",
    "$$\n",
    "\n",
    "An alternative, equivalent representation needs the tangetial components of stress and displacement vectors, $\\vec u_t = \\vec u - \\vec u \\cdot \\vec n \\, vec n$, $\\vec \\sigma_{nt} = (\\boldsymbol{\\sigma} \\cdot \\vec n) - \\sigma_{nn} \\vec n$,\n",
    "\n",
    "$$\n",
    "    \\langle \\boldsymbol{\\varepsilon} ,\\boldsymbol{\\sigma} \\rangle =\n",
    "    \\sum_{T} \\left( -\\int_T \\operatorname{div} \\boldsymbol{\\sigma}\\cdot \\vec u \\, dV + \\int_{\\partial T} \\vec u_t \\vec \\sigma_{nt}\\, dS\\right)\n",
    "$$\n",
    "\n",
    "When hybridizing using $\\tilde u_n$ as independent unknown, the nn-continuity of $\\boldsymbol{\\sigma}$ can be dropped, using\n",
    "\n",
    "$$\n",
    "    \\langle \\boldsymbol{\\varepsilon} ,\\boldsymbol{\\sigma} \\rangle =\n",
    "    \\sum_{T} \\left( -\\int_T \\operatorname{div} \\boldsymbol{\\sigma}\\cdot \\vec u \\, dV + \\int_{\\partial T} \\left( \\vec u_t \\vec \\sigma_{nt} + \\tilde u_n \\sigma_{nn} \\right) \\, dS\\right)\n",
    "    =\n",
    "    \\sum_{T} \\left( \\int_T \\boldsymbol{\\varepsilon} : \\boldsymbol{\\sigma}\\, dV - \\int_{\\partial T} (\\vec u \\cdot \\vec n - \\tilde u_n) \\sigma_{nn}\\, dS\\right)\n",
    "$$\n",
    "\n",
    "This expression is used below."
   ]
  },
  {
   "cell_type": "code",
   "execution_count": null,
   "metadata": {},
   "outputs": [],
   "source": [
    "\n",
    "u_, un_, sigma_, phi_ = fespace.TrialFunction()\n",
    "E_ = -grad(phi_)\n",
    "\n",
    "def vec(stress): return CoefficientFunction((stress[0], stress[4], stress[8], 0.5*(stress[7]+stress[5]), 0.5*(stress[2]+stress[6]), 0.5*(stress[1]+stress[3])))\n",
    "\n",
    "def tang(u): return u - InnerProduct(u,n)*n\n",
    "def normal(u): return InnerProduct(u,n)*n\n",
    "\n",
    "\n",
    "a = BilinearForm(fespace, eliminate_internal=True, symmetric=True)\n",
    "a += Variation ((-0.5*InnerProduct (vec(sigma_), cf_SE*vec(sigma_) ))*dx).Compile()\n",
    "a += Variation ((- InnerProduct (cf_d* vec(sigma_), E_) - 0.5*InnerProduct(E_, cf_epsilonT*E_))*dx(definedon=mesh.Materials(\"PZT\"))).Compile()\n",
    "\n",
    "a += Variation ( -InnerProduct(div(sigma_),u_)*dx).Compile()\n",
    "a += Variation ( InnerProduct(sigma_*n, normal(un_)+tang(u_))*dx(element_boundary=True)).Compile()\n",
    "\n"
   ]
  },
  {
   "cell_type": "code",
   "execution_count": null,
   "metadata": {},
   "outputs": [],
   "source": [
    "phi.Set(voltage/hp*z, definedon=mesh.Materials(\"PZT\"))\n",
    "solvers.Newton(a, q, printing=None)\n",
    "\n",
    "print(u(mesh(len_a,0,-he)))"
   ]
  },
  {
   "cell_type": "code",
   "execution_count": null,
   "metadata": {},
   "outputs": [],
   "source": [
    "scene = Draw(BoundaryFromVolumeCF(sigma[0]), mesh, \"s_xx\", autoscale=False, min=-2, max=1.5, deformation=1e2*u, **ea)\n"
   ]
  },
  {
   "cell_type": "markdown",
   "metadata": {},
   "source": [
    "## Computing eigenfrequencies\n",
    "\n",
    "In frequency domain, with $\\omega = 2 \\pi f$ the (angular) frequency of the system, the variational formulation is extended by inertia terms,\n",
    "\n",
    "$$\n",
    "    \\int_\\Omega \\omega^2 \\rho \\ddot{\\vec u} \\cdot \\delta \\vec u\\, dV = \\int_\\Omega \\delta (h + \\boldsymbol{\\varepsilon} : \\boldsymbol{\\sigma})\\, dV.\n",
    "$$\n",
    "\n",
    "For the case of grounded electrodes, $\\varphi = 0$ on the top and bottom surface of the patch, this translates into a generalized eigenvalue problem,\n",
    "\n",
    "$$\n",
    "\\omega^2 \\mathbf M\\, \\vec q = \\mathbf K\\,  \\vec q,\n",
    "$$\n",
    "\n",
    "with $\\mathbf M$ the (generalized) mass matrix of the system, and $\\mathbf K$ the generalized stiffness matrix.\n",
    "\n",
    "Note that for the piezoelectric case, the mass matrix is not invertible, as inertia affects only the displacements (or accelerations), but not electric potential or stresses. The stiffness matrix $\\mathbf K$ is invertible, but not positive definite. Nevertheless, from physics we expect only positive eigenvalues $\\omega^2$ to the generalized system.\n",
    "\n",
    "We treat the problem using inverse iteration. Here, care must be taken when choosing the random inital vectors to the iteration, as they must be compatible to the constraint equations where $\\mathbf M$ is zero. We generate according vectors by application of $\\mathbf K^{-1} \\mathbf M$.\n",
    "\n",
    "### piezoelectric coupling coefficients\n",
    "\n",
    "Different eigenfrequencies are observed when both electrodes are grounded (_short circuit_) and when the circuit is not closed (_open circuit_), such that no charges are observed at the electrodes $\\int_{\\Gamma} \\vec D \\cdot \\vec n\\, ds = 0$, and some constant voltage $V$ is observed. For $\\omega_{sc,i}$ and $\\omega_{oc,i}$ denoting the different eigenfrequencies, the piezoelectric coupling coefficient $k_i$ can be computed by\n",
    "\n",
    "$$k_i^2 = \\frac{\\omega_{oc,i}^2 - \\omega_{sc,i}^2}{\\omega_{sc,i}^2}.$$\n",
    "\n",
    "Note that $k_i$ is real as the open circuit frequencies are always as least as high as the short circuit frequencies.\n",
    "\n",
    "### short circuit case\n",
    "\n",
    "In case of short circuit, all electrodes are grounded, and $\\varphi = 0$ on all Dirichlet boundaries. The setup from above can directly be used, only the mass matrix has to be computed. For consistency, the whole setup is repeated below."
   ]
  },
  {
   "cell_type": "code",
   "execution_count": null,
   "metadata": {},
   "outputs": [],
   "source": [
    "k = 2\n",
    "k_phi = k+1\n",
    "mesh.Curve(k+1)\n",
    "fespace_stress = Discontinuous(HDivDiv(mesh, order=k))\n",
    "fespace_disp = HCurl(mesh, dirichlet=BCDisp, order=k)\n",
    "\n",
    "fespace_pot = H1(mesh, order=k_phi, dirichlet=BCPotential, definedon=\"PZT\" )\n",
    "\n",
    "fespace_dispn = HDiv(mesh, order=k, dirichlet=BCDisp, orderinner=0 )\n",
    "\n",
    "fespace = fespace_disp*fespace_dispn*fespace_stress*fespace_pot\n",
    "\n",
    "\n",
    "u_, un_, sigma_, phi_ = fespace.TrialFunction()\n",
    "E_ = -grad(phi_)\n",
    "\n",
    "def vec(stress): return CoefficientFunction((stress[0], stress[4], stress[8], 0.5*(stress[7]+stress[5]), 0.5*(stress[2]+stress[6]), 0.5*(stress[1]+stress[3])))\n",
    "\n",
    "def tang(u): return u - InnerProduct(u,n)*n\n",
    "def normal(u): return InnerProduct(u,n)*n\n",
    "\n",
    "\n",
    "m = BilinearForm(fespace, symmetric=True)\n",
    "m += Variation(0.5*cf_rho*InnerProduct(u_, u_)*dx)\n",
    "\n",
    "\n",
    "a = BilinearForm(fespace, eliminate_internal=True, symmetric=True)\n",
    "a += Variation ((-0.5*InnerProduct (vec(sigma_), cf_SE*vec(sigma_) ) - InnerProduct (cf_d* vec(sigma_), E_) - 0.5*InnerProduct(E_, cf_epsilonT*E_))*dx).Compile()\n",
    "\n",
    "a += Variation ( -InnerProduct(div(sigma_),u_)*dx).Compile()\n",
    "a += Variation ( InnerProduct(sigma_*n, normal(un_)+tang(u_))*dx(element_boundary=True)).Compile()\n",
    "\n",
    "\n",
    "\n",
    "q.vec[:] = 0\n",
    "a.AssembleLinearization(q.vec)\n",
    "m.AssembleLinearization(q.vec)\n"
   ]
  },
  {
   "cell_type": "markdown",
   "metadata": {},
   "source": [
    "The eigenvalue solver based on the inverse iteration is listed below,"
   ]
  },
  {
   "cell_type": "code",
   "execution_count": null,
   "metadata": {},
   "outputs": [],
   "source": [
    "from scipy.linalg import eigh\n",
    "from numpy.random import rand\n",
    "\n",
    "def SolveCondensed(a, res, solver, w):\n",
    "    w[:] = 0\n",
    "    if a.condense:\n",
    "        res.data += a.harmonic_extension_trans * res\n",
    "        w.data = solver * res\n",
    "        w.data += a.harmonic_extension * w\n",
    "        w.data += a.inner_solve * res\n",
    "    else:\n",
    "        w.data = solver * res\n",
    "## Eigenvalue solver, based on inverse iteration\n",
    "## more or less, copied from https://ngsolve.org/docu/latest/i-tutorials/unit-2.2-eigenvalues/pinvit.html\n",
    "def Eigenvalues_InverseIteration(a, m, num, shift):\n",
    "    fes = a.space\n",
    "    u = GridFunction(fes, multidim=num)\n",
    "\n",
    "    inva = a.mat.Inverse(fes.FreeDofs(a.condense))\n",
    "    r = u.vec.CreateVector()\n",
    "    Av = u.vec.CreateVector()\n",
    "    Mv = u.vec.CreateVector()\n",
    "\n",
    "    vecs = []\n",
    "    for i in range(2*num):\n",
    "        vecs.append (u.vec.CreateVector())\n",
    "\n",
    "    for v in u.vecs:\n",
    "        r.FV().NumPy()[:] = rand(fes.ndof)\n",
    "        v.data = Projector(fes.FreeDofs(), True) * r\n",
    "        v.data = m.mat * r\n",
    "        # r.data = inva * v\n",
    "        SolveCondensed(a, r, inva, v)\n",
    "        v.data = r\n",
    "\n",
    "\n",
    "        \n",
    "    asmall = Matrix(2*num, 2*num)\n",
    "    msmall = Matrix(2*num, 2*num)\n",
    "    lams = num * [shift]\n",
    "\n",
    "    for i in range(20):\n",
    "\n",
    "        for j in range(num):\n",
    "            vecs[j].data = u.vecs[j]\n",
    "            r.data = a.mat * vecs[j] - lams[j] * m.mat * vecs[j]\n",
    "            # vecs[num+j].data = inva * r\n",
    "            SolveCondensed(a, r, inva, vecs[num+j])\n",
    "\n",
    "        for j in range(2*num):\n",
    "            Av.data = a.mat * vecs[j]\n",
    "            Mv.data = m.mat * vecs[j]\n",
    "            for k in range(2*num):\n",
    "                asmall[j,k] = InnerProduct(Av, vecs[k])\n",
    "                msmall[j,k] = InnerProduct(Mv, vecs[k])\n",
    "\n",
    "        ev,evec = eigh(a=asmall, b=msmall)\n",
    "        lams[:] = ev[:num]\n",
    "        print (i, \":\", [lam for lam in lams])\n",
    "\n",
    "        for j in range(num):\n",
    "            u.vecs[j][:] = 0.0\n",
    "            for k in range(2*num):\n",
    "                u.vecs[j].data += float(evec[k,j]) * vecs[k]\n",
    "                \n",
    "    return (lams, u)"
   ]
  },
  {
   "cell_type": "markdown",
   "metadata": {},
   "source": [
    "Compute short circuit frequencies using this solver,"
   ]
  },
  {
   "cell_type": "code",
   "execution_count": null,
   "metadata": {},
   "outputs": [],
   "source": [
    "(lami_sc, q_sc) = Eigenvalues_InverseIteration(a, m, 5, 1000**2)\n",
    "print(\"\\n\\nEigenfrequencies [rad/s]\")\n",
    "print([sqrt(l) for l in lami_sc])\n",
    "print(\"\\n\\nEigenfrequencies [1/s]\")\n",
    "print([sqrt(l)/2/np.pi for l in lami_sc])"
   ]
  },
  {
   "cell_type": "code",
   "execution_count": null,
   "metadata": {},
   "outputs": [],
   "source": [
    "for i in range(5):\n",
    "    sigma = q_sc.components[2].MDComponent(i)\n",
    "    disp = q_sc.components[0].MDComponent(i)\n",
    "    scene = Draw(BoundaryFromVolumeCF(disp[2]), mesh, \"uz\", deformation=1e-3*BoundaryFromVolumeCF(disp), **ea)\n"
   ]
  },
  {
   "cell_type": "markdown",
   "metadata": {},
   "source": [
    "#### open circuit case\n",
    "\n",
    "In this case, an unknown voltage $V$ is introduced on one of the electrodes, the other electrode is still grounded. We add a single independent unknown value $V$ using a number finite element space."
   ]
  },
  {
   "cell_type": "code",
   "execution_count": null,
   "metadata": {},
   "outputs": [],
   "source": [
    "k = 2\n",
    "k_phi = k+1\n",
    "mesh.Curve(k+1)\n",
    "fespace_stress = Discontinuous(HDivDiv(mesh, order=k))\n",
    "fespace_disp = HCurl(mesh, dirichlet=BCDisp, order=k)\n",
    "\n",
    "fespace_pot = H1(mesh, order=k_phi, dirichlet=BCPotential, definedon=\"PZT\" )\n",
    "\n",
    "fespace_dispn = HDiv(mesh, order=k, dirichlet=BCDisp, orderinner=0 )\n",
    "fespace_num = FESpace(\"number\", mesh, definedon=mesh.Materials(\"PZT\"))\n",
    "\n",
    "fespace = fespace_disp*fespace_dispn*fespace_stress*fespace_pot*fespace_num\n",
    "\n",
    "q = GridFunction(fespace)"
   ]
  },
  {
   "cell_type": "markdown",
   "metadata": {},
   "source": [
    "The electric potential is composed from two parts, where one part $\\tilde \\varphi$ respects zero voltage on both electrodes, and $V \\varphi_{el}$ models the unknown voltage, with $\\varphi_{el}$ a finite element function that is set to $\\varphi_{el} = 1$ on the electrode in question."
   ]
  },
  {
   "cell_type": "code",
   "execution_count": null,
   "metadata": {},
   "outputs": [],
   "source": [
    "phi_el = GridFunction(fespace_pot)\n",
    "phi_el.Set(1/hp*z, definedon=mesh.Materials(\"PZT\"))\n",
    "\n",
    "u, un, sigma, tildephi, V = q.components\n",
    "phi = tildephi + V*phi_el\n",
    "E = - Grad(tildephi) - V*Grad(phi_el)"
   ]
  },
  {
   "cell_type": "markdown",
   "metadata": {},
   "source": [
    "Otherwise, the procedure is unchanged,"
   ]
  },
  {
   "cell_type": "code",
   "execution_count": null,
   "metadata": {},
   "outputs": [],
   "source": [
    "u_, un_, sigma_, phi_, V_ = fespace.TrialFunction()\n",
    "E_ = -grad(phi_)-V_*grad(phi_el)\n",
    "\n",
    "def vec(stress): return CoefficientFunction((stress[0], stress[4], stress[8], 0.5*(stress[7]+stress[5]), 0.5*(stress[2]+stress[6]), 0.5*(stress[1]+stress[3])))\n",
    "\n",
    "def tang(u): return u - InnerProduct(u,n)*n\n",
    "def normal(u): return InnerProduct(u,n)*n\n",
    "\n",
    "\n",
    "a = BilinearForm(fespace, eliminate_internal=True, symmetric=True)\n",
    "a += Variation ((-0.5*InnerProduct (vec(sigma_), cf_SE*vec(sigma_) ))*dx).Compile()\n",
    "a += Variation ((- InnerProduct (cf_d* vec(sigma_), E_) - 0.5*InnerProduct(E_, cf_epsilonT*E_))*dx(definedon=mesh.Materials(\"PZT\"))).Compile()\n",
    "\n",
    "a += Variation ( -InnerProduct(div(sigma_),u_)*dx).Compile()\n",
    "a += Variation ( InnerProduct(sigma_*n, normal(un_)+tang(u_))*dx(element_boundary=True)).Compile()\n",
    "\n",
    "m = BilinearForm(fespace, symmetric=True)\n",
    "m += Variation(0.5*cf_rho*InnerProduct(u_, u_)*dx)\n",
    "\n",
    "\n",
    "\n",
    "\n",
    "q.vec[:] = 0\n",
    "a.AssembleLinearization(q.vec)\n",
    "m.AssembleLinearization(q.vec)"
   ]
  },
  {
   "cell_type": "code",
   "execution_count": null,
   "metadata": {},
   "outputs": [],
   "source": [
    "(lami_oc, q_oc) = Eigenvalues_InverseIteration(a, m, 5, 1000**2)\n",
    "print(\"\\n\\nEigenfrequencies [rad/s]\")\n",
    "print([sqrt(l) for l in lami_oc])\n",
    "print(\"\\n\\nEigenfrequencies [1/s]\")\n",
    "print([sqrt(l)/2/np.pi for l in lami_oc])"
   ]
  },
  {
   "cell_type": "markdown",
   "metadata": {},
   "source": [
    "We compute the coupling coefficients. For the first, third and fourth mode, a high coupling coefficient indicates that the respective mode can be actuated by the patch actor."
   ]
  },
  {
   "cell_type": "code",
   "execution_count": null,
   "metadata": {},
   "outputs": [],
   "source": [
    "print(\"         open circuit           short circuit           coupling coefficient\")\n",
    "for i in range(5):\n",
    "    print(f\"omega {i+1}: {sqrt(lami_oc[i])/2/np.pi} \\t{sqrt(lami_sc[i])/2/np.pi}\\t{np.sqrt(np.abs(lami_oc[i]/lami_sc[i]-1))}\")"
   ]
  },
  {
   "cell_type": "code",
   "execution_count": null,
   "metadata": {},
   "outputs": [],
   "source": []
  },
  {
   "cell_type": "code",
   "execution_count": null,
   "metadata": {},
   "outputs": [],
   "source": []
  }
 ],
 "metadata": {
  "kernelspec": {
   "display_name": "Python 3 (ipykernel)",
   "language": "python",
   "name": "python3"
  },
  "language_info": {
   "codemirror_mode": {
    "name": "ipython",
    "version": 3
   },
   "file_extension": ".py",
   "mimetype": "text/x-python",
   "name": "python",
   "nbconvert_exporter": "python",
   "pygments_lexer": "ipython3",
   "version": "3.12.3"
  }
 },
 "nbformat": 4,
 "nbformat_minor": 4
}
