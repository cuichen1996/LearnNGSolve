{
 "cells": [
  {
   "cell_type": "markdown",
   "id": "6784d244-5871-4d62-9460-57936da2f1f4",
   "metadata": {},
   "source": [
    "# random examples"
   ]
  },
  {
   "cell_type": "markdown",
   "id": "139510bd-49ba-4054-aa4c-fed7f9d1f89e",
   "metadata": {},
   "source": [
    "Here we have a collection of random examples ... "
   ]
  },
  {
   "cell_type": "code",
   "execution_count": null,
   "id": "6833f97a-b9c8-4c2c-9f66-24a11e28cac9",
   "metadata": {},
   "outputs": [],
   "source": []
  }
 ],
 "metadata": {
  "kernelspec": {
   "display_name": "Python 3 (ipykernel)",
   "language": "python",
   "name": "python3"
  },
  "language_info": {
   "codemirror_mode": {
    "name": "ipython",
    "version": 3
   },
   "file_extension": ".py",
   "mimetype": "text/x-python",
   "name": "python",
   "nbconvert_exporter": "python",
   "pygments_lexer": "ipython3",
   "version": "3.12.3"
  }
 },
 "nbformat": 4,
 "nbformat_minor": 5
}
