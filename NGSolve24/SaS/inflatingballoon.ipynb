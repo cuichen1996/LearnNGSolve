{
 "cells": [
  {
   "cell_type": "markdown",
   "metadata": {},
   "source": [
    "# A snapthrough problem\n",
    "\n",
    "A cylindric tank with concave lid is loaded with internal pressure. The tank is made from soft, incompressible material that is described by a Neo-Hooke hyperelastic model. Under internal pressure, the concave lid snaps into a concave shape. At snapping, the equilibrium path is instable and results in a drop of internal pressure.\n",
    "\n",
    "A radially symmetric model is used, such that a reliable axisymmetric solution can be computed at moderate computational complexity."
   ]
  },
  {
   "cell_type": "code",
   "execution_count": null,
   "metadata": {},
   "outputs": [],
   "source": [
    "from ngsolve import *\n",
    "import numpy as np\n",
    "import netgen.occ as ngocc\n",
    "import netgen.geom2d as ng2d\n",
    "from netgen.meshing import IdentificationType, MeshingParameters\n",
    "\n",
    "from newtonmethod import NewtonWithLinesearch\n",
    "\n",
    "from ngsolve.webgui import Draw\n",
    "from netgen.webgui import Draw as ngDraw\n",
    "\n",
    "import matplotlib.pyplot as plt\n",
    "\n",
    "SetNumThreads(4)"
   ]
  },
  {
   "cell_type": "markdown",
   "metadata": {},
   "source": [
    "The tank is modeled in an axisymmetric way. For visualization, see also the 3D model. The tank will be clamped at the hole in the bottom."
   ]
  },
  {
   "cell_type": "code",
   "execution_count": null,
   "metadata": {},
   "outputs": [],
   "source": [
    "height = 50\n",
    "thickness = 0.5\n",
    "radius = 30\n",
    "radius_in = 3\n",
    "radius_top = 100\n",
    "m_top = height + np.sqrt(radius_top**2-radius**2)\n",
    "\n",
    "E = 1\n",
    "nu = 0.5\n",
    "\n",
    "mu = E/2/(1+nu)\n",
    "\n",
    "pressure = 0.0001\n"
   ]
  },
  {
   "cell_type": "code",
   "execution_count": null,
   "metadata": {},
   "outputs": [],
   "source": [
    "def GenerateOCC2d():\n",
    "    H = height\n",
    "    R = radius\n",
    "    t = thickness\n",
    "    Rin = radius_in\n",
    "    Rtop = radius_top\n",
    "\n",
    "    # wp = ngocc.WorkPlane().LineTo(0,-t/2).LineTo(R+t/2,-t/2).LineTo(R+t/2,H+2*t).LineTo(0,H+2*t).Close()\n",
    "    wp = ngocc.WorkPlane().MoveTo(0,-t/2).Rectangle(R+t/2,H+t+t)\n",
    "    rect = wp.Face()\n",
    "    wp = ngocc.WorkPlane().Circle(0,m_top,Rtop-t/2)\n",
    "    circ = wp.Face()\n",
    "    wp = ngocc.WorkPlane().LineTo(0,-t).LineTo(Rin,-t).LineTo(Rin,0).LineTo(Rin,t).LineTo(0,t).Close()\n",
    "    inlet = wp.Face()\n",
    "\n",
    "    exterior = rect-circ-inlet\n",
    "    wp = ngocc.WorkPlane().MoveTo(0,t/2).Rectangle(R-t/2,H)\n",
    "    rect1 = wp.Face()\n",
    "    circ1 = ngocc.WorkPlane().Circle(0,m_top,Rtop+t/2).Face()\n",
    "    interior = rect1-circ1\n",
    "\n",
    "    for (i,e) in enumerate(interior.edges):\n",
    "        e.name = f\"interior{i}\"\n",
    "    for e in exterior.edges:\n",
    "        e.name = \"exterior\"\n",
    "        \n",
    "    face = exterior-interior\n",
    "    for e in face.edges:\n",
    "        if e.center[0] < 1e-10 and e.center[1] > H/2:\n",
    "            e.name = \"axis\"\n",
    "        if (e.center[0]-Rin) < 1e-10 and e.center[1] < H/2:\n",
    "            e.name = \"fix\"\n",
    "\n",
    "    for p in face.vertices:\n",
    "        if p.p[0] == Rin and p.p[1] == 0:\n",
    "            p.name = \"point0\"\n",
    "\n",
    "    ngDraw(face)\n",
    "\n",
    "    tank3d = face.Revolve(ngocc.Axis((0,0,0),ngocc.Y),360)\n",
    "    ngDraw(tank3d)\n",
    "\n",
    "    \n",
    "    geo = ngocc.OCCGeometry(face, dim=2)\n",
    "    \n",
    "    mp = MeshingParameters(maxh=t/3)\n",
    "\n",
    "    ngmesh = geo.GenerateMesh(mp)\n",
    "\n",
    "\n",
    "    mesh = Mesh(ngmesh)\n",
    "    return geo, mesh\n",
    "\n",
    "geo, mesh = GenerateOCC2d()\n"
   ]
  },
  {
   "cell_type": "markdown",
   "metadata": {},
   "source": [
    "Internal pressure acting in direction normal to the surfaces is applied to the internal surfaces of the tank. In such a setting, a large deformation elasticity model including follower loads is necessary. We use common continuum-mechanics notation, with $\\vec u$ the displacement field, $\\vec X$ the material coordinates, and $\\mathbf F = \\mathbf I + \\partial \\vec u/\\partial \\vec X$ the deformation gradient. Let $\\mathbf C = \\mathbf F^T \\cdot \\mathbf F$ denote the right Cauchy-Green tensor. We assume an incompressible Neo-Hooke material law, which is modeled by its potential\n",
    "\n",
    "$$\n",
    "\\psi = \\frac{\\mu}{2} (\\operatorname{tr}\\hat {\\mathbf C} - 3) + p \\log J,\n",
    "$$\n",
    "\n",
    "with $\\hat {\\mathbf C} = J^{-2/3} \\mathbf C$ and $p$ an independent hydrostatic pressure.\n",
    "\n",
    "For the discretization, we use elements of Taylor-Hood type, vector-valued $H^1$ of order $k$ for the displacement and scalar $H^1$ of order $k-1$ for the pressure, and set $k=3$.\n",
    "\n",
    "The internal pressure is modeled in direction of the surface normal in spatial configuration. Let $\\vec N$ be the surface normal in reference configuration, then \n",
    "\n",
    "$$\\vec n = \\frac{\\operatorname{Cof}\\mathbf F\\cdot  \\vec N}{|\\operatorname{Cof}\\mathbf F \\cdot \\vec N|} = \\frac{1}{J_A} \\operatorname{Cof}\\mathbf F\\cdot  \\vec N$$\n",
    "\n",
    "with $J_A$ the jacobian for the area element. We deduce, for a constant surface pressure $\\tilde p$ in spatial configuration, i.e. on the deformed boundary part $\\gamma$, we can transform\n",
    "\n",
    "$$\\int_\\gamma \\tilde p \\vec n \\cdot \\delta \\vec u\\, da = \\int_\\Gamma \\tilde p \\operatorname{Cof}\\mathbf F\\cdot  \\vec N \\, dA.$$\n",
    "\n",
    "The principle of virtual work, for the hyperelastic material law and internal pressure as above, reads\n",
    "\n",
    "$$\\int_\\Omega \\delta \\psi\\, dV = \\int_\\Gamma \\tilde p \\operatorname{Cof}\\mathbf F\\cdot  \\vec N \\, dA.$$\n",
    "\n",
    "We anticipate instable behavior at snap-through point. Therefore, we rather prescribe the work dual, which is the mean normal displacement of the internal surfaces, with $\\tilde p$ the Lagrange multiplier. In the finite element setup, this requires a single, independent unknown associated to these surfaces."
   ]
  },
  {
   "cell_type": "code",
   "execution_count": null,
   "metadata": {},
   "outputs": [],
   "source": [
    "order = 3\n",
    "\n",
    "fespace_u = VectorH1(mesh, order=order, dirichletx=\"axis\", dirichlet=\"fix\")\n",
    "fespace_p = H1(mesh, order=order-1)\n",
    "fespace_num = FESpace(\"number\", mesh, definedon=mesh.Boundaries(\"interior.\"))\n",
    "\n",
    "fespace = fespace_u * fespace_p * fespace_num"
   ]
  },
  {
   "cell_type": "code",
   "execution_count": null,
   "metadata": {},
   "outputs": [],
   "source": [
    "q = GridFunction(fespace)\n",
    "u, p, pres = q.components\n",
    "\n",
    "loadpar = Parameter(0)"
   ]
  },
  {
   "cell_type": "markdown",
   "metadata": {},
   "source": [
    "In the axisymmetric setting, the formal coordinates are $x=r$ and $y=z$, which we transform to the three-dimensional material coordinates $X, Y, Z$ using the functionality below.'"
   ]
  },
  {
   "cell_type": "code",
   "execution_count": null,
   "metadata": {},
   "outputs": [],
   "source": [
    "facJ = 2*np.pi*x\n",
    "\n",
    "def Grad3D(U):\n",
    "    if U.dim == 2:\n",
    "        DURDR = Grad(U)[0,0]\n",
    "        DURDZ = Grad(U)[0,1]\n",
    "        DUZDR = Grad(U)[1,0]\n",
    "        DUZDZ = Grad(U)[1,1]\n",
    "        \n",
    "        G = IfPos(x-1e-6, CoefficientFunction((DURDR, 0, DURDZ, 0, 1/(x)*U[0], 0, DUZDR, 0, DUZDZ), dims=(3,3)),\n",
    "        CoefficientFunction((DURDR, 0, DURDZ, 0, DURDR, 0, DUZDR, 0, DUZDZ), dims=(3,3)) )\n",
    "\n",
    "    else:\n",
    "        DURDR = Grad(U)[0]\n",
    "        DURDZ = Grad(U)[1]\n",
    "    \n",
    "        G = CoefficientFunction((DURDR, 0, DURDZ))\n",
    "\n",
    "    return G\n",
    "\n",
    "def Vec23D(U):\n",
    "    return CoefficientFunction((U[0], 0, U[1]))\n"
   ]
  },
  {
   "cell_type": "code",
   "execution_count": null,
   "metadata": {},
   "outputs": [],
   "source": [
    "u_, p_, pressure_ = fespace.TrialFunction()\n",
    "deltau_, deltap_, deltapressure_ = fespace.TestFunction()\n",
    "\n",
    "gradu_ = Grad3D(u_)\n",
    "F_ = (Id(3) + gradu_)# *predef\n",
    "C_ = F_.trans*F_\n",
    "J_ = Det(F_)\n",
    "hatC_ = J_**(-2/3)*C_\n",
    "E_ = 0.5*(C_-Id(3))\n",
    "\n",
    "Normal = Vec23D(specialcf.normal(2))\n",
    "defgrad_surf_ = Id(3) + Grad3D(u_.Trace())\n",
    "normal = Normalize(Cof(defgrad_surf_)*Normal)\n",
    "\n",
    "\n",
    "a = BilinearForm(fespace)\n",
    "\n",
    "a += SymbolicEnergy( ((mu/2*(Trace(hatC_)-3) + p_*log(J_))*facJ).Compile())\n",
    "## some workaround as the normal direction is not always outward\n",
    "a += SymbolicEnergy( (pressure_*(InnerProduct(Vec23D(u_), normal)+loadpar)*facJ).Compile(), definedon=mesh.Boundaries(\"interior1\"))\n",
    "a += SymbolicEnergy( (-pressure_*(InnerProduct(Vec23D(u_), normal)-loadpar)*facJ).Compile(), definedon=mesh.Boundaries(\"interior3|interior2\"))"
   ]
  },
  {
   "cell_type": "code",
   "execution_count": null,
   "metadata": {},
   "outputs": [],
   "source": [
    "scenep = Draw(p, mesh, deformation=u)"
   ]
  },
  {
   "cell_type": "markdown",
   "metadata": {},
   "source": [
    "Increasing the prescribed mean normal displacement mimicks the process of inflation. Up to the snap-through point, the observed internal pressure $\\tilde p$, which is the Lagrangian multiplier, increases. At snap-through, a large change in the deformation state occurs, the internal pressure drops instantly. A concave shape of the lid evolves spontaneously. But even before the actual snap-through, the pressure drops in a more controlled manner, due to the evolution of a higher-order convex shape in the lid."
   ]
  },
  {
   "cell_type": "code",
   "execution_count": null,
   "metadata": {},
   "outputs": [],
   "source": [
    "q_history = GridFunction(fespace, multidim=0)"
   ]
  },
  {
   "cell_type": "code",
   "execution_count": null,
   "metadata": {},
   "outputs": [],
   "source": [
    "loadsteps1 = np.linspace(0,1,41,endpoint=True)\n",
    "# loadsteps = np.concatenate((np.linspace(0,0.5,21,endpoint=True), np.linspace(0.5,0,21,endpoint=True)))\n",
    "deflist = []\n",
    "preslist = []\n",
    "for l in loadsteps1[:]:\n",
    "    loadpar.Set(l)\n",
    "    print(f\"loadfactor l = {l}\")\n",
    "    err, nit = NewtonWithLinesearch(a, q.vec, maxnewton=100)\n",
    "\n",
    "    up = 1/Integrate(1, mesh, definedon=mesh.Boundaries(\"axis\"))*Integrate(u[1], mesh, definedon=mesh.Boundaries(\"axis\"))\n",
    "    print(up, pres.vec[0])\n",
    "    deflist.append(up)\n",
    "    preslist.append(pres.vec[0])\n",
    "    scenep.Redraw()\n",
    "\n",
    "    q_history.AddMultiDimComponent(q.vec)\n",
    "    if err: break"
   ]
  },
  {
   "cell_type": "markdown",
   "metadata": {},
   "source": [
    "I thought that should work?? "
   ]
  },
  {
   "cell_type": "code",
   "execution_count": null,
   "metadata": {},
   "outputs": [],
   "source": [
    "Draw (q_history.components[0], mesh, animate=True, autoscale=True, deformation=True)"
   ]
  },
  {
   "cell_type": "markdown",
   "metadata": {},
   "source": [
    "We visualize mean normal displacement over pressure, as well as the position of the tank's top point over internal pressure. The snap-through point is clearly visible."
   ]
  },
  {
   "cell_type": "code",
   "execution_count": null,
   "metadata": {},
   "outputs": [],
   "source": [
    "plt.plot(preslist, loadsteps1, \"x\", label=\"inflating\")\n",
    "plt.xlabel(\"internal pressure\")\n",
    "plt.ylabel(\"mean normal displacement\")\n",
    "plt.legend()"
   ]
  },
  {
   "cell_type": "code",
   "execution_count": null,
   "metadata": {},
   "outputs": [],
   "source": [
    "plt.plot(preslist, deflist, \"x\", label=\"inflating\")\n",
    "plt.xlabel(\"internal pressure\")\n",
    "plt.ylabel(\"vertical displacement top\")\n",
    "plt.legend()"
   ]
  },
  {
   "cell_type": "markdown",
   "metadata": {},
   "source": [
    "When decreasing the prescribed mean normal displacement, again snap-through is observed - however at a lower value than in the original inflation process. Starting from the inflated state at maximum internal pressure, the pressure decreases. When reaching the critical value from the inflation process, however, the pressure increases in a stable manner, until snapping back at a lower load factor."
   ]
  },
  {
   "cell_type": "code",
   "execution_count": null,
   "metadata": {},
   "outputs": [],
   "source": [
    "q_history2 = GridFunction(fespace, multidim=0)\n",
    "\n",
    "loadsteps2 = np.linspace(1,0,41,endpoint=True)\n",
    "deflist2 = []\n",
    "preslist2 = []\n",
    "for l in loadsteps2[:]:\n",
    "    loadpar.Set(l)\n",
    "    print(f\"loadfactor l = {l}\")\n",
    "    err, nit = NewtonWithLinesearch(a, q.vec, maxnewton=100)\n",
    "\n",
    "    up = 1/Integrate(1, mesh, definedon=mesh.Boundaries(\"axis\"))*Integrate(u[1], mesh, definedon=mesh.Boundaries(\"axis\"))\n",
    "    print(up, pres.vec[0])\n",
    "    deflist2.append(up)\n",
    "    preslist2.append(pres.vec[0])\n",
    "    scenep.Redraw()\n",
    "    q_history2.AddMultiDimComponent(q.vec)\n",
    "\n",
    "    if err: break"
   ]
  },
  {
   "cell_type": "code",
   "execution_count": null,
   "metadata": {},
   "outputs": [],
   "source": [
    "Draw (q_history2.components[0], mesh, animate=True, autoscale=True, deformation=True)"
   ]
  },
  {
   "cell_type": "code",
   "execution_count": null,
   "metadata": {},
   "outputs": [],
   "source": [
    "plt.plot(preslist, deflist, \"x\", label=\"inflating\")\n",
    "plt.plot(preslist2, deflist2, \"+\", label=\"deflating\")\n",
    "plt.xlabel(\"internal pressure\")\n",
    "plt.ylabel(\"vertical displacement top\")\n",
    "plt.legend()"
   ]
  },
  {
   "cell_type": "code",
   "execution_count": null,
   "metadata": {},
   "outputs": [],
   "source": [
    "plt.plot(preslist, loadsteps1, \"x\", label=\"inflating\")\n",
    "plt.plot(preslist2, loadsteps2, \"+\", label=\"deflating\")\n",
    "plt.xlabel(\"internal pressure\")\n",
    "plt.ylabel(\"mean normal displacement\")\n",
    "plt.legend()"
   ]
  },
  {
   "cell_type": "code",
   "execution_count": null,
   "metadata": {},
   "outputs": [],
   "source": []
  }
 ],
 "metadata": {
  "kernelspec": {
   "display_name": "Python 3 (ipykernel)",
   "language": "python",
   "name": "python3"
  },
  "language_info": {
   "codemirror_mode": {
    "name": "ipython",
    "version": 3
   },
   "file_extension": ".py",
   "mimetype": "text/x-python",
   "name": "python",
   "nbconvert_exporter": "python",
   "pygments_lexer": "ipython3",
   "version": "3.12.3"
  }
 },
 "nbformat": 4,
 "nbformat_minor": 4
}
