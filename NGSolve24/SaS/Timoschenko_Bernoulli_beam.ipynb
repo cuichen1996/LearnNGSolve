{
 "cells": [
  {
   "cell_type": "markdown",
   "id": "0",
   "metadata": {},
   "source": [
    "# Timoschenko and Euler-Bernoulli beam\n",
    "In this section we consider the Timoschenko and Euler-Bernoulli beam equations. If we have a structure $\\Omega\\subset\\mathbb{R}^2$ where one dimension is significantly thinner than the other a dimension reduction to a one-dimensional problem can be done. For example, $\\Omega = (0,1)\\times (-t/2,t/2)$ to the midsurface $\\mathcal{S}=(0,1)$. For the (linear) elasticity problem on $\\Omega$ the Timoschenko and Euler-Bernoulli beam are two frequently used models. We start with the Timoschenko beam.\n",
    "\n",
    "## Timoschenko beam\n",
    "\n",
    "\n",
    "The Timoschenko beam includes the vertical deflection of the beam and rotational degrees of freedom. The corresponding energy reads\n",
    "\n",
    "\\begin{align*}\n",
    "\\mathcal{W}(u,\\beta) = \\int_0^1\\Big(\\frac{E}{24}|\\beta^\\prime|^2 + \\frac{\\kappa G}{2t^2}|u^\\prime-\\beta|^2\\Big)\\,dx - \\int_0^1u\\,f\\,dx,\n",
    "\\end{align*}\n",
    "\n",
    "where the first term corresponds to the bending energy of the beam ($\\beta^\\prime=u^{\\prime\\prime}$ is the linearized curvature of the beam) and the second is the shear energy measuring the deviation of the rotation $\\beta$ to the linearized rotated normal vector of the beam. Here, $\\kappa=5/6$ and $G=E/(2(1+\\nu))$ denote the shear correction factor and shearing modulus, respectively, and $E$ is the Young's modulus.\n",
    "\n",
    "We clamp the left side of the beam and define $H^1_{\\Gamma}((0,1))=\\{v\\in H^1((0,1))\\,\\vert\\, v(0)=0\\}$.\n",
    "\n",
    "By taking the variations of the energy we obtain the problem: For given force $f$ find $(u,\\beta)\\in H^1_{\\Gamma}((0,1))\\times H^1_{\\Gamma}((0,1))$ such that for all $(\\delta u,\\delta\\beta)\\in H^1_{\\Gamma}((0,1))\\times H^1_{\\Gamma}((0,1))$ \n",
    "\n",
    "\\begin{align*}\n",
    "\\int_0^1\\frac{E}{12}\\beta^\\prime(\\delta\\beta)^\\prime\\,dx + \\frac{\\kappa G}{t^2}\\int_0^1(u^\\prime-\\beta)((\\delta u)^\\prime-\\delta\\beta)\\,dx = \\int_0^1\\delta u\\,f\\,dx.\n",
    "\\end{align*}\n",
    "\n",
    "A straight forward discretization approach is to use Lagrangian finite elements of the same order for the displacement and rotation $u_h,\\beta_h\\in V_h^k\\times V_h^k$, which is known to induce locking for small thickness parameters $t$. In the limit $t\\to 0$ the shearing energy can be seen as a penalty enforcing $u_h^\\prime=\\beta_h$. In the lowest order case this equation forces the piecewise constant $u^\\prime_h$ to fit with the linear and continuous $\\beta_h$ leading to the trivial solution, $u_h=0$. This situation is called shear locking. The constants in Cea's Lemma are not uniform in the thickness parameter. One can show that if the mesh size $h$ is of the order of the thickness $t$, the correct convergence rates start. From the theory of mixed methods we know that inserting on $L^2$-projection into the shearing term cures this problem be relaxing the constraint. In 1D this is equivalent to a numerical under-integration using only the mid-point rule for the shearing term. One can also proof that for at least quadratic order $k=2$ no shear locking occurs for the Timoschenko beam. (Note, that this is not true for plates.)"
   ]
  },
  {
   "cell_type": "code",
   "execution_count": null,
   "id": "1",
   "metadata": {},
   "outputs": [],
   "source": [
    "from ngsolve import *\n",
    "from ngsolve.meshes import Make1DMesh\n",
    "from ngsolve.webgui import Draw\n",
    "\n",
    "mu, lam = 0.5, 0  # Lame parameter\n",
    "nu = lam / (2 * (lam + mu))  # Possion ratio (=0)\n",
    "E = mu * (3 * lam + 2 * mu) / (lam + mu)  # Young's modulus (=1)\n",
    "G = E / (2 * (1 + nu))  # shearing modulus\n",
    "k = 5 / 6  # shear correction factor"
   ]
  },
  {
   "cell_type": "code",
   "execution_count": null,
   "id": "3",
   "metadata": {},
   "outputs": [],
   "source": [
    "def SolveTimoschenkoBeam(order, mesh, thickness, reduced_integration=False, draw=False):\n",
    "    V = H1(mesh, order=order, dirichlet=\"left\")\n",
    "    fes = V * V\n",
    "    (u, beta), (du, dbeta) = fes.TnT()\n",
    "\n",
    "    a = BilinearForm(fes, symmetric=True)\n",
    "    a += E / 12 * grad(beta) * grad(dbeta) * dx + k * G / thickness**2 * (\n",
    "        grad(u) - beta\n",
    "    ) * (grad(du) - dbeta) * dx(bonus_intorder=-reduced_integration)\n",
    "    a.Assemble()\n",
    "\n",
    "    f = LinearForm(-0.1 * du * ds(\"right\")).Assemble()\n",
    "\n",
    "    gf_solution = GridFunction(fes)\n",
    "    gf_w, gf_beta = gf_solution.components\n",
    "\n",
    "    gf_solution.vec.data = a.mat.Inverse(fes.FreeDofs(), inverse=\"\") * f.vec\n",
    "\n",
    "    if draw:\n",
    "        Draw(gf_w, mesh, deformation=CF((0, gf_w, 0)), min=0, max=0)\n",
    "\n",
    "    return gf_w(mesh(1, 0, 0)), gf_w, gf_beta\n",
    "\n",
    "\n",
    "SolveTimoschenkoBeam(order=2, mesh=Make1DMesh(10), thickness=0.01, draw=True);"
   ]
  },
  {
   "cell_type": "markdown",
   "id": "21866c76",
   "metadata": {},
   "source": [
    "Test for different thicknesses the convergence for a sequence of refined meshes.\n",
    "\n",
    "Try out reduced integration or setting the polynomial order to $k=2$."
   ]
  },
  {
   "cell_type": "code",
   "execution_count": null,
   "id": "4",
   "metadata": {},
   "outputs": [],
   "source": [
    "thicknesses = [10 ** (-i) for i in range(1, 5)]\n",
    "results = []\n",
    "with TaskManager():\n",
    "    for t in thicknesses:\n",
    "        results.append([])\n",
    "        for num_el in [2**i for i in range(1, 9)]:\n",
    "            displacement, _, _ = SolveTimoschenkoBeam(\n",
    "                order=1, mesh=Make1DMesh(num_el), thickness=t, reduced_integration=False\n",
    "            )\n",
    "            results[-1].append((num_el, displacement))"
   ]
  },
  {
   "cell_type": "markdown",
   "id": "55201832",
   "metadata": {},
   "source": [
    "Plot the deflections. We observe for $k=1$ and no reduced integration that a pre-asymptotic regime rapidly increases, where the displacement solution is zero. Using reduced integration with $k=1$ cures the problem. Also increasing the polynomial degree to $k=2$ (or higher) overcomes the shear locking (also without reduced integration)."
   ]
  },
  {
   "cell_type": "code",
   "execution_count": null,
   "id": "5",
   "metadata": {},
   "outputs": [],
   "source": [
    "import matplotlib.pyplot as plt\n",
    "\n",
    "plt.yscale(\"linear\")\n",
    "plt.xscale(\"log\")\n",
    "plt.xlabel(\"number of elements\")\n",
    "plt.ylabel(\"displacement\")\n",
    "for i, result in enumerate(results):\n",
    "    num_el, displacement = zip(*result)\n",
    "    plt.plot(num_el, displacement, label=f\"thickness={thicknesses[i]}\")\n",
    "plt.legend()\n",
    "plt.show()\n",
    "\n",
    "for i in range(len(results)):\n",
    "    print(f\"tip deflection for thickness {thicknesses[i]} = {results[i][-1][1]}\")"
   ]
  },
  {
   "cell_type": "markdown",
   "id": "6",
   "metadata": {},
   "source": [
    "## Euler-Bernoulli beam\n",
    "\n",
    "In the limit $t\\to0$ the equality $u^\\prime=\\beta$ is forced to hold. Therefore, the rotation $\\beta$ has to coincide with the linearized normal vector of the deformed beam $u^\\prime$ and can be eliminated from the equation.\n",
    "\n",
    "This gives the Euler-Bernoulli beam:\n",
    "For given force $f$ find $u\\in H^2_{\\Gamma}((0,1))=\\{v\\in H^2((0,1))\\,\\vert\\, v(0)=v^\\prime(0)=0\\}$ such that for all $\\delta u\\in H^2_{\\Gamma}((0,1))$ \n",
    "\n",
    "\\begin{align*}\n",
    "\\int_0^1\\frac{E}{12}u^{\\prime\\prime}(\\delta u)^{\\prime\\prime}\\,dx  = \\int_0^1\\delta u\\,f\\,dx.\n",
    "\\end{align*}\n",
    "\n",
    "Note that the thickness parameter $t$ does not enter the equation anymore. Therefore it is locking-free, but $C^1$-conforming finite elements are required as it is now a fourth order problem now."
   ]
  },
  {
   "cell_type": "markdown",
   "id": "7",
   "metadata": {},
   "source": [
    "Let's rewrite it as a mixed saddle-point problem by introducing the bending $\\sigma=\\frac{E}{12}u^{\\prime\\prime}$ as additional unknown\n",
    "\n",
    "\\begin{align*}\n",
    "&\\int_{0}^{1} \\frac{12}{E}\\sigma\\delta\\sigma\\,dx -\\int_{0}^{1}u^{\\prime\\prime}\\delta\\sigma\\,dx &&= 0, &&\\quad \\forall \\delta\\sigma,\\\\\n",
    "&-\\int_{0}^{1}\\sigma(\\delta u)^{\\prime\\prime}\\,dx &&= -\\int_0^1 \\delta u\\,f \\,dx, &&\\quad \\forall \\delta u,\n",
    "\\end{align*}\n",
    "\n",
    "and use integration by parts such that it is well defined for $u,\\sigma\\in H^1(0,1)$\n",
    "\n",
    "\\begin{align*}\n",
    "&\\int_{0}^{1} \\frac{12}{E}\\sigma\\delta\\sigma\\,dx +\\int_{0}^{1}u^{\\prime}(\\delta\\sigma)^\\prime\\,dx &&= 0,\\\\\n",
    "&\\int_{0}^{1}\\sigma^\\prime(\\delta u)^{\\prime}\\,dx &&= -\\int_0^1 \\delta u\\,f \\,dx.\n",
    "\\end{align*}"
   ]
  },
  {
   "cell_type": "markdown",
   "id": "8",
   "metadata": {},
   "source": [
    "For prescribing clamped boundary conditions we use essential Dirichlet data for the dispalcement, $u=0$, but homogeneous Neumann data for $\\sigma$. $\\sigma=0$ would physically mean that the stress is applied which cooresponds to free boundary conditions. Therefore we set $\\sigma=0$ at the free boundary. This swap of boundary condition is classical for mixed problems."
   ]
  },
  {
   "cell_type": "code",
   "execution_count": null,
   "id": "9",
   "metadata": {},
   "outputs": [],
   "source": [
    "def SolveEulerBernoulliBeam(order, mesh, draw=True):\n",
    "    fes = H1(mesh, order=order, dirichlet=\"left\") * H1(\n",
    "        mesh, order=order, dirichlet=\"right\"\n",
    "    )\n",
    "    (u, sigma), (du, dsigma) = fes.TnT()\n",
    "    force = -0.1\n",
    "\n",
    "    a = BilinearForm(fes, symmetric=True)\n",
    "    a += (\n",
    "        12 / E * sigma * dsigma + grad(u) * grad(dsigma) + grad(du) * grad(sigma)\n",
    "    ) * dx\n",
    "    a.Assemble()\n",
    "\n",
    "    f = LinearForm(-force * du * ds(\"right\")).Assemble()\n",
    "\n",
    "    gf_solution = GridFunction(fes)\n",
    "\n",
    "    gf_solution.vec.data = a.mat.Inverse(fes.FreeDofs(), inverse=\"\") * f.vec\n",
    "    gf_u, gf_sigma = gf_solution.components\n",
    "\n",
    "    if draw:\n",
    "        Draw(gf_u, mesh, deformation=CF((0, gf_u, 0)), min=0, max=0)\n",
    "    return gf_u(mesh(1, 0, 0))\n",
    "\n",
    "\n",
    "print(SolveEulerBernoulliBeam(order=2, mesh=Make1DMesh(100), draw=True))"
   ]
  },
  {
   "cell_type": "code",
   "execution_count": null,
   "id": "16",
   "metadata": {},
   "outputs": [],
   "source": []
  }
 ],
 "metadata": {
  "kernelspec": {
   "display_name": "Python 3 (ipykernel)",
   "language": "python",
   "name": "python3"
  },
  "language_info": {
   "codemirror_mode": {
    "name": "ipython",
    "version": 3
   },
   "file_extension": ".py",
   "mimetype": "text/x-python",
   "name": "python",
   "nbconvert_exporter": "python",
   "pygments_lexer": "ipython3",
   "version": "3.12.3"
  }
 },
 "nbformat": 4,
 "nbformat_minor": 5
}
