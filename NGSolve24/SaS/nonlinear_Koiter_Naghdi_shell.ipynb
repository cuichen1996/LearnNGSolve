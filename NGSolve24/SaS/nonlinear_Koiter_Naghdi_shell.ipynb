{
 "cells": [
  {
   "cell_type": "markdown",
   "metadata": {},
   "source": [
    "# Nonlinear Koiter and Naghdi Shells via Hellan-Herrmann-Johnson and TDNNS\n",
    "\n",
    "In this section we solve the nonlinear Koiter and Naghdi shell equations with the HHJ and TDNNS method. Three examples are presented, where the second involves a structure with kinks and branched shells.\n",
    "\n",
    "## Nonlinear Koiter shell with HHJ\n",
    "### Discretization method\n",
    "We start with the following three-field formulation [<a href=\"https://arxiv.org/abs/2304.13806\">Neunteufel, Schöberl: The Hellan-Herrmann-Johnson and TDNNS method for linear and nonlinear shell, <i>arXiv</i> (2023).</a>] to incorporate the distributional extrinsic curvature difference of the initial and deformed shell configuration: \n",
    "\n",
    "Find $(u,\\boldsymbol{\\kappa}^{\\mathrm{diff}},\\boldsymbol{\\sigma})\\in V_h^k\\times M_h^{k-1,\\mathrm{dc}}\\times M_h^{k-1}$ for the Lagrangian \n",
    "\n",
    "\\begin{align*}\n",
    "\t\t\\mathcal{L}(u,\\boldsymbol{\\kappa}^{\\mathrm{diff}},\\boldsymbol{\\sigma})&=\\int_{\\mathcal{S}}\\Big(\\frac{t}{2}\\|\\boldsymbol{E}_{\\mathcal{S}}(u)\\|_{\\mathbb{M}}^2+\\frac{t^3}{12}\\|\\boldsymbol{\\kappa}^{\\mathrm{diff}}\\|_{\\mathbb{M}}^2\\Big)\\,ds+\\sum_{T\\in\\mathcal{T}}\\int_T\\big(\\boldsymbol{\\kappa}^{\\mathrm{diff}}-(\\boldsymbol{F}_{\\mathcal{S}}^T\\nabla_{\\mathcal{S}}(\\nu\\circ\\phi)-\\nabla_{\\mathcal{S}}\\hat{\\nu}) \\big):\\boldsymbol{\\sigma}\\,ds\n",
    "\t\t\\\\\n",
    "\t\t&\\qquad+\\sum_{E\\in\\mathcal{E}}\\int_{E}(\\sphericalangle(\\nu_L\\circ\\phi,\\nu_R\\circ\\phi)-\\sphericalangle(\\hat{\\nu}_L,\\hat{\\nu}_R))\\boldsymbol{\\sigma}_{\\hat{\\mu}\\hat{\\mu}}\\,dl-\\int_{\\mathcal{S}}f\\cdot u\\,ds.\n",
    "\\end{align*}\n",
    "\n",
    "Here, $\\boldsymbol{E}_{\\mathcal{S}}=\\frac{1}{2}(\\boldsymbol{F}_{\\mathcal{S}}^\\top\\boldsymbol{F}_{\\mathcal{S}}-\\boldsymbol{P}_{\\mathcal{S}})= \\frac{1}{2}(\\nabla_{\\mathcal{S}} u^\\top \\nabla_{\\mathcal{S}} u + \\nabla_{\\mathcal{S}} u^\\top\\boldsymbol{P}_{\\mathcal{S}} + \\boldsymbol{P}_{\\mathcal{S}}\\nabla_{\\mathcal{S}} u)$ denotes the Green-strain tensor restricting on the tangent space measuring the membrane energy of the shell, $t$ the thickness, and $\\mathbb{M}$ the material tensor. $\\nu$ and $\\hat{\\nu}$ are the normal vectors with respect to the deformed and initial configuration, respectively. $\\hat{\\mu}$ is the co-normal (element-normal) vector.\n",
    "   \n",
    "   \n",
    "<img src=\"figures/nv_conv_tang_trig.png\" width=\"200\" align=\"center\"> \n",
    "\n",
    "With this formulation we circumvented the fourth order problem by means of a mixed one and are able to compute the bending energy also on affine triangulations thanks to the edge terms measuring the angle difference between the initial and deformed configuration.\n",
    "\n",
    "For an invertible material law, we can eliminate $\\boldsymbol{\\kappa}^{\\mathrm{diff}}$ leading to a mixed saddle point problem in the displacement $u$ and moment tensor $\\boldsymbol{\\sigma}$. The term $\\boldsymbol{F}_{\\mathcal{S}}^T\\nabla_{\\mathcal{S}}(\\nu\\circ\\phi)-\\nabla_{\\mathcal{S}}\\hat{\\nu}$ can be rewritten and simplified. The following formulation can be seen as an extension of the Hellan-Herrmann-Johnson method from linear plates to nonlinear shells [<a href=\"https://doi.org/10.1016/j.compstruc.2019.106109\">Neunteufel, Schöberl: The Hellan-Herrmann-Johnson method for nonlinear shell, <i>Comput. Struct.</i> (2019).</a>].\n",
    "\n",
    "Find $(u,\\boldsymbol{\\sigma})\\in V_h^k\\times M_h^{k-1}$ for the Lagrangian \n",
    "\n",
    "\\begin{align*}\n",
    "\\mathcal{L}(u,\\sigma) &=\\int_{\\mathcal{S}}\\Big(\\frac{t}{2}\\|\\boldsymbol{E}_{\\mathcal{S}}(u)\\|^2_{\\mathbb{M}} -\\frac{6}{t^3}\\|\\boldsymbol{\\sigma}\\|^2_{\\mathbb{M}^{-1}}\\Big)\\,ds +  \\sum_{T\\in\\mathcal{T}}\\int_{T} \\boldsymbol{\\sigma}:(\\boldsymbol{H}_{\\nu\\circ\\phi}+(1-\\hat{\\nu}\\cdot\\nu\\circ\\phi)\\nabla_{\\mathcal{S}}\\hat{\\nu})\\,ds \\\\\n",
    "&\\qquad+ \\sum_{E\\in\\mathcal{E}}\\int_E(\\sphericalangle(\\nu_L\\circ\\phi,\\nu_R\\circ\\phi)-\\sphericalangle(\\hat{\\nu}_L,\\hat{\\nu}_R))\\boldsymbol{\\sigma}_{\\hat{\\mu}\\hat{\\mu}}\\,dl - \\int_{\\mathcal{S}}f\\cdot u\\,ds,\n",
    "\\end{align*}\n",
    "\n",
    "where $\\boldsymbol{H}_{\\nu\\circ\\phi}=\\sum_{i=1}^3(\\nabla_{\\mathcal{S}}^2u_i)\\nu_i\\circ\\phi$, and $\\nabla^2_S u_i=\\boldsymbol{P}_{\\mathcal{S}}\\nabla_{\\mathcal{S}}(\\nabla_{\\mathcal{S}} u_i)$ denotes the Riemann surface Hessian.\n"
   ]
  },
  {
   "cell_type": "markdown",
   "metadata": {},
   "source": [
    "### Cylindrical shell under volume load\n",
    "As a first example we consider a cylindrical shell, which is clamped at the left side and free at the right side, and applying a volume force."
   ]
  },
  {
   "cell_type": "code",
   "execution_count": null,
   "metadata": {},
   "outputs": [],
   "source": [
    "from netgen.occ import *\n",
    "from ngsolve import *\n",
    "from ngsolve.webgui import Draw\n",
    "import ipywidgets as widgets\n",
    "\n",
    "order = 4\n",
    "\n",
    "cyl = Cylinder((0, 0, 0), (1, 0, 0), 0.4, 1).faces[0]\n",
    "cyl.edges.Min(X).name = \"left\"\n",
    "cyl.edges.Min(X).hpref = 1\n",
    "cyl.edges.Max(X).name = \"right\"\n",
    "mesh = Mesh(OCCGeometry(cyl).GenerateMesh(maxh=0.1)).Curve(order)\n",
    "mesh.RefineHP(2, 0.3)\n",
    "mesh.Curve(order)\n",
    "Draw(mesh, euler_angles=[0, -50, -10])\n",
    "\n",
    "E, nu = 2e1, 0.1\n",
    "thickness = 0.02"
   ]
  },
  {
   "cell_type": "markdown",
   "metadata": {},
   "source": [
    "At the clamped boundary we need to fix the displacement by homogeneous Dirichlet boundary conditions. As usual for mixed formulations the essential and natural boundary conditions swap for the stress field. Therefore, we have to set the essential boundary condition $\\sigma_{\\hat\\mu\\hat\\mu}$ at the free boundary. $\\sigma_{\\hat\\mu\\hat\\mu}=0$ has the physical meaning that no moment-force is applied at this boundary."
   ]
  },
  {
   "cell_type": "code",
   "execution_count": null,
   "metadata": {},
   "outputs": [],
   "source": [
    "fes1 = HDivDivSurface(mesh, order=order - 1, dirichlet_bbnd=\"right\")\n",
    "fes2 = VectorH1(mesh, order=order, dirichlet_bbnd=\"left\")\n",
    "fes = fes2 * fes1\n",
    "u, sigma = fes.TrialFunction()\n",
    "# need the trace as we are on a surface\n",
    "sigma = sigma.Trace()\n",
    "\n",
    "fesRegge = HCurlCurl(mesh, order=order - 1)\n",
    "\n",
    "gf_solution = GridFunction(fes, name=\"solution\")"
   ]
  },
  {
   "cell_type": "markdown",
   "metadata": {},
   "source": [
    "We define the unit normal vector $\\hat\\nu$, edge-tangential vector $\\hat t$ and the co-normal vector $\\hat\\mu = \\hat\\nu\\times \\hat t$ at the initial configuration.\n",
    "\n",
    "Then the projection operator onto the tangent space, deformation gradient, Cauchy-Green, and Green tensors $\\boldsymbol{P}_{\\mathcal{S}}$, $\\boldsymbol{F}_{\\mathcal{S}}$, $\\boldsymbol{C}_{\\mathcal{S}}$, and $\\boldsymbol{E}_{\\mathcal{S}}$ are introduced.\n",
    "\n",
    "Finally, the unit normal, edge-tangential, and co-normal vectors $\\nu, \\tau,\\mu$ on the deformed configuration are declared, which depend on the unknown displacement field $u$."
   ]
  },
  {
   "cell_type": "code",
   "execution_count": null,
   "metadata": {},
   "outputs": [],
   "source": [
    "# Surface unit normal, edge-tangential, and co-normal vectors on initial configuration\n",
    "nv = specialcf.normal(mesh.dim)\n",
    "tv = specialcf.tangential(mesh.dim)\n",
    "cnv = Cross(nv, tv)\n",
    "\n",
    "# Projection to the surface tangent space\n",
    "Ptau = Id(mesh.dim) - OuterProduct(nv, nv)\n",
    "Ftau = Grad(u).Trace() + Ptau\n",
    "Etautau = 0.5 * (Ftau.trans * Ftau - Ptau)\n",
    "\n",
    "# Surface unit normal, edge-tangential, and co-normal vectors on deformed configuration\n",
    "nv_def = Normalize(Cof(Ftau) * nv)\n",
    "tv_def = Normalize(Ftau * tv)\n",
    "cnv_def = Cross(nv_def, tv_def)\n",
    "\n",
    "# Surface Hessian weighted with unit normal vector on deformed configuration\n",
    "H_nv_def = (u.Operator(\"hesseboundary\").trans * nv_def).Reshape((3, 3))"
   ]
  },
  {
   "cell_type": "markdown",
   "metadata": {},
   "source": [
    "For the angle computation of the bending energy we use an averaged unit normal vector avoiding the necessity of using information of two neighbored element at once (+ a more stable formulation using the co-normal vector instead of the unit normal vector)\n",
    "\n",
    "\n",
    "<img src=\"figures/nonsmooth_av_nv_el_nv.png\" width=\"150\" align=\"center\"> \n",
    "\n",
    "\\begin{align*}\n",
    "\\sum_{E\\in\\mathcal{E}}\\int_E(\\sphericalangle(\\hat{\\nu}_L,\\hat{\\nu}_R)-\\sphericalangle(\\nu_L,\\nu_R)\\circ\\phi)\\boldsymbol{\\sigma}_{\\hat{\\mu}\\hat{\\mu}}\\,dl &= \\sum_{T\\in\\mathcal{T}}\\int_{\\partial T}(\\sphericalangle(\\mu\\circ\\phi,P^{\\perp}_{\\tau\\circ\\phi}(\\{\\!\\{\\nu^n\\}\\!\\}))-\\sphericalangle(\\hat{\\mu},\\{\\!\\{\\hat{\\nu}\\}\\!\\}))\\boldsymbol{\\sigma}_{\\hat{\\mu}\\hat{\\mu}}\\,dl,\n",
    "\\end{align*}\n",
    "\n",
    "where \n",
    "\n",
    "\\begin{align*}\n",
    "P^{\\perp}_{\\tau\\circ\\phi}(v)= \\frac{1}{\\|\\boldsymbol{P}^{\\perp}_{\\tau\\circ\\phi}v\\|}\\boldsymbol{P}^{\\perp}_{\\tau\\circ\\phi}v,\\qquad \\boldsymbol{P}^{\\perp}_{\\tau\\circ\\phi}= \\boldsymbol{I}-\\tau\\circ\\phi\\otimes\\tau\\circ\\phi\n",
    "\\end{align*}\n",
    "\n",
    "denotes the (nonlinear) normalized projection to the plane perpendicular to the deformed edge-tangential vector $\\tau$ for measuring the correct angle."
   ]
  },
  {
   "cell_type": "code",
   "execution_count": null,
   "metadata": {},
   "outputs": [],
   "source": [
    "gf_clamped_bnd = GridFunction(FacetSurface(mesh, order=0))\n",
    "gf_clamped_bnd.Set(1, definedon=mesh.BBoundaries(\"left\"))\n",
    "\n",
    "# Unit normal vector on current configuration\n",
    "cf_nv_cur = Normalize(Cof(Ptau + Grad(gf_solution.components[0])) * nv)\n",
    "\n",
    "# FE space for averaged normal vectors living only on the edges of the mesh\n",
    "fesVF = VectorFacetSurface(mesh, order=order)\n",
    "averaged_nv = GridFunction(fesVF)\n",
    "averaged_nv_init = GridFunction(fesVF)\n",
    "\n",
    "averaged_nv.Set(nv, dual=True, definedon=mesh.Boundaries(\".*\"))\n",
    "averaged_nv_init.Set(nv, dual=True, definedon=mesh.Boundaries(\".*\"))\n",
    "\n",
    "cf_averaged_nv_init_norm = Normalize(averaged_nv_init)\n",
    "cf_proj_averaged_nv = Normalize(averaged_nv - (tv_def * averaged_nv) * tv_def)"
   ]
  },
  {
   "cell_type": "markdown",
   "metadata": {},
   "source": [
    "Define the material and inverse material norms $\\|\\cdot\\|_{\\mathbb{M}}^2$ and $\\|\\cdot\\|_{\\mathbb{M}^{-1}}^2$ with Young modulus $\\bar{E}$ and Poisson's ratio $\\bar{\\nu}$\n",
    "\n",
    "\\begin{align*}\n",
    "\\mathbb{M} \\boldsymbol{E} = \\frac{\\bar E}{1-\\bar \\nu^2}\\big((1-\\bar \\nu)\\boldsymbol{E}+\\bar \\nu\\,\\mathrm{tr}(\\boldsymbol{E})\\boldsymbol{P}\\big),\\qquad\\mathbb{M}^{-1} \\boldsymbol{\\sigma} = \\frac{1+\\bar \\nu}{\\bar E}\\big(\\boldsymbol{\\sigma}-\\frac{\\bar \\nu}{\\bar\\nu+1}\\,\\mathrm{tr}(\\boldsymbol{\\sigma})\\boldsymbol{P}\\big).\n",
    "\\end{align*}"
   ]
  },
  {
   "cell_type": "code",
   "execution_count": null,
   "metadata": {},
   "outputs": [],
   "source": [
    "def MaterialNorm(mat, E, nu):\n",
    "    return E / (1 - nu**2) * ((1 - nu) * InnerProduct(mat, mat) + nu * Trace(mat) ** 2)\n",
    "\n",
    "\n",
    "def MaterialNormInv(mat, E, nu):\n",
    "    return (1 + nu) / E * (InnerProduct(mat, mat) - nu / (nu + 1) * Trace(mat) ** 2)"
   ]
  },
  {
   "cell_type": "markdown",
   "metadata": {},
   "source": [
    "Define the bilinear form for the problem including membrane and bending energy\n",
    "\n",
    "\\begin{align*}\n",
    "\\mathcal{L}(u,\\sigma) &=\\int_{\\mathcal{S}}\\Big(\\frac{t}{2}\\|\\boldsymbol{E}_{\\mathcal{S}}(u)\\|^2_{\\mathbb{M}} -\\frac{6}{t^3}\\|\\boldsymbol{\\sigma}\\|^2_{\\mathbb{M}^{-1}}\\Big)\\,ds +  \\sum_{T\\in\\mathcal{T}}\\Big(\\int_{T} \\boldsymbol{\\sigma}:(\\boldsymbol{H}_{\\nu\\circ\\phi}+(1-\\hat{\\nu}\\cdot\\nu\\circ\\phi)\\nabla_{\\mathcal{S}}\\hat{\\nu})\\,ds \\\\\n",
    "&\\qquad+ \\int_{\\partial T}(\\sphericalangle(\\mu\\circ\\phi,\\{\\!\\{\\nu^n\\}\\!\\})-\\sphericalangle(\\hat{\\mu},\\{\\!\\{\\hat{\\nu}\\}\\!\\}))\\boldsymbol{\\sigma}_{\\hat{\\mu}\\hat{\\mu}}\\,dl\\Big) - \\int_{\\mathcal{S}}f\\cdot u\\,ds.\n",
    "\\end{align*}\n",
    "\n",
    "For $k\\geq 2$ so-called membrane locking can occur for small thickness parameters due to the different scaling of the membrane and bending energy. To circumvent this locking problem we can interpolate the membrane strains into Regge finite elements of one order less than the displacement fields [<a href=\"https://doi.org/10.1016/j.cma.2020.113524\">Neunteufel, Schöberl. Avoiding membrane locking with Regge interpolation. <i>Computer Methods in Applied Mechanics and Engineering</i>, (2021).</a>]."
   ]
  },
  {
   "cell_type": "code",
   "execution_count": null,
   "metadata": {},
   "outputs": [],
   "source": [
    "bfA = BilinearForm(fes, symmetric=True, condense=True)\n",
    "# membrane energy\n",
    "bfA += Variation(\n",
    "    0.5 * thickness * MaterialNorm(Interpolate(Etautau, fesRegge), E, nu) * ds\n",
    ").Compile()\n",
    "# bending energy\n",
    "bfA += Variation(\n",
    "    (\n",
    "        -6 / thickness**3 * MaterialNormInv(sigma, E, nu)\n",
    "        + InnerProduct(H_nv_def + (1 - nv * nv_def) * Grad(nv), sigma)\n",
    "    )\n",
    "    * ds\n",
    ").Compile()\n",
    "bfA += Variation(\n",
    "    (acos(cnv_def * cf_proj_averaged_nv) - acos(cnv * cf_averaged_nv_init_norm))\n",
    "    * sigma[cnv, cnv]\n",
    "    * ds(element_boundary=True)\n",
    ").Compile()\n",
    "\n",
    "par = Parameter(0.0)\n",
    "bfA += Variation(-thickness * par * 2 * y * u[1] * ds)"
   ]
  },
  {
   "cell_type": "code",
   "execution_count": null,
   "metadata": {},
   "outputs": [],
   "source": [
    "gf_solution.vec[:] = 0\n",
    "gf_history = GridFunction(fes, multidim=0)\n",
    "gf_u, gf_sigma = gf_solution.components\n",
    "scene_u = Draw(gf_u, mesh, \"displacement\", deformation=gf_u, euler_angles=[0, -50, -10])\n",
    "scene_sigma = Draw(\n",
    "    Norm(gf_sigma), mesh, \"bending_stress\", deformation=gf_u, euler_angles=[0, -50, -10]\n",
    ");"
   ]
  },
  {
   "cell_type": "code",
   "execution_count": null,
   "metadata": {},
   "outputs": [],
   "source": [
    "num_steps = 20\n",
    "\n",
    "tw = widgets.Text(value=\"step = 0\")\n",
    "display(tw)\n",
    "\n",
    "with TaskManager():\n",
    "    for steps in range(num_steps):\n",
    "        par.Set((steps + 1) / num_steps)\n",
    "\n",
    "        # Update averaged normal vector\n",
    "        averaged_nv.Set(\n",
    "            (1 - gf_clamped_bnd) * cf_nv_cur + gf_clamped_bnd * nv,\n",
    "            dual=True,\n",
    "            definedon=mesh.Boundaries(\".*\"),\n",
    "        )\n",
    "\n",
    "        solvers.Newton(\n",
    "            bfA,\n",
    "            gf_solution,\n",
    "            inverse=\"\",\n",
    "            printing=False,\n",
    "            maxerr=1e-5,\n",
    "        )\n",
    "        scene_u.Redraw()\n",
    "        scene_sigma.Redraw()\n",
    "        gf_history.AddMultiDimComponent(gf_solution.vec)\n",
    "        tw.value = f\"step = {steps+1}/{num_steps}\""
   ]
  },
  {
   "cell_type": "code",
   "execution_count": null,
   "metadata": {},
   "outputs": [],
   "source": [
    "Draw(\n",
    "    gf_history.components[0],\n",
    "    mesh,\n",
    "    animate=True,\n",
    "    min=0,\n",
    "    max=0.25,\n",
    "    autoscale=True,\n",
    "    deformation=True,\n",
    "    euler_angles=[0, -50, -10],\n",
    ");"
   ]
  },
  {
   "cell_type": "markdown",
   "metadata": {},
   "source": [
    "__Advantage__:\n",
    "* No $H^2$ finite elements needed\n",
    "\n",
    "__Disadvantage__:\n",
    "* Saddle point problem\n",
    "* Moments are prescribed as essential Dirichlet data, not optimal for load-steps with moments as right-hand side"
   ]
  },
  {
   "cell_type": "markdown",
   "metadata": {},
   "source": [
    "We use hybridization making $\\sigma$ discontinuous and reinforcing the normal-normal continuity by a Lagrange multiplier $\\alpha$.\n",
    "\n",
    "This enables also to statically condense out $\\sigma$ and the resulting system in $(u,\\alpha)$ is again a minimization problem such that we can use e.g. sparsecholesky solver (or CG). The resulting dofs are equivalent to the famous Morley triangle which is a non-conforming element for fourth order problems."
   ]
  },
  {
   "cell_type": "markdown",
   "metadata": {},
   "source": [
    "### Cantilever with bending moments\n",
    "\n",
    "\n",
    "<img src=\"figures/cant_bend_mom_1d.png\" width=\"200\" align=\"center\"/>\n",
    "\n",
    "\n",
    "We consider a beam which is fixed at the left boundary and we will apply a moment at the right boundary such that the beam should roll up to a circle (Possion ratio $\\bar\\nu=0$). We use loadsteps to increase the moments and apply Newton's method. As the bending moment would be incorporated strongly via $\\sigma_{\\hat\\mu\\hat\\mu}$, which is tedious, we use the hybridized formulation such that we can include the force weakly directly in the formulation. "
   ]
  },
  {
   "cell_type": "code",
   "execution_count": null,
   "metadata": {},
   "outputs": [],
   "source": [
    "thickness = 0.1\n",
    "L = 12\n",
    "W = 1\n",
    "E, nu = 1.2e6, 0\n",
    "moment = IfPos(x - L + 1e-6, 1, 0) * 50 * pi / 3\n",
    "\n",
    "mapping = lambda x, y, z: (L * x, W * y, 0)\n",
    "rect = Rectangle(L, W).Face()\n",
    "rect.edges.Min(X).name = \"left\"\n",
    "rect.edges.Max(X).name = \"right\"\n",
    "rect.edges.Min(Y).name = \"bottom\"\n",
    "rect.edges.Max(Y).name = \"top\"\n",
    "mesh = Mesh(OCCGeometry(rect).GenerateMesh(maxh=1))\n",
    "Draw(mesh);"
   ]
  },
  {
   "cell_type": "markdown",
   "metadata": {},
   "source": [
    "Due to hybridization the essential and natural boundary conditions swapped again. For the Lagrange multiplier, which has the physical meaning of the rotated angle, we set homogeneous Dirichlet at the clamped left boundary."
   ]
  },
  {
   "cell_type": "code",
   "execution_count": null,
   "metadata": {},
   "outputs": [],
   "source": [
    "order = 2\n",
    "\n",
    "fes1 = HDivDivSurface(mesh, order=order - 1, discontinuous=True)\n",
    "fes2 = VectorH1(\n",
    "    mesh,\n",
    "    order=order,\n",
    "    dirichletx_bbnd=\"left\",\n",
    "    dirichlety_bbnd=\"left|bottom|top\",\n",
    "    dirichletz_bbnd=\"left\",\n",
    ")\n",
    "fes3 = NormalFacetSurface(mesh, order=order - 1, dirichlet_bbnd=\"left|bottom|top\")\n",
    "fes = fes2 * fes1 * fes3\n",
    "u, sigma, hyb = fes.TrialFunction()\n",
    "sigma, hyb = sigma.Trace(), hyb.Trace()\n",
    "\n",
    "fesRegge = HCurlCurl(mesh, order=order - 1)\n",
    "\n",
    "gf_solution = GridFunction(fes, name=\"solution\")"
   ]
  },
  {
   "cell_type": "markdown",
   "metadata": {},
   "source": [
    "Define again the tensors and deformed vectors"
   ]
  },
  {
   "cell_type": "code",
   "execution_count": null,
   "metadata": {},
   "outputs": [],
   "source": [
    "Ptau = Id(mesh.dim) - OuterProduct(nv, nv)\n",
    "Ftau = Grad(u).Trace() + Ptau\n",
    "Etautau = 0.5 * (Ftau.trans * Ftau - Ptau)\n",
    "\n",
    "nv_def = Normalize(Cof(Ftau) * nv)\n",
    "tv_def = Normalize(Ftau * tv)\n",
    "cnv_def = Cross(nv_def, tv_def)\n",
    "\n",
    "H_nv_def = (u.Operator(\"hesseboundary\").trans * nv_def).Reshape((3, 3))"
   ]
  },
  {
   "cell_type": "markdown",
   "metadata": {},
   "source": [
    "Stuff for averaging normal vector and material laws"
   ]
  },
  {
   "cell_type": "code",
   "execution_count": null,
   "metadata": {},
   "outputs": [],
   "source": [
    "gf_clamped_bnd = GridFunction(FacetSurface(mesh, order=0))\n",
    "gf_clamped_bnd.Set(1, definedon=mesh.BBoundaries(\"left\"))\n",
    "\n",
    "cf_nv_cur = Normalize(Cof(Ptau + Grad(gf_solution.components[0])) * nv)\n",
    "\n",
    "fesVF = VectorFacetSurface(mesh, order=order)\n",
    "averaged_nv = GridFunction(fesVF)\n",
    "averaged_nv_init = GridFunction(fesVF)\n",
    "\n",
    "averaged_nv.Set(nv, dual=True, definedon=mesh.Boundaries(\".*\"))\n",
    "averaged_nv_init.Set(nv, dual=True, definedon=mesh.Boundaries(\".*\"))\n",
    "cf_averaged_nv_init_norm = Normalize(averaged_nv_init)\n",
    "cf_proj_averaged_nv = Normalize(averaged_nv - (tv_def * averaged_nv) * tv_def)"
   ]
  },
  {
   "cell_type": "markdown",
   "metadata": {},
   "source": [
    "Define hybridized energy and set ``condense=True`` to condense out bending moment unknown."
   ]
  },
  {
   "cell_type": "code",
   "execution_count": null,
   "metadata": {},
   "outputs": [],
   "source": [
    "bfA = BilinearForm(fes, symmetric=True, condense=True)\n",
    "# membrane energy\n",
    "bfA += Variation(\n",
    "    0.5 * thickness * MaterialNorm(Interpolate(Etautau, fesRegge), E, nu) * ds\n",
    ")\n",
    "# bending energy\n",
    "bfA += Variation(\n",
    "    (\n",
    "        -6 / thickness**3 * MaterialNormInv(sigma, E, nu)\n",
    "        + InnerProduct(H_nv_def + (1 - nv * nv_def) * Grad(nv), sigma)\n",
    "    )\n",
    "    * ds\n",
    ").Compile()\n",
    "bfA += Variation(\n",
    "    (\n",
    "        acos(cnv_def * cf_proj_averaged_nv)\n",
    "        - acos(cnv * cf_averaged_nv_init_norm)\n",
    "        + hyb * cnv\n",
    "    )\n",
    "    * sigma[cnv, cnv]\n",
    "    * ds(element_boundary=True)\n",
    ").Compile()\n",
    "\n",
    "par = Parameter(0.0)\n",
    "bfA += Variation(-par * moment * (hyb * cnv) * ds(element_boundary=True))"
   ]
  },
  {
   "cell_type": "code",
   "execution_count": null,
   "metadata": {},
   "outputs": [],
   "source": [
    "gf_solution.vec[:] = 0\n",
    "gf_history = GridFunction(fes, multidim=0)\n",
    "gf_u, gf_sigma, _ = gf_solution.components\n",
    "scene_u = Draw(\n",
    "    gf_u,\n",
    "    mesh,\n",
    "    \"displacement\",\n",
    "    deformation=gf_u,\n",
    "    euler_angles=[-20, 0, 0],\n",
    ");"
   ]
  },
  {
   "cell_type": "markdown",
   "metadata": {},
   "source": [
    "Average new normal vector and solve with Newton."
   ]
  },
  {
   "cell_type": "code",
   "execution_count": null,
   "metadata": {},
   "outputs": [],
   "source": [
    "point_P = (L, W / 2, 0)\n",
    "result_P = [(0, 0, 0)]\n",
    "ex_sol = [(0, 0, 0)]\n",
    "\n",
    "\n",
    "def GetExactSolution(par):\n",
    "    R = 100 / (par.Get() * 50 * pi / 3)\n",
    "    return (R * sin(L / R) - L, 0, -R * cos(L / R) + R)\n",
    "\n",
    "\n",
    "tw = widgets.Text(value=\"step = 0\")\n",
    "display(tw)\n",
    "\n",
    "num_steps = 20\n",
    "\n",
    "with TaskManager():\n",
    "    for steps in range(num_steps):\n",
    "        par.Set((steps + 1) / num_steps)\n",
    "\n",
    "        averaged_nv.Set(\n",
    "            (1 - gf_clamped_bnd) * cf_nv_cur + gf_clamped_bnd * nv,\n",
    "            dual=True,\n",
    "            definedon=mesh.Boundaries(\".*\"),\n",
    "        )\n",
    "\n",
    "        solvers.Newton(\n",
    "            bfA,\n",
    "            gf_solution,\n",
    "            inverse=\"sparsecholesky\",\n",
    "            printing=False,\n",
    "            maxerr=1e-5,\n",
    "        )\n",
    "        scene_u.Redraw()\n",
    "\n",
    "        result_P.append((gf_u(mesh(*point_P, BND))))\n",
    "        ex_sol.append(GetExactSolution(par))\n",
    "        gf_history.AddMultiDimComponent(gf_solution.vec)\n",
    "        tw.value = f\"step = {steps+1}/{num_steps}\""
   ]
  },
  {
   "cell_type": "code",
   "execution_count": null,
   "metadata": {},
   "outputs": [],
   "source": [
    "Draw(\n",
    "    gf_history.components[0],\n",
    "    mesh,\n",
    "    animate=True,\n",
    "    min=0,\n",
    "    max=12,\n",
    "    autoscale=True,\n",
    "    deformation=True,\n",
    "    euler_angles=[-20, 0, 0],\n",
    ");"
   ]
  },
  {
   "cell_type": "code",
   "execution_count": null,
   "metadata": {},
   "outputs": [],
   "source": [
    "import matplotlib.pyplot as plt\n",
    "\n",
    "u_x, _, u_z = zip(*result_P)\n",
    "y_axis = [i / num_steps for i in range(len(u_x))]\n",
    "u_x = [-val for val in u_x]\n",
    "u_ex_x, _, u_ex_z = zip(*ex_sol)\n",
    "u_ex_x = [-val for val in u_ex_x]\n",
    "\n",
    "plt.plot(u_x, y_axis, \"-*\", label=\"$-u_x$\")\n",
    "plt.plot(u_z, y_axis, \"-x\", label=\"$u_z$\")\n",
    "plt.plot(u_ex_x, y_axis, \"--\", color=\"k\", label=\"$-u\\\\_ex_x$\")\n",
    "plt.plot(u_ex_z, y_axis, \"-.\", color=\"k\", label=\"$u\\\\_ex_z$\")\n",
    "\n",
    "plt.xlabel(\"displacement\")\n",
    "plt.ylabel(\"$M/M_{\\\\max}$\")\n",
    "plt.legend()\n",
    "plt.show()"
   ]
  },
  {
   "cell_type": "markdown",
   "metadata": {},
   "source": [
    "We can try out how many rounds the shell can do by further increasing the bending moment."
   ]
  },
  {
   "cell_type": "code",
   "execution_count": null,
   "metadata": {},
   "outputs": [],
   "source": [
    "scene_u = Draw(gf_u, mesh, \"displacement\", deformation=gf_u)\n",
    "display(tw)\n",
    "\n",
    "num_steps = 10\n",
    "with TaskManager():\n",
    "    for steps in range(num_steps):\n",
    "        par.Set(par.Get() + (1) / num_steps)\n",
    "\n",
    "        averaged_nv.Set(\n",
    "            (1 - gf_clamped_bnd) * cf_nv_cur + gf_clamped_bnd * nv,\n",
    "            dual=True,\n",
    "            definedon=mesh.Boundaries(\".*\"),\n",
    "        )\n",
    "        solvers.Newton(\n",
    "            bfA,\n",
    "            gf_solution,\n",
    "            inverse=\"sparsecholesky\",\n",
    "            printing=False,\n",
    "            maxerr=1e-5,\n",
    "        )\n",
    "        scene_u.Redraw()\n",
    "        tw.value = f\"step = {steps+1}/{num_steps}\""
   ]
  },
  {
   "cell_type": "markdown",
   "metadata": {},
   "source": [
    "## Nonlinear Naghdi shells with TDNNS\n",
    "### Discretization method\n",
    "The Lagrangian for the nonlinear extension of the TDNNS method for Naghdi shells reads [<a href=\"https://doi.org/10.48550/arXiv.2304.13806\">Neunteufel, Schöberl. The Hellan-Herrmann-Johnson and TDNNS method for linear and nonlinear shells. <i>arXiv</i>, (2023).</a>]\n",
    "\n",
    "\\begin{align*}\n",
    "\\mathcal{L}(u,\\sigma,\\gamma)&= \\int_{\\mathcal{S}}\\Big(\\frac{t}{2}\\|\\boldsymbol{E}_{\\mathcal{S}}(u)\\|_{\\mathbb{M}}^2-\\frac{6}{t^3}\\|\\sigma\\|^2_{\\mathbb{C}^{-1}}+\\frac{t\\kappa G}{2}\\|\\gamma\\|^2\\Big)\\,ds+ \\sum_{T\\in\\mathcal{T}}\\int_T(\\mathcal{H}_{\\tilde{\\nu}}+(1-\\hat{\\nu}\\cdot\\tilde{\\nu})\\nabla_S\\hat{\\nu}-\\nabla_S\\gamma):\\sigma\\,ds \\\\\n",
    "&\\qquad+ \\sum_{E\\in\\mathcal{E}} \\int_E (\\sphericalangle(\\nu_L,\\nu_R)\\circ\\phi-\\sphericalangle(\\hat{\\nu}_L,\\hat{\\nu}_R)-[\\![\\gamma_{\\hat{\\mu}}]\\!])\\sigma_{\\hat{\\mu}\\hat{\\mu}}\\,dl,\n",
    "\\end{align*}\n",
    "\n",
    "as we consider a hierarchical approach adding additional shearing degrees of freedom on the top of the HHJ method for nonlinear Koiter shells. Here, the director is $\\tilde{\\nu}=\\nu+F^\\dagger_{\\mathcal{S}}\\gamma$, with $F^\\dagger_{\\mathcal{S}}$ the Moore-Penrose pseudo inverse of $F_{\\mathcal{S}}$. "
   ]
  },
  {
   "cell_type": "markdown",
   "metadata": {},
   "source": [
    "### T-structure"
   ]
  },
  {
   "cell_type": "code",
   "execution_count": null,
   "metadata": {},
   "outputs": [],
   "source": [
    "thickness = 0.1\n",
    "L = 1\n",
    "E, nu = 6.2e6, 0\n",
    "G = E / (2 * (1 + nu))\n",
    "kappa = 5 / 6\n",
    "\n",
    "shear = 3e3 * CF((1, 0, 1))\n",
    "\n",
    "f1 = WorkPlane(Axes((0, 0, 0), n=X, h=Y)).Rectangle(L, L).Face()\n",
    "f1.edges.Min(Z).name = \"bottom\"\n",
    "f1.edges.Max(Z).name = \"top\"\n",
    "f1.edges.Min(Y).name = \"left\"\n",
    "f1.edges.Max(Y).name = \"right\"\n",
    "f2 = WorkPlane(Axes((-L / 2, 0, L), n=Z, h=X)).Rectangle(L, L).Face()\n",
    "f2.edges.Min(Y).name = \"zpbottom\"\n",
    "f2.edges.Max(Y).name = \"uptop\"\n",
    "f2.edges.Min(X).name = \"upleft\"\n",
    "f2.edges.Max(X).name = \"upright\"\n",
    "shape = Glue([f1, f2])\n",
    "mesh = Mesh(OCCGeometry(shape).GenerateMesh(maxh=0.25))\n",
    "Draw(mesh, euler_angles=[-60, 0, -15]);"
   ]
  },
  {
   "cell_type": "code",
   "execution_count": null,
   "metadata": {},
   "outputs": [],
   "source": [
    "order = 3\n",
    "\n",
    "fesU = VectorH1(mesh, order=order, dirichlet_bbnd=\"bottom\")\n",
    "fesM = HDivDivSurface(mesh, order=order - 1, discontinuous=True)\n",
    "fesH = NormalFacetSurface(mesh, order=order - 1, dirichlet_bbnd=\"bottom\")\n",
    "fesB = HCurl(mesh, order=order - 1, dirichlet_bbnd=\"bottom\")\n",
    "fes = fesU * fesM * fesB * fesH\n",
    "\n",
    "u, sigma, gamma, hyb = fes.TrialFunction()\n",
    "sigma, gamma, hyb = sigma.Trace(), gamma.Trace(), hyb.Trace()\n",
    "\n",
    "fesRegge = HCurlCurl(mesh, order=order - 1, discontinuous=True)\n",
    "\n",
    "gf_solution = GridFunction(fes, name=\"solution\")"
   ]
  },
  {
   "cell_type": "code",
   "execution_count": null,
   "metadata": {},
   "outputs": [],
   "source": [
    "Ptau = Id(mesh.dim) - OuterProduct(nv, nv)\n",
    "Ftau = Grad(u).Trace() + Ptau\n",
    "Etautau = 0.5 * (Ftau.trans * Ftau - Ptau)\n",
    "\n",
    "\n",
    "def PseudoInverse(mat, v):\n",
    "    \"\"\"Pseudo Inverse of a rank (n-1) matrix\n",
    "    v needs to lie in the kernel of mat\n",
    "    \"\"\"\n",
    "    return Inv(mat.trans * mat + OuterProduct(v, v)) * mat.trans\n",
    "\n",
    "\n",
    "nv_def = Normalize(Cof(Ftau) * nv)\n",
    "tv_def = Normalize(Ftau * tv)\n",
    "cnv_def = Cross(nv_def, tv_def)\n",
    "director = nv_def + PseudoInverse(Ftau, nv).trans * gamma\n",
    "\n",
    "H_nv_def = (u.Operator(\"hesseboundary\").trans * director).Reshape((3, 3))"
   ]
  },
  {
   "cell_type": "code",
   "execution_count": null,
   "metadata": {},
   "outputs": [],
   "source": [
    "gf_clamped_bnd = GridFunction(FacetSurface(mesh, order=0))\n",
    "gf_clamped_bnd.Set(1, definedon=mesh.BBoundaries(\"left\"))\n",
    "\n",
    "cf_nv_cur = Normalize(Cof(Ptau + Grad(gf_solution.components[0])) * nv)\n",
    "\n",
    "fesVF = VectorFacetSurface(mesh, order=order)\n",
    "averaged_nv = GridFunction(fesVF)\n",
    "averaged_nv_init = GridFunction(fesVF)\n",
    "\n",
    "averaged_nv.Set(nv, dual=True, definedon=mesh.Boundaries(\".*\"))\n",
    "averaged_nv_init.Set(nv, dual=True, definedon=mesh.Boundaries(\".*\"))\n",
    "cf_averaged_nv_init_norm = Normalize(averaged_nv_init)\n",
    "cf_proj_averaged_nv = Normalize(averaged_nv - (tv_def * averaged_nv) * tv_def)"
   ]
  },
  {
   "cell_type": "markdown",
   "metadata": {},
   "source": [
    "Define the bilinear form for the problem including membrane, bending, and shearing energy."
   ]
  },
  {
   "cell_type": "code",
   "execution_count": null,
   "metadata": {},
   "outputs": [],
   "source": [
    "bfA = BilinearForm(fes, symmetric=True, condense=True)\n",
    "# Membrane energy\n",
    "bfA += Variation(\n",
    "    0.5 * thickness * MaterialNorm(Interpolate(Etautau, fesRegge), E, nu) * ds\n",
    ").Compile()\n",
    "# Bending energy\n",
    "bfA += Variation(\n",
    "    (\n",
    "        -6 / thickness**3 * MaterialNormInv(sigma, E, nu)\n",
    "        + InnerProduct(H_nv_def + (1 - nv * director) * Grad(nv) - Grad(gamma), sigma)\n",
    "    )\n",
    "    * ds\n",
    ").Compile()\n",
    "bfA += Variation(\n",
    "    (\n",
    "        acos(cnv_def * cf_proj_averaged_nv)\n",
    "        - acos(cnv * cf_averaged_nv_init_norm)\n",
    "        + hyb * cnv\n",
    "        + (PseudoInverse(Ftau, nv).trans * gamma) * cnv_def\n",
    "    )\n",
    "    * sigma[cnv, cnv]\n",
    "    * ds(element_boundary=True)\n",
    ").Compile()\n",
    "# Shear energy\n",
    "bfA += Variation(0.5 * thickness * kappa * G * gamma * gamma * ds)\n",
    "\n",
    "par = Parameter(0.0)\n",
    "bfA += Variation(-par * shear * u * dx(definedon=mesh.BBoundaries(\"upleft\")))"
   ]
  },
  {
   "cell_type": "code",
   "execution_count": null,
   "metadata": {},
   "outputs": [],
   "source": [
    "gf_solution.vec[:] = 0\n",
    "gf_history = GridFunction(fes, multidim=0)\n",
    "\n",
    "gfu, gfsigma, gfgamma, _ = gf_solution.components\n",
    "\n",
    "scene = Draw(gfu, mesh, \"displacement\", deformation=gfu, euler_angles=[-60, 0, -10])\n",
    "scene2 = Draw(\n",
    "    Norm(gfsigma),\n",
    "    mesh,\n",
    "    \"bending_stress\",\n",
    "    deformation=gfu,\n",
    "    euler_angles=[-60, 0, -10],\n",
    ")\n",
    "scene3 = Draw(\n",
    "    thickness * kappa * G * gfgamma,\n",
    "    mesh,\n",
    "    \"shear_stress\",\n",
    "    deformation=gfu,\n",
    "    euler_angles=[-60, 0, -10],\n",
    ")"
   ]
  },
  {
   "cell_type": "code",
   "execution_count": null,
   "metadata": {},
   "outputs": [],
   "source": [
    "num_steps = 20\n",
    "\n",
    "tw = widgets.Text(value=\"step = 0\")\n",
    "display(tw)\n",
    "\n",
    "with TaskManager():\n",
    "    for steps in range(num_steps):\n",
    "        par.Set((steps + 1) / num_steps)\n",
    "\n",
    "        averaged_nv.Set(\n",
    "            (1 - gf_clamped_bnd) * cf_nv_cur + gf_clamped_bnd * nv,\n",
    "            dual=True,\n",
    "            definedon=mesh.Boundaries(\".*\"),\n",
    "        )\n",
    "\n",
    "        solvers.Newton(\n",
    "            bfA,\n",
    "            gf_solution,\n",
    "            inverse=\"sparsecholesky\",\n",
    "            printing=False,\n",
    "            maxerr=1e-5,\n",
    "        )\n",
    "        scene.Redraw()\n",
    "        scene2.Redraw()\n",
    "        scene3.Redraw()\n",
    "\n",
    "        gf_history.AddMultiDimComponent(gf_solution.vec)\n",
    "        tw.value = f\"step = {steps+1}/{num_steps}\""
   ]
  },
  {
   "cell_type": "code",
   "execution_count": null,
   "metadata": {},
   "outputs": [],
   "source": [
    "Draw(\n",
    "    gf_history.components[0],\n",
    "    mesh,\n",
    "    animate=True,\n",
    "    min=0,\n",
    "    max=1.25,\n",
    "    autoscale=True,\n",
    "    deformation=True,\n",
    "    euler_angles=[-60, 0, -10],\n",
    ");"
   ]
  },
  {
   "cell_type": "code",
   "execution_count": null,
   "metadata": {},
   "outputs": [],
   "source": []
  }
 ],
 "metadata": {
  "kernelspec": {
   "display_name": "Python 3 (ipykernel)",
   "language": "python",
   "name": "python3"
  },
  "language_info": {
   "codemirror_mode": {
    "name": "ipython",
    "version": 3
   },
   "file_extension": ".py",
   "mimetype": "text/x-python",
   "name": "python",
   "nbconvert_exporter": "python",
   "pygments_lexer": "ipython3",
   "version": "3.12.3"
  }
 },
 "nbformat": 4,
 "nbformat_minor": 4
}
