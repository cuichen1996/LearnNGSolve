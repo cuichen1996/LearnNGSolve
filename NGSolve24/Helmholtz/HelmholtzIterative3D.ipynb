{
 "cells": [
  {
   "cell_type": "markdown",
   "id": "61f15b29-a445-4e77-a86c-dc951d14ee3a",
   "metadata": {},
   "source": [
    "# 3D Skeleton Block Jacobi Preconditioner\n",
    "A preconditioner for the Helmholtz equation\n",
    "\n",
    "\\begin{alignat*}{2}\n",
    "    -\\Delta u - \\kappa^2 u &= 0 \\quad && \\text{ in } \\Omega, \\\\\n",
    "    \\nabla u \\cdot \\mathbf{n} + j \\kappa u &= g \\quad && \\text{ on } \\partial \\Omega\n",
    "\\end{alignat*}\n",
    "\n",
    "is introduced. It is based upon the mixed hybrid Discontinous Galerkin (HDG) formulation introduced in\n",
    "[Hybridizing Raviart-Thomas Elements for the Helmholtz Equation](https://www.tandfonline.com/doi/pdf/10.1080/02726340903485414).\n",
    "For the HDG formulation static condensation is emploid and for the resulting system of linear equations on the skeleton, a block Jacobi Preconditioner is applied.\n",
    "For more information about the formulation in combination with iterative solver strategies see [Hybrid discontinuous Galerkin methods for the wave equation](https://repositum.tuwien.at/handle/20.500.12708/9976)."
   ]
  },
  {
   "cell_type": "markdown",
   "id": "2c10ed28-a773-4584-85ba-61e6b9bc3354",
   "metadata": {},
   "source": [
    "## Geometry\n",
    "The following simple cube with spheres as scattereres inside and a Gauß-peak on the left as excitation is considered as an example."
   ]
  },
  {
   "cell_type": "code",
   "execution_count": null,
   "id": "amino-reform",
   "metadata": {},
   "outputs": [],
   "source": [
    "from netgen.occ import *\n",
    "from ngsolve import *\n",
    "from ngsolve.webgui import Draw\n",
    "clipping = { \"clipping\" : {\"z\":-1, \"dist\":0, \"function\":True} }\n",
    "\n",
    "maxh = 0.15 #0.1\n",
    "l = 2 #number spheres in y-direction\n",
    "m = 1 #number spheres in z-direction\n",
    "cube = Box( (-1,-1,-1), (1,1,1)).bc(\"transparent\")\n",
    "cube.faces[0].name = \"excitation\"\n",
    "\n",
    "#add spheres\n",
    "dist = 0.3\n",
    "radius = dist/3\n",
    "yoff = -dist*(l-1)/2\n",
    "zoff = -dist*(m-1)/2\n",
    "for it in range(l):\n",
    "    for jt in range(m):\n",
    "        cube = cube - Sphere(Pnt(0, yoff + dist*it, zoff + dist*jt), radius).bc(\"dirichlet\")\n",
    "        \n",
    "visplane = HalfSpace(Pnt(0,0,0), Vec(0,0,1))\n",
    "backC = cube*visplane\n",
    "frontC = cube-visplane\n",
    "geo = OCCGeometry([backC, frontC])\n",
    "mesh = geo.GenerateMesh(maxh = maxh)\n",
    "mesh = Mesh(mesh)\n",
    "mesh.Curve(3)\n",
    "Draw(mesh, **clipping, draw_vol=False, draw_surf=True, order=1);"
   ]
  },
  {
   "cell_type": "code",
   "execution_count": null,
   "id": "spread-photograph",
   "metadata": {},
   "outputs": [],
   "source": [
    "p = 2 #fem order\n",
    "k = 30 # #wavenumber\n",
    "\n",
    "lam = 2*pi/k\n",
    "print(\"wavelength:\", lam)\n",
    "print(\"number waves in domain:\", 2/lam)\n",
    "transbnd = \"transparent|excitation\"\n",
    "excbnd = \"excitation\"\n",
    "scattererbnd = \"dirichlet\"\n",
    "excitation = -1e1*k*1j*exp(-2e1*(y**2 + z**2))"
   ]
  },
  {
   "cell_type": "markdown",
   "id": "73c2a474-761a-47e6-aa10-cdd5731cac61",
   "metadata": {},
   "source": [
    "## Weak HDG Formulation\n",
    "The mixed formulation is stated on the space $L_2(\\Omega) \\times H_{pw}(div, \\Omega) \\times L_2(\\mathcal{F}) \\times L_2(\\mathcal{F})$\n",
    "with the sesquilinearform\n",
    "\n",
    "\\begin{alignat*}{2}\n",
    "    s(u, \\sigma, \\hat u, \\hat \\sigma; v, \\tau, \\hat v, \\hat \\tau) :=\n",
    "        \\sum_{T \\in \\mathcal{T}}\\int_T j\\kappa u v - div(\\sigma) v - u div(\\tau) - j \\kappa \\sigma \\tau d\\mathbf{x}\n",
    "        + \\int_{\\partial T} \\sigma \\cdot \\mathbf{n} \\hat v + \\hat u \\tau \\cdot \\mathbf{n} d \\mathbf{s} \\\\\n",
    "        + \\int_{\\partial T} 2(\\sigma - \\hat \\sigma) \\cdot \\mathbf{n} (\\tau - \\hat \\tau) \\cdot \\mathbf{n}\n",
    "    - \\frac{1}{2}(\\Pi^p u - \\hat u) (\\Pi^p v - \\hat v) d\\mathbf{s} - \\int_{\\partial \\Omega} \\hat u \\hat v d \\mathbf{s}.\n",
    "\\end{alignat*}\n",
    "\n",
    "In the sesquilinearform condensation is enabled and internal elements matrices are not stored\n",
    "to reduce the memory consumption. This implies that at the end the solution need to be extended\n",
    "from skeleton unknowns onto elements.\n",
    "The method of projected jumps by Schöberl and Lehrenfeld is applied to increase the polynomial order of the scalar variable $u$ on elements."
   ]
  },
  {
   "cell_type": "code",
   "execution_count": null,
   "id": "1f7b7bac-f2c9-4e49-b545-e5d44a68c449",
   "metadata": {},
   "outputs": [],
   "source": [
    "U = L2(mesh, order=p+1, complex=True)\n",
    "V = Discontinuous(HDiv(mesh, order=p, complex=True, RT=True)) # P^k Sub RT Sub P^k+1, div(RT) = P^k\n",
    "FD = FacetFESpace(mesh, order=p+1, complex=True, highest_order_dc = True, dirichlet = scattererbnd)\n",
    "FN = NormalFacetFESpace(mesh, order=p, complex=True)\n",
    "X = U*V*FD*FN\n",
    "print(\"nDof:\", X.ndof, \"(u\", U.ndof, \", sigma\", V.ndof, \", uhat\", FD.ndof, \", sigmahat\", FN.ndof, \")\")"
   ]
  },
  {
   "cell_type": "code",
   "execution_count": null,
   "id": "2e371a35-3639-4194-8019-f3d1d62a3cb6",
   "metadata": {},
   "outputs": [],
   "source": [
    "(u, sigma, uhat, sigmahat), (v, tau, vhat, tauhat) = X.TnT()\n",
    "n = specialcf.normal(mesh.dim)\n",
    "dS = dx(element_boundary=True)\n",
    "\n",
    "a = BilinearForm(X, condense = True, eliminate_internal=True)\n",
    "\n",
    "a += (1j*k*u*v - div(sigma)*v - u*div(tau) - 1j*k*sigma*tau) *dx\n",
    "a += (sigma*n*vhat + uhat*tau*n) *dS\n",
    "a += (2*(sigma-sigmahat)*n*(tau-tauhat)*n -1/2*(u-uhat)*(v-vhat)) *dS\n",
    "a += -uhat.Trace()*vhat.Trace() *ds(definedon=mesh.Boundaries(transbnd))\n",
    "\n",
    "f = LinearForm(X)\n",
    "f += -1/k**2 * excitation * vhat.Trace() *ds(definedon = mesh.Boundaries(excbnd))"
   ]
  },
  {
   "cell_type": "markdown",
   "id": "4fdf7ed1-2b56-474d-a25e-22a839bb7c21",
   "metadata": {},
   "source": [
    "## Skeleton Block Jacobi Preconditioner in 3D\n",
    "The unknowns on a face are combined into a block for the block Jacobi preconditioner."
   ]
  },
  {
   "cell_type": "code",
   "execution_count": null,
   "id": "11b68e34-2767-44f7-8354-d06b6353cab7",
   "metadata": {},
   "outputs": [],
   "source": [
    "def GenerateBlocks3D(ablf, mesh, X, GS=False):\n",
    "    freedofs = X.FreeDofs()\n",
    "    print(\"Collect smoothing blocks\")\n",
    "    blocks = []\n",
    "    for facet in mesh.facets:\n",
    "        vdofs = []\n",
    "        facedofs = X.GetDofNrs(facet)\n",
    "        for fdof in facedofs:\n",
    "            if freedofs[fdof]:\n",
    "                vdofs.append(fdof)\n",
    "        #blocks.append (tuple(X.GetDofNrs(facet)))\n",
    "        blocks.append(vdofs)\n",
    "    print(\"Create block smoother\")\n",
    "    blockjacobi = ablf.mat.CreateBlockSmoother(blocks, GS=GS)\n",
    "    return blockjacobi"
   ]
  },
  {
   "cell_type": "code",
   "execution_count": null,
   "id": "subjective-filename",
   "metadata": {
    "editable": true,
    "slideshow": {
     "slide_type": ""
    },
    "tags": [
     "scroll-output"
    ]
   },
   "outputs": [],
   "source": [
    "gfu = GridFunction(X)\n",
    "with TaskManager():\n",
    "    print(\"Assemble a\")\n",
    "    a.Assemble()\n",
    "    print(\"Assemble f\")\n",
    "    f.Assemble()\n",
    "    blockinvs = GenerateBlocks3D(a, mesh, X, GS=False)\n",
    "    solvers.CG(mat=a.mat, rhs=f.vec, sol=gfu.vec, pre=blockinvs, maxsteps=1000, tol=1e-3, plotrates=True)\n",
    "    print(\"Compute internal solution\")\n",
    "    a.ComputeInternal (gfu.vec, f.vec)\n",
    "    print(\"Done\")"
   ]
  },
  {
   "cell_type": "code",
   "execution_count": null,
   "id": "thorough-proceeding",
   "metadata": {},
   "outputs": [],
   "source": [
    "Draw(BoundaryFromVolumeCF(gfu.components[0]), mesh, \"press\", min=-0.03, max=0.03, \\\n",
    "     draw_surf=True, draw_vol=False, order=3, animate_complex=True, **clipping);"
   ]
  }
 ],
 "metadata": {
  "kernelspec": {
   "display_name": "Python 3 (ipykernel)",
   "language": "python",
   "name": "python3"
  },
  "language_info": {
   "codemirror_mode": {
    "name": "ipython",
    "version": 3
   },
   "file_extension": ".py",
   "mimetype": "text/x-python",
   "name": "python",
   "nbconvert_exporter": "python",
   "pygments_lexer": "ipython3",
   "version": "3.12.2"
  }
 },
 "nbformat": 4,
 "nbformat_minor": 5
}
