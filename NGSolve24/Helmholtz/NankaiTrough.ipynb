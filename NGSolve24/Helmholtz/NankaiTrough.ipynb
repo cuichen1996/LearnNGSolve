{
 "cells": [
  {
   "cell_type": "markdown",
   "id": "c98f1627-54ed-482f-a544-21c99baae239",
   "metadata": {},
   "source": [
    "# Nankai Through with Heterogeneous Material\n",
    "A preconditioner for the Helmholtz equation\n",
    "\n",
    "\\begin{alignat*}{2}\n",
    "    -\\Delta u - \\kappa^2 u &= 0 \\quad && \\text{ in } \\Omega, \\\\\n",
    "    \\nabla u \\cdot \\mathbf{n} + j \\kappa u &= g \\quad && \\text{ on } \\partial \\Omega\n",
    "\\end{alignat*}\n",
    "\n",
    "is introduced. It is based upon the mixed hybrid Discontinous Galerkin (HDG) formulation introduced in\n",
    "[Hybridizing Raviart-Thomas Elements for the Helmholtz Equation](https://www.tandfonline.com/doi/pdf/10.1080/02726340903485414).\n",
    "For the HDG formulation static condensation is emploid and for the resulting system of linear equations on the skeleton, a block Jacobi Preconditioner is applied.\n",
    "For more information about the formulation in combination with iterative solver strategies see [Hybrid discontinuous Galerkin methods for the wave equation](https://repositum.tuwien.at/handle/20.500.12708/9976)."
   ]
  },
  {
   "cell_type": "markdown",
   "id": "4fc7a04a-59e1-469c-b1e2-c30c478a9aae",
   "metadata": {},
   "source": [
    "## Geometry\n",
    "As geometry a slice of the Nankai trough is used.\n",
    "It consists of a cube, but the used varying velocity field in the formulation makes the example very interesting.\n",
    "The data for the velocity field is contributed by A. Górszczyk and S. Operto. [GO_3D_OBS: the multi-parameter benchmark geomodel for\n",
    "seismic imaging method assessment and next-generation 3D survey design (version 1.0)](https://hal.science/hal-03578565).\n",
    "The problem is excited by a Gauß-peak from above."
   ]
  },
  {
   "cell_type": "code",
   "execution_count": null,
   "id": "5c1e140b-cdfb-483d-9d50-11eb6a1795de",
   "metadata": {
    "tags": []
   },
   "outputs": [],
   "source": [
    "from netgen.occ import *\n",
    "from ngsolve import *\n",
    "from ngsolve.webgui import Draw\n",
    "import numpy as np"
   ]
  },
  {
   "cell_type": "code",
   "execution_count": null,
   "id": "1f9dcf72-07f6-4e31-bf73-805cb497ea22",
   "metadata": {
    "tags": []
   },
   "outputs": [],
   "source": [
    "scalingfactor = 2.5\n",
    "p = 4\n",
    "k = 2*pi*4 *scalingfactor\n",
    "maxh = 5 / scalingfactor\n",
    "\n",
    "transbnd = \"transparent\"\n",
    "excbnd = transbnd\n",
    "\n",
    "xl = 20; yl = 102; zl = 28.3\n",
    "x0 = 10; y0 = 12.5; z0 = 0; sg = 5\n",
    "r2 = (x-x0)**2 + (y-y0)**2 + (z-z0)**2\n",
    "excitation = exp(-r2/sg)\n",
    "\n",
    "cube = Box((0,0,0), (xl,yl,zl))\n",
    "cube.faces.name=transbnd\n",
    "mesh = Mesh(OCCGeometry(cube).GenerateMesh(maxh=maxh))"
   ]
  },
  {
   "cell_type": "markdown",
   "id": "a5262a32-6e59-4d05-9a7f-acfe78d99dce",
   "metadata": {},
   "source": [
    "## Initialising the Velocity\n",
    "The velocity data for the simulation is either loaded from the local disc or downloaded if it does not exist already."
   ]
  },
  {
   "cell_type": "code",
   "execution_count": null,
   "id": "2cc96649-fe70-4167-aad0-fc47444fa27c",
   "metadata": {
    "tags": []
   },
   "outputs": [],
   "source": [
    "from pathlib import Path\n",
    "nankaiMatFile = Path(\"nankaiMat.bin\")\n",
    "if not nankaiMatFile.is_file():\n",
    "    url = \"https://www.geoazur.fr/WIND/pub/nfs/FWI-DATA/GEOMODELS/GO_3D_OBS/TARGET_PAPERS/v.bin\"\n",
    "    import os\n",
    "    print(\"download velocity data\")\n",
    "    os.system(\"curl \" + url + \" --output nankaiMat.bin\")\n",
    "    print(\"download complete\")\n",
    "\n",
    "#load material from file\n",
    "mat = np.fromfile(\"nankaiMat.bin\", dtype = np.float32)\n",
    "n1=284; n2=1021; n3=201\n",
    "mat = mat.reshape((n3,n2,n1))\n",
    "mat = mat.astype(complex)\n",
    "mat = mat.transpose()\n",
    "ccoef = VoxelCoefficient((0,0,0), (xl, yl, zl), mat)\n",
    "matcoeff = 1/ccoef\n",
    "sqrtmatcoeff = sqrt(matcoeff)\n",
    "Draw(ccoef, mesh, \"material\", draw_surf=True, draw_vol=False, order=2, euler_angles=[120,1,-79]);"
   ]
  },
  {
   "cell_type": "markdown",
   "id": "1bdd7502-3e83-4a9d-a6f0-cdcf2551b6e8",
   "metadata": {},
   "source": [
    "## Weak Formulation\n",
    "The mixed formulation is stated on the space $L_2(\\Omega) \\times H_{pw}(div, \\Omega) \\times L_2(\\mathcal{F}) \\times L_2(\\mathcal{F})$\n",
    "with the sesquilinearform\n",
    "\n",
    "\\begin{alignat*}{2}\n",
    "    s(u, \\sigma, \\hat u, \\hat \\sigma; v, \\tau, \\hat v, \\hat \\tau) :=\n",
    "        \\sum_{T \\in \\mathcal{T}} &\\int_T j\\kappa \\sqrt{M} u v - div(\\sigma) v - u div(\\tau) - j \\kappa \\sigma \\tau d\\mathbf{x}\n",
    "        + \\int_{\\partial T} \\sigma \\cdot \\mathbf{n} \\hat v + \\hat u \\tau \\cdot \\mathbf{n} d \\mathbf{s} \\\\\n",
    "    + &\\int_{\\partial T} \\frac{2}{\\sqrt{M}}(\\sigma - \\hat \\sigma) \\cdot \\mathbf{n} (\\tau - \\hat \\tau) \\cdot \\mathbf{n}\n",
    "        - \\frac{\\sqrt{M}}{2}(\\Pi^p u - \\hat u) (\\Pi^p v - \\hat v) d\\mathbf{s} - \\int_{\\partial \\Omega} \\sqrt{M} \\hat u \\hat v d \\mathbf{s}\n",
    "\\end{alignat*}\n",
    "\n",
    "and the physical material coefficient $M$.\n",
    "\n",
    "In the sesquilinearform condensation is enabled and internal elements matrices are not stored\n",
    "to reduce the memory consumption. This implies that at the end the solution need to be extended\n",
    "from skeleton unknowns onto elements.\n",
    "The method of projected jumps by Schöberl and Lehrenfeld is applied to increase the polynomial order of the scalar variable $u$ on elements."
   ]
  },
  {
   "cell_type": "code",
   "execution_count": null,
   "id": "4b52b322-7dbe-42cc-9cfc-52f610408b74",
   "metadata": {},
   "outputs": [],
   "source": [
    "U = L2(mesh, order=p+1, complex=True)\n",
    "V = Discontinuous(HDiv(mesh, order=p, complex=True, RT=True)) # P^k Sub RT Sub P^k+1, div(RT) = P^k\n",
    "FD = FacetFESpace(mesh, order=p+1, complex=True, highest_order_dc = True)\n",
    "FN = NormalFacetFESpace(mesh, order=p, complex=True)\n",
    "X = U*V*FD*FN\n",
    "print(\"nDof:\", X.ndof, \"(u\", U.ndof, \", sigma\", V.ndof, \", uhat\", FD.ndof, \", sigmahat\", FN.ndof, \")\")\n",
    "    \n",
    "(u,sigma,uh,sigman), (v,tau,vh,taun) = X.TnT()\n",
    "\n",
    "a = BilinearForm(X, eliminate_internal=True, keep_internal=False)\n",
    "n = specialcf.normal(mesh.dim)\n",
    "dS = dx(element_boundary=True)\n",
    "\n",
    "alpha = 1/2*sqrtmatcoeff\n",
    "beta = 1/alpha\n",
    "a += (1j*k*matcoeff*u*v - 1j*k*sigma*tau - div(sigma)*v - u*div(tau)) * dx\n",
    "a += (sigma*n*vh + tau*n*uh + beta*(sigma-sigman)*n*(tau-taun)*n - alpha*(u-uh)*(v-vh)) * dS\n",
    "a += - sqrtmatcoeff * uh.Trace()*vh.Trace() * ds(transbnd)\n",
    "    \n",
    "f = LinearForm(X)\n",
    "f += excitation * vh.Trace() * ds(excbnd)"
   ]
  },
  {
   "cell_type": "markdown",
   "id": "ac6bc0a7-de33-4978-ba92-75c3b6cbed70",
   "metadata": {},
   "source": [
    "## Skeleton Block Jacobi Preconditioner in 3D\n",
    "The unknowns on a face are combined into a block for the block Jacobi preconditioner."
   ]
  },
  {
   "cell_type": "code",
   "execution_count": null,
   "id": "10b1fe98-4c9e-4190-9e9f-4b7c448fcfb3",
   "metadata": {
    "tags": []
   },
   "outputs": [],
   "source": [
    "def GenerateBlocks3D(ablf, mesh, X):\n",
    "    freedofs = X.FreeDofs()\n",
    "    blocks = []\n",
    "    for facet in mesh.facets:\n",
    "        vdofs = []\n",
    "        facedofs = X.GetDofNrs(facet)\n",
    "        for fdof in facedofs:\n",
    "            if freedofs[fdof]:\n",
    "                vdofs.append(fdof)\n",
    "        blocks.append(vdofs)\n",
    "    return blocks"
   ]
  },
  {
   "cell_type": "code",
   "execution_count": null,
   "id": "d362c1ad-433a-474b-bfb7-e1d626986b67",
   "metadata": {
    "editable": true,
    "slideshow": {
     "slide_type": ""
    },
    "tags": [
     "scroll-output"
    ]
   },
   "outputs": [],
   "source": [
    "gfu = GridFunction(X)\n",
    "with TaskManager():\n",
    "    print(\"Assemble a\")\n",
    "    a.Assemble()\n",
    "    print(\"Assemble f\")\n",
    "    f.Assemble()\n",
    "    blocks = GenerateBlocks3D(a, mesh, X)\n",
    "    pre = a.mat.CreateBlockSmoother(blocks, GS=False)\n",
    "    solvers.CG(mat=a.mat, rhs=f.vec, sol=gfu.vec, pre=pre, maxsteps=1500, tol=1e-5, plotrates=True)\n",
    "    print(\"Compute internal solution\")\n",
    "    a.ComputeInternal (gfu.vec, f.vec)\n",
    "    print(\"Done\")"
   ]
  },
  {
   "cell_type": "code",
   "execution_count": null,
   "id": "5b01e8d8-0fb1-492f-a6dd-f269f4ec73a8",
   "metadata": {
    "tags": []
   },
   "outputs": [],
   "source": [
    "Draw(gfu.components[2], mesh, \"pressure\", min=-1e-1, max=1e-1, \\\n",
    "     draw_surf=True, draw_vol=False, order=2, animate_complex=True, euler_angles=[120,1,-79]);"
   ]
  }
 ],
 "metadata": {
  "kernelspec": {
   "display_name": "Python 3 (ipykernel)",
   "language": "python",
   "name": "python3"
  },
  "language_info": {
   "codemirror_mode": {
    "name": "ipython",
    "version": 3
   },
   "file_extension": ".py",
   "mimetype": "text/x-python",
   "name": "python",
   "nbconvert_exporter": "python",
   "pygments_lexer": "ipython3",
   "version": "3.12.2"
  }
 },
 "nbformat": 4,
 "nbformat_minor": 5
}
