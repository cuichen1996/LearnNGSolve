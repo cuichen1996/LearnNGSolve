{
 "cells": [
  {
   "cell_type": "markdown",
   "id": "12cd6063-8429-496c-ad70-ea7df077eb9a",
   "metadata": {},
   "source": [
    "# Building NGSolve Add-ons"
   ]
  },
  {
   "cell_type": "markdown",
   "id": "6cb48672-01ca-40f2-88fc-14d5eb9ea930",
   "metadata": {},
   "source": [
    "To extend NGSolve's built-in functionality by creating your own C++ **add-on modules**, there are multiple ways to proceed depending on how you have installed NGSolve on your system.  "
   ]
  },
  {
   "cell_type": "markdown",
   "id": "d5df857a-8e25-4f3b-a390-1545f29e9ca7",
   "metadata": {},
   "source": [
    "## A template for C++ add-ons\n",
    "\n",
    "Suppose you have a project idea you want to implement. Your wishlist for the project  implementation is not modest.  You want all these things:\n",
    "\n",
    " * Write a (small, moderate or) large *C++ extension* module.\n",
    " * Include *Python bindings* to your C++ extensions. \n",
    " * Be *compatible* with a recent pip-installed NGSolve (6.2.2404 or newer).\n",
    " * Your add-on supports all those cool hip  *easy installation* methods via pip, \n",
    "   - either as a source distribution (when user has a local  build system), \n",
    "   - or as a binary wheel (in sync with user's specific NGSolve version).\n",
    " * Your add-on is also *buildable \\& installable* by traditional make/cmake, so you keep the older folks happy.\n",
    "\n",
    "   \n",
    "Where to begin? \n",
    "\n",
    "A starting point is offered by the [ngsolve_addon_template](https://github.com/NGSolve/ngsolve-addon-template) in GitHub. The documentation\n",
    "there clarifies the multiple ways to install the add-on and make it work\n",
    "seamlessly with your existing ngsolve install."
   ]
  },
  {
   "cell_type": "markdown",
   "id": "b48539f1-7418-4d7c-8cc2-facf2c7dbcc9",
   "metadata": {},
   "source": [
    "### A simple use-case scenario\n",
    "\n",
    "As an example, let us walk through the following simple scenario where you want to build an extension. You have just taken a look  at the source code in  [ngsolve_addon_template/src/my_coefficient.hpp](https://github.com/NGSolve/ngsolve-addon-template/blob/main/src/my_coefficient.hpp) and you are super excited about the *eigenvalue* `CoefficientFunction` there!  So you immediately install it using pip."
   ]
  },
  {
   "cell_type": "code",
   "execution_count": null,
   "id": "168ddadd-6816-4872-86f5-98fb6a1c02a2",
   "metadata": {},
   "outputs": [],
   "source": [
    "# remove any prior install:\n",
    "!python3 -m pip uninstall -y ngsolve_addon_template &> /dev/null\n",
    "# prerequisites:\n",
    "!python3 -m pip install scikit-build-core pybind11_stubgen toml &> out_prereqs.log\n",
    "# install the add-on:\n",
    "!python3 -m pip install --no-build-isolation git+https://github.com/NGSolve/ngsolve-addon-template.git  &> out_addon_install.log\n",
    "# print collected long outputs:\n",
    "with open('out_prereqs.log', 'r') as f: print(f.read())\n",
    "with open('out_addon_install.log', 'r') as f: print(f.read())"
   ]
  },
  {
   "cell_type": "markdown",
   "id": "d1d189e3-37d7-4ce6-83d8-3d19c560971a",
   "metadata": {},
   "source": [
    "<br>\n",
    "\n",
    "Now that it is installed, you immediately try it out.  There is a particular symmetric $2 \\times 2$ matrix-valued function whose difference of eigenvalues you have been wanting to plot for a long time $\\ldots$ finally, you can."
   ]
  },
  {
   "cell_type": "code",
   "execution_count": null,
   "id": "44a93aae-e12a-4f23-b3e9-690e7127fa04",
   "metadata": {},
   "outputs": [],
   "source": [
    "from ngsolve import CF, Mesh, unit_square, x, y, Integrate\n",
    "import ngsolve_addon_template as addon\n",
    "from ngsolve.webgui import Draw\n",
    "\n",
    "mesh = Mesh(unit_square.GenerateMesh(maxh=0.3))\n",
    "A = CF( (1, y,       # Matrix whose eigenvalues you desperately want\n",
    "         y, x+5) ).Reshape((2,2))\n",
    "ews = addon.EigH(A)  # Eigenvalues of A as a vector CF \n",
    "Draw(ews[0] - ews[1], mesh);"
   ]
  },
  {
   "cell_type": "markdown",
   "id": "653271d3-2045-4023-9afb-492f2d5e580e",
   "metadata": {},
   "source": [
    "### You want more"
   ]
  },
  {
   "cell_type": "markdown",
   "id": "0073e141-7a7a-4438-ac9d-2171692dcc12",
   "metadata": {},
   "source": [
    "As a typical ngsolve user, you have worked with many other [ngsolve coefficient functions](https://docu.ngsolve.org/latest/i-tutorials/unit-1.2-coefficient/coefficientfunction.html). So you know you can not only `Draw` them, but also evaluate them at a mesh point, see its expression tree, `Integrate` them, `Diff`erentiate them, etc.\n",
    "\n",
    "So you are surprised when `Diff` applied to this new eigenvalue coefficient function results in problems:"
   ]
  },
  {
   "cell_type": "code",
   "execution_count": null,
   "id": "5a9220dd-7e84-4ea4-884b-f1d1b237e995",
   "metadata": {},
   "outputs": [],
   "source": [
    "try: \n",
    "    dews = ews[0].Diff(x)\n",
    "\n",
    "    if abs(Integrate(dews*dews, mesh)) < 1e-15: \n",
    "        raise ValueError('Derivative is claimed to be 0')\n",
    "except Exception as e:\n",
    "    print('EXCEPTION RAISED! Message:\\n', e)    "
   ]
  },
  {
   "cell_type": "markdown",
   "id": "43c8a318-81d4-417a-8176-2a04752fbf4a",
   "metadata": {},
   "source": [
    "<br>\n",
    "After you have recovered from this devastating news, you resolve to remedy this state of affairs. "
   ]
  },
  {
   "cell_type": "markdown",
   "id": "de592325-e6cf-4d2c-9ae6-46be73db770c",
   "metadata": {},
   "source": [
    "### Identifying the issues\n",
    "\n",
    "Printing the expression tree of the eigenvalue coefficient funtion reveals one of the problems: `ews[0]` depends on `ews` as expected, but the dependence of `ews` on the input matrix `A` is not visible:"
   ]
  },
  {
   "cell_type": "code",
   "execution_count": null,
   "id": "6ebe3af3-89d1-45a2-a447-a9afb1da9d0b",
   "metadata": {},
   "outputs": [],
   "source": [
    "print(ews[0])"
   ]
  },
  {
   "cell_type": "markdown",
   "id": "269f29bc-31cd-4947-9604-73512d6b5901",
   "metadata": {},
   "source": [
    "Looking at NGSolve's source code [coefficient.cpp](https://github.com/NGSolve/ngsolve/blob/master/fem/coefficient.cpp#L277), \n",
    "you find the derivative returned is `ZeroCF` because the new eigenvalue coefficient function has no `InputCoefficientFunctions`. The lack of `InputCoefficientFunctions` is also the reason for the input matrix not showing up when you printed the expression tree.\n",
    "\n",
    "A simple fix would be to provide a definition for the virtual function \n",
    "```c++\n",
    "virtual Array<shared_ptr<CoefficientFunction>> InputCoefficientFunctions() const\n",
    "```\n",
    "in the new derived coefficient function class. "
   ]
  },
  {
   "cell_type": "markdown",
   "id": "953fbe66-7667-49a2-8a21-e3a35bde070e",
   "metadata": {},
   "source": [
    "There is another issue. Looking at NGSolve's source code [coefficient.cpp](https://github.com/NGSolve/ngsolve/blob/master/fem/coefficient.cpp#L203), \n",
    "you find that implementation of the `Diff` member function is left up to the developer of new coefficient functions!  Instead of shooting off an email to the developer, you decide that the right move is to reuse the already written eigenvalue coefficient functions and add the `Diff` member function  yourself. This takes some work."
   ]
  },
  {
   "cell_type": "markdown",
   "id": "a49c2a7a-8972-422c-afbe-0751581c429f",
   "metadata": {},
   "source": [
    "### Get your own fork \n",
    "\n",
    "So, you fork the repo [ngsolve_addon_template](https://github.com/NGSolve/ngsolve-addon-template) at GitHub and prepare to add two new member functions to the eigenvalue coefficient function class, that would override the base class definitions:\n",
    "\n",
    "```c++\n",
    "virtual Array<shared_ptr<CoefficientFunction>>\n",
    "InputCoefficientFunctions() const override  {\n",
    "    // Input matrix \"mat\" is stored as a private member. Just return it:\n",
    "    return Array<shared_ptr<CoefficientFunction>>({mat});\n",
    "}\n",
    "\n",
    "shared_ptr<CoefficientFunction>\n",
    "Diff(const CoefficientFunction * var,\n",
    "     shared_ptr<CoefficientFunction> dir) const override {\n",
    "\n",
    "    // HOW? \n",
    "    \n",
    "}\n",
    "```"
   ]
  },
  {
   "cell_type": "markdown",
   "id": "0ed877ae-7e6d-4ea9-9b00-c6578527251e",
   "metadata": {},
   "source": [
    "How do we do the `Diff`?  There are a few ways of doing the math. "
   ]
  },
  {
   "cell_type": "markdown",
   "id": "4bacfbb8-c62a-4f0a-af36-fdfe14a5cf2d",
   "metadata": {},
   "source": [
    "### Doing the math\n",
    "\n",
    "The eigenvalues of a symmetric matrix \n",
    "\n",
    "$$\n",
    "A = \n",
    "\\begin{bmatrix}\n",
    "a & b \\\\\n",
    "b & c\n",
    "\\end{bmatrix}\n",
    "$$\n",
    "\n",
    "are \n",
    "\n",
    "$$\n",
    "\\lambda_\\pm =  \\frac 1 2 \n",
    "\\left(a + c  \\pm  \\sqrt{ (a-c)^2  + b^2 }\n",
    "\\right).\n",
    "$$\n",
    "\n",
    "One approach is to differentiate $\\lambda_\\pm$ as a function of $a, b, c$ and then, per the chain rule, combine it with derivatives of $a, b,$ and $c$  with respect to $V=$`var`. "
   ]
  },
  {
   "cell_type": "markdown",
   "id": "65edc461-b1ce-45c4-8045-b2df062d53b0",
   "metadata": {},
   "source": [
    "More elegant approaches are obtained by *implicit differentiation*. Since eigenvalues solve $\\det( \\lambda I - A) = 0$, differentiating $F(\\lambda, A) = \\det(\\lambda I - A)$, we find that \n",
    "\n",
    "$$\n",
    "\\frac{\\partial \\lambda}{\\partial V} \n",
    "= -\\frac{\\partial F / \\partial A }\n",
    "{\\partial F / \\partial \\lambda} \\frac{\\partial A}{\\partial V}\n",
    "$$\n",
    "\n",
    "By the Jacobi formula, differentiating the determinant of $A$ gives the cofactor matrix denoted by $\\text{cof}(A)$, so \n",
    "\n",
    "$$\n",
    "\\frac{\\partial \\lambda}{\\partial V} = \n",
    "\\frac{\\text{cof}(\\lambda I - A)}{ \\text{tr} (\\text{cof}(\\lambda I - A) )} :\n",
    "\\frac{\\partial A}{\\partial V} \n",
    "$$\n",
    "\n",
    "Once you implement this formula, you can differentiate the eigenvalue coefficient function. \n",
    "\n",
    "See the fork \n",
    "[https://github.com/jayggg/ngsolve-addon-template/](https://github.com/jayggg/ngsolve-addon-template/), specifically \n",
    " the [Diff(...) member function there](https://github.com/jayggg/ngsolve-addon-template/blob/main/src/my_coefficient.hpp#L111), for an example implementation.\n",
    " The key lines implementing the above formula are as follows:"
   ]
  },
  {
   "cell_type": "markdown",
   "id": "a3219447-9eb5-47e8-8ea7-4b5271b03978",
   "metadata": {},
   "source": [
    "```c++\n",
    "shared_ptr<CoefficientFunction>\n",
    "Diff(const CoefficientFunction * var,\n",
    "     shared_ptr<CoefficientFunction> dir) const override {\n",
    "    // ...    \n",
    "\tauto lam = MakeComponentCoefficientFunction(thisptr, i);\n",
    "\tauto cof = CofactorCF(mat - lam * IdentityCF(2));\n",
    "\tauto dA = mat->Diff(var, dir);\n",
    "\tauto tr = TraceCF(cof);\n",
    "\tdlam[i] = InnerProduct(cof, dA) / tr;\t  \n",
    "    // ...\n",
    "}    \n",
    "```  "
   ]
  },
  {
   "cell_type": "markdown",
   "id": "4c10f11f-62fa-48a5-801b-5adec95b25f3",
   "metadata": {},
   "source": [
    "### Install the fork\n",
    "\n",
    "To try this out, we remove the `ngsolve-addon-template` module we installed previously and then install the new replacement module from your fork. "
   ]
  },
  {
   "cell_type": "code",
   "execution_count": null,
   "id": "3779b503-5878-4e35-a067-9f13fd36cee9",
   "metadata": {
    "scrolled": true
   },
   "outputs": [],
   "source": [
    "!pip3  uninstall -y ngsolve-addon-template  &> out_uninstall.log\n",
    "!python3 -m pip install --no-build-isolation git+https://github.com/jayggg/ngsolve-addon-template/   &> out_reinstall.log\n",
    "with open('out_uninstall.log', 'r') as f:  print(f.read())\n",
    "with open('out_reinstall.log', 'r') as f:  print(f.read())"
   ]
  },
  {
   "cell_type": "code",
   "execution_count": null,
   "id": "dce25755-62c6-4ea1-9b0d-e75ac6e23812",
   "metadata": {},
   "outputs": [],
   "source": [
    "import ngsolve_addon_template_withdiff as addon2\n",
    "\n",
    "ews = addon2.EigH(A)\n",
    "dews = ews.Diff(x)\n",
    "Draw(dews[0], mesh);"
   ]
  },
  {
   "cell_type": "markdown",
   "id": "780c5ab2-09d9-4968-92dd-ed8c1c395ee9",
   "metadata": {},
   "source": [
    "This concludes the walk-through of a simple use-case scenario. Pointers to more examples of add-ons are below."
   ]
  },
  {
   "cell_type": "markdown",
   "id": "3b10a520-e96f-48a2-bee3-fafb2f079545",
   "metadata": {},
   "source": [
    "**Further examples of add-on modules**:\n",
    "\n",
    " * [Special functions extension](https://github.com/NGSolve/ngs-special-functions): Bessel, Hankel, erf, etc.\n",
    " * [Hypre-Interface](https://github.com/NGSolve/ngsHypre): Install hypre and connect to ngsolve.\n",
    " * [Teaching implementation of elements](https://github.com/TUWien-ASC/NGS-myfe): Write your own element."
   ]
  },
  {
   "cell_type": "markdown",
   "id": "11467f2a-7507-45fa-b8ca-50dbac531f44",
   "metadata": {},
   "source": [
    "## One-file extensions\n",
    "\n",
    "\n",
    "An alternate method to install a small C++ extension is to use  NGSolve's facility called `CompilePythonModule`.  In this method, you write your c++ add-on (with python bindings defined using pybind11) in a single file,  say \"file.cpp\", which may include other C++ files. Then calling\n",
    "\n",
    "```py\n",
    "m = CompilePythonModule(file.cpp)\n",
    "```\n",
    "\n",
    "in python will trigger NGSolve to compile your code and provide your extended facilities in the python workspace through the module variable `m`.  In order for this compilation to work, the manner you installed NGSolve (built from source or by pip-installed binary) is not relevant, but it is important that your system has local build facilities, like a compiler. \n"
   ]
  },
  {
   "cell_type": "markdown",
   "id": "29baccc0-949d-48c1-b547-ed178b4aefe5",
   "metadata": {},
   "source": [
    "**Further pointers and examples for `CompilePythonModule`:**\n",
    "\n",
    "* help(CompilePythonModule)\n",
    "* [NGSolve i-Tutorial unit 9.1](https://docu.ngsolve.org/latest/i-tutorials/unit-9.1-C%2B%2BFE/CppExtension.html)\n",
    "* [Hu-Lin-Zhang-Elements](https://github.com/JSchoeberl/Hu-Lin-Zhang-Elements)\n"
   ]
  }
 ],
 "metadata": {
  "kernelspec": {
   "display_name": "Python 3 (ipykernel)",
   "language": "python",
   "name": "python3"
  },
  "language_info": {
   "codemirror_mode": {
    "name": "ipython",
    "version": 3
   },
   "file_extension": ".py",
   "mimetype": "text/x-python",
   "name": "python",
   "nbconvert_exporter": "python",
   "pygments_lexer": "ipython3",
   "version": "3.11.6"
  }
 },
 "nbformat": 4,
 "nbformat_minor": 5
}
