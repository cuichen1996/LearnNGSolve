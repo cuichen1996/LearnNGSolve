{
 "cells": [
  {
   "cell_type": "markdown",
   "id": "c60a1336-d9ae-4a14-92b3-00ce010f393e",
   "metadata": {},
   "source": [
    "# NGSolve in JupyterLite \n",
    "\n",
    "The fastest way to share your ngsolve notebooks with others (who may or may not be in the ngsolve world) is through the new [JupyterLite technology](https://jupyterlite.readthedocs.io/en/stable/).  It allows you  to immediately deploy your notebooks in a live computing environment without even installing ngsolve."
   ]
  },
  {
   "cell_type": "markdown",
   "id": "52100b8a-5122-4102-b82d-61ec441a25d2",
   "metadata": {},
   "source": [
    "Specifically, JupyterLite enables NGSolve to be *run in your web browser on your computer* without any install process and negligible startup time. This is made possible by compiling NGSolve into a [WebAssembly](https://webassembly.org/) code (supported by most major modern browsers). It is then offered to you using [Pyodide](https://pyodide.org/en/stable/) and [JupyterLite](https://jupyterlite.readthedocs.io/en/stable/)."
   ]
  },
  {
   "cell_type": "markdown",
   "id": "f245dbe9-0a76-40fb-bf7f-d98f1c35cd3a",
   "metadata": {},
   "source": [
    "NGSolve with JupyterLite is recommended for \n",
    "* conference talks showing live code demos \n",
    "* hands-on tutorials (with no required installation)\n",
    "* introductory courses on finite elements."
   ]
  },
  {
   "cell_type": "markdown",
   "id": "1eb6983b-4102-4187-b0a9-49205bfe96da",
   "metadata": {},
   "source": [
    "## A Ready-made NGSolve JupyterLite Template\n",
    "\n",
    "A small GitHub repository encapsulating all required elements for deploying  NGSolve notebooks in JupyterLite can be found here:\n",
    "\n",
    "[https://github.com/NGSolve/jupyterlite_ngsolve](https://github.com/NGSolve/jupyterlite_ngsolve)\n",
    "\n",
    "The [key statement](https://github.com/NGSolve/jupyterlite_ngsolve/blob/main/.github/workflows/deploy.yml#L26C10-L26C41) in the set up there issues a `jupyter lite build ...` command using a `--pyodide` file provided by the NGSolve  development team. \n",
    "Within the [content](https://github.com/NGSolve/jupyterlite_ngsolve/tree/main/content) subfolder, you will find a few notebooks, which can be immediately deployed.\n",
    "\n",
    "*To deploy your own ngsolve notebook collection*, all  you need to do is to fork this repo and replace the notebooks there with your own ones. Here are some examples where this is done. "
   ]
  },
  {
   "cell_type": "markdown",
   "id": "85c681f7-facd-4c4a-a42b-6c496a8bbee6",
   "metadata": {},
   "source": [
    "## Examples:\n",
    "\n",
    "* Some conference code demos of Joachim Schöberl:  [Deployed view](https://jschoeberl.github.io/fs23/lab/) and \n",
    "  [GitHub sources](https://github.com/JSchoeberl/fs23?tab=readme-ov-file).\n",
    "\n",
    "* Finite element class activities at Portland:  [Deployed view](https://jayggg.github.io/651-jupyterlite/lab/index.html) and [GitHub sources](https://github.com/jayggg/651-jupyterlite).\n",
    "  \n",
    "  "
   ]
  },
  {
   "cell_type": "markdown",
   "id": "1a441103-c555-4692-968c-6868acf4826a",
   "metadata": {},
   "source": [
    "**Some caveats:** \n",
    "\n",
    "-  Note that external nonsymmetric sparse direct solvers (like umfpack and pardiso) are  currently unavailable in NGSolve with JupyterLite. If you need to solve a nonsymmetric system, use iterative solvers, as in [this example](https://github.com/jayggg/651-jupyterlite/blob/main/FEMnotebooks/D_Confusion.ipynb), or use `ngs.directsolvers.SuperLU` which interfaces to a scipy facility.\n",
    "\n",
    "-  WebAssembly uses 32-bit memory addressing, not 64-bit.\n",
    "\n",
    "-  Thread parallelism is yet to be perfected in jupyterlite."
   ]
  }
 ],
 "metadata": {
  "kernelspec": {
   "display_name": "Python 3 (ipykernel)",
   "language": "python",
   "name": "python3"
  },
  "language_info": {
   "codemirror_mode": {
    "name": "ipython",
    "version": 3
   },
   "file_extension": ".py",
   "mimetype": "text/x-python",
   "name": "python",
   "nbconvert_exporter": "python",
   "pygments_lexer": "ipython3",
   "version": "3.11.6"
  }
 },
 "nbformat": 4,
 "nbformat_minor": 5
}
