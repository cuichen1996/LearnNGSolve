{
 "cells": [
  {
   "cell_type": "markdown",
   "id": "12cd6063-8429-496c-ad70-ea7df077eb9a",
   "metadata": {},
   "source": [
    "# Extensions & Deployments\n",
    "\n",
    "Jay Gopalakrishnan"
   ]
  },
  {
   "cell_type": "markdown",
   "id": "6cb48672-01ca-40f2-88fc-14d5eb9ea930",
   "metadata": {},
   "source": [
    "A **no-install-required deployment environment** is the quickest way to share with others (outside the ngsolve world) something cool you have done with ngsolve. NGSolve provides you with such an environment using  [JupyterLite](https://jupyterlite.readthedocs.io/en/stable/), explained more in the later section\n",
    "\n",
    "* [NGSolve in Jupyterlite](lite.ipynb).\n",
    "\n",
    "\n",
    "You can also **extend** NGSolve's built-in functionality by creating your own **add-on modules**. Your extensions can be written using NGSolve's Python interface, or  its C++ interface, or by combining both language facilities through pybind11.  When making your own extension package using *only* the Python interface of ngsolve, the installation and set up is simple.  Examples include  [NGSolve Model Templates](https://github.com/NGSolve/modeltemplates)  and  [Pythonic feast eigensolver](https://bitbucket.org/jayggg/pyeigfeast/wiki/Home).  Since there are ample external resources online outlining steps for python package preparation, in the upcoming section, \n",
    "\n",
    "* [Building NGSolve Add-ons](myaddons.ipynb),\n",
    "  \n",
    "we will focus more on setting up your own C++ add-ons.\n",
    "\n",
    "<br>"
   ]
  }
 ],
 "metadata": {
  "kernelspec": {
   "display_name": "Python 3 (ipykernel)",
   "language": "python",
   "name": "python3"
  },
  "language_info": {
   "codemirror_mode": {
    "name": "ipython",
    "version": 3
   },
   "file_extension": ".py",
   "mimetype": "text/x-python",
   "name": "python",
   "nbconvert_exporter": "python",
   "pygments_lexer": "ipython3",
   "version": "3.12.3"
  }
 },
 "nbformat": 4,
 "nbformat_minor": 5
}
