{
 "cells": [
  {
   "cell_type": "markdown",
   "metadata": {},
   "source": [
    "## HDG Tricks (scalar)\n",
    "\n",
    "In this unit we want to discuss a few advanced tricks that can be used for further tuning of the $H(\\operatorname{div})$-conforming Hybrid DG Stokes discretizations (and other 2nd order elliptic problems).\n",
    "\n",
    "We want to treat:\n",
    "* projected jumps \n",
    "* 🫣 `hidden` dofs\n",
    "* Hybrid DG formulations based on lifting operators\n",
    "\n",
    "For ease of discussion we will first start with a discussion of the first three features in the context of the Poisson problem \n",
    "\n",
    "$$\n",
    "- \\Delta u = f \\text{ in } \\Omega, \\quad u = g \\text{ on } \\partial \\Omega\n",
    "$$\n",
    "\n",
    "and will apply it directly afterwards to the Stokes problem. \n",
    "\n",
    "```{note}\n",
    "We will partially repeat the introduction of the projected jumps approach from the advanced tutorials here in order to provide a self-contained discussion and keep a consistent notation. Furthermore we will give more details on the tricks behind the curtain. \n",
    "```\n"
   ]
  },
  {
   "cell_type": "markdown",
   "metadata": {},
   "source": [
    "#### <span class=\"no-number\">Preliminary: Recap of standard HDG </span>\n",
    "The standard interior penalty DG method for the Poisson problem takes the form:\n",
    "* $V_{h,g} = V_h^T \\times \\hat V_{h,g}$\n",
    "* $V_h^T = \\mathbb{P}^{k}(\\mathcal{T}_h)$ (discontinuous pol. on elements)\n",
    "* $\\hat V_h = \\mathbb{P}^{k}(\\mathcal{F}_h)$ (discontinuous pol. on facets), $\\hat V_{h,g} = \\{\\hat v \\in \\hat V_{h} \\mid \\hat v = \\Pi^k g \\text{ on } \\partial \\Omega\\}$\n",
    "* $\\underline{u}_h = (u_h,\\hat u_h) \\in V_{h,g}$ solves $a_h(\\underline{u}_h, \\underline{v}_h) = f_h(\\underline{v}_h)$ for all $\\underline{v}_{h} \\in V_{h,0}$ with \n",
    "    * HDG bilinear form $a_h(\\cdot,\\cdot)$:\n",
    "        $\\newline\\displaystyle a_h(\\underline{u}_h,\\underline{v}_h) := \\underbrace{\\sum_{T \\in \\mathcal{T}_h} \\int_T \\nabla u \\cdot \\nabla v}_{=:b_h(u_h,v_h)} \\underbrace{- \\int_{\\partial T}  \\nabla u \\!\\cdot \\! n \\cdot (v - \\hat v)}_{=: N_h({u}_h,\\underline{v}_h)} \\underbrace{- \\int_{\\partial T} \\nabla v \\! \\cdot \\! n \\cdot (u - \\hat u)}_{= N_h({v}_h,\\underline{u}_h)}$\n",
    "        $\\newline\\displaystyle \\hphantom{a_h(\\underline{u}_h,\\underline{v}_h) := }\\underbrace{+ \\frac{\\gamma k^2}{h}\\int_{\\partial T} (u - \\hat u) \\cdot (v - \\hat v)}_{=: S_h(\\underline{u}_h,\\underline{v}_h)},$\n",
    "    * HDG linear form $f_h(\\underline{v}_h)$:\n",
    "        $ \\newline\\displaystyle f_h(\\underline{v}_h) := \\sum_{T \\in \\mathcal{T}_h} \\int_T f v$."
   ]
  },
  {
   "cell_type": "code",
   "execution_count": null,
   "metadata": {
    "tags": [
     "hide-input"
    ]
   },
   "outputs": [],
   "source": [
    "# input : fes = V x Vhat:\n",
    "def setup_HDG_system(fes, **opts):\n",
    "    uh, vh = fes.TnT()\n",
    "    (u,uhat), (v,vhat) = uh, vh\n",
    "    jump = lambda uh: uh[0]-uh[1] \n",
    "    order = fes.components[0].globalorder\n",
    "    alpha = 2\n",
    "    h = specialcf.mesh_size\n",
    "    n = specialcf.normal(mesh.dim)\n",
    "\n",
    "    a = BilinearForm(fes, **opts)\n",
    "    dS = dx(element_boundary=True)\n",
    "    a += grad(u)*grad(v)*dx + \\\n",
    "        alpha*(order+1)**2/h*jump(uh)*jump(vh)*dS + \\\n",
    "        (-grad(u)*n*jump(vh) - grad(v)*n*jump(uh))*dS\n",
    "    a.Assemble()\n",
    "    \n",
    "    f = LinearForm(fes)\n",
    "    f += 5*v*dx\n",
    "    f.Assemble()\n",
    "    return a,f"
   ]
  },
  {
   "cell_type": "code",
   "execution_count": null,
   "metadata": {
    "tags": [
     "hide-input"
    ]
   },
   "outputs": [],
   "source": [
    "def solve_lin_system(a,f,gfu,inverse=\"\"):\n",
    "    aSinv = a.mat.Inverse(gfu.space.FreeDofs(coupling=a.condense),inverse=inverse)\n",
    "    if a.condense:\n",
    "        ainv = ((IdentityMatrix(a.mat.height) + a.harmonic_extension) @ (aSinv + a.inner_solve) @ (IdentityMatrix(a.mat.height) + a.harmonic_extension_trans))        \n",
    "    else:\n",
    "        ainv = aSinv\n",
    "    rhs = f.vec.CreateVector()\n",
    "    rhs.data = f.vec - a.mat * gfu.vec\n",
    "    gfu.vec.data += ainv * rhs"
   ]
  },
  {
   "cell_type": "code",
   "execution_count": null,
   "metadata": {},
   "outputs": [],
   "source": [
    "from ngsolve import *\n",
    "from ngsolve.webgui import Draw\n",
    "from netgen.occ import *\n",
    "\n",
    "mesh = Mesh(unit_square.GenerateMesh(maxh=0.1))\n",
    "\n",
    "order=1\n",
    "V = L2(mesh, order=order)\n",
    "F = FacetFESpace(mesh, order=order, dirichlet=\".*\")\n",
    "fes = V*F\n",
    "\n",
    "gfu = GridFunction(fes)\n",
    "a,f, = setup_HDG_system(fes, condense=True)\n",
    "solve_lin_system(a,f,gfu)\n",
    "\n",
    "Draw (gfu.components[0], mesh, \"u-HDG\", deformation=True);"
   ]
  },
  {
   "cell_type": "markdown",
   "metadata": {},
   "source": [
    "### Projected Jumps (and how it works)\n",
    "\n",
    "**An observation**: \n",
    "* $\\nabla u \\! \\cdot \\! n \\in \\mathcal{P}^{k-1}(F)$ on every facet $F$, \n",
    "* hence $N_h({u}_h,\\underline{v}_h) = N_h({u}_h, \\Pi_{\\mathcal{F}_h}^{k-1} \\underline{v}_h)$ \n",
    "  where $\\Pi_{\\mathcal{F}_h}^{k-1}$ is the $L^2(\\mathcal{F}_h)$ projection on $\\mathbb{P}^{k-1}(\\mathcal{F}_h)$\n",
    "\n",
    "We then apply the following modifications:\n",
    "* To bound the $N_h$-terms it hence suffices to reduce the stabilizing term to $S_h^{pj}(\\cdot,\\cdot) = S_h^{pj}(\\Pi_{\\mathcal{F}_h}^{k-1}(\\cdot,\\cdot))$\n",
    "* We hence reduce the facet space to $\\hat V_h = \\mathbb{P}^{k-1}(\\mathcal{F}_h)$ (which reduces the globally coupled `dofs`, especially for low order methods)\n",
    "\n",
    "Now the questions arises: How to realize the ``projected jumps'' $\\Pi_{\\mathcal{F}_h}^{k-1}(\\mathcal{F}_h)$ in practice? \n",
    "One answer is discussed in the next section:"
   ]
  },
  {
   "cell_type": "markdown",
   "metadata": {},
   "source": [
    "### <span class=\"no-number\">`highest_order_dc`: Highest order facet functions discontinuous</span>\n",
    "\n",
    "The basis functions in $\\mathbb{P}^{\\ell}(\\mathcal{F}_h)$ ( corresponds to `FacetFESpace(..., order=l, ...)` in `NGSolve`) are constructed $L^2$-orthogonal (and order hierarchically).\n",
    "\n",
    "The implementation trick for the ``projected jumps'' method is to \n",
    "* use formally the same bilinear and linear form as in the standard HDG version, \n",
    "* but choose the following (seemingly more complicated) facet space:\n",
    "\n",
    "$$\n",
    "\\hat V_h^\\ast = \\mathbb{P}^{k-1}(\\mathcal{F}_h) \\oplus \\mathbb{P}^{k-1,\\perp}(\\partial \\mathcal{T}_h)\n",
    "$$\n",
    "\n",
    "<img src=\"figures/highest_order_dc.png\" alt=\"sketch for highest order dc\" width=\"800\" align=\"center\"/>\n",
    "\n",
    "$\\hat V_h^\\ast$ is to be read in the following way: Every function $\\hat v_h^\\ast \\in \\hat V_h^\\ast$ can be decomposed \n",
    "as $\\hat v_h^\\ast = \\hat v_h + \\bar v_h$ where\n",
    "* on each facet $F$ the $\\mathcal{P}^{k-1}(F)$-part of the facet function, $\\hat v_h$, stays **uni-valued** while\n",
    "* the $L^2$-orthogonal complement in $\\mathbb{P}^{k}(F)$, $\\bar v_h$, becomes **double-valued** (one version for both aligned elements)"
   ]
  },
  {
   "cell_type": "markdown",
   "metadata": {},
   "source": [
    "Testing with $(v_h, \\hat v_h + \\bar v_h) = (0,0,\\bar v_h)$ with $\\bar v_h$ **supported only on one facet $F$ from one element side** $T$ in the discrete formulation we obtain only the part from the $S_h(\\cdot,\\cdot)$ term (the other parts drop due to orthogonality):\n",
    "\n",
    "$$\n",
    " \\frac{\\gamma}{h} \\int_F  (u_h - \\hat{u}_h - \\bar u_h) \\bar v_h = 0 \\quad \\forall \\bar v_h\n",
    "$$\n",
    "\n",
    "Hence, the **element-local** facet variable becomes \n",
    "\n",
    "$$\n",
    "\\bar u_h = \\Pi_{\\mathcal{F}_h}^{k-1,\\perp} (u_h - \\hat u_h)\n",
    "$$\n",
    "\n",
    "We can hence eliminate $\\bar u_h$ (in dependence of $u_h$ and $\\hat u_h$) from the equations. \n",
    "Plugging it in yields the projection as on every facet $F$ (from one side of an element $T$) we have:\n",
    "\n",
    "$$\n",
    "u_h - \\hat u_h - \\bar u_h = (\\operatorname{id} - \\Pi_{\\mathcal{F}_h}^{k-1,\\perp} ) (u_h - \\hat u_h) = \\Pi_{\\mathcal{F}_h}^{k-1} (u_h - \\hat u_h) \n",
    "$$"
   ]
  },
  {
   "cell_type": "markdown",
   "metadata": {},
   "source": [
    "So, in 2D we add one degree of freedom per edge:"
   ]
  },
  {
   "cell_type": "code",
   "execution_count": null,
   "metadata": {},
   "outputs": [],
   "source": [
    "Vhat = FacetFESpace(mesh, order=order, dirichlet=\".*\")\n",
    "Vhats = FacetFESpace(mesh, order=order, dirichlet=\".*\", \\\n",
    "                          highest_order_dc=True)\n",
    "print(f\"Vhat.ndof = {Vhat.ndof}, Vhats.ndof = {Vhats.ndof}, difference = {Vhats.ndof - Vhat.ndof}, number of facets = {mesh.nfacet}\")"
   ]
  },
  {
   "cell_type": "markdown",
   "metadata": {},
   "source": [
    "What is wrong? Make a guess!\n",
    "```{toggle}\n",
    "The `highest_order_dc`-flag leaves boundary facets untouched!\n",
    "```"
   ]
  },
  {
   "cell_type": "code",
   "execution_count": null,
   "metadata": {
    "tags": [
     "hide-input"
    ]
   },
   "outputs": [],
   "source": [
    "print(f\"boundary facets: {mesh.GetNE(BND)}\")"
   ]
  },
  {
   "cell_type": "markdown",
   "metadata": {},
   "source": [
    "We have introduced more unknowns, **but**\n",
    "* the new unknowns stay element-local and can be **condensed** out"
   ]
  },
  {
   "cell_type": "code",
   "execution_count": null,
   "metadata": {},
   "outputs": [],
   "source": [
    "print(f\"Vhat.nfreedofs = {sum(Vhat.FreeDofs(coupling=True))}, Vhats.nfreedofs = {sum(Vhats.FreeDofs(coupling=True))}\")"
   ]
  },
  {
   "cell_type": "markdown",
   "metadata": {},
   "source": [
    "### 🫣`HIDDEN_DOF`s \n",
    "\n",
    "We actually do not care about $\\bar u_h$. \n",
    "**Can't we get rid of it in the `FESpace` (to get problems of smaller dimension)?**"
   ]
  },
  {
   "cell_type": "markdown",
   "metadata": {},
   "source": [
    "Yes! In NGSolve we have a type of degrees of freedom that we denote as `HIDDEN_DOF`. These need to fulfill the following three requirements:\n",
    "1. the degree of freedom only appears on **one** element\n",
    "2. the degree of freedom is only needed during assembly, not reconstruction of the `dof` necessary afterwards\n",
    "3. the r.h.s. of the linear system for that `dof` is zero "
   ]
  },
  {
   "cell_type": "markdown",
   "metadata": {},
   "source": [
    "All three requirements are fulfilled for the highest order `dof`s after setting `highest_order_dc` on:\n",
    "1. The `dof`s are element-local (only one side of a facet see it)\n",
    "2. The `dof` only realizes the $L^2$-projection, we don't need it afterwards\n",
    "3. Above we have exploited exactly that the r.h.s. is zero for $\\bar v_h$."
   ]
  },
  {
   "cell_type": "markdown",
   "metadata": {},
   "source": [
    "There are two places where `HIDDEN_DOF`s play a role:\n",
    "1. when setting up linear systems and the sparsity plays a role (depending on the flags `condense` and `eliminate_hidden` of the corresonding `BilinearForm`)\n",
    "2. when reducing the size of an `FESpace` using the Wrapper space `Compress` \n",
    "\n",
    "1. reduces the number of matrix entries, 2. reduces the dimension of vectors and matrices. \n",
    "\n",
    "```{WARNING}\n",
    "Note that you can do 1. without considering 2. but not 2. without 1., i.e. without adjusting your linear systems \n",
    "```"
   ]
  },
  {
   "cell_type": "code",
   "execution_count": null,
   "metadata": {},
   "outputs": [],
   "source": [
    "Vhats2 = FacetFESpace(mesh, order=order, dirichlet=\".*\", \\\n",
    "                            highest_order_dc=True, \\\n",
    "                            hide_highest_order_dc=True)\n",
    "Vhats3 = Compress(Vhats2)\n",
    "print(f\"  Vhat.ndof = {Vhat.ndof}, \\n Vhats.ndof = {Vhats.ndof}, \\nVhats2.ndof = {Vhats2.ndof}, \\nVhats3.ndof = {Vhats3.ndof}\")"
   ]
  },
  {
   "cell_type": "markdown",
   "metadata": {},
   "source": [
    "So, to get the most out of the situation we need three components here:\n",
    "* ⛓️‍💥 `highest_order_dc=True` to split the highest order function(s) to the aligned elements and make them local `LOCAL_DOF`s\n",
    "* 🫣 `hide_highest_order_dc=True` to have these dofs not only `LOCAL_DOF`s but even `HIDDEN_DOF`s \n",
    "* 🗜️ `Compress(...)` to really eliminate them from the global space (actually `Compress` is a wrapper space)"
   ]
  },
  {
   "cell_type": "markdown",
   "metadata": {},
   "source": [
    "Lets take a look at the local and global numbering and `COUPLING_TYPE`s on **one element**:"
   ]
  },
  {
   "cell_type": "code",
   "execution_count": null,
   "metadata": {},
   "outputs": [],
   "source": [
    "spaces = [Vhat,Vhats,Vhats2,Vhats3]\n",
    "print(\"l.dof|  std. FacetFES |+highest_o..._dc|+hide_highest_..|     + Compress |\" )\n",
    "print(\"-----|----------------|----------------|----------------|----------------|\" )\n",
    "for els in zip(*[V.Elements() for V in spaces]):\n",
    "    for ldof, gdofs in enumerate(zip(*[el.dofs for el in els])):\n",
    "        print(f\"{ldof:3}->|\",end=\"\")\n",
    "        for i, gdof in enumerate(gdofs):\n",
    "            if gdof >= 0:\n",
    "                print(f\" {gdof:4}:{str(spaces[i].CouplingType(gdof)).removeprefix('COUPLING_TYPE.').removesuffix('_DOF'):10}\",end=\"|\")\n",
    "            else:\n",
    "                print(\"  ---:----------\", end=\"|\")\n",
    "        print(\"\")\n",
    "    break"
   ]
  },
  {
   "cell_type": "markdown",
   "metadata": {},
   "source": [
    "Let's apply the different versions to solve the PDE problem:"
   ]
  },
  {
   "cell_type": "code",
   "execution_count": null,
   "metadata": {},
   "outputs": [],
   "source": [
    "order=1\n",
    "V = L2(mesh, order=order)\n",
    "defopt = {\"mesh\":mesh, \"order\":order, \"dirichlet\":\".*\"}\n",
    "facfes = [(FacetFESpace(**defopt),\"FacFES\"), \\\n",
    "          (FacetFESpace(**defopt, highest_order_dc=True),\"FacFES+ho_dc\"), \\\n",
    "          (FacetFESpace(**defopt, highest_order_dc=True, hide_highest_order_dc=True),\"FacFES+ho_dc+hide\"), \\\n",
    "          (Compress(FacetFESpace(**defopt, highest_order_dc=True, hide_highest_order_dc=True)),\"FacFES+ho_dc+hide+compr.\")]"
   ]
  },
  {
   "cell_type": "code",
   "execution_count": null,
   "metadata": {},
   "outputs": [],
   "source": [
    "gfuT_vis = GridFunction(V, multidim=True)\n",
    "for i, (F,fstring) in enumerate(facfes):\n",
    "    fes = V*F\n",
    "    gfu = GridFunction(fes)\n",
    "    a,f, = setup_HDG_system(fes, condense=True)\n",
    "    solve_lin_system(a,f,gfu)\n",
    "    if i == 0:\n",
    "        gfuT_vis.vec.data = gfu.components[0].vec\n",
    "    else:\n",
    "        gfuT_vis.AddMultiDimComponent(gfu.components[0].vec)  \n",
    "    print(f\"{fstring:25}\", end=\"\")\n",
    "    print(f\"ndofs:{fes.ndof:5}({V.ndof:5}+{F.ndof:5}), \",end=\"\")\n",
    "    print(f\"n.coup.dofs:{sum(fes.FreeDofs(coupling=True)):5}, \", end=\"\"),\n",
    "    print(f\"non-zeros:{a.mat.nze:8}\")\n",
    "Draw (gfuT_vis, mesh, \"u\", deformation=True);"
   ]
  },
  {
   "cell_type": "markdown",
   "metadata": {},
   "source": [
    "What happens during static condensation with `HIDDEN_DOF`s?\n",
    "\n",
    "When calculating an element matrix, we obtain a matrix that can be partitioned according to three categories:\n",
    "* I: `INTERFACE_DOF`s (including `WIREBASKET_DOF`s): Degrees of freedom that couple locally\n",
    "* L: `LOCAL_DOF`s: Degrees of freedom that only couple with other degrees of freedom within the element, but not outside\n",
    "* H: `HIDDEN_DOF`s: Degrees of freedom that also do not couple element-locally and meet the above conditions. \n",
    "\\begin{align*}\n",
    "\\begin{pmatrix}\n",
    "A_{II} & A_{IL} & A_{IH} \\\\\n",
    "A_{LI} & A_{LL} & A_{LH} \\\\\n",
    "A_{HI} & A_{HL} & A_{HH}\n",
    "\\end{pmatrix}\n",
    "\\end{align*}"
   ]
  },
  {
   "cell_type": "markdown",
   "metadata": {},
   "source": [
    "Now we know that the right-hand side with respect to the H-rows vanishes and that no further contributions will arise outside the element for the H-rows and H-columns during the assembly process."
   ]
  },
  {
   "cell_type": "markdown",
   "metadata": {},
   "source": [
    "\n",
    "$$\n",
    "\\begin{pmatrix}\n",
    "A_{II} & A_{IL} & A_{IH} \\\\\n",
    "A_{LI} & A_{LL} & A_{LH} \\\\\n",
    "A_{HI} & A_{HL} & A_{HH}\n",
    "\\end{pmatrix}\n",
    "\\begin{pmatrix}\n",
    "u_I \\\\\n",
    "u_L \\\\\n",
    "u_H\n",
    "\\end{pmatrix}\n",
    "=\n",
    "\\begin{pmatrix}\n",
    " \\\\\n",
    " \\\\\n",
    "0\n",
    "\\end{pmatrix}\n",
    "$$\n",
    "\n",
    "We assume that $A_{HH}$ is invertible and that we can form the Schur complement.\n",
    "The Schur complement $ \\tilde A $ of matrix $ A $ w.r.t. $ A_{HH} $ is:\n",
    "\n",
    "$$\n",
    "\\begin{pmatrix}\n",
    "\\tilde A_{II} & \\tilde A_{IL} \\\\\n",
    "\\tilde A_{LI} & \\tilde A_{LL}\n",
    "\\end{pmatrix} = \\begin{pmatrix}\n",
    "A_{II} & A_{IL} \\\\\n",
    "A_{LI} & A_{LL}\n",
    "\\end{pmatrix} - \\begin{pmatrix}\n",
    "A_{IH} \\\\\n",
    "A_{LH}\n",
    "\\end{pmatrix} A_{HH}^{-1} \\begin{pmatrix}\n",
    "A_{HI} & A_{HL}\n",
    "\\end{pmatrix}\n",
    "$$\n",
    "\n",
    "After the Schur complement is formed, we can directly forget about $u_H$ and the matrix entries of the `HIDDEN_DOF`s on that element.\n",
    "Next, we can form the Schur complement w.r.t. $\\tilde A_{LL}$ if we want, cf. the unit on static condensation in NGSolve. \n",
    "\n",
    "\n",
    "\n",
    "Overall, there are three options on how to treat the `HIDDEN_DOF` and `LOCAL_DOF`s when setting up linear systems:\n",
    "* `condense=True`: Static condensation is applied to the `HIDDEN_DOF`s and `LOCAL_DOF`s:\n",
    "    * `LOCAL_DOF`s still appear in the factors of the \"harmonic ext.\",\n",
    "    * but the global system is solved only for the `INTERFACE_DOF`s. \n",
    "    * `HIDDEN_DOF`s are removed after the first Schur complement step and don't appear in the matrix\n",
    "* `eliminate_hidden=True`: \n",
    "    * `HIDDEN_DOF`s are removed with the first Schur complement step, but no further static condensation is applied. \n",
    "    * `LOCAL_DOF`s are treated in the same way as `INTERFACE_DOF`s (except for preconditioning where `WIREBASKET_DOF`s are still distinguished)\n",
    "* `eliminate_hidden=False` (default) and `condense=True` (default): \n",
    "    * No Schur complement is formed at all. "
   ]
  },
  {
   "cell_type": "code",
   "execution_count": null,
   "metadata": {
    "tags": [
     "hide-input"
    ]
   },
   "outputs": [],
   "source": [
    "linsys_opts = [({\"condense\": False},\"  none\"), \\\n",
    "               ({\"eliminate_hidden\": True},\"hidden\"), \\\n",
    "               ({\"condense\": True},\" local\")]\n",
    "for i, (F,fstring) in enumerate(facfes):\n",
    "    print(fstring)\n",
    "    for j, (opts,elims) in enumerate(linsys_opts):\n",
    "        print(f\"condensed dofs: \"+elims+\", \",end=\"\")\n",
    "        fes = V*F\n",
    "        a,f, = setup_HDG_system(fes, **opts)\n",
    "        print(f\"ndofs:{fes.ndof:5}({V.ndof:5}+{F.ndof:5}), \",end=\"\")\n",
    "        print(f\"n.coup.dofs:{sum(fes.FreeDofs(coupling=True)):5}, \", end=\"\"),\n",
    "        print(f\"non-zeros:{a.mat.nze:8}\")\n",
    "    print(\"\")\n"
   ]
  },
  {
   "cell_type": "markdown",
   "metadata": {},
   "source": [
    "### HDG Lifting's  \n",
    "As a next application of `HIDDEN_DOF`s we consider the lifting operator approach for the DG discretization."
   ]
  },
  {
   "cell_type": "markdown",
   "metadata": {},
   "source": [
    "The stability term $S_h(\\cdot,\\cdot)$ in the HDG bilinear form makes up for the \n",
    "$N_h(\\cdot,\\cdot)$-parts that include the normal gradient on the element boundary.\n",
    "To obtain a more fine-grained control over this term, we can introduce a lifting operator that allows us to rewrite the stabilization term in a more flexible way:\n",
    "\n",
    "The HDG lifting operator\n",
    "$\\mathcal{L}: \\mathbb{P}^k(\\mathcal{T}_h) \\times \\mathbb{P}^k(\\mathcal{F}_h) \\to \\mathbb{P}^{k}(\\mathcal{T}_h)$\n",
    "is defined for $\\underline{v}_h \\in V_h = V_h^T \\times \\hat V_h$ so that \n",
    "\n",
    "$$\n",
    "b_h(\\mathcal{L}(\\underline{v}_h), w_h) + \\underbrace{\\sum_T \\int_T h^{-2} \\Pi^0 \\mathcal{L}(\\underline{v}_h) \\Pi^0 w_h }_{=:j_h(\\mathcal{L}(\\underline{u}_h),w_h)}= N_h(w_h,\\underline{v}_h) \\quad \\forall w_h \\in \\mathbb{P}^{k}(\\mathcal{T}_h).\n",
    "$$\n",
    "\n",
    "Note that with $w_h = w_h^0 + w_h^\\perp$ and $N_h(w_h^0, \\cdot) = b_h(\\cdot, w_h^) = 0$ we obtain $\\Pi^0 \\mathcal{L}(\\underline{v}_h) = 0$ and hence \n",
    "\n",
    "$$\n",
    "b_h(\\mathcal{L}(\\underline{v}_h), w_h) = N_h(w_h,\\underline{v}_h).\n",
    "$$\n",
    "\n",
    "With this we obtain:\n",
    "\n",
    "\\begin{align*}\n",
    "a_h(\\underline{u}_h,\\underline{v}_h) := & b_h(u_h,v_h) + b_h(\\mathcal{L}(\\underline{v}_h),u_h) + b_h(\\mathcal{L}(\\underline{u}_h),v_h)\n",
    "\\\\ \n",
    "& + S_h(\\mathcal{L}(\\underline{u}_h),\\mathcal{L}(\\underline{v}_h)) \n",
    "\\\\\n",
    "=& b_h(u_h + \\mathcal{L}(\\underline{u}_h), v_h + \\mathcal{L}(\\underline{v}_h)) \n",
    "\\\\ \n",
    "& + S_h(\\mathcal{L}(\\underline{u}_h),\\mathcal{L}(\\underline{v}_h)) - b_h(\\mathcal{L}(\\underline{u}_h),\\mathcal{L}(\\underline{v}_h))\n",
    "\\end{align*}\n",
    "\n",
    "Now, it is easy to see, that new sufficient stabilizations (without need for a sufficiently large parameter) can be designed easily. \n"
   ]
  },
  {
   "cell_type": "markdown",
   "metadata": {},
   "source": [
    "We simply take\n",
    "\n",
    "$$\n",
    "S_h(\\mathcal{L}(\\underline{u}_h),\\mathcal{L}(\\underline{v}_h)) = b_h(\\mathcal{L}(\\underline{u}_h),\\mathcal{L}(\\underline{v}_h)) + \\underbrace{\\frac{\\gamma k}{h}\\int_{\\partial T} (u - \\hat u) \\cdot (v - \\hat v)}_{=:s_h(\\underline{u}_h,\\underline{v}_h)}\n",
    "$$\n",
    "\n",
    "Note that the latter part makes it definite. Otherwise even multiples of the former part my not be sufficient if the lifting operator has a non-trivial kernel (due to a non-trivial kernel of $N_h(\\cdot,\\cdot)$), which can easily happen. Further note that the penalty term is scaled with $\\gamma k/h$ instead of $\\gamma k^2/h$ and $\\gamma > 0$ is all we need to ask for (no \"sufficiently large\").\n",
    "\n",
    "This yields\n",
    "\n",
    "$$\n",
    "a_h(\\underline{u}_h,\\underline{v}_h) := b_h(u_h,v_h) + b_h(\\mathcal{L}(\\underline{v}_h),u_h) + b_h(\\mathcal{L}(\\underline{u}_h),v_h) + 2 b_h(\\mathcal{L}(\\underline{u}_h),\\mathcal{L}(\\underline{v}_h))\n",
    "$$\n"
   ]
  },
  {
   "cell_type": "markdown",
   "metadata": {},
   "source": [
    "\n",
    "Now, for the implementation we rewrite the terms using the lifting characteristics backwards:\n",
    "\n",
    "\\begin{align*} \\tag{A}\n",
    "a_h(\\underline{u}_h,\\underline{v}_h) & := b_h(u_h,v_h) + N_h(u_h,\\underline{v}_h) + N_h(v_h,\\underline{u}_h) + N_h(\\mathcal{L}(\\underline{u}_h),\\underline{v}_h)\n",
    "+ s_h(\\underline{u}_h,\\underline{v}_h)\n",
    "\\end{align*}\n",
    "\n",
    "To implement the second-last part we introduce a new variable $u_h^\\ell = \\mathcal{L}(\\underline{u}_h)$ for which the lifting equality holds:\n",
    "\n",
    "\\begin{align*} \\tag{B}\n",
    "- b_h(u_h^\\ell, v_h^\\ell) - j_h(u_h^\\ell, v_h^\\ell) + N_h(v_h^\\ell,\\underline{u}_h) = 0 \\quad \\forall v_h^\\ell \\in \\mathbb{P}^{k,-0}(\\mathcal{T}_h).\n",
    "\\end{align*}\n"
   ]
  },
  {
   "cell_type": "markdown",
   "metadata": {},
   "source": [
    "\n",
    "Now, Plugging $u_h^\\ell = \\mathcal{L}(\\underline{u}_h)$ into (A) and adding (B) yields the new formulation:\n",
    "Find $\\underline{\\underline{u}}_h = (\\underline{u}_h,  u_h^\\ell) \\in V_h \\times \\mathbb{P}^{k}(\\mathcal{T}_h)$ so that\n",
    "\n",
    "\\begin{align*}\n",
    "a_h(\\underline{\\underline{u}}_h,\\underline{\\underline{v}}_h) & := b_h(u_h,v_h) + N_h(u_h,\\underline{v}_h) + N_h(v_h,\\underline{u}_h) + s_h(\\underline{u}_h,\\underline{v}_h) \\\\\n",
    "& \\qquad + N_h(u_h^\\ell,\\underline{v}_h)\n",
    "+ N_h(v_h^\\ell,\\underline{u}_h) \\\\\n",
    "& \\qquad - b_h(u_h^\\ell, v_h^\\ell) - j_h(u_h^\\ell, v_h^\\ell) \n",
    " \\\\\n",
    " & = f_h(\\underline{v}_h) \\qquad \\qquad \\forall \\underline{\\underline{v}}_h = (\\underline{v}_h, u_h^\\ell) \\in V_h \\times \\mathbb{P}^{k,-0}(\\mathcal{T}_h).\n",
    "\\end{align*}\n"
   ]
  },
  {
   "cell_type": "code",
   "execution_count": null,
   "metadata": {},
   "outputs": [],
   "source": [
    "def setup_lifted_HDG_system(fes, **opts):\n",
    "    uh, vh = fes.TnT()\n",
    "    order = fes.components[0].globalorder\n",
    "    (u,uhat,ul), (v,vhat,vl) = uh, vh\n",
    "    jump = lambda uh: uh[0]-uh[1] \n",
    "    h = specialcf.mesh_size\n",
    "    n = specialcf.normal(mesh.dim)\n",
    "    a = BilinearForm(fes, **opts)\n",
    "    dS = dx(element_boundary=True)\n",
    "    a += grad(u)*grad(v)*dx # b_h\n",
    "    a += (-grad(u)*n*jump(vh) - grad(v)*n*jump(uh))*dS #N_h\n",
    "    a += 1*(order+1)/h*jump(uh)*jump(vh)*dS # s_h\n",
    "    a += -grad(ul)*grad(vl)*dx # b_h (lifting)\n",
    "    a += (-grad(ul)*n*jump(vh) - grad(vl)*n*jump(uh))*dS #N_h (lifting)\n",
    "    a += - 1/(h*h)* ul * vl * dx(bonus_intorder=-2*order) # j_h\n",
    "    a.Assemble()\n",
    "    \n",
    "    f = LinearForm(fes)\n",
    "    f += 5*v*dx\n",
    "    f.Assemble()\n",
    "    return a,f"
   ]
  },
  {
   "cell_type": "markdown",
   "metadata": {},
   "source": [
    "\n",
    "We note that the new variable $u_h^\\ell$ can be treated as `HIDDEN` variable as\n",
    "* it only appears on one element\n",
    "* it is only needed during assembly (to realize the lifting)\n",
    "* the r.h.s. of the linear system for $v_h^\\ell$ is zero"
   ]
  },
  {
   "cell_type": "markdown",
   "metadata": {},
   "source": [
    "We use the keyword `hide_all_dofs` to make all dofs in a space `HIDDEN`:"
   ]
  },
  {
   "cell_type": "code",
   "execution_count": null,
   "metadata": {},
   "outputs": [],
   "source": [
    "order=1\n",
    "V = L2(mesh, order=order)\n",
    "F = FacetFESpace(mesh, order=order, dirichlet=\".*\")\n",
    "#F = Compress(FacetFESpace(mesh, order=order, dirichlet=\".*\", highest_order_dc=True, hide_highest_order_dc=True))\n",
    "Vl = Compress(L2(mesh, order=order, hide_all_dofs=True))\n",
    "fes = V*F*Vl"
   ]
  },
  {
   "cell_type": "markdown",
   "metadata": {},
   "source": [
    "Is `Vl` empty now?\n",
    "\n",
    "Yes and no:"
   ]
  },
  {
   "cell_type": "code",
   "execution_count": null,
   "metadata": {},
   "outputs": [],
   "source": [
    "print(f\"global ndof: {Vl.ndof}\")\n",
    "\n",
    "for el in Vl.Elements():\n",
    "    print(f\"local dofs on first element: {el.dofs}\")\n",
    "    break"
   ]
  },
  {
   "cell_type": "markdown",
   "metadata": {},
   "source": [
    "```{Warning}\n",
    "Setting `dof`s as `HIDDEN_DOF`s changes the global number of `dof`s and the **global** numbering (after compression), but \n",
    "on the element level the number of `dof`s is unaffected! The computation of the element matrix (before applying Schur complement strategies) is independent of any information on coupling types in the `FESpace`. \n",
    "```"
   ]
  },
  {
   "cell_type": "code",
   "execution_count": null,
   "metadata": {},
   "outputs": [],
   "source": [
    "gfuT_vis = GridFunction(V, multidim=True)\n",
    "gfu = GridFunction(fes)\n",
    "for i, (opt, elims) in enumerate(reversed(linsys_opts)): \n",
    "    a,f, = setup_lifted_HDG_system(fes, **opt)\n",
    "    solve_lin_system(a,f,gfu)\n",
    "    print(f\"condensed dofs: {elims:6}, nzes: {a.mat.nze}\")    \n",
    "    if i == 0:\n",
    "        gfuT_vis.vec.data = gfu.components[0].vec\n",
    "    else:\n",
    "        gfuT_vis.AddMultiDimComponent(gfu.components[0].vec)  \n",
    "Draw (gfuT_vis, mesh, \"u-HDG\", deformation=True);"
   ]
  },
  {
   "cell_type": "markdown",
   "metadata": {},
   "source": [
    "```{warning}\n",
    "Recall: Don't use `HIDDEN_DOF`s + `Compress` without setting `condense=True` or `eliminate_hidden=True` in the `BilinearForm`!\n",
    "```"
   ]
  },
  {
   "cell_type": "markdown",
   "metadata": {},
   "source": [
    "```{note}\n",
    "Also here for the chosen lifting formulation we don't need to penalize jumps up to order $k$ to have a proper norm. Instead we can use the \"projected jumps\" approach.\n",
    "To try it out comment in/out the corresponding lines for Vhat above.\n",
    "```"
   ]
  }
 ],
 "metadata": {
  "kernelspec": {
   "display_name": "Python 3 (ipykernel)",
   "language": "python",
   "name": "python3"
  },
  "language_info": {
   "codemirror_mode": {
    "name": "ipython",
    "version": 3
   },
   "file_extension": ".py",
   "mimetype": "text/x-python",
   "name": "python",
   "nbconvert_exporter": "python",
   "pygments_lexer": "ipython3",
   "version": "3.11.0"
  }
 },
 "nbformat": 4,
 "nbformat_minor": 4
}
