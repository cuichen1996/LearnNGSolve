{
 "cells": [
  {
   "cell_type": "markdown",
   "metadata": {},
   "source": [
    "## The Stokes equations\n",
    "\n",
    "Considering a stationary creeping flow, i.e. neglecting the time derivative and the non-linear convective term, we get the Stokes equations\n",
    "\n",
    "\\begin{alignat*}{2}\n",
    "- \\nu \\Delta u + \\nabla p &=f \\quad && \\text{in } \\Omega, \\\\\n",
    " \\operatorname{div} u &=0 \\quad && \\text{in } \\Omega.\n",
    "\\end{alignat*}\n",
    "\n",
    "Let $V = [H^1(\\Omega)]^d$ and $Q = L^2(\\Omega)$, then the weak formulation is given by: Find $(u, p) \\in V \\times Q$, $u = u_{in}$ on $\\Gamma_{in}$ s.t.\n",
    "\n",
    "\n",
    "\\begin{alignat*}{2}\n",
    " \\nu \\int_\\Omega \\nabla u: \\nabla v - \\int_\\Omega \\operatorname{div} v \\,p &=\\int_\\Omega f v, \\qquad && \\forall v \\in V, v = 0 \\text{ on } \\Gamma_{in} \\cup \\Gamma_{wall}, \\\\\n",
    " -\\int_\\Omega \\operatorname{div} u \\, q &=0, \\qquad && \\forall q \\in Q,\n",
    "\\end{alignat*}\n",
    "\n",
    "or\n",
    "\n",
    "$$\n",
    "K((u,p), (v,q)) = a(u,v) - b(v,p) -b(u,q) = (f,v),\n",
    "\\qquad \n",
    "\\forall v \\in V, v = 0 \\text{ on } \\Gamma_{in} \\cup \\Gamma_{wall},\n",
    "\\quad\n",
    "\\forall q \\in Q,\n",
    "$$\n",
    "\n",
    "<!-- \\begin{alignat*}{2}\n",
    "a(u,v) - b(v,p) &=(f,v), \\qquad && \\forall v \\in V, v = 0 \\text{ on } \\Gamma_{in} \\cup \\Gamma_{wall}, \\\\\n",
    " b(u,q\n",
    ") &=0, \\qquad && \\forall q \\in Q.\n",
    "\\end{alignat*} -->\n",
    "\n",
    "with \n",
    "\n",
    "$$\n",
    "a(u,v) = \\nu \\int_\\Omega \\nabla u: \\nabla v \n",
    "\\quad \\text{and} \\quad \n",
    "b(v,q) = \\int_\\Omega \\operatorname{div} v \\, p \n",
    "\\quad \\text{and} \\quad \n",
    "(f, v) = \\int_\\Omega f\\, v.\n",
    "$$\n",
    "\n",
    "\n",
    "```{note}\n",
    "In the case $\\Gamma_{out} = \\emptyset$ we have to add an additional constraint for $Q$ to make the pressure unique. A common approach is to choose $Q = \\{q \\in L^2(\\Omega): \\int_\\Omega q = 0 \\}$.\n",
    "```"
   ]
  }
 ],
 "metadata": {
  "language_info": {
   "name": "python"
  }
 },
 "nbformat": 4,
 "nbformat_minor": 2
}
