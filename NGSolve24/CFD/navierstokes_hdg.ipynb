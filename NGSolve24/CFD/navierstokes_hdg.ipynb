{
 "cells": [
  {
   "cell_type": "markdown",
   "metadata": {},
   "source": [
    "# Instationary Navier-Stokes\n",
    "\n",
    "We consider the approximation of the full non-linear Navier-Stokes equations. As a first step we use an $H(\\operatorname{div})$ conforming approach and consider an IMEX operator splitting, see [NGSolve docu - Navier Stokes](https://docu.ngsolve.org/latest/i-tutorials/unit-3.2-navierstokes/navierstokes.html)."
   ]
  },
  {
   "cell_type": "markdown",
   "metadata": {},
   "source": [
    "\n",
    "As example we want to solve a flow through a Tesla valve ([tesla.py](tesla.py)), see US patent 1329559 \"Valvular Conduit\".\n",
    "\n",
    "The original drawing by N. Tesla in his patent:\n",
    "\n",
    "<img src=\"figures/tesla_patent.png\" alt=\"tesla\" width=\"650\" align=\"center\"/>"
   ]
  },
  {
   "cell_type": "code",
   "execution_count": null,
   "metadata": {},
   "outputs": [],
   "source": [
    "from ngsolve import *\n",
    "from netgen.occ import *\n",
    "from ngsolve.webgui import Draw\n",
    "from tesla import GetValve\n",
    "\n",
    "ddim = 2\n",
    "\n",
    "# N controls the number of valves (one valve consisting of an upper and lower loop)\n",
    "valve = GetValve(N = 3, dim = ddim, R = 0.5, alpha = 25, Winlet = 1, beta = 180, L1 = 6.4, L2 = 7, Linlet = 5, closevalve = True)\n",
    "mesh = Mesh(OCCGeometry(valve, dim=ddim).GenerateMesh(maxh = 0.5))\n",
    "mesh.Curve(3)\n",
    "\n",
    "Draw(mesh);"
   ]
  },
  {
   "cell_type": "markdown",
   "metadata": {},
   "source": [
    "We consider wall boundary conditions everywhere, and as force and viscosity we choose\n",
    "\n",
    "$$\n",
    "(f,v) = r\n",
    "\\begin{pmatrix}\n",
    "1 \\\\ 0\n",
    "\\end{pmatrix},\n",
    "\\qquad \n",
    "\\text{and}\n",
    "\\qquad \n",
    "\\nu = 0.005,\n",
    "$$\n",
    "\n",
    "where the factor $r \\in \\{-1,1\\}$ will determine the flow direction (left to right, or right to left). Our goal is to evaluate the mass flux through the ```inlet``` boundary \n",
    "\n",
    "$$\n",
    "flux(u_h) = \\int_{\\Gamma_{in}} u_h \\cdot n,\n",
    "$$\n",
    "\n",
    "over a period of $T_{end} = 30$."
   ]
  },
  {
   "cell_type": "code",
   "execution_count": null,
   "metadata": {},
   "outputs": [],
   "source": [
    "# viscosity\n",
    "nu = 0.005\n",
    "# time step\n",
    "tau = 0.001\n",
    "# end time\n",
    "tend = 30\n",
    "# approximation order of the velocity\n",
    "order = 2"
   ]
  },
  {
   "cell_type": "markdown",
   "metadata": {},
   "source": [
    "For this example we want to make use of the ```hodivfree``` flag for the ```HDiv``` space. In NGSolve the hierarchical basis functions are split into four groups\n",
    "\n",
    "\n",
    "<img src=\"figures/sep_lo.png\" alt=\"lodof\" width=\"150px\" align=\"center\">\n",
    "<img src=\"figures/sep_facedofs.png\" alt=\"facedof\" width=\"150px\" align=\"center\">\n",
    "<img src=\"figures/sep_eldofsdiv.png\" alt=\"divdof\" width=\"150px\" align=\"center\">\n",
    "<img src=\"figures/sep_eldofsdivfree.png\" alt=\"divfreedof\" width=\"150px\" align=\"center\">\n",
    "\n",
    "\n",
    "- The first group corresponds to the lowest order Raviart-Thomas $\\mathcal{RT}_0$ space whose basis functions are associated to facets. Further note that the divergence of these functions is element wise constant, $\\operatorname{div}{\\mathcal{RT}_0} = \\mathbb{P}^0 = Q_h^0$, which corresponds to the lowest order pressure space.\n",
    "- The second group are the remaining facet basis functions which are *all divergence free*. \n",
    "- The third group represents n-bubbles (functions with a vanishing normal trace) with a non-zero divergence. More precisely, they correspond to the remaining high order part of the pressures, $Q_h^0/Q_h^0 = \\mathbb{P}^{k-1}/\\mathbb{P}^0$.\n",
    "- The last group are also n-bubbles, but are all divergence free.\n",
    "\n",
    "Since we want our velocity solution $u_h$ to be divergence-free, we already know beforehand that we can exclude the third group of basis functions, ```hodivfree=True```.  Although this motivates to remove also the lowest order Raviart-Thomas functions (producing a divergence) this can not be done since they are non-local. Accordingly, we still need the lowest-order pressure as a Lagrange multiplier in our system.\n",
    "\n",
    "```{note}\n",
    "More information on the basis function in NGSolve can be found in the PhD thesis of Sabine Zaglmayr \"High order finite element methods for electromagnetic field computation\". For the $H(div)$-space we also refer to \"P.L Lederer, C. Lehrenfeld, J. Schöberl, Hybrid discontinuous Galerkin methods with relaxed H(div)-conformity for incompressible flows, https://doi.org/10.1137/17M1138078\"\n",
    "```"
   ]
  },
  {
   "cell_type": "code",
   "execution_count": null,
   "metadata": {},
   "outputs": [],
   "source": [
    "VT =   HDiv(mesh,order=order, dirichlet=\"wall\", hodivfree=True)\n",
    "Vhat = TangentialFacetFESpace(mesh,order=order, dirichlet=\"wall\")\n",
    "\n",
    "Q = L2(mesh,order=0)\n",
    "\n",
    "X = VT * Q * Vhat\n",
    "\n",
    "uh, vh = X.TnT()\n",
    "u, p, uhat = uh\n",
    "v, q, vhat = vh\n",
    "\n",
    "n = specialcf.normal(mesh.dim)\n",
    "h = specialcf.mesh_size\n",
    "\n",
    "def tang(u): # tangential part of a vector field\n",
    "    return u - (u*n)*n\n",
    "def tjump(u): # hybrid DG jump of the tangential part\n",
    "    return tang(u[0]-u[2])"
   ]
  },
  {
   "cell_type": "markdown",
   "metadata": {},
   "source": [
    "We want to use an IMEX splitting method (see [NGSolve docu - Navier Stokes](https://docu.ngsolve.org/latest/i-tutorials/unit-3.2-navierstokes/navierstokes.html)). Hence, let $(u,\\hat u, p)^n$ be the coefficient vector of the discrete solution $u_h^n = u_h(t_n), \\hat u_h^n = \\hat u_h(t_n)$ and $p_h^n = p_h(t_n)$ for an aequidistant mesh $0 = t_0 < \\ldots < t_N = T_{end}$. We want to solve the system\n",
    "\n",
    "$$\n",
    "\\underbrace{\\left(\n",
    "\\begin{pmatrix}\n",
    "M & 0 & 0\\\\ 0 & 0 & 0 \\\\ 0 & 0 & 0\n",
    "\\end{pmatrix} + \\tau K\\right)}_{= M^*} \n",
    "\\begin{pmatrix}\n",
    "u \\\\ \\hat u \\\\ p\n",
    "\\end{pmatrix}^{n+1} \n",
    "=\n",
    "\\begin{pmatrix}\n",
    "u \\\\ \\hat u \\\\ p\n",
    "\\end{pmatrix}^{n} \n",
    "+ \\tau \\left(f - K \\begin{pmatrix}\n",
    "u \\\\ \\hat u \\\\ p\n",
    "\\end{pmatrix}^{n+1}  - C(u^n)u^n \\right),\n",
    "$$\n",
    "\n",
    "where $M$ is the mass matrix on ```VT``` and $C(u^n)u^n$ is an explicit evaluation of the non-linear convection term (where we integrated by parts)\n",
    "\n",
    "$$\n",
    "[C(u^n)u^n]_i = \\sum_T -\\int_T u_h^n \\otimes u_h^n : \\nabla \\phi_i + \\int_{\\partial T} u_h^n \\cdot n (u_h^n)^{up} \\cdot \\phi_i,\n",
    "$$\n",
    "\n",
    "where $\\phi_i$ is a basis function of the space ```VT```, and $(u_h^n)^{up}$ is the upwinded velocity."
   ]
  },
  {
   "cell_type": "code",
   "execution_count": null,
   "metadata": {},
   "outputs": [],
   "source": [
    "#small regularization so that we use the sparse cholesky solver\n",
    "stokes = (nu*InnerProduct(Grad(u), Grad(v))- div(u)*q - div(v)*p - nu * 1e-10*p*q)*dx\n",
    "deb = dx(element_boundary = True)\n",
    "\n",
    "stokes += nu * Grad(u) * n * tjump(vh) * deb\n",
    "stokes += nu * Grad(v) * n * tjump(uh) * deb\n",
    "stokes += nu * 10 * order*order/h * InnerProduct(tjump(uh),tjump(vh)) * deb\n",
    "\n",
    "K = BilinearForm(stokes, symmetric=True).Assemble()\n",
    "mstar = BilinearForm(u*v*dx + tau*stokes, symmetric=True, condense = True).Assemble()\n",
    "\n",
    "Sinv = mstar.mat.Inverse(X.FreeDofs(True), inverse = \"sparsecholesky\")\n",
    "inv = ((IdentityMatrix(mstar.mat.height) + mstar.harmonic_extension) @ (Sinv + mstar.inner_solve) @ (IdentityMatrix(mstar.mat.height) + mstar.harmonic_extension_trans))        "
   ]
  },
  {
   "cell_type": "markdown",
   "metadata": {},
   "source": [
    "The right hand side is only assembled once and will me multiplied with the factor $r$ in the solving routine."
   ]
  },
  {
   "cell_type": "code",
   "execution_count": null,
   "metadata": {},
   "outputs": [],
   "source": [
    "f = LinearForm(CF((1,0)) * v * dx(definedon = mesh.Materials(\"valve\"))).Assemble()   "
   ]
  },
  {
   "cell_type": "markdown",
   "metadata": {},
   "source": [
    "For the evaluation of the convection we make use of a geometry-free implementation (see also [NGSolve docu](nonlinear_matrix_free_bdb=True)) that, on top, is evaluated on the graphics card. This is achieved via the additional flag ```nonlinear_matrix_free_bdb=True``` when defining the ```BilinearForm```. In the DG-upwind definition of the convection we need to have access to the neighboring valuve ```u.Other()```, which is not feasible on the graphic card. To this end we consider a reformulation of the boundary term (we omit the superscript $n$ for the time dependence here)\n",
    "\n",
    "$$\n",
    "\\int_{\\partial T} u_h \\cdot n \\, u_h^{up} \\cdot \\phi_i = \n",
    "\\int_{\\partial T_{out}} u_h \\cdot n \\, u_h \\cdot \\phi_i\n",
    "\\int_{\\partial T_{in}} u_h \\cdot n \\,  u_h^{other} \\cdot \\phi_i,\n",
    "$$\n",
    "\n",
    "in the case of an inflow boundary $T_{in}$. Since $u_h$ is normal continuous we have\n",
    "\n",
    "$$\n",
    "u_h^{other} = (u_h \\cdot n) n + (u_h^{other})_t.\n",
    "$$\n",
    "\n",
    "Now assume that you have stored the mean value of the tangential projection of $u_h$ in an auxiliary function $\\tilde u$ defined on ```Vhat```, thus $ (\\tilde u_h)_t =  \\frac{1}{2}(u_h + u_h^{other})_t$, then we see\n",
    "\n",
    "$$\n",
    "(u_h^{other})_t = (u_h + u_h^{other})_t - (u_h)_t = 2 (\\tilde u_h) - (u_h)_t.\n",
    "$$\n",
    "\n",
    "Note, that in the later equation we do not need to have access to the values of $u_h$ of the neighboring element. Now with $(u_h)_t = u_n - (u_h \\cdot n) n$, thus $(u_h^{other})_t = 2 (\\tilde u_h) - u_h + (u_h \\cdot n) n$, we get\n",
    "\n",
    "\\begin{align*}\n",
    "\\int_{\\partial T_{in}} (u_h \\cdot n) \\,  u_h^{other} \\cdot \\phi_i\n",
    "&= \\int_{\\partial T_{in}} u_h \\cdot n  \\Big( (u_h \\cdot n) n + (u_h^{other})_t\\Big) \\cdot  \\phi_i \\\\\n",
    "&= \\int_{\\partial T_{in}} (u_h \\cdot n ) (u_h \\cdot n) (\\phi_i \\cdot n) + (u_h \\cdot n) (u_h^{other})_t \\cdot  \\phi_i\\\\\n",
    "&= \\int_{\\partial T_{in}} (u_h \\cdot n)  (u_h \\cdot n) (\\phi_i \\cdot n) + (u_h \\cdot n) \\Big( 2 (\\tilde u_h) - u_h + (u_h \\cdot n) n\\Big)\\cdot  \\phi_i\\\\\n",
    "&= \\int_{\\partial T_{in}} 2 (u_h \\cdot n)  (u_h \\cdot n) (\\phi_i \\cdot n) + (u_h \\cdot n) \\Big( 2 (\\tilde u_h) - u_h\\Big)\\cdot  \\phi_i,\n",
    "\\end{align*}\n",
    "\n",
    "The ```conv``` operator will be applied to a ```GridFunction``` where the proper values of $u_h$ and $\\tilde u_h$ have to be stored. Note the line with ```conv.Assemble()``` where the matrices for the geometry free implementations are built. \n"
   ]
  },
  {
   "cell_type": "code",
   "execution_count": null,
   "metadata": {},
   "outputs": [],
   "source": [
    "conv = BilinearForm(X, nonlinear_matrix_free_bdb=True)\n",
    "conv += -InnerProduct(grad(v)*u, u) * dx(bonus_intorder=order)\n",
    "\n",
    "un = u.Operator(\"normalcomponent\")\n",
    "uhat_t = uhat.Operator(\"tangentialcomponent\")\n",
    "vn = v.Operator(\"normalcomponent\")\n",
    "conv += IfPos(un, un * u * v, 2 * un * un * vn + un * ((2*uhat_t-(u)) * v) ) * dx(element_boundary = True, bonus_intorder=order)\n",
    "conv.Assemble()\n",
    "conv_operator = conv.mat\n"
   ]
  },
  {
   "cell_type": "markdown",
   "metadata": {},
   "source": [
    "In order to calculate the mean value $\\tilde u_h$ we set up the $L^2$-projection problem (for a given $u_h$)\n",
    "\n",
    "$$\n",
    "\\sum_T \\int_{\\partial T} (\\tilde u_h)_t (\\hat v_h)_t = \\sum_T \\int_{\\partial T} (u_h)_t (\\hat v_h)_t\n",
    "\\quad \n",
    "\\forall \\hat v_h \\in \\hat V_h.\n",
    "$$\n",
    "\n",
    "Since the tangential component of functions in ```Vhat``` are single valued on facets (in contrast to $u_h$) we have on a common facet \n",
    "\n",
    "$$ \n",
    "2 (\\tilde u_h)_t (\\hat v_h)_t = \\Big((u_h)_t + (u_h^{other})_t \\Big)(\\hat v_h)_t.\n",
    "$$"
   ]
  },
  {
   "cell_type": "code",
   "execution_count": null,
   "metadata": {},
   "outputs": [],
   "source": [
    "mfacet = BilinearForm(X)\n",
    "mfacet += tang(uhat) * tang(vhat) * dx(element_boundary=True)\n",
    "mfacet.Assemble()\n",
    "\n",
    "fdofs = BitArray(X.ndof)\n",
    "fdofs.Clear()\n",
    "fdofs[VT.ndof + Q.ndof:X.ndof] = 1\n",
    "\n",
    "mfinv = mfacet.mat.Inverse(fdofs, inverse = \"sparsecholesky\")\n",
    "average_rhs = BilinearForm(X, nonassemble = True)\n",
    "average_rhs += tang(u) * tang(vhat) * dx(element_boundary = True)"
   ]
  },
  {
   "cell_type": "code",
   "execution_count": null,
   "metadata": {},
   "outputs": [],
   "source": [
    "t = 0\n",
    "cnt = 0\n",
    "\n",
    "# list to store the mass flux\n",
    "massflux = []\n",
    "massflux_reverse = []\n",
    "time = []\n",
    "\n",
    "# solution functions\n",
    "gfu = GridFunction(X)\n",
    "gfu_reverse = GridFunction(X)\n",
    "gfu.vec[:]= 0\n",
    "gfu_reverse.vec[:]= 0\n",
    "\n",
    "average_vec = gfu.vec.CreateVector()\n",
    "gfu_average = GridFunction(X)\n",
    "\n",
    "# helping vectors\n",
    "res = gfu.vec.CreateVector()\n",
    "convvec = gfu.vec.CreateVector()\n",
    "convvec[:] = 0.0\n",
    "convvec_reverse = gfu.vec.CreateVector()\n",
    "convvec_reverse[:] = 0.0\n",
    "\n",
    "\n",
    "gfut = GridFunction(gfu.components[0].space, multidim=0)\n",
    "gfut_reverse = GridFunction(gfu.components[0].space, multidim=0)\n",
    "\n",
    "gfut.AddMultiDimComponent(gfu.vec)\n",
    "gfut_reverse.AddMultiDimComponent(gfu_reverse.vec)"
   ]
  },
  {
   "cell_type": "code",
   "execution_count": null,
   "metadata": {},
   "outputs": [],
   "source": [
    "with TaskManager():\n",
    "    while t < tend:   \n",
    "\n",
    "        # solve for the forward operator\n",
    "        average_rhs.Apply(gfu.vec, average_vec)\n",
    "        gfu_average.vec.data = mfinv * average_vec\n",
    "        gfu_average.components[0].vec.data = gfu.components[0].vec\n",
    "        convvec.data = conv_operator * gfu_average.vec\n",
    "\n",
    "        res.data = f.vec - convvec - K.mat * gfu.vec\n",
    "        gfu.vec.data += tau * inv * res    \n",
    "\n",
    "        # solve for the backward operator\n",
    "        average_rhs.Apply(gfu_reverse.vec, average_vec)\n",
    "        gfu_average.vec.data = mfinv * average_vec\n",
    "        gfu_average.components[0].vec.data = gfu_reverse.components[0].vec\n",
    "        convvec_reverse.data = conv_operator * gfu_average.vec\n",
    "\n",
    "        res.data = -f.vec - convvec_reverse - K.mat * gfu_reverse.vec\n",
    "        gfu_reverse.vec.data += tau * inv * res    \n",
    "        \n",
    "        t = t + tau\n",
    "        time.append(t)\n",
    "    \n",
    "        flux = Integrate(gfu.components[0]*n, mesh, definedon = mesh.Boundaries(\"inlet\"))\n",
    "        flux_reverse = Integrate(gfu_reverse.components[0]*n, mesh, definedon = mesh.Boundaries(\"inlet\"))\n",
    "        massflux.append(abs(flux))\n",
    "        massflux_reverse.append(abs(flux_reverse))\n",
    "        cnt += 1\n",
    "\n",
    "        if cnt % int(1.5/(tau)) == 0:\n",
    "            gfut.AddMultiDimComponent(gfu.components[0].vec)\n",
    "            gfut_reverse.AddMultiDimComponent(gfu_reverse.components[0].vec)"
   ]
  },
  {
   "cell_type": "markdown",
   "metadata": {},
   "source": [
    "In the following plots we can see the solutions at $t = T_{end}$. We observe that for the flow from left to right the solution is much more turbulent and the valve is \"activated\" since the fluid stops it self. On the other hand, for the flow from right to left, the solution is nearly laminar and much faster. This can also be observed in the  the maxs flux ploted over time below."
   ]
  },
  {
   "cell_type": "code",
   "execution_count": null,
   "metadata": {},
   "outputs": [],
   "source": [
    "Draw (gfut, mesh, interpolate_multidim=True, animate=True,\n",
    "      min=0, max=4, autoscale=False, vectors = {\"grid_size\": 100});\n",
    "Draw (gfut_reverse, mesh, interpolate_multidim=True, animate=True,\n",
    "      min=0, max=4, autoscale=False, vectors = {\"grid_size\": 100});"
   ]
  },
  {
   "cell_type": "code",
   "execution_count": null,
   "metadata": {},
   "outputs": [],
   "source": [
    "import matplotlib.pyplot as plt\n",
    "\n",
    "plt.plot(time, massflux, \"-\", color = \"orange\", label = \"left_to_right\")\n",
    "plt.plot(time, massflux_reverse, \"-\", color = \"blue\", label = \"right_to_left\")\n",
    "plt.legend(loc = \"lower right\")\n",
    "plt.show()\n"
   ]
  }
 ],
 "metadata": {
  "kernelspec": {
   "display_name": "Python 3 (ipykernel)",
   "language": "python",
   "name": "python3"
  },
  "language_info": {
   "codemirror_mode": {
    "name": "ipython",
    "version": 3
   },
   "file_extension": ".py",
   "mimetype": "text/x-python",
   "name": "python",
   "nbconvert_exporter": "python",
   "pygments_lexer": "ipython3",
   "version": "3.12.3"
  }
 },
 "nbformat": 4,
 "nbformat_minor": 4
}
