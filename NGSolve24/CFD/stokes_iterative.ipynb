{
 "cells": [
  {
   "cell_type": "markdown",
   "metadata": {},
   "source": [
    "## An iterative and parallel solver\n",
    "\n",
    "We consider the same setting, i.e. a flow over a NACA2412 airfoil ([naca_geometry.py](naca_geometry.py)), but in 3 dimensions. Since the number of unknowns increases significantly we want to use iterative schemes in the following. We discuss three different preconditioning approaches.\n",
    "\n",
    "### MinRes with block(-diagonal) preconditioners\n",
    "\n",
    "In a first version we want to use a preconditioned ```MinRes``` or ```GMRes``` Krylov subspace method. \n",
    "As motivation note that we can decompose our finite element matrix as follows\n",
    "\n",
    "$$\n",
    "K = \n",
    "\\begin{pmatrix}\n",
    "A & B^T \\\\ B & 0\n",
    "\\end{pmatrix}\n",
    "= \n",
    " \\begin{pmatrix}\n",
    "I & 0 \\\\ BA^{-1} & I\n",
    "\\end{pmatrix}\n",
    "\\begin{pmatrix}\n",
    "A & 0 \\\\ 0 & -S\n",
    "\\end{pmatrix}\n",
    "\\begin{pmatrix}\n",
    "I & A^{-1}B^T \\\\ 0 & I\n",
    "\\end{pmatrix},\n",
    "$$\n",
    "\n",
    "where $A, B$ are the finite-element matrices of the bilinear forms $a(\\cdot, \\cdot)$ and $b(\\cdot, \\cdot)$, respectively, and $S = B A^{-1} B^T$ is the pressure Schur complement. This factorization, considering preconditioners $\\hat A \\simeq A$ and $\\hat S \\simeq S$ for which computationally efficient applications of the inverse are available, motivates to define preconditioners (below we also discuss another block preconditioner) for the whole system via\n",
    "\n",
    "$$\n",
    "\\hat K_{block} = \n",
    "\\begin{pmatrix}\n",
    "\\hat A & 0 \\\\ 0 & \\hat S\n",
    "\\end{pmatrix}.\n",
    "$$\n",
    "\n",
    "For the Stokes equations a good choice for $\\hat S$ can be motivated by considering $B$ as the the discrete divergence operator and $A$ as the ($\\nu$-scaled) discrete Laplacian and $B^T$ as the gradient operator. Then \n",
    "\n",
    "$$B A^{-1} B^T \\hat{=} \\operatorname{div}_h \\nu^{-1} \\Delta_h^{-1} \\nabla_h,$$\n",
    "\n",
    "which can hence be interpreted of being approximately the discrete operator to the identity (scaled with $\\nu^{-1}$). Hence, a good choice for $\\hat S$ is given by the finite element matrix of the with $\\nu^{-1}$ scaled mass bilinear form for the pressures, i.e. \n",
    "\n",
    "$$\n",
    "\\hat s(p_h, q_h) \\approx \\frac{1}{\\nu}\\int_\\Omega p_h \\, q_h,\n",
    "$$\n",
    "\n",
    "where (depending on the approximation space $Q_h$) one might use an approximation of the integral, e.g. mass-lumping, such that the application of $\\hat S^{-1}$ is efficient.\n",
    "\n",
    "```{note}\n",
    "Note that the spectral equivalence for the pressure Schur complement is based on the LBB-condition of the Stokes equations. Correspondingly  the equivalence scales with the (inverse) LBB-constant that could potentially spoil the convergence of the iterative method\n",
    "```\n"
   ]
  },
  {
   "cell_type": "markdown",
   "metadata": {},
   "source": [
    "We want to solve the system in parallel. For this we start a corresponding cluster."
   ]
  },
  {
   "cell_type": "code",
   "execution_count": null,
   "metadata": {},
   "outputs": [],
   "source": [
    "# predefined flags, number of ranks and available memory\n",
    "from commonCFD import *\n",
    "from ipyparallel import Cluster\n",
    "MPI_RANKS = min(4,MPI_RANKS) # increase if problem increases (and you have more resources)\n",
    "c = await Cluster(engines=\"mpi\").start_and_connect(n=MPI_RANKS, activate=True)"
   ]
  },
  {
   "cell_type": "code",
   "execution_count": null,
   "metadata": {},
   "outputs": [],
   "source": [
    "%%px\n",
    "from commonCFD import *\n",
    "from mpi4py import MPI\n",
    "from ngsolve import *\n",
    "from netgen.occ import *\n",
    "# from ngsolve.krylovspace import CGSolver\n",
    "from ngsolve.krylovspace import MinResSolver, GMResSolver, BramblePasciakCG\n",
    "ngsglobals.numthreads=1\n",
    "\n",
    "import ngsolve.ngs2petsc as n2p\n",
    "import petsc4py.PETSc as psc\n",
    "\n",
    "from naca_geometry import *\n",
    "\n",
    "geom = OCCGeometry(occ_naca_profile(type = \"2412\", depth=2, height=4, angle=4, h=0.05), dim=3) #.GenerateMesh(maxh=0.2,  grading=0.9,comm=MPI.COMM_WORLD)\n",
    "\n",
    "if (MPI.COMM_WORLD.rank == 0):\n",
    "    ngmesh = geom.GenerateMesh(maxh=0.2,  grading=0.9)\n",
    "    Mesh(ngmesh)\n",
    "    ngmesh = ngmesh.Distribute(MPI.COMM_WORLD)\n",
    "else:\n",
    "    ngmesh = netgen.meshing.Mesh.Receive(MPI.COMM_WORLD)\n",
    "\n",
    "mesh = Mesh(ngmesh)\n",
    "mesh.ngmesh.SetGeometry(geom)\n",
    "mesh.Curve(3)\n",
    "\n",
    "nu = 1e-4"
   ]
  },
  {
   "cell_type": "markdown",
   "metadata": {},
   "source": [
    "Again we consider the Taylor-Hood element. \n",
    "The velocity space is the **product of three times the same scalar space**. We will exploit this in the setup of the matrices and their preconditioners.\n",
    "To this end we define the Stokes system and the solver considering separate spaces for each component of the velocity. \n",
    "The viscosity matrix $A$ is block-diagonal w.r.t. to the three components of the velocity:\n",
    "\n",
    "$$\n",
    " A = \\begin{pmatrix} A_s & 0 & 0 \\\\ 0 & A_s & 0 \\\\ 0 & 0 & A_s \\end{pmatrix},\n",
    "$$\n",
    "\n",
    "where $A_s$ denotes the stiffness matrix to the scalar problem (Laplacian).\n",
    "\n",
    "The preconditioner $\\hat A \\stackrel{!}{\\approx} A$ is set up through a preconditioner $\\hat A_s \\stackrel{!}{\\approx} A_s$ for which we consider the ```petsc4py.PETSc``` solver (available via the flag ```\"gamg\"``` later) which can be applied for a scalar-valued ```H1``` space.\n",
    "\n",
    "To compose the global problem from the scalar components in the solvers we make use of the classes ```BlockMatrix``` and ```BlockVector``` to setup the Stokes system. \n",
    "We can relate ```VectorH1``` functions/vectors with ```H1``` functions/vectors by using the ```restrictions``` and ```embedddings``` of the NGSolve ```VectorH1``` space. "
   ]
  },
  {
   "cell_type": "code",
   "execution_count": null,
   "metadata": {},
   "outputs": [],
   "source": [
    "%%px\n",
    "dirichlet_bnd = \"wall|inlet\"\n",
    "V = VectorH1(mesh, order=2, dirichlet=dirichlet_bnd)\n",
    "V1 = H1(mesh, order=2, dirichlet=dirichlet_bnd)\n",
    "Q = H1(mesh, order=1)\n",
    "\n",
    "if mesh.comm.rank==0:\n",
    "    print (\"ndof = \", V.ndofglobal,'+',Q.ndofglobal,'=',\n",
    "           V.ndofglobal+Q.ndofglobal)\n",
    "\n",
    "u, v = V.TnT()\n",
    "u1,v1 = V1.TnT()\n",
    "p,q = Q.TnT()\n",
    "\n",
    "bfa1 = BilinearForm(nu * InnerProduct(Grad(u1),Grad(v1))*dx)\n",
    "bfb = BilinearForm(div(u)*q*dx).Assemble()\n",
    "\n",
    "hata1 = Preconditioner(bfa1, \"gamg\")\n",
    "bfa1.Assemble(); #<- also setups up hata1"
   ]
  },
  {
   "cell_type": "markdown",
   "metadata": {},
   "source": [
    "\\begin{align*}\n",
    " \\tilde A  = & \\begin{pmatrix} \\tilde A_s & 0 & 0 \\\\ 0 & \\tilde A_s & 0 \\\\ 0 & 0 & \\tilde A_s \\end{pmatrix} \\\\\n",
    "   = & \\underbrace{\\begin{pmatrix} I \\\\ 0 \\\\ 0 \\end{pmatrix}}_{\\substack{\\texttt{V.embeddings[0]} \\\\ =\\texttt{V.restrictions[0].T}}} \\tilde A_s \\underbrace{\\begin{pmatrix} I & 0 & 0 \\end{pmatrix}}_{\\substack{\\texttt{V.embeddings[0].T} \\\\ =\\texttt{V.restrictions[0]}}}\n",
    "   & + \\begin{pmatrix} 0 \\\\ I \\\\ 0 \\end{pmatrix} \\tilde A_s \\begin{pmatrix} 0 & I & 0 \\end{pmatrix}\n",
    "   & + \\begin{pmatrix} 0 \\\\ 0 \\\\ I \\end{pmatrix} \\tilde A_s \\begin{pmatrix} 0 & 0 & I \\end{pmatrix} \n",
    "\\end{align*}\n",
    "\n",
    "with $\\tilde{A} \\in \\{A, \\hat A\\}$ and $\\tilde A_s \\in \\{A_s, \\hat A_s\\}$."
   ]
  },
  {
   "cell_type": "code",
   "execution_count": null,
   "metadata": {},
   "outputs": [],
   "source": [
    "%%px\n",
    "# Vector-A matrix and preconditioner:\n",
    "A = sum( [Ri.T@bfa1.mat@Ri for Ri in V.restrictions] )\n",
    "hatAinv = sum( [Ei@hata1@Ei.T for Ei in V.embeddings])    "
   ]
  },
  {
   "cell_type": "markdown",
   "metadata": {},
   "source": [
    "As mentioned before, we consider the mass-lumped pressure mass matrix as preconditioner of the pressure Schur complement. This can be done either using a predefined ```IntegrationRule``` or adding the ```diagonal=True``` flag to the BilinearForm. Note that we prefer to use the latter since this further does not allocate the additional zero entries on the off diagonal and hence allows for a faster application. "
   ]
  },
  {
   "cell_type": "code",
   "execution_count": null,
   "metadata": {},
   "outputs": [],
   "source": [
    "%%px\n",
    "hatS = BilinearForm(1/nu * p*q*dx, diagonal=True).Assemble()\n",
    "hatSinv = hatS.mat.Inverse()"
   ]
  },
  {
   "cell_type": "markdown",
   "metadata": {},
   "source": [
    "Setup the block system:"
   ]
  },
  {
   "cell_type": "code",
   "execution_count": null,
   "metadata": {},
   "outputs": [],
   "source": [
    "%%px\n",
    "B = bfb.mat\n",
    "K = BlockMatrix([[A,B.T], [B, None]])\n",
    "\n",
    "F = LinearForm(V).Assemble()\n",
    "G = LinearForm(Q).Assemble()\n",
    "\n",
    "rhsvec = BlockVector([F.vec, G.vec])"
   ]
  },
  {
   "cell_type": "markdown",
   "metadata": {},
   "source": [
    "We first consider the block diagonal precondtioner. "
   ]
  },
  {
   "cell_type": "code",
   "execution_count": null,
   "metadata": {},
   "outputs": [],
   "source": [
    "%%px\n",
    "hatK_block_inv = BlockMatrix([[hatAinv, None],[None, hatSinv]])"
   ]
  },
  {
   "cell_type": "markdown",
   "metadata": {},
   "source": [
    "Set boundary conditions and homogenize the linear system:\n",
    "Need to solve for $(u,p) = (u_0 + u_{\\text{bnd}}, p)$, s.t.\n",
    "\n",
    "$$\n",
    " K \\cdot \\begin{pmatrix} u_0 \\\\ p \\end{pmatrix} = \\begin{pmatrix} F \\\\ G \\end{pmatrix} - K \\cdot \\begin{pmatrix} u_{\\text{bnd}} \\\\  0 \\end{pmatrix} = \\texttt{rhsvec}.\n",
    "$$"
   ]
  },
  {
   "cell_type": "code",
   "execution_count": null,
   "metadata": {},
   "outputs": [],
   "source": [
    "%%px\n",
    "\n",
    "gfu = GridFunction(V)\n",
    "gfp = GridFunction(Q)\n",
    "\n",
    "uin = CF((1,0,0))\n",
    "\n",
    "gfu.Set(uin, definedon = mesh.Boundaries(\"inlet\"))\n",
    "\n",
    "sol_vec = BlockVector([gfu.vec, gfp.vec])\n",
    "\n",
    "rhsvec.data = -K* sol_vec"
   ]
  },
  {
   "cell_type": "code",
   "execution_count": null,
   "metadata": {},
   "outputs": [],
   "source": [
    "%%px\n",
    "\n",
    "solver = MinResSolver(mat = K, pre = hatK_block_inv , maxiter=500, printrates='\\r' if mesh.comm.rank==0 else False, tol=1e-8)\n",
    "sol_vec.data += solver * rhsvec"
   ]
  },
  {
   "cell_type": "code",
   "execution_count": null,
   "metadata": {},
   "outputs": [],
   "source": [
    "gfu = c[:][\"gfu\"]\n",
    "gfp = c[:][\"gfp\"]\n",
    "\n",
    "from ngsolve.webgui import Draw\n",
    "\n",
    "# Draw(gfp[0], draw_vol=False)\n",
    "#Draw(gfu[0], \"u\");"
   ]
  },
  {
   "cell_type": "markdown",
   "metadata": {},
   "source": [
    "Let's build some fieldlines:"
   ]
  },
  {
   "cell_type": "code",
   "execution_count": null,
   "metadata": {},
   "outputs": [],
   "source": [
    "N = 10 \n",
    "p = [(-1+4*i/N,-2+4*j/N,2*k/N) for i in range(1,2*N) for j in range(1,2*N) for k in range(1,N)]\n",
    "\n",
    "fieldlines = gfu[0]._BuildFieldLines(gfu[0].space.mesh, p, num_fieldlines=N**3//5, randomized=True, length=0.3)"
   ]
  },
  {
   "cell_type": "code",
   "execution_count": null,
   "metadata": {},
   "outputs": [],
   "source": [
    "clipping = { \"clipping\" : { \"y\":0, \"z\":-1} }\n",
    "Draw(gfu[0], gfu[0].space.mesh,  \"X\", draw_vol=False, draw_surf=True, objects=[fieldlines], \\\n",
    "     min=0, max=1, autoscale=False, settings={\"Objects\": {\"Surface\": True}}, **clipping);"
   ]
  },
  {
   "cell_type": "markdown",
   "metadata": {},
   "source": [
    "### Braess-Sarazin block preconditioner with GMRES\n",
    "\n",
    "Recall the exact decomposition:\n",
    "\n",
    "$$\n",
    "K = \\begin{pmatrix}\n",
    "A & B^T \\\\ B & 0\n",
    "\\end{pmatrix} = \n",
    " \\begin{pmatrix}\n",
    "I & 0 \\\\ BA^{-1} & I\n",
    "\\end{pmatrix} \n",
    "\\begin{pmatrix}\n",
    "A & 0 \\\\ 0 & -S\n",
    "\\end{pmatrix}\n",
    "\\begin{pmatrix}\n",
    "I & A^{-1}B^T \\\\ 0 & I\n",
    "\\end{pmatrix}.\n",
    "$$\n",
    "\n",
    "Previously we took the middle matrix and replaced $A$ and $S$ with preconditioners to obtain the overall block preconditioner. \n",
    "\n",
    "Instead, an alternative block preconditioner is obtained by including the other two parts of the decomposition with $A$ replaced by $\\hat A$:\n",
    "\n",
    "\\begin{align*}\n",
    "\\hat K_{bs} = \\begin{pmatrix}\n",
    "\\hat A & B^T \\\\ B & B \\hat A^{-1} B^T - \\hat S\n",
    "\\end{pmatrix} & =   \\begin{pmatrix}\n",
    "I & 0 \\\\ B\\hat A^{-1} & I\n",
    "\\end{pmatrix}\n",
    "\\begin{pmatrix}\n",
    "\\hat A & 0 \\\\ 0 & -\\hat S\n",
    "\\end{pmatrix}\n",
    "\\begin{pmatrix}\n",
    "I & \\hat A^{-1}B^T \\\\ 0 & I\n",
    "\\end{pmatrix} \\\\ &=  \\begin{pmatrix}\n",
    "I & 0 \\\\ B\\hat A^{-1} & I\n",
    "\\end{pmatrix}\n",
    "\\begin{pmatrix}\n",
    "\\hat A & B^T \\\\ 0 & -\\hat S\n",
    "\\end{pmatrix}.\n",
    "\\end{align*}\n",
    "\n",
    "Note, that this preconditioner can only be used with the ```GMRes``` solver since (generally depending on the system) it is not SPD.\n",
    "\n",
    "```{note}\n",
    "For more details on the choice $K_{bs}$ we refer to \"An efficient smoother for the Stokes problem\" by D. Braess and R. Sarazin, Applied Numerical Mathematics. https://doi.org/10.1016/S0168-9274(96)00059-1\"\n",
    "```\n"
   ]
  },
  {
   "cell_type": "markdown",
   "metadata": {},
   "source": [
    "In the case of $\\hat K_{bs}$, note that solving the system \n",
    "\n",
    "$$\n",
    "\\hat K_{bs}\n",
    "\\begin{pmatrix}\n",
    "\\boldsymbol w \\\\ \\boldsymbol q\n",
    "\\end{pmatrix}\n",
    "=\n",
    "\\begin{pmatrix}\n",
    "\\boldsymbol f \\\\ \\boldsymbol g\n",
    "\\end{pmatrix},\n",
    "$$\n",
    "\n",
    "reduces to solving\n",
    "\n",
    "\\begin{align*}\n",
    " &\\begin{pmatrix}\n",
    "I & 0 \\\\ B\\hat A^{-1} & I\n",
    "\\end{pmatrix}\n",
    "\\begin{pmatrix}\n",
    "\\hat A & B^T \\\\ 0 & -\\hat S\n",
    "\\end{pmatrix}\n",
    "\\begin{pmatrix}\n",
    "\\boldsymbol w \\\\ \\boldsymbol q\n",
    "\\end{pmatrix}\n",
    "=\n",
    "\\begin{pmatrix}\n",
    "\\boldsymbol f \\\\ \\boldsymbol g\n",
    "\\end{pmatrix} \\\\\n",
    " \\Rightarrow &\n",
    "\\begin{pmatrix}\n",
    "\\hat A & B^T \\\\ 0 & -\\hat S\n",
    "\\end{pmatrix}\n",
    "\\begin{pmatrix}\n",
    "\\boldsymbol w \\\\ \\boldsymbol q\n",
    "\\end{pmatrix}\n",
    "=\n",
    " \\begin{pmatrix}\n",
    "I & 0 \\\\ -B\\hat A^{-1} & I\n",
    "\\end{pmatrix}\n",
    "\\begin{pmatrix}\n",
    "\\boldsymbol f \\\\ \\boldsymbol g\n",
    "\\end{pmatrix}\n",
    "=\n",
    "\\begin{pmatrix}\n",
    "\\boldsymbol f \\\\ \\boldsymbol g - B \\underbrace{\\hat A^{-1} \\boldsymbol f}_{\\hat w}\n",
    "\\end{pmatrix},\n",
    "\\end{align*}\n",
    "\n",
    "and thus \n",
    "\n",
    "\\begin{align*}\n",
    "\\hat A \\boldsymbol{\\hat w} &= \\boldsymbol f,\\\\\n",
    "\\hat S \\boldsymbol q &= B \\boldsymbol{\\hat w - g},\\\\\n",
    "\\hat A \\boldsymbol w &= \\boldsymbol f - B^T \\boldsymbol q. \n",
    "\\end{align*}\n",
    "\n",
    "To implement this we define a new class ```BSPC``` where we overload the multiplication accordingly. "
   ]
  },
  {
   "cell_type": "code",
   "execution_count": null,
   "metadata": {},
   "outputs": [],
   "source": [
    "%%px\n",
    "from ngsolve import BaseMatrix\n",
    "\n",
    "class BSPC(BaseMatrix):\n",
    "    def __init__(self, M, Ahat_inv, Shat_inv):\n",
    "        super(BSPC, self).__init__()\n",
    "        self.M = M\n",
    "        self.A, self.B, self.BT = M[0,0], M[1,0], M[0,1]\n",
    "        self.Ahat_inv = Ahat_inv\n",
    "        self.Shat_inv = Shat_inv\n",
    "        self.mBTSg2 = self.A.CreateColVector()\n",
    "        self.g2 = self.Shat_inv.CreateColVector()\n",
    "        self.xtemp = self.M.CreateColVector()\n",
    "    def IsComplex(self):\n",
    "        return False\n",
    "    def Height(self):\n",
    "        return self.M.height\n",
    "    def Width(self):\n",
    "        return self.M.width\n",
    "    def CreateColVector(self):\n",
    "        return self.M.CreateColVector()\n",
    "    def CreateRowVector(self):\n",
    "        return self.M.CreateRowVector()\n",
    "    def Mult(self, b, x):\n",
    "        f, g = b[0], b[1]\n",
    "        x[0].data = self.Ahat_inv * f\n",
    "        self.g2.data = g - self.B * x[0]\n",
    "        x[1].data = - self.Shat_inv * self.g2\n",
    "        self.mBTSg2.data = self.BT * x[1]\n",
    "        x[0].data -= self.Ahat_inv * self.mBTSg2\n",
    "    def MultTrans(self, b, x):\n",
    "        self.Mult(b, x)\n",
    "    def MultAdd(self, scal, b, x):\n",
    "        self.Mult(b, self.xtemp)\n",
    "        x.data += scal * self.xtemp\n",
    "    def MultTransAdd(self, scal, b, x):\n",
    "        self.MultAdd(scal, b, x)"
   ]
  },
  {
   "cell_type": "code",
   "execution_count": null,
   "metadata": {},
   "outputs": [],
   "source": [
    "%%px \n",
    "hatK_sz_inv = BSPC(M = K, Ahat_inv = hatAinv, Shat_inv = hatSinv)\n",
    "solver = GMResSolver(mat = K, pre = hatK_sz_inv , maxiter=500, \\\n",
    "                    printrates='\\r' if mesh.comm.rank==0 else False, tol=1e-8)\n",
    "sol_vec.data += solver * rhsvec"
   ]
  },
  {
   "cell_type": "markdown",
   "metadata": {},
   "source": [
    "### Bramble Pasciak conjugate gradient method\n",
    "\n",
    "Consider again a preconditioner $\\hat A$ for the matrix $A$ such that the spectral equivalence \n",
    "\n",
    "$$\n",
    "\\alpha_0 (\\hat A \\boldsymbol u,\\boldsymbol v ) \\le (A \\boldsymbol u, \\boldsymbol v) \\le \\alpha_1 (\\hat A \\boldsymbol u, \\boldsymbol v ),\n",
    "$$\n",
    "holds with $\\alpha_1 < 1$. Then, multiplying the system \n",
    "\n",
    "$$\n",
    "K\n",
    "\\begin{pmatrix}\n",
    "\\boldsymbol u \\\\ \\boldsymbol p\n",
    "\\end{pmatrix}\n",
    "=\n",
    "\\begin{pmatrix}\n",
    "\\boldsymbol f \\\\ \\boldsymbol g\n",
    "\\end{pmatrix},\n",
    "$$\n",
    "\n",
    "with \n",
    "\n",
    "$$\n",
    "\\begin{pmatrix} \\hat A^{-1} & 0 \\\\ B \\hat A^{-1} & -I \n",
    "\\end{pmatrix},\n",
    "$$\n",
    "\n",
    "from the left, we obtain the reformulated system\n",
    "\n",
    "$$\n",
    "\\mathcal{M}\n",
    "\\begin{pmatrix}\n",
    "\\boldsymbol u \\\\ \\boldsymbol p\n",
    "\\end{pmatrix} = \n",
    "\\begin{pmatrix}\n",
    "{\\hat A}^{-1} A & {\\hat A}^{-1} B^T \\\\\n",
    "B {\\hat A}^{-1} (A - {\\hat A}) & B{\\hat A}^{-1}B^T\n",
    "\\end{pmatrix}\n",
    "\\begin{pmatrix}\n",
    "\\boldsymbol u \\\\ \\boldsymbol p\n",
    "\\end{pmatrix}\n",
    "=\n",
    "\\begin{pmatrix}\n",
    "{\\hat A}^{-1} \\boldsymbol f \\\\ \n",
    "B {\\hat A}^{-1} \\boldsymbol f - \\boldsymbol g,\n",
    "\\end{pmatrix}.\n",
    "$$\n",
    "\n",
    "The main purpose for this reformulation is that with the inner product \n",
    "\n",
    "$$\n",
    "\\Big[\n",
    "    \\begin{pmatrix}\n",
    "\\boldsymbol u \\\\ \\boldsymbol p\n",
    "\\end{pmatrix}\n",
    ",\n",
    "\\begin{pmatrix}\n",
    "\\boldsymbol v \\\\ \\boldsymbol q\n",
    "\\end{pmatrix}\n",
    "    \\Big] = \n",
    "    (A \\boldsymbol u, v) - (\\hat A \\boldsymbol u, \\boldsymbol v) + (\\boldsymbol p, \\boldsymbol q),\n",
    "$$\n",
    "\n",
    "one can show that $\\mathcal{M}$ is symmetric positive definite, which allows to consider the conjugate gradient method. \n",
    "```{warning}\n",
    "Note, that the property $\\alpha_1 < 1$ is crucial for this and therefor the ```BramblePasciakCG``` solver considers an initial eigenvalue problem to derive the appropriate scaling of the preconditioner $\\hat A$ beforehand.\n",
    "``` \n",
    "\n",
    "```{note}\n",
    "For more details on the BPCG solver see \"J. H. Bramble and J. E. Pasciak, A preconditioning technique for indefinite systems resulting from mixed approximations of elliptic problems, Math. Comp.\"\n",
    "```"
   ]
  },
  {
   "cell_type": "markdown",
   "metadata": {},
   "source": [
    "The inputs for the ```BramblePasciakCG``` solver are not the ```BlockVector``` and the ```BlockMatrix``` that we defined before, but rather the diffusion matrix for the velocity ```A``` and the matrix for the constraint ```B``` as well as the right hand side vectors separately."
   ]
  },
  {
   "cell_type": "code",
   "execution_count": null,
   "metadata": {},
   "outputs": [],
   "source": [
    "%%px\n",
    "sol = BramblePasciakCG (A=A, B=B, C=None, f=rhsvec[0], g=rhsvec[1], \\\n",
    "                preA=hatAinv, preS=hatSinv, maxit=500, \n",
    "                printrates='\\r' if mesh.comm.rank==0 else False, tol = 1e-8)"
   ]
  },
  {
   "cell_type": "code",
   "execution_count": null,
   "metadata": {},
   "outputs": [],
   "source": [
    "c.shutdown(hub=True)"
   ]
  }
 ],
 "metadata": {
  "kernelspec": {
   "display_name": "Python 3",
   "language": "python",
   "name": "python3"
  },
  "language_info": {
   "codemirror_mode": {
    "name": "ipython",
    "version": 3
   },
   "file_extension": ".py",
   "mimetype": "text/x-python",
   "name": "python",
   "nbconvert_exporter": "python",
   "pygments_lexer": "ipython3",
   "version": "3.12.3"
  }
 },
 "nbformat": 4,
 "nbformat_minor": 2
}
