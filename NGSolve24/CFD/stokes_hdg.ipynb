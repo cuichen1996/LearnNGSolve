{
 "cells": [
  {
   "cell_type": "markdown",
   "metadata": {},
   "source": [
    "## Normal-continuous HDG\n",
    "\n",
    "In the following we consider an $H(div)$-conforming approach to discretize the Stokes equations. \n",
    "This has some advantages like:\n",
    "* a simple convection stabilization via an up-winding approach when including the non-linear transport of the Navier-Stokes equations and\n",
    "* an exact conservation of mass (and several other properties such as pressure-robustness, energy-stability for Navier-Stokes,...) \n",
    "\n",
    "For a triangulation $\\mathcal{T}_h$ with its set of facets (the skeleton 🦴 ☠️) $\\mathcal{F}_h$ we consider the spaces \n",
    "\n",
    "\\begin{align*}\n",
    "V^T_h &= \\{u_h \\in H(\\operatorname{div}, \\Omega): u_h|_T \\in [\\mathbb{P}(T)]^d ~ \\forall T \\in \\mathcal{T}_h \\}, \\\\\n",
    "\\hat V_h &= \\{\\hat u_h \\in L^2(\\mathcal{F}_h): \\hat u_h|_F \\in [\\mathbb{P}^k(F)]^d, \\hat u_h|_F \\cdot n = 0 \\, \\forall F \\in \\mathcal{F}_h \\},\n",
    "\\end{align*}\n",
    "\n",
    "and set $V_h = V_h^T \\times \\hat V_h$ and $Q_h = \\mathbb{P}^{k-1}$. Note, whereas functions in $V_h^T$ have a continuous normal component, discrete pressure functions are **not** continuous. Further, functions in $\\hat V_h$ represent vector valued polynomials that lie in the tangential plane of the facets.\n",
    "\n",
    "```{note}\n",
    "Considering simplices, $V_h^T$ is the classical Brezzi-Douglas-Marini space of order $k$.\n",
    "```\n",
    "\n",
    "```{note}\n",
    "For details on the discretization we refer to \"High order exactly divergence-free Hybrid Discontinuous Galerkin Methods for unsteady incompressible flows, C. Lehrenfeld, J. Schöberl, Computer Methods in Applied Mechanics and Engineering, https://doi.org/10.1016/j.cma.2016.04.025\".\n",
    "```"
   ]
  },
  {
   "cell_type": "markdown",
   "metadata": {},
   "source": [
    "We consider the problem: Find $(u_h, \\hat u_h) \\in V_h$ and $p_h \\in Q_h$ with $u_h \\cdot n = u_D \\cdot n $ and $\\hat u_h = (u_D)_t$ such that\n",
    "\n",
    "\\begin{align}\n",
    "% K((u_h, \\hat u_h) ,p ; (v_h, \\hat v_h), q) = \n",
    "a_h((u_h, \\hat u_h),(v_h, \\hat v_h)) &- b(v_h,p_h) -b(u_h,q_h) = (f,v_h), \\tag{S}\n",
    "\\\\\n",
    "&\\forall (v_h, \\hat v_h) \\in V_h, ~ v_h \\cdot n = 0, \\hat v_h = 0 \\text{ on } \\Gamma_{in} \\cup \\Gamma_{wall},\n",
    "\\quad\n",
    "\\forall q_h \\in Q_h, \\nonumber\n",
    "\\end{align}\n",
    "\n",
    "where for $\\gamma > 0$ sufficiently large, we have the symmetric interior-penalty bilinear form \n",
    "\n",
    "\\begin{align*}\n",
    "a_h((u_h, \\hat u_h),(v_h, \\hat v_h)) = &\n",
    "\\sum_{T \\in \\mathcal{T}_h} \\nu \\int_T \\nabla u_h: \\nabla v_h \n",
    "- \\int_{\\partial T} \\nu \\nabla u_h n \\cdot (v_h - \\hat v_h)_t\\\\\n",
    "&- \\int_{\\partial T} \\nu \\nabla v_h n \\cdot (u_h - \\hat u_h)_t \n",
    "+ \\frac{\\nu \\gamma k^2}{h}\\int_{\\partial T} (u_h - \\hat u_h)_t \\cdot (v_h - \\hat v_h)_t,\n",
    "\\end{align*}\n",
    "\n",
    "with the tangential projection $ (\\phi)_t = \\phi - (\\phi \\cdot n) n$ for a function $\\phi$.\n",
    "\n",
    "Note, that Dirichlet (inlet, slip,...) boundary conditions are split into their normal and tangential components. This can be particularly helpful if the considered boundary is not parallel to the coordinate axis. \n",
    "\n",
    "Further since \n",
    "\n",
    "$$\n",
    "\\operatorname{div} V_h^T \\subset Q_h,\n",
    "$$\n",
    "\n",
    "with $b(v_h,p_h) = \\int_{\\Omega} \\operatorname{div} v_h p_h$ we can choose $q_h = \\operatorname{div} u_h$ in $(S)$ and we obtain $\\Vert \\operatorname{div} u_h \\Vert_{\\Omega} = 0$ and thus the discrete velocity solution is **exactly divergence-free** pointwise. "
   ]
  },
  {
   "cell_type": "markdown",
   "metadata": {},
   "source": [
    "### A simple example with slip-boundary conditions\n",
    "\n",
    "We consider a Stokes flow on a cylinder $\\Omega = \\{(x,y,z) \\in \\mathbb{R}^d: \\| (x,y)\\|_2 < 1, 0 < 0 < 0.5 \\}$ with a non-zero right hand side $f = 25 (0,0, \\| (x,y)\\|_2 - 1/2)$, and boundary conditions\n",
    "\n",
    "\\begin{align*}\n",
    "u = 0 \\quad &\\text{on} \\quad \\Gamma_{top} = \\{(x,y,z) \\in \\mathbb{R}^d: \\| (x,y)\\|_2 \\le 1, z = 0.5 \\}, \\\\\n",
    "u\\cdot n = 0, u_t = (y,-x,0) \\quad &\\text{on} \\quad \\Gamma_{bottom} = \\{(x,y,z) \\in \\mathbb{R}^d: \\| (x,y)\\|_2 \\le 1, z = 0.0 \\}, \\\\\n",
    "u\\cdot n = 0 \\quad &\\text{on} \\quad \\Gamma_{side} = \\{(x,y,z) \\in \\mathbb{R}^d: \\| (x,y)\\|_2 \\le 1, z = 0.0 \\}.\n",
    "\\end{align*}"
   ]
  },
  {
   "cell_type": "code",
   "execution_count": null,
   "metadata": {},
   "outputs": [],
   "source": [
    "from ngsolve import *\n",
    "from netgen.occ import *\n",
    "\n",
    "\n",
    "cyl = Cylinder((0,0,0), Z, h=0.5,r=1)\n",
    "cyl.faces[0].name=\"side\"\n",
    "cyl.faces[1].name=\"top\"\n",
    "cyl.faces[2].name=\"bottom\"\n",
    "\n",
    "ngmesh = OCCGeometry(cyl).GenerateMesh(maxh=0.5)\n",
    "mesh = Mesh(ngmesh)\n",
    "mesh.Curve(3)\n",
    "from ngsolve.webgui import Draw\n",
    "Draw(mesh)"
   ]
  },
  {
   "cell_type": "markdown",
   "metadata": {},
   "source": [
    "We choose a viscosity $\\nu = 1$, polynomials of order 3 (for the velocity) and a stabilization parameter of $\\gamma = 10$. Further, since we now have a problem with a prescribed Dirichlet value (for the normal component) on the whole boundary we consider the pressure in $L^2_0(\\Omega)$ which we enforce via an additional constraint using the ```NumberSpace```, i.e. \n",
    "\n",
    "$$\n",
    "\\int_\\Omega p_h \\mu_h = 0 \\quad \\mu_h \\in \\mathbb{R},\n",
    "$$\n",
    "\n",
    "and the corresponding term for the Lagrange multiplier. Further, we want to use a static condensation for the high-order velocity and pressure functions. To make sure that we can solve for the Schur complement we need to mark the lowest order pressures (i.e. the constants) such that they are not condensed. While this can be done in many various ways (see [NGSolve docu - static condensation](https://docu.ngsolve.org/nightly/i-tutorials/unit-1.4-staticcond/staticcond.html)), we simply add the ```lowest_order_wb=True``` flag to the pressure space."
   ]
  },
  {
   "cell_type": "code",
   "execution_count": null,
   "metadata": {},
   "outputs": [],
   "source": [
    "\n",
    "nu = 1\n",
    "order = 3\n",
    "gamma = 10\n",
    "\n",
    "VT = HDiv(mesh,order=order, dirichlet=\"top|bottom|side\")\n",
    "Vhat = TangentialFacetFESpace(mesh,order=order, dirichlet=\"bottom|top\")\n",
    "Q = L2(mesh,order=order-1, lowest_order_wb=True)\n",
    "N = NumberSpace(mesh)\n",
    "\n",
    "X = VT * Vhat * Q * N\n",
    "\n",
    "(u, uhat, p, lam), (v, vhat, q, mu) = X.TnT()\n",
    "\n",
    "n = specialcf.normal(mesh.dim)\n",
    "h = specialcf.mesh_size\n",
    "\n",
    "def tang(u):\n",
    "    return u - (u*n)*n"
   ]
  },
  {
   "cell_type": "code",
   "execution_count": null,
   "metadata": {},
   "outputs": [],
   "source": [
    "\n",
    "K = BilinearForm(X, symmetric=True, condense = True)\n",
    "K += (nu*InnerProduct(Grad(u), Grad(v)) + div(u)*q + div(v)*p + p * mu + q * lam) * dx()\n",
    "K += nu * Grad(u)*n * tang(vhat - v) * dx(element_boundary = True)\n",
    "K += nu * Grad(v) * n *  tang(uhat-u) * dx(element_boundary = True)\n",
    "K += nu  *gamma*order**2/h * InnerProduct ( tang(vhat-v),  tang(uhat-u) ) * dx(element_boundary = True)\n",
    "K.Assemble()\n"
   ]
  },
  {
   "cell_type": "code",
   "execution_count": null,
   "metadata": {},
   "outputs": [],
   "source": [
    "gfu_bc = GridFunction(X)\n",
    "gfu_bc.components[1].Set(CF((y,-x,0)), definedon=mesh.Boundaries(\"bottom\"))"
   ]
  },
  {
   "cell_type": "code",
   "execution_count": null,
   "metadata": {},
   "outputs": [],
   "source": [
    "KSinv = K.mat.Inverse(X.FreeDofs(coupling=True))\n",
    "Kinv = ((IdentityMatrix(K.mat.height) + K.harmonic_extension) @ (KSinv + K.inner_solve) @ (IdentityMatrix(K.mat.height) + K.harmonic_extension_trans))"
   ]
  },
  {
   "cell_type": "markdown",
   "metadata": {},
   "source": [
    "Let's start the problem without external forces:"
   ]
  },
  {
   "cell_type": "code",
   "execution_count": null,
   "metadata": {},
   "outputs": [],
   "source": [
    "gfu = GridFunction(X)\n",
    "rhs = gfu.vec.CreateVector()\n",
    "rhs.data = -K.mat * gfu_bc.vec\n",
    "gfu.vec.data = gfu_bc.vec + Kinv * rhs"
   ]
  },
  {
   "cell_type": "markdown",
   "metadata": {},
   "source": [
    "Visualize the solution"
   ]
  },
  {
   "cell_type": "code",
   "execution_count": null,
   "metadata": {},
   "outputs": [],
   "source": [
    "from ngsolve.webgui import FieldLines\n",
    "\n",
    "N = 12\n",
    "points = [ (sin(2*pi*k/N)*i/N, cos(2*pi*k/N)*i/N, j/N)   for i in range(1,N) for j in range(1,N) for k in range(0,N)]\n",
    "\n",
    "fl = FieldLines(gfu.components[0], mesh.Materials('.*'), num_lines=N**3//20, length=1)\n",
    "\n",
    "ea = { \"euler_angles\" : (-40, 0, 0) }\n",
    "\n",
    "Draw(gfu.components[0], mesh,  \"X\", draw_vol=False, draw_surf=True, objects=[fl], \\\n",
    "     min=0, max=1, autoscale=False, settings={\"Objects\": {\"Surface\": False, \"Wireframe\":False}}, **ea);"
   ]
  },
  {
   "cell_type": "markdown",
   "metadata": {},
   "source": [
    "Now, we additionally define a body force $f = 25 (0,0, \\| (x,y)\\|_2 - 1/2)$ to the right hand side. The force is showing downwards in the center and upwards at the boundary. "
   ]
  },
  {
   "cell_type": "code",
   "execution_count": null,
   "metadata": {},
   "outputs": [],
   "source": [
    "r = sqrt(x**2+y**2)\n",
    "F = LinearForm(X)\n",
    "F += 500*CF((0,0,r-0.5))*v*dx\n",
    "F.Assemble()"
   ]
  },
  {
   "cell_type": "code",
   "execution_count": null,
   "metadata": {},
   "outputs": [],
   "source": [
    "from ngsolve.webgui import AddFieldLines\n",
    "\n",
    "gfu_vis = GridFunction(X,multidim=True)\n",
    "steps=10\n",
    "for i,(val_bc, val_force) in enumerate([(1-j/(steps-1),j/(steps-1)) for j in range(steps)]):\n",
    "    rhs.data = val_force * F.vec.data - val_bc * K.mat * gfu_bc.vec\n",
    "    gfu.vec.data = val_bc * gfu_bc.vec.data + Kinv * rhs\n",
    "    fl = FieldLines(gfu.components[0], mesh.Materials('.*'), num_lines=N**3//20, length=1)\n",
    "    if i == 0:\n",
    "        gfu_vis.vec.data = gfu.vec\n",
    "        fieldlines = fl\n",
    "    else:\n",
    "        gfu_vis.AddMultiDimComponent(gfu.vec)\n",
    "        AddFieldLines(fieldlines, fl) \n",
    "\n",
    "Draw(gfu_vis.components[0], mesh,  \"X\", draw_vol=True, draw_surf=True, objects=[fieldlines], \\\n",
    "     min=0, max=1, autoscale=False, animate=True, settings={\"Objects\": {\"Surface\": False, \"Wireframe\":False}}, **ea);     "
   ]
  },
  {
   "cell_type": "markdown",
   "metadata": {},
   "source": [
    "### An iterative parallel solver\n",
    "\n",
    "Since the above chosen discrete velocity space is not conforming with respect to the $[H^1]^d$ space we cannot use the preconditioners for the $A$-block discussed so far. To fix this we make use of an auxiliary space preconditioner where an approximate to the inverse of $A$ is given by \n",
    "\n",
    "$$\n",
    "\\hat A^{-1} = A^{-1}_{smooth} + E \\hat A_{cg}^{-1} E^T,\n",
    "$$\n",
    "\n",
    "Here, $A_{smooth}$ is some appropriate smoother, e.g. some (block) Jacobi-preconditioner, $\\hat A_{cg}$ is an available preconditioner for a (low-order) vector-valued Laplace operator discretized using a **continuous** finite element space $V_h^{cg} \\subset V_h$ and $E$ is the FEM matrix of the embedding operator \n",
    "\n",
    "$$\n",
    "e: V_h^{cg} \\rightarrow V_h. \n",
    "$$\n",
    "\n",
    "*Remark: More details on the $H(\\operatorname{div})$-conforming preconditioner can be found in \"A conforming auxiliary space preconditioner for the mass conserving stress-yielding method, L. Kogler, P.L. Lederer, J. Schöberl, Numerical Linear Algebra with Applications, https://doi.org/10.1002/nla.2503\"*"
   ]
  },
  {
   "cell_type": "markdown",
   "metadata": {},
   "source": [
    "Depending on how big your system is (available ```MPI_RANKS```), you can choose between solving again:\n",
    "\n",
    "- the flow over the NACA2412 airfoil ([naca_geometry.py](naca_geometry.py)).\n",
    "- the flow around an airplane (geometry available via ```OCCGeometry``` and the step file [plane.step](plane.step))."
   ]
  },
  {
   "cell_type": "code",
   "execution_count": null,
   "metadata": {},
   "outputs": [],
   "source": [
    "# predefined flags, number of ranks and available memory\n",
    "from commonCFD import *\n",
    "from ipyparallel import Cluster\n",
    "c = await Cluster(engines=\"mpi\").start_and_connect(n=MPI_RANKS, activate=True)"
   ]
  },
  {
   "cell_type": "code",
   "execution_count": null,
   "metadata": {},
   "outputs": [],
   "source": [
    "%%px\n",
    "from commonCFD import *\n",
    "from mpi4py import MPI\n",
    "from ngsolve import *\n",
    "from netgen.occ import *\n",
    "# from ngsolve.krylovspace import CGSolver\n",
    "from ngsolve.krylovspace import MinResSolver, GMResSolver, BramblePasciakCG\n",
    "ngsglobals.numthreads=1\n",
    "\n",
    "import ngsolve.ngs2petsc as n2p\n",
    "import petsc4py.PETSc as psc\n",
    "\n",
    "from naca_geometry import *\n",
    "\n",
    "if MPI_RANKS <= 4:\n",
    "    DIM = 2\n",
    "    geom = OCCGeometry(occ_naca_profile(type = \"2412\", depth=0 if DIM==2 else 2, height=4, angle=4, h=0.05), dim=DIM)\n",
    "else:\n",
    "    geom = OCCGeometry(\"plane.step\")\n",
    "\n",
    "if (MPI.COMM_WORLD.rank == 0):\n",
    "    if MPI_RANKS <= 4:\n",
    "        ngmesh = geom.GenerateMesh(maxh=0.2,  grading=0.9)\n",
    "    else:\n",
    "        ngmesh = geom.GenerateMesh(maxh=2)\n",
    "        for ind in range(1, 1+ngmesh.GetNFaceDescriptors()):\n",
    "            ngmesh.SetBCName(ind-1, \"wall\")\n",
    "    \n",
    "        for ind, name in [ (4, \"bottom\"),\n",
    "                            (2, \"top\"),\n",
    "                            (5, \"right\"), # front of plane - inflow\n",
    "                            (1, \"inlet\"), # front of plane - inflow\n",
    "                            (3, \"left\"), # front of plane - inflow\n",
    "                            (6, \"back\")]: # back of plane - outflow\n",
    "            ngmesh.SetBCName(ind-1, name)\n",
    "    # Mesh(ngmesh)\n",
    "    ngmesh = ngmesh.Distribute(MPI.COMM_WORLD)\n",
    "else:\n",
    "    ngmesh = netgen.meshing.Mesh.Receive(MPI.COMM_WORLD)\n",
    "\n",
    "mesh = Mesh(ngmesh)\n",
    "# mesh.ngmesh.SetGeometry(geom)\n",
    "# mesh.Curve(3)\n",
    "nu = 1e-4"
   ]
  },
  {
   "cell_type": "markdown",
   "metadata": {},
   "source": [
    "We eventually want to use the ```BSPC``` preconditioner and a ```GMRes``` solver. Thus, we again want to use a ```BlockMatrix``` and ```BlockVector```. Note however, that due to using an HDG method, the velocity space is a product space, i.e. ```V = VT * Vhat```. Further, to make the computations more efficient, we are going to condense the local velocity dofs in the $A$-block. To be able to perform the ```GMRes``` iteration on the full system we need to have access to the full system (and not just the Schur-complement), thus we add the flag ```store_inner=True```."
   ]
  },
  {
   "cell_type": "code",
   "execution_count": null,
   "metadata": {},
   "outputs": [],
   "source": [
    "%%px\n",
    "if MPI_RANKS <= 4:\n",
    "    order = 2\n",
    "else:\n",
    "    order = 1\n",
    "    \n",
    "gamma = 10\n",
    "\n",
    "VT = HDiv(mesh,order=order, dirichlet=\"wall|inlet\")\n",
    "Vhat = TangentialFacetFESpace(mesh,order=order, dirichlet=\"wall|inlet\")\n",
    "Q = L2(mesh,order=order-1)\n",
    "\n",
    "V = VT * Vhat\n",
    "\n",
    "(u, uhat), (v,vhat) = V.TnT()\n",
    "p,q = Q.TnT()\n",
    "\n",
    "n = specialcf.normal(mesh.dim)\n",
    "h = specialcf.mesh_size\n",
    "\n",
    "def tang(u):\n",
    "    return u - (u*n)*n\n",
    "\n",
    "elint = True\n",
    "\n",
    "bfa = BilinearForm(V, condense = elint, store_inner = elint) #, symmetric=True)\n",
    "bfa += (nu*InnerProduct(Grad(u), Grad(v))) * dx()\n",
    "bfa += nu * Grad(u)*n * tang(vhat - v) * dx(element_boundary = True)\n",
    "bfa += nu * Grad(v) * n *  tang(uhat-u) * dx(element_boundary = True)\n",
    "bfa += nu  *gamma*order*(order+1)/h * InnerProduct ( tang(vhat-v),  tang(uhat-u) ) * dx(element_boundary = True)\n",
    "bfa.Assemble()\n",
    "A = bfa.mat\n",
    "\n",
    "bfb = BilinearForm(div(u)*q*dx).Assemble()\n",
    "B = bfb.mat\n",
    "\n",
    "F = LinearForm(V).Assemble()\n",
    "G = LinearForm(Q).Assemble()\n",
    "\n",
    "rhs_vec = BlockVector([F.vec, G.vec])"
   ]
  },
  {
   "cell_type": "markdown",
   "metadata": {},
   "source": [
    "As a next step we want to setup the auxiliary space ```Vc``` and the corresponding solver. This follows very similar steps as in the previous section. Note however, that we only consider a lowest order linear space here."
   ]
  },
  {
   "cell_type": "code",
   "execution_count": null,
   "metadata": {},
   "outputs": [],
   "source": [
    "%%px\n",
    "\n",
    "Vc = VectorH1(mesh, order = 1, dirichlet = \"inlet|wall\")\n",
    "V1c = H1(mesh, order=1, dirichlet=\"inlet|wall\")\n",
    "\n",
    "u1c, v1c = V1c.TnT()\n",
    "bfa1c = BilinearForm(nu * InnerProduct(Grad(u1c),Grad(v1c))*dx)\n",
    "\n",
    "hata1c = Preconditioner(bfa1c, \"gamg\")\n",
    "bfa1c.Assemble()\n",
    "\n",
    "hatAcinv = sum( [Ei@hata1c@Ei.T for Ei in Vc.embeddings])"
   ]
  },
  {
   "cell_type": "markdown",
   "metadata": {},
   "source": [
    "To be able to use the solver for our discretization space we set up the aforementioned embedding. In NGSolve this can be realized using a ```ConvertOperator``` that uses the functionals (degrees of freedoms) of the ```spaceb``` to interpolate (convert) a function from ```spacea```. By changing the ```rangedofs``` one can control the actual considered functionals (e.g. the range that is associated to the corresponding basis functions). "
   ]
  },
  {
   "cell_type": "markdown",
   "metadata": {},
   "source": [
    "Note, that in our case the velocity space ```V``` is a product space of ```VT``` and ```Vhat```, thus we have to setup the embedding for each component separately. Using the embeddings of the product space ```V``` we can eventually define the overall operator."
   ]
  },
  {
   "cell_type": "code",
   "execution_count": null,
   "metadata": {},
   "outputs": [],
   "source": [
    "%%px\n",
    "emb1 = ConvertOperator(spacea = Vc, spaceb = VT, localop = True, range_dofs = VT.FreeDofs(elint))\n",
    "tc1 = V.Embedding(0)\n",
    "\n",
    "emb2 = ConvertOperator(spacea = Vc, spaceb = Vhat, localop = True, range_dofs = Vhat.FreeDofs(elint))\n",
    "tc2 = V.Embedding(1)\n",
    "\n",
    "embA = tc1 @ emb1 + tc2 @ emb2"
   ]
  },
  {
   "cell_type": "markdown",
   "metadata": {},
   "source": [
    "\\begin{align*}\n",
    "E_{\\texttt{Vc}\\rightarrow\\texttt{V}}\n",
    "= \n",
    "\\begin{pmatrix}\n",
    "E_{\\texttt{Vc}\\rightarrow\\texttt{VT}} \\\\\n",
    "E_{\\texttt{Vc}\\rightarrow\\texttt{Vhat}} \n",
    "\\end{pmatrix}\n",
    "= \n",
    "\\begin{pmatrix}\n",
    "E_{\\texttt{Vc}\\rightarrow\\texttt{VT}} \\\\\n",
    "0\n",
    "\\end{pmatrix}\n",
    "+\n",
    "\\begin{pmatrix}\n",
    "0 \\\\\n",
    "E_{\\texttt{Vc}\\rightarrow\\texttt{Vhat}} \n",
    "\\end{pmatrix}\n",
    "=\n",
    "\\begin{pmatrix}\n",
    "I_{\\texttt{VT}} \\\\\n",
    "0\n",
    "\\end{pmatrix} \\cdot \n",
    "E_{\\texttt{Vc}\\rightarrow\\texttt{VT}}\n",
    "+\n",
    "\\begin{pmatrix}\n",
    "0 \\\\\n",
    "I_{\\texttt{Vhat}} \n",
    "\\end{pmatrix} \\cdot\n",
    "E_{\\texttt{Vc}\\rightarrow\\texttt{Vhat}} \n",
    "\\end{align*}"
   ]
  },
  {
   "cell_type": "markdown",
   "metadata": {},
   "source": [
    "The final operator needed is a block smoother. Since we are considering the statically condensed system, the Schur complement only includes degrees of freedoms (dofs) associated to facets. To this end we aim for a block Jacobi smoother where each block includes all dofs (both of ```V``` and ```Vhat```) of one facet. This can be easily done using the ```CreateSmoothingBlocks``` function.\n",
    "\n",
    "Note that this also helps when considering the MPI parallel implementation since shared dofs are only on facets.  "
   ]
  },
  {
   "cell_type": "code",
   "execution_count": null,
   "metadata": {},
   "outputs": [],
   "source": [
    "%%px\n",
    "sm_blocks = V.CreateSmoothingBlocks(blocktype=[\"facet\"], condense = elint)\n",
    "bsmoother = bfa.mat.local_mat.CreateBlockSmoother(blocks = sm_blocks, parallel=True)\n",
    "\n",
    "hatAinv = embA @ hatAcinv @ embA.T + bsmoother "
   ]
  },
  {
   "cell_type": "markdown",
   "metadata": {},
   "source": [
    "\\begin{align*}\n",
    "  \\hat{A}^{-1} = B_{\\text{smoother}}^{-1} + E_{\\texttt{Vc}\\rightarrow\\texttt{V}} \\hat{A}_{\\texttt{V}}^{-1} E_{\\texttt{Vc}\\rightarrow\\texttt{V}}^T\n",
    "\\end{align*}\n"
   ]
  },
  {
   "cell_type": "markdown",
   "metadata": {},
   "source": [
    "Before we can eventually define our ```BlockMatrix``` for the solver and the system, note, that we want to perform the iteration on the full system. Thus, we need to include the remaining inner dofs using the matrices provided by NGSolve. Since these matrices will result in the forward operator ```AA_par``` which is an operation from a consistent to distributed state, ```ParallelMatrix.C2D```, and a backward operator ```hatAAinv``` which is ```ParallelMatrix.D2C``` we have to be careful when adding up these matrices. "
   ]
  },
  {
   "cell_type": "code",
   "execution_count": null,
   "metadata": {},
   "outputs": [],
   "source": [
    "%%px\n",
    "Ahex, Ahext, Aiii, Aii  = bfa.harmonic_extension.local_mat, bfa.harmonic_extension_trans.local_mat, bfa.inner_solve.local_mat, bfa.inner_matrix.local_mat\n",
    "Id = IdentityMatrix(A.height)\n",
    "\n",
    "# parallel version of Schurcomplement strategy:\n",
    "Ihex = ParallelMatrix(Id + Ahex, row_pardofs = A.row_pardofs, col_pardofs = A.row_pardofs, op = ParallelMatrix.C2C)\n",
    "Ihext = ParallelMatrix(Id + Ahext, row_pardofs = A.row_pardofs, col_pardofs = A.row_pardofs, op = ParallelMatrix.D2D)\n",
    "Isolve = ParallelMatrix(Aiii, row_pardofs = A.row_pardofs, col_pardofs = A.row_pardofs, op = ParallelMatrix.D2C)\n",
    "hatAAinv = ( Ihex @ hatAinv @ Ihext ) + Isolve\n",
    "\n",
    "AA = (Id - Ahext) @ (A.local_mat + Aii) @ (Id - Ahex)\n",
    "AA_par = ParallelMatrix(AA, row_pardofs = A.row_pardofs, col_pardofs = A.col_pardofs, op = ParallelMatrix.C2D)\n",
    "\n",
    "K = BlockMatrix([[AA_par,B.T], [B, None]])"
   ]
  },
  {
   "cell_type": "markdown",
   "metadata": {},
   "source": [
    "For the pressure block sovler we again choose the mass matrix for the pressure. Since ```Q``` is an ```L2``` space which uses an $L^2$-orthogonal Legendre basis, no mass lumping is needed."
   ]
  },
  {
   "cell_type": "code",
   "execution_count": null,
   "metadata": {},
   "outputs": [],
   "source": [
    "%%px\n",
    "hatS = BilinearForm(1/nu * p*q*dx).Assemble()\n",
    "hatSinv = hatS.mat.Inverse(Q.FreeDofs())"
   ]
  },
  {
   "cell_type": "code",
   "execution_count": null,
   "metadata": {},
   "outputs": [],
   "source": [
    "%%px\n",
    "hatK_block_inv = BlockMatrix([[hatAinv, None],[None, hatSinv]])"
   ]
  },
  {
   "cell_type": "code",
   "execution_count": null,
   "metadata": {},
   "outputs": [],
   "source": [
    "%%px\n",
    "gfu = GridFunction(V)\n",
    "gfp = GridFunction(Q)\n",
    "\n",
    "if mesh.dim == 3:\n",
    "    uin = CF((1,0,0))\n",
    "else:\n",
    "    uin = CF((1,0))\n",
    "\n",
    "gfu.components[0].Set(uin, definedon = mesh.Boundaries(\"inlet\"))\n",
    "\n",
    "sol_vec = BlockVector([gfu.vec, gfp.vec])\n",
    "\n",
    "rhs_vec.data = -K* sol_vec"
   ]
  },
  {
   "cell_type": "code",
   "execution_count": null,
   "metadata": {},
   "outputs": [],
   "source": [
    "%%px \n",
    "from ngsolve import BaseMatrix\n",
    "\n",
    "class BSPC(BaseMatrix):\n",
    "    def __init__(self, M, Ahat, Shat):\n",
    "        super(BSPC, self).__init__()\n",
    "        self.M = M\n",
    "        self.A, self.B, self.BT = M[0,0], M[1,0], M[0,1]\n",
    "        self.Ahat = Ahat\n",
    "        self.Shat = Shat\n",
    "        self.mBTSg2 = self.A.CreateColVector()\n",
    "        self.g2 = self.Shat.CreateColVector()\n",
    "        self.xtemp = self.M.CreateColVector()\n",
    "    def IsComplex(self):\n",
    "        return False\n",
    "    def Height(self):\n",
    "        return self.M.height\n",
    "    def Width(self):\n",
    "        return self.M.width\n",
    "    def CreateColVector(self):\n",
    "        return self.M.CreateColVector()\n",
    "    def CreateRowVector(self):\n",
    "        return self.M.CreateRowVector()\n",
    "    def Mult(self, b, x):\n",
    "        f, g = b[0], b[1]\n",
    "        x[0].data = self.Ahat * f\n",
    "        self.g2.data = g - self.B * x[0]\n",
    "        x[1].data = - self.Shat * self.g2\n",
    "        self.mBTSg2.data = self.BT * x[1]\n",
    "        x[0].data -= self.Ahat * self.mBTSg2\n",
    "    def MultTrans(self, b, x):\n",
    "        self.Mult(b, x)\n",
    "    def MultAdd(self, scal, b, x):\n",
    "        self.Mult(b, self.xtemp)\n",
    "        x.data += scal * self.xtemp\n",
    "    def MultTransAdd(self, scal, b, x):\n",
    "        self.MultAdd(scal, b, x)\n",
    "\n",
    "hatK_sz_inv = BSPC(M = K, Ahat = hatAAinv, Shat = hatSinv)"
   ]
  },
  {
   "cell_type": "code",
   "execution_count": null,
   "metadata": {},
   "outputs": [],
   "source": [
    "%%px \n",
    "solver = GMResSolver(mat = K, pre = hatK_sz_inv , maxiter=500, \\\n",
    "                     printrates='\\r' if mesh.comm.rank==0 else False, tol=1e-6)\n",
    "sol_vec.data += solver * rhs_vec"
   ]
  },
  {
   "cell_type": "code",
   "execution_count": null,
   "metadata": {},
   "outputs": [],
   "source": [
    "%%px \n",
    "vel1 = GridFunction(Vc)\n",
    "vel1.Set(gfu.components[0])"
   ]
  },
  {
   "cell_type": "code",
   "execution_count": null,
   "metadata": {},
   "outputs": [],
   "source": [
    "with TaskManager():\n",
    "    gfu = c[:][\"vel1\"]"
   ]
  },
  {
   "cell_type": "code",
   "execution_count": null,
   "metadata": {},
   "outputs": [],
   "source": [
    "mesh = gfu[0].space.mesh\n",
    "\n",
    "if MPI_RANKS <= 4:\n",
    "    N = 12 \n",
    "    fac = 0 if mesh.dim == 2 else 1\n",
    "    p = [(-1+4*i/N,-2+4*j/N,fac * 2*k/N) for i in range(1,2*N) for j in range(1,2*N) for k in range(1,N)]\n",
    "    clipping = { \"clipping\" : { \"y\":0, \"z\":-1} }\n",
    "\n",
    "    with TaskManager():\n",
    "        fieldlines = gfu[0]._BuildFieldLines(mesh, p, num_fieldlines=N**3//5, randomized=True, length=0.3)    \n",
    "        Draw(gfu[0], mesh,  \"X\", draw_vol=False, draw_surf=True, objects=[fieldlines], \\\n",
    "            min=0, max=1, autoscale=False, settings={\"Objects\": {\"Surface\": False}}, **clipping);\n",
    "else:\n",
    "    clipping = { \"clipping\" : { \"y\":1, \"z\":0} }\n",
    "    with TaskManager():\n",
    "        N = 4\n",
    "        p = [(-6,-4+4*j/(2*N),-0.8 + 0.8*k/N) for j in range(1,2*N) for k in range(1,N)]\n",
    "        fieldlines = gfu[0]._BuildFieldLines(mesh, p, num_fieldlines=int(N**3//3.5), randomized=False, length=1, direction = 1)    \n",
    "        p2 = [(-6,4 - 4*j/(2*N),-0.8 + 0.8*k/N) for j in range(1,2*N) for k in range(1,N)]\n",
    "        fieldlines2 = gfu[0]._BuildFieldLines(mesh, p2, num_fieldlines=int(N**3//3.5), randomized=False, length=1, direction = 1)       \n",
    "        Draw(gfu[0][0], mesh,  \"X\", draw_vol=False, draw_surf=True, objects=[fieldlines, fieldlines2], \\\n",
    "            min=0, max=1, autoscale=False, settings={\"Objects\": {\"Surface\": False, \"Wireframe\": False}}, euler_angles=[0,0,-90]);"
   ]
  },
  {
   "cell_type": "code",
   "execution_count": null,
   "metadata": {},
   "outputs": [],
   "source": [
    "c.shutdown(hub=True)"
   ]
  }
 ],
 "metadata": {
  "kernelspec": {
   "display_name": "Python 3 (ipykernel)",
   "language": "python",
   "name": "python3"
  },
  "language_info": {
   "codemirror_mode": {
    "name": "ipython",
    "version": 3
   },
   "file_extension": ".py",
   "mimetype": "text/x-python",
   "name": "python",
   "nbconvert_exporter": "python",
   "pygments_lexer": "ipython3",
   "version": "3.11.0"
  }
 },
 "nbformat": 4,
 "nbformat_minor": 4
}
