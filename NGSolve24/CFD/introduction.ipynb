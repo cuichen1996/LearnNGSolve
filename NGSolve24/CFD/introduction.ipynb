{
 "cells": [
  {
   "cell_type": "markdown",
   "metadata": {},
   "source": [
    "## The motion of fluids\n",
    "\n",
    "Philip Lederer and Christoph Lehrenfeld\n",
    "\n",
    "### The system of PDEs\n",
    "We consider the velocity $u : \\Omega \\rightarrow {\\mathbb R}^d$ and the pressure $p : \\Omega \\rightarrow {\\mathbb R}$ in an Eulerian setting (i.e. we do not follow specific \"fluid-particles\"), a given kinematic viscosity $\\nu: \\Omega \\rightarrow {\\mathbb R}$ and a volume force $u : \\Omega \\rightarrow {\\mathbb R}^d $. The motion of an incompressible fluid on a domain $\\Omega \\subset \\mathbb{R}^d$ is given by the non-linear Navier-Stokes equations \n",
    "\n",
    "\\begin{alignat*}{2}\n",
    "\\frac{\\partial u}{\\partial t} - \\operatorname{div}( u \\otimes u) - \\operatorname{div} \\sigma &=f \\quad && \\text{in } \\Omega, \\\\\n",
    " \\operatorname{div} u &=0 \\quad && \\text{in } \\Omega,\n",
    "\\end{alignat*}\n",
    "\n",
    "\n",
    "\n",
    "which follow by Newton's laws, i.e., the conservation of momentum and the conservation of mass, respectively. Here, $\\sigma: \\Omega \\rightarrow {\\mathbb R}^{d \\times d}$ is the stress tensor for which we have for a Newtonian fluid the relation \n",
    "\n",
    "$$\n",
    "\\sigma = 2 \\nu \\varepsilon(u) - p I,\n",
    "\\quad\n",
    "\\text{with}\n",
    "\\quad\n",
    "\\varepsilon(u) = \\frac{1}{2} ( \\nabla u + \\nabla u^T).\n",
    "$$\n",
    "\n",
    "For a constant viscosity and using the identity \n",
    "\n",
    "$$\n",
    "2\\nu \\operatorname{div} \\varepsilon(u) = \\nu \\left(\\Delta u + \\nabla \\operatorname{div} u \\right) = \\nu \\Delta u,\n",
    "$$ \n",
    "\n",
    "we have\n",
    "\n",
    "\n",
    "\\begin{alignat*}{2}\n",
    "\\frac{\\partial u}{\\partial t} - \\operatorname{div}( u \\otimes u) - \\nu \\Delta u + \\nabla p &=f \\quad && \\text{in } \\Omega, \\\\\n",
    " \\operatorname{div} u &=0 \\quad && \\text{in } \\Omega.\n",
    "\\end{alignat*}\n",
    "\n",
    "\n",
    "```{note}\n",
    "Note, that above simplification of the diffusive part of the stress tensor only holds if the solution is smooth or when considering  certain boundary conditions.\n",
    "```"
   ]
  },
  {
   "cell_type": "markdown",
   "metadata": {},
   "source": [
    "### Boundary and initial conditions\n",
    "\n",
    "The Navier-Stokes equations need to be accomplished by a suitable initial condition $u^0 = u(x, t = 0)$ and boundary conditions.\n",
    "Let $\\partial \\Omega = \\Gamma = \\Gamma_{wall} \\cup \\Gamma_{in} \\cup \\Gamma_{out}$, then we consider solid walls (no slip, homogeneous Dirichlet)\n",
    "\n",
    "$$\n",
    "u = 0 \\quad \\text{on} \\quad \\Gamma_{wall},\n",
    "$$\n",
    "\n",
    "inflow boundary conditions (non homogenous Dirichlet)\n",
    "\n",
    "$$\n",
    "u = u_{in} \\quad \\text{on} \\quad \\Gamma_{in},\n",
    "$$\n",
    "\n",
    "and outflow (\"do nothing\" hom. Neumann, i.e. zero stress) conditions\n",
    "\n",
    "$$\n",
    "\\sigma n = 0 \\quad \\text{on} \\quad \\Gamma_{out}.\n",
    "$$\n",
    "\n",
    "Note, that on a non penetrable wall one might also consider slip boundary conditions $u \\cdot n = 0, u \\cdot t = u_{slip}$ on a boundary $\\Gamma_{slip}$."
   ]
  },
  {
   "cell_type": "markdown",
   "metadata": {},
   "source": [
    "In the next units we will treat the followin aspects of solving the Navier-Stokes equations, where a large first block will treat the Stokes equations (where the time derivative and the convective term are neglected):\n",
    "  * Conforming finite element discretizations for the Stokes equations\n",
    "  * iterative (and parallel) solvers for Stokes\n",
    "  * Normal-continuous Hybrid DG discretization (and solver) for Stokes\n",
    "  * Tunings and tricks for Hybrid DG and normal-continuous Hybrid DG discretizations  \n",
    "  * Navier-Stokes solvers based on IMEX (implicit-explicit) time-stepping "
   ]
  }
 ],
 "metadata": {
  "language_info": {
   "name": "python"
  }
 },
 "nbformat": 4,
 "nbformat_minor": 2
}
