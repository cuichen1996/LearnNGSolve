{
 "cells": [
  {
   "cell_type": "markdown",
   "metadata": {},
   "source": [
    "## Normal-cont. HDG tricks\n",
    "\n",
    "We now turn over to the $H(\\operatorname{div})$-HDG Stokes discretization:\n",
    "\n",
    "* We will first a discuss how to apply the facet `dof` reduction \n",
    "* Afterwards, we will explain a relaxed $H(\\operatorname{div})$-conforming discretizations to obtain a reduction of facet `dof`s also for the normal-continuity `dof`s \n",
    "* Finally, we will exploit knowledge about the pointwise divergence of the discrete solution (it's zero) to reduce the local `FESpace`s\n"
   ]
  },
  {
   "cell_type": "markdown",
   "metadata": {},
   "source": [
    "### Projected jumps for the `TangentialFacetFESpace`\n",
    "\n",
    "For the $H(\\operatorname{div})$-HDG Stokes discretization we can apply the \"projected jumps\" modification as well, simply adding the same frags and the compression on the `TangentialFacetFESpace`. We will apply it below, after introducing further tuning tricks.\n",
    "\n",
    "\n",
    "```{note}\n",
    "Making the highest order `dof`s discontinuous is implemented for the facet spaces \n",
    "`FacetFESpace`, `TangentialFacetFESpace` and `NormalFacetFESpace` through the `highest_order_dc` flag.\n",
    "Further, the flag `hide_highest_order_dc` is implemented for all these spaces.\n",
    "```"
   ]
  },
  {
   "cell_type": "markdown",
   "metadata": {},
   "source": [
    "### Relaxed $H(\\operatorname{div})$-conforming `FESpace`s\n",
    "\n",
    "After reducing the globally coupled tangential facet `dof`s we have degrees of freedom of order $k-1$ on the facets for the tangential component, but still order $k$ for the normal component (as we are in $H(\\operatorname{div})$. In view of an optimal `dof`-reduction on the facets we can do even better:\n",
    "\n",
    "By relaxing $H(\\operatorname{div})$-conformity. Here, we again take the `dof`s for the highest order normal component and only for that we break up continuity, turning (again) one `INTERFACE_DOF` into two `LOCAL_DOF`s: \n",
    "\n",
    "\n",
    "<div style=\"display: flex; align-items: center; justify-content: center;\">\n",
    "    <img src=\"../_static/figures/hdiv_ho_cont.png\" alt=\"sketch for hdiv cont\" width=\"400px\"/>\n",
    "    <span style=\"font-size: 2em; margin: 0 20px;\">→</span>\n",
    "    <img src=\"../_static/figures/hdiv_ho_disc.png\" alt=\"sketch for hdiv disc\" width=\"400px\"/>\n",
    "</div>\n",
    "\n",
    "The resulting velocity space (without the facet space) is\n",
    "\n",
    "$$\n",
    "V_h^T = \\{ v \\in [\\mathbb{P}^k]^d(\\mathcal{T}_h) \\mid [\\![\\Pi^{k-1}_{\\mathcal{T}_h} v \\cdot n ]\\!] = 0 \\text{ on } \\mathcal{F}_h\\}\n",
    "$$\n",
    "\n",
    "where $[\\![\\cdot]\\!]$ is the usual DG jump operator.\n",
    "\n",
    "The relaxed $H(\\operatorname{div})$-version of the `HDiv`-space in `NGSolve` is obtained with the `highest_order_dc` flag:\n",
    "```\n",
    "HDiv(mesh, ..., highest_order_dc=True)\n",
    "```\n",
    "\n",
    "```{note}\n",
    "Breaking up the highest order continuity using the flag `highest_order_dc` is implemented in `NGSolve` also for the `FESpace`s: \n",
    "`TangentialFacetFESpace`, `NormalFacetFESpace`, `HDiv`, `HCurl`, `H1`, `HDivSurface`\n",
    "```"
   ]
  },
  {
   "cell_type": "markdown",
   "metadata": {},
   "source": [
    "We can map functions from the relaxed $H(\\operatorname{div})$ space to the standard $H(\\operatorname{div})$ space with a very simple average operator (that averages corresponding vector entries):\n",
    "\n",
    "<div style=\"display: flex; align-items: center; justify-content: center;\">\n",
    "    <img src=\"../_static/figures/hdiv_ho_disc.png\" alt=\"sketch for hdiv cont\" width=\"400px\"/>\n",
    "    <span style=\"font-size: 2em; margin: 0 20px;\">→</span>\n",
    "    <img src=\"../_static/figures/hdiv_ho_cont.png\" alt=\"sketch for hdiv disc\" width=\"400px\"/>\n",
    "</div>\n",
    "\n",
    "In `NGSolve` this is easily achieved with calling `Average` of the relaxed `HDiv` space:\n",
    "```\n",
    "V.Average(gfu.vec)\n",
    "```"
   ]
  },
  {
   "cell_type": "markdown",
   "metadata": {},
   "source": [
    "A few remarks on the application of the relaxed $H(\\operatorname{div})$-conforming method:\n",
    "1. When applying the relaxed $H(\\operatorname{div})$-conforming method the velocity solution will in general not be normal-continuous (and thus solenoidal) anymore. With the `Average`-operator a fully $H(\\operatorname{div})$-conforming velocity can be postprocessed. \n",
    "2. However, to also get \"pressure robustness\" for the Stokes problem the test function of the r.h.s. linear form needs to apply that average operator as well which is achieved with an application of the `Average`-operator (a.k.a. reconstruction operator) on the r.h.s. vector.\n",
    "3. The relaxed $H(\\operatorname{div})$-conforming HDG method works nice for the Stokes method and with the `Average`-operator preserves essentially all properties of the $H(\\operatorname{div})$-conforming HDG method. However, for Navier-Stokes problems things are a bit more careful (as mass matrix and convection term would in general require the reconstruction operator as well which is algorithmically inconvenient)\n",
    "\n",
    "```{note}\n",
    "For more details on relaxed $H(\\operatorname{div})$-conforming (H)DG methods see \n",
    "\"P.L. Lederer, C. Lehrenfeld and J. Schöberl, Hybrid Discontinuous {Galerkin} methods with relaxed {H(div)}-conformity for incompressible flows. Part I, SINUM, 2018. https://doi.org/10.1137/17M1138078\" and \"P.L. Lederer, C. Lehrenfeld and J. Schöberl, Hybrid Discontinuous {Galerkin} methods with relaxed {H(div)}-conformity for incompressible flows. Part II, ESAIM: M2AN, 2019. https://doi.org/10.1051/m2an/2018054\"\n",
    "\n",
    "```"
   ]
  },
  {
   "cell_type": "markdown",
   "metadata": {},
   "source": [
    "### Highest order divergence-free spaces"
   ]
  },
  {
   "cell_type": "markdown",
   "metadata": {},
   "source": [
    "The `HDiv` space in `NGSolve` has a special construction of the hierarchical bases that allows as to reduce to all basis functions that have a divergence that is orthonal to the constants. For that the flag `hodivfree=True` can be provided to the `FESpace`.\n",
    "\n",
    "When applied in the Stokes system, the pressure (as a Lagrange multiplier for the div-constraint), has to be reduced to piecewise constants in this case. \n",
    "\n",
    "```{note}\n",
    "We note that with the `hodivfree`-flag only element-bubbles are removed in the velocity and the pressure space, i.e. we only achieve a reduction of  `LOCAL_DOF`s not `INTERFACE_DOF`s with this approach.\n",
    "```"
   ]
  },
  {
   "cell_type": "markdown",
   "metadata": {},
   "source": [
    "### Application to the Stokes discretization"
   ]
  },
  {
   "cell_type": "markdown",
   "metadata": {},
   "source": [
    "We take the same geometry as in the previous example:"
   ]
  },
  {
   "cell_type": "code",
   "execution_count": null,
   "metadata": {
    "tags": [
     "hide-input"
    ]
   },
   "outputs": [],
   "source": [
    "from ngsolve import *\n",
    "from ngsolve.webgui import Draw\n",
    "from netgen.occ import *"
   ]
  },
  {
   "cell_type": "code",
   "execution_count": null,
   "metadata": {
    "tags": [
     "hide-input"
    ]
   },
   "outputs": [],
   "source": [
    "def solve_lin_system(a,f,gfu,inverse=\"\"):\n",
    "    aSinv = a.mat.Inverse(gfu.space.FreeDofs(coupling=a.condense),inverse=inverse)\n",
    "    if a.condense:\n",
    "        ainv = ((IdentityMatrix(a.mat.height) + a.harmonic_extension) @ (aSinv + a.inner_solve) @ (IdentityMatrix(a.mat.height) + a.harmonic_extension_trans))        \n",
    "    else:\n",
    "        ainv = aSinv\n",
    "    rhs = f.vec.CreateVector()\n",
    "    rhs.data = f.vec - a.mat * gfu.vec\n",
    "    gfu.vec.data += ainv * rhs"
   ]
  },
  {
   "cell_type": "code",
   "execution_count": null,
   "metadata": {
    "tags": [
     "hide-input"
    ]
   },
   "outputs": [],
   "source": [
    "cyl = Cylinder((0,0,0), Z, h=0.5,r=1)\n",
    "cyl.faces[0].name=\"side\"\n",
    "cyl.faces[1].name=\"top\"\n",
    "cyl.faces[2].name=\"bottom\"\n",
    "mesh = Mesh(OCCGeometry(cyl).GenerateMesh(maxh=0.3)).Curve(3)\n",
    "Draw(mesh);"
   ]
  },
  {
   "cell_type": "markdown",
   "metadata": {},
   "source": [
    "We consider **eight** different combination of spaces with three binary decisions:\n",
    "* reduction of the tangential facet space to one order less (or not)\n",
    "* reduction to a relaxed H(div) space with normal continuity only of one degree less (or not)\n",
    "* reduction of interior $H(div)$ bubbles w.r.t. to the divergence (`hodivfree`)  (or not)\n",
    "\n"
   ]
  },
  {
   "cell_type": "code",
   "execution_count": null,
   "metadata": {},
   "outputs": [],
   "source": [
    "order = 3\n",
    "\n",
    "VT1 = HDiv(mesh,order=order, dirichlet=\"top|bottom|side\")\n",
    "VT2 = HDiv(mesh,order=order, dirichlet=\"top|bottom|side\", hodivfree = True )\n",
    "VT3 = HDiv(mesh,order=order, dirichlet=\"top|bottom|side\", highest_order_dc=True)\n",
    "VT4 = HDiv(mesh,order=order, dirichlet=\"top|bottom|side\", hodivfree = True, highest_order_dc=True)\n",
    "Vhat1 = TangentialFacetFESpace(mesh,order=order, dirichlet=\"bottom|top\")\n",
    "Vhat2 = Compress(TangentialFacetFESpace(mesh,order=order, dirichlet=\"bottom|top\", highest_order_dc=True, hide_highest_order_dc=True))\n",
    "Q1 = L2(mesh,order=order-1, lowest_order_wb=True)\n",
    "Q2 = L2(mesh,order=0, lowest_order_wb=True)\n",
    "N = NumberSpace(mesh)\n",
    "fes_params= [(VT1,Vhat1,Q1,\"std\"), \\\n",
    "             (VT1,Vhat2,Q1,\"t. red.\"), \\\n",
    "             (VT3,Vhat1,Q1,\"n. red.\"), \\\n",
    "             (VT3,Vhat2,Q1,\"n.+t. red.\"), \\\n",
    "             (VT2,Vhat1,Q2,\"            hodf\"), \\\n",
    "             (VT2,Vhat2,Q2,\"t. red.,    hodf\"), \\\n",
    "             (VT4,Vhat1,Q2,\"n. red.,    hodf\"), \\\n",
    "             (VT4,Vhat2,Q2,\"n.+t. red., hodf\")]\n",
    "labeled_fes = [(VT * Vhat * Q * N, name) for VT,Vhat,Q,name in fes_params]"
   ]
  },
  {
   "cell_type": "markdown",
   "metadata": {},
   "source": [
    "We setup the HDG Stokes system:"
   ]
  },
  {
   "cell_type": "code",
   "execution_count": null,
   "metadata": {},
   "outputs": [],
   "source": [
    "def setup_Stokes_HDG_system(fes, **opts):\n",
    "    nu = 1\n",
    "    gamma = 10\n",
    "    yh, zh = fes.TnT()\n",
    "    order = fes.components[0].globalorder\n",
    "    (u, uhat, p, lam), (v, vhat, q, mu) = yh, zh\n",
    "    uh, vh = (u, uhat), (v, vhat)\n",
    "    tang = lambda u: u - (u*n)*n\n",
    "    tjump = lambda uh: tang(uh[0]-uh[1]) \n",
    "\n",
    "    n = specialcf.normal(mesh.dim)\n",
    "    h = specialcf.mesh_size\n",
    "\n",
    "    K = BilinearForm(fes, **opts)\n",
    "    K += (nu*InnerProduct(Grad(u), Grad(v)) + div(u)*q + div(v)*p + p * mu + q * lam) * dx\n",
    "    K += nu * Grad(u) * n * tjump(vh) * dx(element_boundary = True)\n",
    "    K += nu * Grad(v) * n * tjump(uh) * dx(element_boundary = True)\n",
    "    K += nu  *gamma*order**2/h * InnerProduct ( tjump(vh),  tjump(uh) ) * dx(element_boundary = True)\n",
    "    K.Assemble()\n",
    "\n",
    "    r = sqrt(x**2+y**2)\n",
    "    f = LinearForm(fes)\n",
    "    f += 500*CF((0,0,r-0.5))*v*dx\n",
    "    f.Assemble()\n",
    "\n",
    "    fes.components[0].Average(f.vec)\n",
    "\n",
    "    return K,f\n"
   ]
  },
  {
   "cell_type": "markdown",
   "metadata": {},
   "source": [
    "For different options on how to eliminate `dof`s and for the different methods we compute some metrics of the solution of the resulting linear systems:\n",
    "Effectively for every combination of methods we call:\n",
    "```\n",
    "a,f = setup_Stokes_HDG_system(fes, ...)\n",
    "solve_lin_system(a,f, gfu=gfu)\n",
    "```"
   ]
  },
  {
   "cell_type": "code",
   "execution_count": null,
   "metadata": {
    "tags": [
     "hide-input"
    ]
   },
   "outputs": [],
   "source": [
    "linsys_opts = [({\"condense\": False},\"  none\"), \\\n",
    "               ({\"eliminate_hidden\": True},\"hidden\"), \\\n",
    "               ({\"condense\": True},\" local\")]\n",
    "import time\n",
    "try:\n",
    "  import pandas as pd\n",
    "  from IPython.display import display, HTML\n",
    "  html_output = True\n",
    "except:\n",
    "  html_output = False\n",
    "data = []\n",
    "with TaskManager():\n",
    "  for opts, elims in linsys_opts:\n",
    "    if not html_output:\n",
    "      print(f\"\\n\\n dof elimination: {elims:9} \\n\")\n",
    "      print(f\"                |           ndofs          | ncdofs |     nze  | timing (ass.+sol.)\")\n",
    "      print(f\"----------------|--------------------------|--------|----------|-------------------\")    \n",
    "    for fes, label in labeled_fes:\n",
    "      gfu = GridFunction(fes)\n",
    "      gfu.components[1].Set(CF((y,-x,0)), definedon=mesh.Boundaries(\"bottom\"))\n",
    "      timer1 = time.time()\n",
    "      a,f = setup_Stokes_HDG_system(fes, **opts)\n",
    "      timer2 = time.time()\n",
    "      solve_lin_system(a,f, gfu=gfu)\n",
    "      timer3 = time.time()\n",
    "      if html_output:\n",
    "        data.append([elims,label,fes.ndof,fes.components[0].ndof,fes.components[1].ndof,\n",
    "                     fes.components[2].ndof,fes.components[3].ndof,\n",
    "                     sum(fes.FreeDofs(coupling=True)),\n",
    "                     \"{:.0f}K\".format(a.mat.nze/1000),\"{:5.3f}\".format(timer3-timer1),\n",
    "                     \"{:5.3f}\".format(timer2-timer1),\"{:5.3f}\".format(timer3-timer2)])\n",
    "      else:\n",
    "        print(f\"{label:16}|\",end=\"\")\n",
    "        print(f\"{fes.ndof:5}({fes.components[0].ndof:5}+{fes.components[1].ndof:5}\",end=\"\")\n",
    "        print(f\"{fes.components[2].ndof:5}+{fes.components[3].ndof:1})\",end=\" \")\n",
    "        print(f\"|{sum(fes.FreeDofs(coupling=True)):7}\", end=\" \")\n",
    "        print(f\"|{a.mat.nze:9}\", end=\" \")\n",
    "        print(f\"| {timer3-timer1:4.2f} = {timer2-timer1:4.2f} + {timer3-timer2:4.2f}\")\n",
    "if not html_output:\n",
    "  print(f\"----------------|--------------------------|--------|----------|-------------------\")\n",
    "  print(\"\")\n",
    "else:\n",
    "  display(HTML(pd.DataFrame(data, \n",
    "                            columns=[\"dof elim.\", \"FESpace\", \"ndofs\", \"nd0\", \"nd1\", \n",
    "                                     \"nd2\", \"nd3\",\"ncdofs\",\"nze\",\"time\",\"ass.\",\n",
    "                                     \"sol.\"]).to_html(border=0,index=False)))                     "
   ]
  },
  {
   "cell_type": "markdown",
   "metadata": {},
   "source": [
    "```{WARNING}\n",
    "The combination of `tang. red` and no condensation (`condensed dofs: none`) will not yield reasonable numerical results, see discussion above. \n",
    "```"
   ]
  },
  {
   "cell_type": "markdown",
   "metadata": {},
   "source": [
    "Let us check if the most reduced solution space (which yields the cheapest solution) is still able to solve the problem, by inspecting the solution:"
   ]
  },
  {
   "cell_type": "code",
   "execution_count": null,
   "metadata": {},
   "outputs": [],
   "source": [
    "N = 15\n",
    "points = [ (sin(2*pi*k/N)*i/N, cos(2*pi*k/N)*i/N, j/N)   for i in range(1,N) for j in range(1,N) for k in range(0,N)]\n",
    "fl = gfu.components[0]._BuildFieldLines(mesh, points, num_fieldlines=N**3//20, randomized=True, length=1)\n",
    "ea = { \"euler_angles\" : (-40, 0, 0) }\n",
    "Draw(gfu.components[0], mesh,  \"X\", draw_vol=False, draw_surf=True, objects=[fl], \\\n",
    "     min=0, max=1, autoscale=False, settings={\"Objects\": {\"Surface\": False, \"Wireframe\":False}}, **ea);"
   ]
  }
 ],
 "metadata": {
  "kernelspec": {
   "display_name": "Python 3 (ipykernel)",
   "language": "python",
   "name": "python3"
  },
  "language_info": {
   "codemirror_mode": {
    "name": "ipython",
    "version": 3
   },
   "file_extension": ".py",
   "mimetype": "text/x-python",
   "name": "python",
   "nbconvert_exporter": "python",
   "pygments_lexer": "ipython3",
   "version": "3.12.3"
  }
 },
 "nbformat": 4,
 "nbformat_minor": 4
}
