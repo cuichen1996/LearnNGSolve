{
 "cells": [
  {
   "cell_type": "markdown",
   "metadata": {},
   "source": [
    "# Introduction to NGSolve\n",
    "\n",
    ">**disclaimer**:\\\n",
    "    This tutorial is written for beginners who want to learn how to use NGSolve. It is assumed that you have some basic knowledge of the finite element method and a basic knowlegde of Python.\n",
    "\n",
    "NGSolve is a powerful software package for solving partial differential equations. It's python interface makes it easy to use and it is very flexible. In this tutorial we will introduce you to the basics of NGSolve. We will start with the installation of NGSolve and then we will go through some basic examples. \n",
    "\n",
    "### Outline of today's tutorial\n",
    "\n",
    "**1. introductions and small example**\n",
    "- [Installation](https://docu.ngsolve.org/ngs24/intro.html) : How to install NGSolve\n",
    "- [What is possible with NGSolve](tutorials:elastic_pendulum) : A small example of an elastic pendulum, at the end of the tutorial we will come back to this example to see what we have learned.\n",
    "\n",
    "[**2. Basics of NGSolve**](tutorials:basics)\n",
    "\n",
    "[**3. Other complementary concepts**](tutorials:complementary)\n",
    "\n",
    "[**4. Advanced topics**](tutorials:advanced)\n",
    "\n",
    "[**5. to end the tutorial**:](tutorials:elastic_pendulum)\\\n",
    "Now that we have learned all the basics, we will go back to the elastic pendulum and see how we can solve it with NGSolve.\n",
    "\n"
   ]
  }
 ],
 "metadata": {
  "language_info": {
   "name": "python"
  }
 },
 "nbformat": 4,
 "nbformat_minor": 2
}
