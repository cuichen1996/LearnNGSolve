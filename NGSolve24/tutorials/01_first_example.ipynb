{
 "cells": [
  {
   "cell_type": "markdown",
   "metadata": {},
   "source": [
    "(basics:first-example-in-ngsolve)=\n",
    "# A first example in NGSove\n",
    "\n",
    "This first notebook introduces in few basic steps how to solve a simple PDE problem using NGSolve; each step contains different objects that will be explained in detail in the following notebooks.\n",
    "\n",
    "\n",
    "To solve the problem one need to consider the following steps:\n",
    "\n",
    "1. Define the domain $\\Omega$, name the boundaries and mesh it.\n",
    "2. Define the finite element space and reserve space for the solution.\n",
    "3. Define the linear and bilinear forms and assemble respective matrix and a vector.\n",
    "4. Solve the linear system. (We may need homogeneization techniques)"
   ]
  },
  {
   "attachments": {},
   "cell_type": "markdown",
   "metadata": {},
   "source": [
    "## Poisson problem on the unit square\n",
    "\n",
    "The first problem we are going to solve a problem on the unit square $\\Omega = (0,1)^2$, we call the boundaries $\\Gamma_b, \\Gamma_t, \\Gamma_l, \\Gamma_r$ the bottom, top, left and right boundaries respectively.\n",
    "\n",
    "Find $u$ such that\n",
    "$$\n",
    "\\begin{align*} -\\Delta u &= 20\\,xy^2 \\quad \\text{in } \\Omega, \\\\ u &= 0 \\quad \\text{on } \\Gamma_b \\cup \\Gamma_l,\\\\ n\\cdot \\nabla u &= 0 \\quad \\text{on } \\Gamma_r \\cup \\Gamma_t, \\end{align*}\n",
    "$$\n",
    "### Step 0: Import the necessary libraries\n",
    "\n",
    "- `ngsolve` is the library that contains the finite element methods and the solvers.\n",
    "- `Draw` is a function that allows us to visualize the results in the notebook."
   ]
  },
  {
   "cell_type": "code",
   "execution_count": 21,
   "metadata": {},
   "outputs": [],
   "source": [
    "from ngsolve import *\n",
    "from ngsolve.webgui import Draw # Drawing in Jupyter notebook. More about this later.\n",
    "import numpy as np\n",
    "from matplotlib import pyplot as plt"
   ]
  },
  {
   "cell_type": "markdown",
   "metadata": {},
   "source": [
    "### Step 1: Define the domain\n",
    "\n",
    "\n",
    "\n"
   ]
  },
  {
   "cell_type": "code",
   "execution_count": 22,
   "metadata": {},
   "outputs": [
    {
     "data": {
      "application/vnd.jupyter.widget-view+json": {
       "model_id": "1cc7235e6f944e46886ba12c54b78c95",
       "version_major": 2,
       "version_minor": 0
      },
      "text/plain": [
       "WebGuiWidget(layout=Layout(height='500px', width='100%'), value={'gui_settings': {}, 'ngsolve_version': '6.2.2…"
      ]
     },
     "metadata": {},
     "output_type": "display_data"
    }
   ],
   "source": [
    "netgen_mesh = unit_square.GenerateMesh(maxh=0.1) # generate a netgen mesh from the OCCGeometry class\n",
    "mesh = Mesh(netgen_mesh)                         # create a NGSolve mesh class\n",
    "\n",
    "Draw(mesh); # names are predefined for this case"
   ]
  },
  {
   "cell_type": "markdown",
   "metadata": {},
   "source": [
    "### Step 2: Define the finite element space and solution vector\n",
    "We need to create the Lagrange finite element space of order 1 on the mesh, to do so me need to pass a mesh and the essential boundary conditions.\n",
    "\n",
    "The essential boundaries are selected using the `dirichlet` flag. In particular we select the bottom and (united with) the left boundary using the regex `bottom|left`."
   ]
  },
  {
   "cell_type": "code",
   "execution_count": 23,
   "metadata": {},
   "outputs": [],
   "source": [
    "fes = H1(mesh, order = 1, dirichlet=\"bottom|left\") # define the finite element space"
   ]
  },
  {
   "cell_type": "markdown",
   "metadata": {},
   "source": [
    "With the use of a finite element space one can create a `GridFunction` that will be used to store the solution.\n",
    "\n",
    "For now you can understand the `GridFunction` as a vector that stores the values of the solution at the nodes of the mesh."
   ]
  },
  {
   "cell_type": "code",
   "execution_count": 24,
   "metadata": {},
   "outputs": [],
   "source": [
    "gfu = GridFunction(fes) # define the grid function: store a function on the finite element space\n",
    "\n",
    "# help(gfu) # query the grid function\n",
    "\n",
    "# print(gfu.vec) # print the vector of the grid function"
   ]
  },
  {
   "attachments": {},
   "cell_type": "markdown",
   "metadata": {},
   "source": [
    "### Step 3: Define the symbolic forms\n",
    "\n",
    "Our problem is to find $u $ such that\n",
    "$$\n",
    "\\begin{align*} \\int_{\\Omega} \\nabla u \\cdot \\nabla v \\,dx &= \\int_{\\Omega} 20\\,xy^2 v \\,dx \\quad \\forall v  \\end{align*}\n",
    "$$\n",
    "For this specific problem we need to define the bilinear form $a(u,v)$ and the linear form $f(v)$. To write it in a math-like way we make use of the `ProxyFunctions`:\n",
    "- `u`, trial function.\n",
    "- `v`, test function.\n"
   ]
  },
  {
   "cell_type": "code",
   "execution_count": 25,
   "metadata": {},
   "outputs": [
    {
     "name": "stdout",
     "output_type": "stream",
     "text": [
      "(134, 134)\n"
     ]
    }
   ],
   "source": [
    "\n",
    "u = fes.TrialFunction() # define the trial function\n",
    "v = fes.TestFunction() # define the test function\n",
    "\n",
    "# u, v = fes.TnT() # one-liner to define the trial and test functions\n",
    "\n",
    "a = BilinearForm(fes) # define the bilinear form\n",
    "a += grad(u) * grad(v) * dx\n",
    "# a += u*v * dx  #?\n",
    "\n",
    "# print(a.mat)  # print it ... does not work! \n",
    "\n",
    "a.Assemble();\n",
    "from scipy.sparse import csr_matrix\n",
    "print(csr_matrix(a.mat.CSR()).shape) # print the matrix of the bilinear form"
   ]
  },
  {
   "cell_type": "markdown",
   "metadata": {},
   "source": [
    "in the biliear form we have the `dx` that represents the integration over the domain $\\Omega$, it is short hand for `DifferentialSymbol(VOL)`.\n",
    "\n",
    "and `grad` that represents the gradient of the symbolic test/trial functions."
   ]
  },
  {
   "cell_type": "markdown",
   "metadata": {},
   "source": [
    "We want to declare the right hand side as follows:\n",
    "$$\n",
    "f(v) = \\int_{\\Omega} 20 \\,xy^2\\, v \\, dx.\n",
    "$$\n",
    "To do so we use the `CoefficientFunction`s `x` and `y` that represent the first two coordinate"
   ]
  },
  {
   "cell_type": "code",
   "execution_count": 26,
   "metadata": {},
   "outputs": [
    {
     "name": "stdout",
     "output_type": "stream",
     "text": [
      "[-3.44431912e-21  7.34419573e-05  3.08750000e-02  1.72279853e-03\n",
      "  2.63972283e-05  6.03161345e-05  6.18548890e-05  6.52109510e-05\n",
      "  6.57884862e-05  6.31480926e-05  5.74577520e-05  5.05096691e-05\n",
      "  5.97026061e-05  8.68442771e-04  3.00027324e-03  7.25292286e-03\n",
      "  1.37593900e-02  2.19704091e-02  3.15836077e-02  4.26793779e-02\n",
      "  5.48167905e-02  8.17343701e-02  1.08750056e-01  6.02187921e-02\n",
      "  6.03944013e-02  5.17638743e-02  4.17039878e-02  3.27437134e-02\n",
      "  2.37495700e-02  1.48250081e-02  7.70786088e-03  1.50585708e-03\n",
      "  1.15384957e-03  9.94957593e-04  7.20603517e-04  4.34527157e-04\n",
      "  2.66413893e-04  2.02217103e-04  1.52481574e-04  3.95979393e-05\n",
      "  6.51971628e-04  8.32455463e-04  9.11099780e-04  9.44115611e-04\n",
      "  9.13706153e-04  8.43277863e-04  7.14059564e-04  5.57133528e-04\n",
      "  7.74754863e-04  3.13126915e-03  9.09502296e-03  2.00615149e-02\n",
      "  3.49108567e-02  5.19849264e-02  7.24376872e-02  9.60426662e-02\n",
      "  1.27164721e-01  9.33603389e-02  1.12462493e-01  1.06145784e-01\n",
      "  8.22753629e-02  6.56348863e-02  5.10679915e-02  3.46143700e-02\n",
      "  1.89238849e-02  8.89011168e-03  6.43319326e-03  6.55421416e-03\n",
      "  5.31554784e-03  3.31892251e-03  1.75148221e-03  1.22372335e-03\n",
      "  1.15585814e-03  2.99630760e-03  2.15828702e-03  3.42046832e-03\n",
      "  3.17405310e-03  2.91110863e-03  2.20145139e-03  1.27343875e-03\n",
      "  1.38262897e-02  4.79270089e-03  2.79480208e-02  4.19613916e-02\n",
      "  5.80205755e-02  8.50365784e-02  1.03531972e-01  7.57684229e-02\n",
      "  1.15933486e-01  5.71653168e-02  4.82524395e-02  3.96771407e-02\n",
      "  2.37302864e-02  9.23076584e-03  1.43428243e-02  1.45798738e-02\n",
      "  8.88926495e-03  4.61805157e-03  1.93782666e-03  2.55574830e-03\n",
      "  3.51302829e-03  7.23587148e-03  6.94633260e-03  7.37426030e-03\n",
      "  3.62757665e-02  4.44533442e-02  2.17577499e-02  6.10256694e-02\n",
      "  3.74932749e-02  4.30206492e-02  5.57763257e-02  8.23586147e-03\n",
      "  4.94765419e-03  3.82083087e-02  3.50263302e-02  1.04852651e-02\n",
      "  5.15107306e-03  1.92307114e-02  9.13752522e-03  3.23392315e-02\n",
      "  4.50664079e-02  2.55357446e-02  2.29793896e-02  2.91347903e-02\n",
      "  3.49878089e-02  1.13048563e-02  2.01356940e-02  2.95538657e-02\n",
      "  9.57315355e-03  2.32005900e-02  1.57682534e-02  2.96985526e-02\n",
      "  2.81982076e-02  3.13534756e-02]\n"
     ]
    }
   ],
   "source": [
    "f = LinearForm(fes)\n",
    "f += 20 * x * y ** 2 * v * dx\n",
    "f.Assemble();\n",
    "\n",
    "print(np.array(f.vec)) # print the vector of the linear form. RHS is zero so far."
   ]
  },
  {
   "cell_type": "markdown",
   "metadata": {},
   "source": [
    "### Step 4: Solve the linear system\n",
    "\n",
    "So far our problem was defined only symbolically, the only computation that was done was in the creation of the mesh. To actively solve the problem we need to assemble the linear system."
   ]
  },
  {
   "cell_type": "markdown",
   "metadata": {},
   "source": [
    "We can now invert the matrix and solve the linear system."
   ]
  },
  {
   "cell_type": "code",
   "execution_count": 27,
   "metadata": {},
   "outputs": [],
   "source": [
    "inv = a.mat.Inverse(freedofs=fes.FreeDofs()) # compute the inverse of the matrix\n",
    "\n",
    "gfu.vec.data = inv * f.vec  # solve the system"
   ]
  },
  {
   "cell_type": "markdown",
   "metadata": {},
   "source": [
    "What freedofs does is to select the degrees of freedom that are not in the essential boundary conditions. "
   ]
  },
  {
   "cell_type": "code",
   "execution_count": 28,
   "metadata": {},
   "outputs": [
    {
     "data": {
      "application/vnd.jupyter.widget-view+json": {
       "model_id": "7a048de5bff14438ba6eeb021added7d",
       "version_major": 2,
       "version_minor": 0
      },
      "text/plain": [
       "WebGuiWidget(layout=Layout(height='500px', width='100%'), value={'gui_settings': {}, 'ngsolve_version': '6.2.2…"
      ]
     },
     "metadata": {},
     "output_type": "display_data"
    }
   ],
   "source": [
    "Draw(gfu); # draw the solution"
   ]
  },
  {
   "cell_type": "code",
   "execution_count": 29,
   "metadata": {},
   "outputs": [
    {
     "data": {
      "text/plain": [
       "array([0.        , 0.        , 2.15499579, 0.        , 0.        ,\n",
       "       0.        , 0.        , 0.        , 0.        , 0.        ,\n",
       "       0.        , 0.        , 0.        , 0.24787221, 0.50095972,\n",
       "       0.7606392 , 1.02490383, 1.28872796, 1.54383194, 1.77801897,\n",
       "       1.97476691, 2.1130173 , 2.13522428, 2.02474847, 1.87164339,\n",
       "       1.67487488, 1.44315994, 1.1848489 , 0.90620841, 0.6123876 ,\n",
       "       0.30842807, 0.        , 0.        , 0.        , 0.        ,\n",
       "       0.        , 0.        , 0.        , 0.        , 0.        ,\n",
       "       0.05633485, 0.09658013, 0.12653536, 0.14928282, 0.1643806 ,\n",
       "       0.17224895, 0.17282005, 0.17074245, 0.19515492, 0.40307994,\n",
       "       0.6314234 , 0.88654665, 1.15491701, 1.41984884, 1.66765894,\n",
       "       1.88401006, 2.04912712, 2.03788352, 1.92556378, 1.75425082,\n",
       "       1.54433848, 1.30723369, 1.04686183, 0.77306509, 0.5057685 ,\n",
       "       0.24837361, 0.2146583 , 0.20841996, 0.18890727, 0.15456656,\n",
       "       0.11837536, 0.09866996, 0.08542422, 0.22702445, 0.15923892,\n",
       "       0.32085269, 0.34284708, 0.35146108, 0.34181843, 0.32220659,\n",
       "       0.72521339, 0.49619431, 0.98947728, 1.26058098, 1.51340966,\n",
       "       1.74084702, 1.92614674, 1.5694972 , 1.74637704, 1.3684738 ,\n",
       "       1.13807019, 0.87998116, 0.61974811, 0.40594906, 0.40570368,\n",
       "       0.42337705, 0.33880126, 0.26249305, 0.19716491, 0.19141126,\n",
       "       0.28310351, 0.53473069, 0.50741615, 0.53947098, 1.07901187,\n",
       "       1.33326913, 0.7846832 , 1.55448549, 1.18189705, 1.36438328,\n",
       "       1.49933995, 0.39567991, 0.29217515, 0.95697201, 0.67429383,\n",
       "       0.43187677, 0.30999847, 0.55421799, 0.47213815, 1.37263349,\n",
       "       1.14630173, 0.88938049, 1.18848808, 0.79068577, 1.28420311,\n",
       "       0.45530666, 0.62964703, 1.01182266, 0.68357706, 0.63336622,\n",
       "       0.68253917, 0.88612063, 0.84682856, 1.06868549])"
      ]
     },
     "execution_count": 29,
     "metadata": {},
     "output_type": "execute_result"
    }
   ],
   "source": [
    "np.array(gfu.vec)"
   ]
  },
  {
   "cell_type": "markdown",
   "metadata": {},
   "source": [
    "## Interact with NGSolve\n",
    "\n",
    "\n",
    "* A jupyter notebook (like this one) gives you one way to interact with NGSolve. When you have a complex sequence of tasks to perform, the notebook may not be adequate.\n",
    "\n",
    "\n",
    "* You can write an entire python module in a text editor and call python on the command line. (A script of the above is provided in `poisson.py`.)\n",
    "    ```\n",
    "    python3 poisson.py\n",
    "    ```\n",
    "  \n",
    "* If you want the Netgen GUI, then use `netgen` on the command line:\n",
    "    ```\n",
    "    netgen poisson.py\n",
    "    ```\n",
    "  You can then ask for a python shell from the GUI's menu options (`Solve -> Python shell`).\n",
    "  \n",
    "* One can use the Netgen GUI within a jupyter notebook: `import netgen.gui`. \n",
    "  ```python\n",
    "  import netgen.gui\n",
    "  from ngsolve import *\n",
    "\n",
    "  mesh = Mesh(unit_square.GenerateMesh(maxh=0.2))  # generate a mesh\n",
    "  Draw(mesh);  # draw the mesh\n",
    "  ```\n"
   ]
  },
  {
   "cell_type": "code",
   "execution_count": 30,
   "metadata": {},
   "outputs": [],
   "source": [
    "# import netgen.gui\n",
    "# from ngsolve import *\n",
    "\n",
    "# mesh = Mesh(unit_square.GenerateMesh(maxh=0.2))  # generate a mesh\n",
    "# Draw(mesh);  # draw the mesh"
   ]
  },
  {
   "cell_type": "code",
   "execution_count": null,
   "metadata": {},
   "outputs": [],
   "source": []
  }
 ],
 "metadata": {
  "kernelspec": {
   "display_name": "ngspy",
   "language": "python",
   "name": "python3"
  },
  "language_info": {
   "codemirror_mode": {
    "name": "ipython",
    "version": 3
   },
   "file_extension": ".py",
   "mimetype": "text/x-python",
   "name": "python",
   "nbconvert_exporter": "python",
   "pygments_lexer": "ipython3",
   "version": "3.10.9"
  }
 },
 "nbformat": 4,
 "nbformat_minor": 2
}
