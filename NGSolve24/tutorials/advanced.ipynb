{
 "cells": [
  {
   "cell_type": "markdown",
   "metadata": {},
   "source": [
    "# advanced \n",
    "[](tutorials:advanced)\n",
    "\n"
   ]
  },
  {
   "cell_type": "markdown",
   "metadata": {},
   "source": [
    "Here we see the real power of the package. The following topics are almost immediately available to you.\n",
    "\n",
    "**advanced topics**\n",
    "- [H(curl)-problems](advanced:Hcurl) : A small problem in H(curl) and the eigenvalues in H(curl).\n",
    "- [H(div) and mixed formulations](advanced:Hdiv) : How to use mixed spaces in NGSolve.\n",
    "- [Discontinuous Galerkin](advanced:dg) \n",
    "- [Hybrid Discontinuous Galerkin](advanced:hdg) \n",
    "- [nonlinear problems](advanced:nonlinear): "
   ]
  },
  {
   "cell_type": "markdown",
   "metadata": {},
   "source": []
  }
 ],
 "metadata": {
  "language_info": {
   "name": "python"
  }
 },
 "nbformat": 4,
 "nbformat_minor": 2
}
