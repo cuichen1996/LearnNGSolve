{
 "cells": [
  {
   "cell_type": "markdown",
   "metadata": {},
   "source": [
    "(tutorials:complementary)\n",
    "# Complementary tools\n"
   ]
  },
  {
   "cell_type": "markdown",
   "metadata": {},
   "source": [
    "We now explore some other tools that are given by the the package, they are presented in a coincise way, and the main goal is to mention the existence of these tools, and give a brief idea of how they work.\n",
    "\n",
    "**complementary topics**\n",
    "- [preconditioners](complementary:preconditioners)\n",
    "- [adaptive mesh refinement](complementary:amr)\n",
    "- [complex spaces and PML](complementary:complex)\n",
    "- [time dependent problems](complementary:time)\n",
    "\n",
    "For more details, please refer to the documentation of the package."
   ]
  }
 ],
 "metadata": {
  "language_info": {
   "name": "python"
  }
 },
 "nbformat": 4,
 "nbformat_minor": 2
}
