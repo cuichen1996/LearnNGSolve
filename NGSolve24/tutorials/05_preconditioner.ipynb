{
 "cells": [
  {
   "cell_type": "markdown",
   "metadata": {},
   "source": [
    "(complementary:preconditioners)=\n",
    "# Preconditioners in NGSolve\n",
    "\n",
    "Preconditioners are approximate inverses which are used within iterative methods to solve linear or non-linear equations.\n",
    "\n",
    "Here are some built-in preconditioners in NGSolve:\n",
    "\n",
    "* Jacobi (`local`) and block Jacobi \n",
    "* Direct solvers using sparse factorization (`direct`)\n",
    "* Geometric multigrid with different block-smoothers (`multigrid`)\n",
    "* Algebraic multigrid preconditioner (`h1amg`)\n",
    "* p-version element-level BDDC (`bddc`)\n",
    "\n",
    "This tutorial quickly shows how to use some of these within a solver."
   ]
  },
  {
   "cell_type": "code",
   "execution_count": 2,
   "metadata": {},
   "outputs": [],
   "source": [
    "from ngsolve import *\n",
    "import matplotlib.pyplot as plt"
   ]
  },
  {
   "attachments": {},
   "cell_type": "markdown",
   "metadata": {},
   "source": [
    "没看明白 condense"
   ]
  },
  {
   "cell_type": "markdown",
   "metadata": {},
   "source": [
    "### A simple test problem \n",
    "\n",
    "In order to experiment with various preconditioners, \n",
    "let us define a simple Poisson solver with the name\n",
    "of a preconditioner as the keyword argument `precond`."
   ]
  },
  {
   "cell_type": "code",
   "execution_count": 3,
   "metadata": {},
   "outputs": [],
   "source": [
    "def SolveProblem(h=0.5, p=1, levels=1, \n",
    "                 condense=False,\n",
    "                 precond=preconditioners.Local, preflags={}):\n",
    "    \"\"\"\n",
    "    Solve Poisson problem on l refinement levels.\n",
    "    PARAMETERS:\n",
    "        h: coarse mesh size\n",
    "        p: polynomial degree \n",
    "        l: number of refinement levels\n",
    "        condense: if true, perform static condensations\n",
    "        precond: preconditioner class  (formerly: name of a built-in preconditioner)\n",
    "    Returns: (ndof, niterations)\n",
    "        List of tuples of number of degrees of freedom and iterations\n",
    "    \"\"\"\n",
    "    mesh = Mesh(unit_square.GenerateMesh(maxh=h))\n",
    "    # mesh = Mesh(unit_cube.GenerateMesh(maxh=h))\n",
    "    fes = H1(mesh, order=p, dirichlet=\"bottom|left\")\n",
    "    \n",
    "    u, v = fes.TnT() \n",
    "    a = BilinearForm(grad(u)*grad(v)*dx, condense=condense)\n",
    "    f = LinearForm(v*dx)\n",
    "    gfu = GridFunction(fes)\n",
    "    Draw(gfu)\n",
    "    c = precond(a,**preflags)\n",
    "\n",
    "    steps = []\n",
    "    \n",
    "    for l in range(levels):\n",
    "        if l > 0: \n",
    "            mesh.Refine()\n",
    "        fes.Update()\n",
    "        gfu.Update()\n",
    "\n",
    "        with TaskManager():\n",
    "            a.Assemble()\n",
    "            f.Assemble()\n",
    "\n",
    "            # Conjugate gradient solver\n",
    "            inv = CGSolver(a.mat, c.mat, maxsteps=1000)\n",
    "\n",
    "            # Solve steps depend on condense \n",
    "            if condense:\n",
    "                f.vec.data += a.harmonic_extension_trans * f.vec\n",
    "            \n",
    "            gfu.vec.data = inv * f.vec\n",
    "            \n",
    "            if condense:\n",
    "                gfu.vec.data += a.harmonic_extension * gfu.vec\n",
    "                gfu.vec.data += a.inner_solve * f.vec\n",
    "        steps.append ( (fes.ndof, inv.GetSteps()) )\n",
    "        if fes.ndof < 15000:\n",
    "            Redraw()\n",
    "    return steps"
   ]
  },
  {
   "cell_type": "markdown",
   "metadata": {},
   "source": [
    "The `Preconditioner` registers itself to the `BilinearForm`. Whenever the `BilinearForm` is re-assembled, the `Preconditioner` is updated as well."
   ]
  },
  {
   "cell_type": "markdown",
   "metadata": {},
   "source": [
    "### The `local` preconditioner \n",
    "\n",
    "The `local` preconditioner is a simple Jacobi preconditioner. \n",
    "The number of CG-iterations with the local preconditioner is proportional to $h^{-1} \\sim 2^l$:\n"
   ]
  },
  {
   "cell_type": "code",
   "execution_count": 4,
   "metadata": {},
   "outputs": [
    {
     "data": {
      "text/plain": [
       "[(8, 4)]"
      ]
     },
     "execution_count": 4,
     "metadata": {},
     "output_type": "execute_result"
    }
   ],
   "source": [
    "SolveProblem(precond=preconditioners.Local)"
   ]
  },
  {
   "cell_type": "code",
   "execution_count": 5,
   "metadata": {},
   "outputs": [
    {
     "data": {
      "text/plain": [
       "[(8, 4),\n",
       " (21, 6),\n",
       " (65, 16),\n",
       " (225, 31),\n",
       " (833, 61),\n",
       " (3201, 119),\n",
       " (12545, 236),\n",
       " (49665, 452),\n",
       " (197633, 906)]"
      ]
     },
     "execution_count": 5,
     "metadata": {},
     "output_type": "execute_result"
    }
   ],
   "source": [
    "res_local = SolveProblem(levels=9, precond=preconditioners.Local, preflags={\"GS\":True})\n",
    "res_local"
   ]
  },
  {
   "cell_type": "markdown",
   "metadata": {},
   "source": [
    "### Multigrid preconditioner \n",
    "\n",
    "A geometric multigrid `Preconditioner` uses the sequence of refined meshes to define a preconditioner yielding optimal iteration numbers (and complexity). It uses a direct solve on the coarsest level, and block Gauss-Seidel smoothers on the refined levels."
   ]
  },
  {
   "cell_type": "code",
   "execution_count": 6,
   "metadata": {},
   "outputs": [
    {
     "data": {
      "text/plain": [
       "[(8, 2),\n",
       " (21, 4),\n",
       " (65, 7),\n",
       " (225, 8),\n",
       " (833, 8),\n",
       " (3201, 8),\n",
       " (12545, 8),\n",
       " (49665, 8),\n",
       " (197633, 8)]"
      ]
     },
     "execution_count": 6,
     "metadata": {},
     "output_type": "execute_result"
    }
   ],
   "source": [
    "# res_mg = SolveProblem(levels=9, precond=\"multigrid\")\n",
    "res_mg = SolveProblem(levels=9, precond=preconditioners.MultiGrid)\n",
    "res_mg"
   ]
  },
  {
   "cell_type": "code",
   "execution_count": 7,
   "metadata": {},
   "outputs": [
    {
     "data": {
      "image/png": "[encoded data removed]",
      "text/plain": [
       "<Figure size 640x480 with 1 Axes>"
      ]
     },
     "metadata": {},
     "output_type": "display_data"
    }
   ],
   "source": [
    "plt.xscale(\"log\")\n",
    "plt.yscale(\"log\")\n",
    "plt.plot(*zip(*res_local), \"-*\")\n",
    "plt.plot(*zip(*res_mg), \"-+\")\n",
    "plt.legend(['local', 'mg'])\n",
    "plt.show()"
   ]
  },
  {
   "cell_type": "markdown",
   "metadata": {},
   "source": [
    "###  Multigrid implementation for higher order spaces \n",
    "\n",
    "Another important preconditioner that is available in NGSolve is the multigrid preconditioner."
   ]
  },
  {
   "cell_type": "code",
   "execution_count": 8,
   "metadata": {},
   "outputs": [
    {
     "name": "stdout",
     "output_type": "stream",
     "text": [
      "p= 1 : ndof,nsteps= [(8, 2), (21, 4), (65, 7), (225, 8)]\n",
      "p= 2 : ndof,nsteps= [(21, 5), (65, 6), (225, 8), (833, 8)]\n",
      "p= 3 : ndof,nsteps= [(40, 9), (133, 12), (481, 12), (1825, 13)]\n",
      "p= 4 : ndof,nsteps= [(65, 12), (225, 15), (833, 16), (3201, 16)]\n",
      "p= 5 : ndof,nsteps= [(96, 14), (341, 19), (1281, 20), (4961, 20)]\n",
      "p= 6 : ndof,nsteps= [(133, 16), (481, 23), (1825, 23), (7105, 23)]\n",
      "p= 7 : ndof,nsteps= [(176, 18), (645, 25), (2465, 26), (9633, 26)]\n",
      "p= 8 : ndof,nsteps= [(225, 19), (833, 27), (3201, 28), (12545, 28)]\n",
      "p= 9 : ndof,nsteps= [(280, 20), (1045, 29), (4033, 30), (15841, 30)]\n"
     ]
    }
   ],
   "source": [
    "for p in range(1,10):\n",
    "    r = SolveProblem(h=0.5, p=p, levels=4, condense=False, \n",
    "                     precond=preconditioners.MultiGrid)\n",
    "    print (\"p=\", p, \": ndof,nsteps=\", r)          "
   ]
  },
  {
   "cell_type": "markdown",
   "metadata": {},
   "source": [
    "We observe that the number of iterations grows mildly with the degree $p$ while remaining  bounded with mesh refinement.\n",
    "\n",
    "Performing static condensation improves the situation:"
   ]
  },
  {
   "cell_type": "code",
   "execution_count": 9,
   "metadata": {},
   "outputs": [
    {
     "name": "stdout",
     "output_type": "stream",
     "text": [
      "p= 1 : ndof,nsteps= [(8, 2), (21, 4), (65, 7), (225, 8)]\n",
      "p= 2 : ndof,nsteps= [(21, 5), (65, 6), (225, 8), (833, 8)]\n",
      "p= 3 : ndof,nsteps= [(40, 5), (133, 6), (481, 7), (1825, 8)]\n",
      "p= 4 : ndof,nsteps= [(65, 5), (225, 6), (833, 7), (3201, 8)]\n",
      "p= 5 : ndof,nsteps= [(96, 5), (341, 6), (1281, 7), (4961, 8)]\n",
      "p= 6 : ndof,nsteps= [(133, 5), (481, 6), (1825, 7), (7105, 8)]\n",
      "p= 7 : ndof,nsteps= [(176, 5), (645, 6), (2465, 7), (9633, 8)]\n",
      "p= 8 : ndof,nsteps= [(225, 5), (833, 6), (3201, 7), (12545, 8)]\n",
      "p= 9 : ndof,nsteps= [(280, 5), (1045, 6), (4033, 7), (15841, 8)]\n"
     ]
    }
   ],
   "source": [
    "for p in range(1,10):\n",
    "    r = SolveProblem(h=0.5, p=p, levels=4, condense=True, \n",
    "                     precond=preconditioners.MultiGrid)\n",
    "    print (\"p=\", p, \": ndof,nsteps=\", r)       "
   ]
  },
  {
   "cell_type": "markdown",
   "metadata": {},
   "source": [
    "### Element-wise BDDC preconditioner\n",
    "\n",
    "A built-in element-wise BDDC (Balancing Domain Decomposition preconditioner with Constraints) preconditioner is also available. In contrast to local or multigrid preconditioners, the BDDC preconditioner needs access to the element matrices. This is exactly why we need to register the preconditioner with the bilinear form `bfa` before calling `bfa.Assemble()`."
   ]
  },
  {
   "cell_type": "code",
   "execution_count": 10,
   "metadata": {},
   "outputs": [
    {
     "name": "stdout",
     "output_type": "stream",
     "text": [
      "p= 1 : ndof,nsteps= [(8, 2), (21, 2), (65, 2), (225, 2)]\n",
      "p= 2 : ndof,nsteps= [(21, 7), (65, 12), (225, 16), (833, 17)]\n",
      "p= 3 : ndof,nsteps= [(40, 11), (133, 16), (481, 20), (1825, 22)]\n",
      "p= 4 : ndof,nsteps= [(65, 13), (225, 18), (833, 24), (3201, 26)]\n",
      "p= 5 : ndof,nsteps= [(96, 14), (341, 19), (1281, 26), (4961, 29)]\n",
      "p= 6 : ndof,nsteps= [(133, 14), (481, 20), (1825, 28), (7105, 31)]\n",
      "p= 7 : ndof,nsteps= [(176, 15), (645, 22), (2465, 30), (9633, 33)]\n",
      "p= 8 : ndof,nsteps= [(225, 16), (833, 23), (3201, 31), (12545, 35)]\n",
      "p= 9 : ndof,nsteps= [(280, 16), (1045, 24), (4033, 33), (15841, 36)]\n"
     ]
    }
   ],
   "source": [
    "for p in range(1,10):\n",
    "    r = SolveProblem(h=0.5, p=p, levels=4, condense=True, \n",
    "                     precond=preconditioners.BDDC)\n",
    "    print (\"p=\", p, \": ndof,nsteps=\", r)  "
   ]
  },
  {
   "cell_type": "markdown",
   "metadata": {},
   "source": [
    "The BDDC preconditioner needs more iterations, but the work per iteration is less, so performance is similar to multigrid. **This element-wise BDDC preconditioner works well in shared memory parallel as well as in distributed memory mode.** See $\\S$[2.1.4](../unit-2.1.4-bddc/bddc.ipynb) for more about BDDC preconditioner and how to combine it with an algebraic multigrid coarse solver. "
   ]
  }
 ],
 "metadata": {
  "kernelspec": {
   "display_name": "Python 3 (ipykernel)",
   "language": "python",
   "name": "python3"
  },
  "language_info": {
   "codemirror_mode": {
    "name": "ipython",
    "version": 3
   },
   "file_extension": ".py",
   "mimetype": "text/x-python",
   "name": "python",
   "nbconvert_exporter": "python",
   "pygments_lexer": "ipython3",
   "version": "3.10.9"
  }
 },
 "nbformat": 4,
 "nbformat_minor": 4
}
