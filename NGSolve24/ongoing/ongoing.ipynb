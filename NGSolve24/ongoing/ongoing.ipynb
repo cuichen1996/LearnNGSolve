{
 "cells": [
  {
   "cell_type": "markdown",
   "id": "32cb939c-1120-41fa-b764-67019f503fef",
   "metadata": {},
   "source": [
    "# Current development in NGSolve \n",
    "\n",
    "(Joachim Schöberl)"
   ]
  },
  {
   "cell_type": "markdown",
   "id": "08309060-5e2b-4439-b30c-86a95d61a446",
   "metadata": {},
   "source": [
    "**Goals**\n",
    "\n",
    "* easy to use in an efficient way\n",
    "* easy to install for various goals\n",
    "  - research\n",
    "  - teaching\n",
    "  - applications\n",
    "* building bridges to complementary packages"
   ]
  },
  {
   "cell_type": "markdown",
   "id": "c5a6e33b-e7c6-4016-8faa-926c1badbe93",
   "metadata": {},
   "source": [
    "**Field specific tutorials** \n",
    "\n",
    "* Solid mechanics, Fluid dynamics inside NGSovle24\n",
    "* Electromagnetics: Collection of [TEAM-benchmarks problems](https://ngsolve.github.io/TEAM-problems/intro.html)"
   ]
  },
  {
   "cell_type": "markdown",
   "id": "9175038c-52ba-4809-91f6-3760848aac97",
   "metadata": {},
   "source": [
    "**Geometry**\n",
    "\n",
    "Current development concentrates on OpenCascade Technology geometry kernel. Legacy (CSGeometry, Spline2D, csg2d) might be dropped. Maybe STL remains.\n",
    "\n",
    "* addon-package showing OCC coding you find (here:TODO) "
   ]
  }
 ],
 "metadata": {
  "kernelspec": {
   "display_name": "Python 3 (ipykernel)",
   "language": "python",
   "name": "python3"
  },
  "language_info": {
   "codemirror_mode": {
    "name": "ipython",
    "version": 3
   },
   "file_extension": ".py",
   "mimetype": "text/x-python",
   "name": "python",
   "nbconvert_exporter": "python",
   "pygments_lexer": "ipython3",
   "version": "3.12.3"
  }
 },
 "nbformat": 4,
 "nbformat_minor": 5
}
